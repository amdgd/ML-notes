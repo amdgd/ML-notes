{
 "cells": [
  {
   "cell_type": "code",
   "execution_count": 1,
   "metadata": {
    "collapsed": true
   },
   "outputs": [],
   "source": [
    "import requests\n",
    "from faker import Faker\n",
    "from faker import Factory\n",
    "import ujson as json\n",
    "import pandas as pd\n",
    "import requests\n",
    "import certifi\n",
    "from numpy import random \n",
    "from elasticsearch import Elasticsearch\n",
    "from elasticsearch import helpers\n",
    "from elasticsearch_dsl import Search, DocType, Date, Integer, Keyword, Text\n",
    "from datetime import datetime\n",
    "from elasticsearch_dsl.connections import connections\n",
    "import pandas as pd\n",
    "import requests\n",
    "from random import randint\n",
    "from datetime import datetime, timedelta\n",
    "import math\n",
    "import numpy as np\n",
    "from pandas.io.json import json_normalize\n",
    "      \n",
    "      \n",
    "\n"
   ]
  },
  {
   "cell_type": "code",
   "execution_count": 2,
   "metadata": {
    "collapsed": true
   },
   "outputs": [],
   "source": [
    "ES_HOST = 'http://team.ankit.one'\n",
    "INDEX = \"eda_small\"\n",
    "DOC_TYPE=\"user\"\n",
    "es = Elasticsearch(ES_HOST)"
   ]
  },
  {
   "cell_type": "code",
   "execution_count": 3,
   "metadata": {
    "collapsed": true
   },
   "outputs": [],
   "source": [
    "def get_m_score(var):\n",
    "    if (var > 50000):\n",
    "       score = 9\n",
    "    elif (var > 25000):\n",
    "       score = 8\n",
    "    elif (var > 25000):\n",
    "       score = 7\n",
    "    elif (var > 10000):\n",
    "       score = 6\n",
    "    elif (var > 5000):\n",
    "       score = 5\n",
    "    elif (var > 2500):\n",
    "       score = 4\n",
    "    elif (var > 1250):\n",
    "       score = 3\n",
    "    elif (var > 750):\n",
    "       score = 2\n",
    "    elif (var > 250):\n",
    "       score = 1\n",
    "    else:\n",
    "       score = 0\n",
    "    return score"
   ]
  },
  {
   "cell_type": "code",
   "execution_count": 4,
   "metadata": {
    "collapsed": true
   },
   "outputs": [],
   "source": [
    "def get_f_score(var):\n",
    "    if (var > 50):\n",
    "       score = 9\n",
    "    elif (var > 40):\n",
    "       score = 8\n",
    "    elif (var > 30):\n",
    "       score = 7\n",
    "    elif (var > 20):\n",
    "       score = 6\n",
    "    elif (var > 10):\n",
    "       score = 5\n",
    "    elif (var > 5):\n",
    "       score = 4\n",
    "    elif (var > 3):\n",
    "       score = 3\n",
    "    elif (var > 2):\n",
    "       score = 2\n",
    "    elif (var > 1):\n",
    "       score = 1\n",
    "    else:\n",
    "       score = 0\n",
    "    return score"
   ]
  },
  {
   "cell_type": "code",
   "execution_count": 5,
   "metadata": {
    "collapsed": true
   },
   "outputs": [],
   "source": [
    "def get_r_score(var):\n",
    "    if (var < 10):\n",
    "       score = 9\n",
    "    elif (var < 15 ):\n",
    "       score = 8\n",
    "    elif (var < 30):\n",
    "       score = 7\n",
    "    elif (var < 45):\n",
    "       score = 6\n",
    "    elif (var < 60):\n",
    "       score = 5\n",
    "    elif (var < 90):\n",
    "       score = 4\n",
    "    elif (var < 120):\n",
    "       score = 3\n",
    "    elif (var < 240):\n",
    "       score = 2\n",
    "    elif (var < 365):\n",
    "       score = 1\n",
    "    else:\n",
    "       score = 0\n",
    "    return score"
   ]
  },
  {
   "cell_type": "code",
   "execution_count": 6,
   "metadata": {
    "collapsed": true
   },
   "outputs": [],
   "source": [
    "def get_lifecycle(orders, days_last_purchase, debug = False):\n",
    "    if (orders == 0):\n",
    "        lc = \"Contact\"\n",
    "        if (debug == True):\n",
    "            print(\"Orders is {}, Days Last Purchase is {}, and Lifecycle is {}\".format(orders, days_last_purchase,lc))\n",
    "    elif (orders < 2    and days_last_purchase <= 21):\n",
    "        lc = \"One time (Active)\"\n",
    "        if (debug == True):\n",
    "            print(\"Orders is {}, Days Last Purchase is {}, and Lifecycle is {}\".format(orders, days_last_purchase,lc))\n",
    "    elif (orders < 2   and days_last_purchase <= 60):\n",
    "        lc = \"One time (Sleeping)\"\n",
    "        if (debug == True):\n",
    "            print(\"Orders is {}, Days Last Purchase is {}, and Lifecycle is {}\".format(orders, days_last_purchase,lc))\n",
    "    elif (orders < 2    and days_last_purchase > 60):\n",
    "        lc = \"One time (Churned)\"\n",
    "        if (debug == True):\n",
    "            print(\"Orders is {}, Days Last Purchase is {}, and Lifecycle is {}\".format(orders, days_last_purchase,lc))\n",
    "    elif (orders <= 4 and days_last_purchase <= 21):\n",
    "        lc = \"Repeat (Active)\"\n",
    "        if (debug == True):\n",
    "            print(\"Orders is {}, Days Last Purchase is {}, and Lifecycle is {}\".format(orders, days_last_purchase,lc))\n",
    "    elif (orders <= 4 and days_last_purchase <= 60):\n",
    "        lc = \"Repeat (Sleeping)\"\n",
    "        if (debug == True):\n",
    "            print(\"Orders is {}, Days Last Purchase is {}, and Lifecycle is {}\".format(orders, days_last_purchase,lc))\n",
    "    elif (orders <= 4 and days_last_purchase > 60):\n",
    "        lc = \"Repeat (Churned)\"\n",
    "        if (debug == True):\n",
    "            print(\"Orders is {}, Days Last Purchase is {}, and Lifecycle is {}\".format(orders, days_last_purchase,lc))\n",
    "    elif (days_last_purchase <= 21):\n",
    "        lc = \"Loyal (Active)\"\n",
    "        if (debug == True):\n",
    "            print(\"Orders is {}, Days Last Purchase is {}, and Lifecycle is {}\".format(orders, days_last_purchase,lc))\n",
    "    elif (orders > 4 and days_last_purchase <= 60):\n",
    "        lc = \"Loyal (Sleeping)\"\n",
    "        if (debug == True):\n",
    "            print(\"Orders is {}, Days Last Purchase is {}, and Lifecycle is {}\".format(orders, days_last_purchase,lc))\n",
    "    elif (orders > 4 and days_last_purchase > 60):\n",
    "        lc = \"Loyal (Churned)\"\n",
    "        if (debug == True):\n",
    "            print(\"Orders is {}, Days Last Purchase is {}, and Lifecycle is {}\".format(orders, days_last_purchase,lc))\n",
    "    else:\n",
    "        lc =\"Others\"\n",
    "    return lc\n",
    "        \n"
   ]
  },
  {
   "cell_type": "code",
   "execution_count": 8,
   "metadata": {
    "collapsed": true
   },
   "outputs": [],
   "source": [
    "def get_city():\n",
    "    cities = [\"Mumbai\",\"Delhi\",\"Bangalore\",\"Hyderabad\",\"Ahmedabad\",\"Chennai\",\"Kolkata\",\"Surat\",\"Pune\",\"Jaipur\",\n",
    "    \"Lucknow\",\"Kanpur\",\"Nagpur\",\"Indore\",\"Thane\",\"Bhopal\",\"Visakhapatnam\",\"Noida\",\"Patna\",\"Vadodara\"]\n",
    "    p=[0.2,0.15,0.125,0.1,0.125,0.05, 0.05, 0.025,0.025,0.025,0.025,0.02,0.01, 0.01,0.01,0.01,0.01, 0.01,0.01,0.01]\n",
    "    return np.random.choice( cities, 1, p)[0]\n"
   ]
  },
  {
   "cell_type": "code",
   "execution_count": 9,
   "metadata": {
    "collapsed": true
   },
   "outputs": [],
   "source": [
    "def get_segment(city, revenue, discount_percentage, aov):\n",
    "    segments = []\n",
    "    if (city == 'Delhi' or city =='Noida'):\n",
    "        segment = 'NCR'\n",
    "        segments.append(segment)\n",
    "        \n",
    "    if (revenue > 75000):\n",
    "        segment = 'VIP Customers'\n",
    "        segments.append(segment)\n",
    "        \n",
    "    if (discount_percentage > 25):\n",
    "        segment = 'High Discount Seeker'\n",
    "        segments.append(segment)\n",
    "        \n",
    "    if (aov > 3000):\n",
    "        segment = 'High Cart Value'\n",
    "        segments.append(segment)\n",
    "        \n",
    "   \n",
    "    return segments"
   ]
  },
  {
   "cell_type": "code",
   "execution_count": 15,
   "metadata": {},
   "outputs": [
    {
     "name": "stdout",
     "output_type": "stream",
     "text": [
      "All records inserted\n"
     ]
    }
   ],
   "source": [
    "fake = Factory.create('en')\n",
    "j = 0\n",
    "\n",
    "#An empty list\n",
    "actions = []\n",
    "\n",
    "while (j <= 260):\n",
    "    revenue = random.randint(3050, 10000)\n",
    "    #revenue = 0\n",
    "    num_of_orders = math.ceil(revenue / random.randint(300, 5000))\n",
    "    m_score = get_m_score(revenue)\n",
    "    f_score = get_f_score(num_of_orders)\n",
    "    if (num_of_orders == 0):\n",
    "        aov = 0\n",
    "    else:\n",
    "        aov = revenue / num_of_orders\n",
    "    days_since_last_purchase = random.randint(1, 100)\n",
    "    r_score = get_r_score(days_since_last_purchase)\n",
    "    rfm_score = r_score + f_score + m_score\n",
    "    discount_percentage = random.randint(5, 30)\n",
    "    total_discount_revenue = revenue * discount_percentage /100\n",
    "    lifecycle = get_lifecycle(num_of_orders, days_since_last_purchase, False )\n",
    "    name = fake.name()\n",
    "    city = get_city()\n",
    "    segments = []\n",
    "    segments = get_segment(city, revenue, discount_percentage, aov)\n",
    "    if (random.randint(0, 100) > 93):\n",
    "        email_unsubscribe = True\n",
    "    else:\n",
    "        email_unsubscribe = False\n",
    "                \n",
    "    action = {\n",
    "        \"_index\": INDEX,\n",
    "        '_op_type': 'create',\n",
    "        \"_type\": DOC_TYPE,\n",
    "        \"_id\": fake.uuid4(),\n",
    "        \"_source\": {\n",
    "            \"name\": name,\n",
    "            \"email_unsubscribe\": email_unsubscribe,\n",
    "            \"revenue\" : revenue,\n",
    "            \"days_since_last_purchase\" : days_since_last_purchase,\n",
    "            \"r_score\": r_score,\n",
    "            \"f_score\": f_score,\n",
    "            \"m_score\": m_score,\n",
    "            \"rfm_score\": rfm_score,\n",
    "            \"num_of_orders\": num_of_orders,\n",
    "            \"discount_percentage\": discount_percentage,\n",
    "            \"total_discount_revenue\": total_discount_revenue,\n",
    "            \"lifecycle\":lifecycle,\n",
    "            \"segments\":segments,\n",
    "            \"Avg Order Value\": aov,\n",
    "            \"City\":city\n",
    "            }\n",
    "        }\n",
    "    \n",
    "    actions.append(action)\n",
    "    j += 1\n",
    "    \n",
    "\n",
    "    while (len(actions) > 500):\n",
    "        helpers.bulk(es, actions)\n",
    "        del actions[0:len(actions)]\n",
    "        print(\"500 more records inserted...\")\n",
    "        # Empty the actions list after 10,000 times\n",
    "        break\n",
    "\n",
    "# Some data is remaining since the loop has gone when len(actions) is less than 10,000\n",
    "if (len(actions) > 0):\n",
    "    helpers.bulk(es, actions)\n",
    "    del actions[0:len(actions)]\n",
    "print(\"All records inserted\")\n",
    " "
   ]
  },
  {
   "cell_type": "code",
   "execution_count": null,
   "metadata": {
    "collapsed": true
   },
   "outputs": [],
   "source": [
    "# save match all query as python variable\n",
    "myquery={\"from\" : 0, \"size\" : 2000,\n",
    "         \"query\": \n",
    "         {\"match_all\": {}}\n",
    "        }\n",
    "\n",
    "# execute the query using body parameter and return total number of records\n",
    "# select count(*) from table\n",
    "res = es.search(index=INDEX, body=myquery) \n",
    "df = json_normalize(res['hits']['hits'])\n",
    "df_index = df.set_index(['_id'])\n",
    "df_index.drop(['_index', '_score', '_type'],inplace=True,axis=1,errors='ignore')\n",
    "df_index['_source.lifecycle'] = df_index['_source.lifecycle'].astype(np.int64)\n",
    "data = df_index['_source.lifecycle']\n",
    "plt.hist(data, bins=np.arange(data.min(), data.max()+1), normed=False)\n",
    "plt.show()\n",
    "\n",
    "\n",
    "#plt.dist(roll_options,stats.randint.pmf(roll_options,low_value,high_value))\n",
    "\n",
    "sns.distplot(df_index['_source.discount_percentage'],bins=10, kde=True,  rug=True)\n",
    "plt.show()\n"
   ]
  },
  {
   "cell_type": "markdown",
   "metadata": {},
   "source": [
    "- Should we have seperate index for each projects?\n",
    "- If a client becomes inactive? It's data is still there. "
   ]
  }
 ],
 "metadata": {
  "kernelspec": {
   "display_name": "Python 3",
   "language": "python",
   "name": "python3"
  },
  "language_info": {
   "codemirror_mode": {
    "name": "ipython",
    "version": 3
   },
   "file_extension": ".py",
   "mimetype": "text/x-python",
   "name": "python",
   "nbconvert_exporter": "python",
   "pygments_lexer": "ipython3",
   "version": "3.5.2"
  }
 },
 "nbformat": 4,
 "nbformat_minor": 2
}
