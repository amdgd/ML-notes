{
 "cells": [
  {
   "cell_type": "markdown",
   "metadata": {},
   "source": [
    "### Basics\n",
    "Scikit-learn provides a range of supervised and unsupervised learning algorithms via a consistent interface in Python.\n",
    "- The library is focused on modeling data. It is not focused on loading, manipulating and summarizing data."
   ]
  },
  {
   "cell_type": "markdown",
   "metadata": {},
   "source": [
    "Some popular groups of models provided by scikit-learn include:\n",
    "\n",
    "- Clustering: for grouping unlabeled data such as KMeans.\n",
    "- Cross Validation: for estimating the performance of supervised models on unseen data.\n",
    "- Datasets: for test datasets and for generating datasets with specific properties for investigating model behavior.\n",
    "- Dimensionality Reduction: for reducing the number of attributes in data for summarization, visualization and feature selection such as Principal component analysis.\n",
    "- Ensemble methods: for combining the predictions of multiple supervised models.\n",
    "- Feature extraction: for defining attributes in image and text data.\n",
    "- Feature selection: for identifying meaningful attributes from which to create supervised models.\n",
    "- Parameter Tuning: for getting the most out of supervised models.\n",
    "- Manifold Learning: For summarizing and depicting complex multi-dimensional data.\n",
    "- Supervised Models: a vast array not limited to generalized linear models, discriminate analysis, naive bayes, lazy methods, neural networks, support vector machines and decision trees.\n",
    "\n",
    "![Image of Yaktocat](http://1.bp.blogspot.com/-ME24ePzpzIM/UQLWTwurfXI/AAAAAAAAANw/W3EETIroA80/s1600/drop_shadows_background.png)"
   ]
  },
  {
   "cell_type": "markdown",
   "metadata": {},
   "source": [
    "\n",
    "### Consistent APIs\n",
    "\n",
    "Algorithms are implemented with the same core functions:\n",
    "\n",
    "- fit = train an algorithm\n",
    "- predict = predict the value for a given record\n",
    "- predict_proba = predict the probability of all possible classes for a given record (classification only)\n",
    "- transform = alter your data based on a given preprocessor (i.e. normalize or scale your data) (preprocessing/unsuperivsed)\n",
    "- fit_transform = train a preprocessor and then transform the data in a single step (preprocessing/unsuperivsed)\n",
    "\n"
   ]
  }
 ],
 "metadata": {
  "kernelspec": {
   "display_name": "Python 3",
   "language": "python",
   "name": "python3"
  },
  "language_info": {
   "codemirror_mode": {
    "name": "ipython",
    "version": 3
   },
   "file_extension": ".py",
   "mimetype": "text/x-python",
   "name": "python",
   "nbconvert_exporter": "python",
   "pygments_lexer": "ipython3",
   "version": "3.5.2"
  }
 },
 "nbformat": 4,
 "nbformat_minor": 0
}
