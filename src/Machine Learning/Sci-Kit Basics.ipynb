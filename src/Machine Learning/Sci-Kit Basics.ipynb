{
 "cells": [
  {
   "cell_type": "markdown",
   "metadata": {},
   "source": [
    "### Basics\n",
    "Scikit-learn provides a range of supervised and unsupervised learning algorithms via a consistent interface in Python.\n",
    "- The library is focused on modeling data. It is not focused on loading, manipulating and summarizing data."
   ]
  },
  {
   "cell_type": "markdown",
   "metadata": {},
   "source": [
    "Some popular groups of models provided by scikit-learn include:\n",
    "\n",
    "- Clustering: for grouping unlabeled data such as KMeans.\n",
    "- Cross Validation: for estimating the performance of supervised models on unseen data.\n",
    "- Datasets: for test datasets and for generating datasets with specific properties for investigating model behavior.\n",
    "- Dimensionality Reduction: for reducing the number of attributes in data for summarization, visualization and feature selection such as Principal component analysis.\n",
    "- Ensemble methods: for combining the predictions of multiple supervised models.\n",
    "- Feature extraction: for defining attributes in image and text data.\n",
    "- Feature selection: for identifying meaningful attributes from which to create supervised models.\n",
    "- Parameter Tuning: for getting the most out of supervised models.\n",
    "- Manifold Learning: For summarizing and depicting complex multi-dimensional data.\n",
    "- Supervised Models: a vast array not limited to generalized linear models, discriminate analysis, naive bayes, lazy methods, neural networks, support vector machines and decision trees.\n",
    "\n",
    "![Image of Yaktocat](http://1.bp.blogspot.com/-ME24ePzpzIM/UQLWTwurfXI/AAAAAAAAANw/W3EETIroA80/s1600/drop_shadows_background.png)"
   ]
  },
  {
   "cell_type": "markdown",
   "metadata": {},
   "source": [
    "\n",
    "### Consistent APIs\n",
    "\n",
    "Algorithms are implemented with the same core functions:\n",
    "\n",
    "- fit = train an algorithm\n",
    "- predict = predict the value for a given record\n",
    "- predict_proba = predict the probability of all possible classes for a given record (classification only)\n",
    "- transform = alter your data based on a given preprocessor (i.e. normalize or scale your data) (preprocessing/unsuperivsed)\n",
    "- fit_transform = train a preprocessor and then transform the data in a single step (preprocessing/unsuperivsed)\n",
    "\n"
   ]
  },
  {
   "cell_type": "markdown",
   "metadata": {},
   "source": [
    "##### Outline of sklearn models:\n",
    "\n",
    "The basic outline of a sklearn model is given by the following pseudocode.\n",
    "\n",
    "```\n",
    "        input = labeled data\n",
    "        X_train = input.features\n",
    "        Y_train = input.target\n",
    "        X_test =  test data set\n",
    "        Y_test = test data set\n",
    "        \n",
    "        algorithm = sklearn.ClassImplementingTheAlgorithm(parameters of the algorithm)\n",
    "        fitting = algorithm.fit(X_train, Y_train)\n",
    "        prediction = algorithm.predict(X_test)\n",
    "       ```"
   ]
  },
  {
   "cell_type": "code",
   "execution_count": 6,
   "metadata": {},
   "outputs": [],
   "source": [
    "from sklearn.datasets import load_iris\n",
    "iris = load_iris()\n",
    "X = iris.data  #input features\n",
    "Y = iris.target #input target\n",
    "\n",
    "from sklearn import cross_validation\n",
    "# Generating test data\n",
    "X_train, X_test, Y_train, Y_test = cross_validation.train_test_split(X,Y, test_size=0.4)\n",
    "\n",
    "##KNN Model from scikit. basic implementation\n",
    "from sklearn.neighbors import KNeighborsClassifier\n",
    "algorithm = KNeighborsClassifier(n_neighbors=5) #algorithm\n",
    "fitting = algorithm.fit(X_train, Y_train) #fit\n",
    "prediction = algorithm.predict(X_test) #preedict\n",
    "\n",
    "\n",
    "# Linear regression to it\n",
    "from sklearn.linear_model import LinearRegression\n",
    "algorithm2 = LinearRegression(fit_intercept=True)\n",
    "algorithm2.fit(X_train, Y_train)\n",
    "Y_test = algorithm2.predict(X_test)"
   ]
  }
 ],
 "metadata": {
  "kernelspec": {
   "display_name": "Python 3",
   "language": "python",
   "name": "python3"
  },
  "language_info": {
   "codemirror_mode": {
    "name": "ipython",
    "version": 3
   },
   "file_extension": ".py",
   "mimetype": "text/x-python",
   "name": "python",
   "nbconvert_exporter": "python",
   "pygments_lexer": "ipython3",
   "version": "3.5.2"
  }
 },
 "nbformat": 4,
 "nbformat_minor": 1
}
