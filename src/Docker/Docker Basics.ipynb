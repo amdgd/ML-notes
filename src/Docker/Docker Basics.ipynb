{
 "cells": [
  {
   "cell_type": "markdown",
   "metadata": {
    "collapsed": true,
    "slideshow": {
     "slide_type": "slide"
    }
   },
   "source": [
    "# Docker\n",
    "Docker is an open-source project that automates the deployment of applications inside software containers.\n",
    "\n",
    "- Containers allow a developer to package up an application with all of the parts it needs, such as libraries and other dependencies, and ship it all out as one package. \n",
    "- In a way, Docker is a bit like a virtual machine. But unlike a virtual machine, rather than creating a whole virtual operating system, Docker allows applications to use the same Linux kernel as the system that they're running on and only requires applications be shipped with things not already running on the host computer. This gives a significant performance boost and reduces the size of the application."
   ]
  },
  {
   "cell_type": "markdown",
   "metadata": {
    "slideshow": {
     "slide_type": "slide"
    }
   },
   "source": [
    "## Docker Engine \n",
    "It is  a client-server application with these major components:\n",
    "\n",
    "- A server which is a type of long-running program called a daemon process (the dockerd command).\n",
    "- A REST API which specifies interfaces that programs can use to talk to the daemon and instruct it what to do.\n",
    "- A command line interface (CLI) client (the docker command).\n",
    "\n",
    "<img src=\"https://docs.docker.com/engine/article-img/engine-components-flow.png\" width=400>"
   ]
  },
  {
   "cell_type": "markdown",
   "metadata": {
    "slideshow": {
     "slide_type": "slide"
    }
   },
   "source": [
    "# Install Docker and Docker-compose\n",
    "\n",
    "\n",
    "After logging in your server\n",
    "1. Update your server\n",
    "> sudo apt-get update\n",
    "\n",
    "2. Now let's install Docker. Add the GPG key for the official Docker repository to the system:\n",
    ">sudo apt-key adv --keyserver hkp://p80.pool.sks-keyservers.net:80 --recv-keys 58118E89F3A912897C070ADBF76221572C52609D\n",
    "\n",
    "3. Add the Docker repository to APT sources:\n",
    ">sudo apt-add-repository 'deb https://apt.dockerproject.org/repo ubuntu-xenial main'\n",
    "\n",
    "4. Update the package database with the Docker packages from the newly added repo:\n",
    ">sudo apt-get update\n",
    "\n",
    "5. Make sure you are about to install from the Docker repo instead of the default Ubuntu 16.04 repo:\n",
    ">apt-cache policy docker-engine\n",
    "\n",
    "6. Finally, install Docker:\n",
    ">sudo apt-get install -y docker-engine\n",
    "\n",
    "8. Installing Docker Compose. First Check and update current release\n",
    ">sudo curl -o /usr/local/bin/docker-compose -L \"https://github.com/docker/compose/releases/download/1.11.2/docker-compose-$(uname -s)-$(uname -m)\"\n",
    "\n",
    "9. Next we'll set the permissions:\n",
    ">sudo chmod +x /usr/local/bin/docker-compose\n",
    "\n",
    "10. Install Docker Machine\n",
    ">curl -L https://github.com/docker/machine/releases/download/v0.10.0/docker-machine-`uname -s`-`uname -m` >/tmp/docker-machine &&\n",
    "  chmod +x /tmp/docker-machine &&\n",
    "  sudo cp /tmp/docker-machine /usr/local/bin/docker-machine\n",
    "  \n",
    "11. Then we'll verify that the installation was successful by checking the version:\n",
    ">docker-compose -v"
   ]
  },
  {
   "cell_type": "markdown",
   "metadata": {
    "slideshow": {
     "slide_type": "slide"
    }
   },
   "source": [
    "# Using Docker without Sudo \n",
    "Add the docker group if it doesn't already exist:\n",
    ">sudo groupadd docker\n",
    "\n",
    "Add the connected user \"$USER\" to the docker group. \n",
    "Change the user name to match your preferred user if you do not want to use your current user:\n",
    "\n",
    "> sudo gpasswd -a $USER docker\n",
    "\n",
    "Either do a \n",
    "> newgrp docker \n",
    "or log out/in to activate the changes to groups."
   ]
  },
  {
   "cell_type": "markdown",
   "metadata": {
    "slideshow": {
     "slide_type": "subslide"
    }
   },
   "source": [
    "> docker version\n",
    "\n",
    "```\n",
    "Client:\n",
    " Version:      17.05.0-ce\n",
    " API version:  1.29\n",
    " Go version:   go1.7.5\n",
    " Git commit:   89658be\n",
    " Built:        Thu May  4 22:10:54 2017\n",
    " OS/Arch:      linux/amd64\n",
    "\n",
    "Server:\n",
    " Version:      17.05.0-ce\n",
    " API version:  1.29 (minimum version 1.12)\n",
    " Go version:   go1.7.5\n",
    " Git commit:   89658be\n",
    " Built:        Thu May  4 22:10:54 2017\n",
    " OS/Arch:      linux/amd64\n",
    " Experimental: false\n",
    "```\n",
    "\n",
    "> docker info\n",
    "\n",
    "Shows information related to docker"
   ]
  },
  {
   "cell_type": "markdown",
   "metadata": {
    "slideshow": {
     "slide_type": "slide"
    }
   },
   "source": [
    "# Docker Comamnd Format\n",
    "\n",
    "```docker <command> <subcomamnd> [option]```\n",
    "\n",
    "for e.g\n",
    "\n",
    "```docker conatiner run```\n"
   ]
  },
  {
   "cell_type": "markdown",
   "metadata": {
    "slideshow": {
     "slide_type": "slide"
    }
   },
   "source": [
    "# Image vs Conatiner\n",
    "- image is the application we are going to run containing all its binaries, libraries, source code\n",
    "- container is the running instance of that image\n",
    "- You can have multiple images running off the same image\n",
    "- We get images from registeries. Default for Docker is hub.docker.com\n"
   ]
  },
  {
   "cell_type": "markdown",
   "metadata": {
    "slideshow": {
     "slide_type": "slide"
    }
   },
   "source": [
    "# Starting a nginx Server\n",
    "> docker container run --publish 80:80 nginx\n",
    "\n",
    "go to http://localhost - It will be running an nginx server\n",
    "\n",
    "- It downloaded nginx image from Docker Hub registry and pulled down latest image\n",
    "- Started a new container with the image\n",
    "- Publish part of command exposes local port 80 to container port 80\n",
    "\n",
    "### Running Docker container in background\n",
    "> docker container run --publish 80:80 --detach nginx\n",
    "\n",
    "### List all running containers\n",
    "> docker container ls\n",
    "\n",
    "### List all  containers\n",
    "> docker container ls -a\n",
    "\n",
    "### Stop running container\n",
    "> docker container stop |3-4 characters of the container id| \n",
    "\n",
    "### Start a container with a defined name\n",
    "> container run --publish 80:80 --detach --name webhost nginx\n",
    "\n",
    "### Remove containers\n",
    "> docker rm cid cid\n",
    "\n",
    "### Remove containers (including running ones, by force)\n",
    "> docker rm -f cid cid"
   ]
  },
  {
   "cell_type": "markdown",
   "metadata": {
    "slideshow": {
     "slide_type": "slide"
    }
   },
   "source": [
    "## Looking inside the conatiner\n",
    "Process list of the container\n",
    "> docker container top nameofcontainer\n",
    "\n",
    "Inspect a running container\n",
    "> docker container inspect nameofcontainer\n",
    "\n",
    "Show Stats of a Container\n",
    "> docker container stats nameofcontainer\n",
    "\n",
    "Show Stats of all Container\n",
    "> docker container stats --all"
   ]
  },
  {
   "cell_type": "markdown",
   "metadata": {
    "slideshow": {
     "slide_type": "slide"
    }
   },
   "source": [
    "## Getting into the shell\n",
    "\n",
    "> docker container run -it --name containerName containerimage bash\n",
    "\n",
    "i stands for keeping stdin open and t gives is pseudo TTY (simulates a real terminal) and bash will give you a terminal inside the window\n",
    "\n",
    "> docker container start -ia containerName bash\n",
    "\n",
    "Conatiners which are stopped can be started, -a is for attach stdout\n",
    "\n",
    "> docker container exec -it conatinerName bash\n",
    "\n",
    "Run additional processes in running container\n"
   ]
  },
  {
   "cell_type": "markdown",
   "metadata": {
    "slideshow": {
     "slide_type": "slide"
    }
   },
   "source": [
    "# Docker Network Defaults\n",
    "- Each container connects to virtual private network \"bridge\"\n",
    "- Each virtual private network routes through NAT firewall on host IP\n",
    "- All containers on a virtual network can talk to each other without -p inside our host\n",
    "- for e.g. mysql and php can talk to each other without opening their ports to physical network\n",
    "- Best practice is to create a virtual private network for each app\n",
    "\n",
    ">NAT Firewall is an additional layer of security for connections. It blocks unrequested inbound traffic when you're connected"
   ]
  },
  {
   "cell_type": "markdown",
   "metadata": {
    "slideshow": {
     "slide_type": "slide"
    }
   },
   "source": [
    "# Docker Networking\n",
    "Which ports are forwarding traffic from the container to the host\n",
    "> docker container port containerName\n",
    "\n",
    "\n",
    "ifconfig stands for \"interface configuration\". It is used to view and change the configuration of the network interfaces on your system.\n",
    "> ifconfig \n",
    "\n",
    "Now find the address of docker machine\n",
    ">  docker container inspect containerName\n",
    "\n",
    "or\n",
    "\n",
    "> docker contaienr inspect --format '{{ .NetworkSettings.IPAddress }}' containerName\n",
    "\n",
    "You will find that docker and local machine are not on same network\n"
   ]
  },
  {
   "cell_type": "markdown",
   "metadata": {
    "slideshow": {
     "slide_type": "slide"
    }
   },
   "source": [
    "# Networking basics\n",
    "\n",
    "#### Subnet Mask\n",
    "the mask is used to determine that which part of IP belonged to network or which part belong to host. E.g. \n",
    "- if u have a IP 172.16.25.32 and its subnet mask is 255.255.0.0. then the 172.16 is network part , and 25.16 is host part. \n",
    "- if u have a IP 172.16.25.32 and its subnet mask is 255.255.255.0. then the 172.16.25 is network part , and 16 is host part. \n",
    "\n",
    "#### Router\n",
    "A router is a device that is capable of sending and receiving data packets between computer networks, also creating an overlay network. The router connects two or more data line, so when a packet comes in through one line, the router reads the address information on the packet and determines the right destination, it then uses the information in its routing table or routing policy to direct the packet to the next network.\n",
    "\n",
    "\n",
    "#### Gateway \n",
    "Gateway is also a router, which forwards the traffic of a subnetwork to other or to the internet. Gateway acts as a intermediary device between computers in the subnet with other computers outside the subnet. All the traffic to the outside of subnet must go through the gateway.\n",
    "\n",
    "\n",
    "> e.g \n",
    "ip = your first name...\n",
    "sub mask = surname...\n",
    "gateway = person whom u rush to when u need to go out ...\n",
    "\n",
    "\n",
    "#### IPAM\n",
    "IPAM allow administrator to ascertain and update many information about their network such \n",
    "\n",
    "- How many ip address space exists\n",
    "- What subnet are in use\n",
    "- Host name associated with each ip address\n",
    "- Secific hardware associated with each IP address\n"
   ]
  },
  {
   "cell_type": "markdown",
   "metadata": {
    "slideshow": {
     "slide_type": "slide"
    }
   },
   "source": [
    "# CLI Management\n",
    "\n",
    "Study IPAM and individual containers IPaddresses\n",
    "> docket netwok ls\n",
    "\n",
    "Creating a new docker network\n",
    "> docker network create new_app\n",
    "\n",
    "List all networks\n",
    "> docker network list\n",
    "\n",
    "Running a container with custom netwrok\n",
    "> docker container run -p 8888:80 --name webhost11 -d --network my_app nginx \n",
    "\n",
    "Connecting/Attaching an existing container with a custoem network\n",
    "> doccker network connect NETWORK_NAME CONTAINER_NAME\n",
    "\n",
    "Disconnecting\n",
    "> docker network disconnect NETWORK_NAME CONTAINER_NAME"
   ]
  },
  {
   "cell_type": "markdown",
   "metadata": {
    "slideshow": {
     "slide_type": "slide"
    }
   },
   "source": [
    "# Docker DNS\n",
    "For inter-container communications\n",
    "\n",
    "> Forget IPs - Static IPs or even using IPs is an anti-pattern. Avoid it\n",
    "\n",
    "#### Docker DNS\n",
    "Docker Daemon has a built-in DNS server that containers use by default. You can aslso create aliases\n",
    "\n",
    "It will resolve second conatiner name as DNS. This is very helpful in Swarm production\n",
    "> docker container exec -it CONTAINER1 ping CONTAINER2\n",
    "\n"
   ]
  },
  {
   "cell_type": "markdown",
   "metadata": {
    "slideshow": {
     "slide_type": "slide"
    }
   },
   "source": [
    "# DNS Round robin\n",
    "Round robin works on a rotating basis in that one server IP address is handed out, then moves to the back of the list; the next server IP address is handed out, and then it moves to the end of the list; and so on, depending on the number of servers being used. This works in a looping fashion.\n",
    "\n",
    "- On Docker, we can have multiple containers on a created/custom network respond to smae DNS netowk by using alias \n",
    "\n",
    "Step1: Create a new network\n",
    "> docker network create searchnetwork\n",
    "\n",
    "Step 2: Start docker containers with same network alias --net-alias\n",
    "With --net-alias, one container can access the other container only if they are on the same network. \n",
    "\n",
    "> docker container run -d --name search1 --net searchnetwork --net-alias search elasticsearch:2\n",
    "\n",
    "> docker container run -d --name search2 --net searchnetwork --net-alias search elasticsearch:2\n",
    "\n",
    "Step 3: We need to use a nslookup of a third docker container. \n",
    "nslookup, which stands for \"name server lookup\", is a useful tool for finding out information about a named domain. By default, nslookup will translate a domain name to an IP address (or vice versa). \n",
    "\n",
    "> docker container run --rm --net searchnetwork alpine nslookup search\n",
    "\n",
    "Step 4: Starting another docker container of centos and calling the network with port. \n",
    "> docker container run --rm --net dude centos curl search:9200\n",
    "\n",
    "Step 5: Call this multiple times, and you will find  \"elasticsearch\" name to be different, showing its calling different servers every time\n",
    "\n"
   ]
  },
  {
   "cell_type": "markdown",
   "metadata": {
    "slideshow": {
     "slide_type": "slide"
    }
   },
   "source": [
    "# Docker Images\n",
    "Docker images has apps and dependecnies along with its metadata telling docker how to run that image.\n",
    "- Image is not a complete OS, no kernel or drivers since host machine provides all that.\n",
    "- Images is just booting an application and not a OS\n",
    "\n",
    "\n",
    "Check history of a image\n",
    "> docker image history IMAGE_NAME\n",
    "\n",
    "You can add a new tag on an existing image\n",
    "> docker image ls\n",
    "\n",
    "List all docker images\n",
    "\n",
    "Tag docker image with \"nginx\" tag to \"ankitone/nginx\" tag. You will find both images will have same Image ID and diffrerent tags.\n",
    "> docker tag nginx ankitone/nginx\n",
    "\n",
    "> docker tag SOURCE_IMAGE[Tag] TARGET_IMAGE[Tag]\n",
    "\n",
    "\n",
    "Log into your docker account\n",
    "> docker login\n",
    "\n",
    "Now push this image to your repo\n",
    "> docker image push IMAGE_Name\n",
    "\n",
    "Make sure you logout \n",
    "> docker logout\n",
    "\n",
    "\n",
    "Build an image from docker file which is present in same directory( you will use \".\" for symbiolising that)\n",
    "> docker image build -t tagName ."
   ]
  },
  {
   "cell_type": "markdown",
   "metadata": {
    "slideshow": {
     "slide_type": "slide"
    }
   },
   "source": [
    "# Union File System\n",
    "Docker images are stored as series of read-only layers. When we start a container, Docker takes the read-only image and adds a read-write layer on top. If the running container modifies an existing file, the file is copied out of the underlying read-only layer and into the top-most read-write layer where the changes are applied. \n",
    "\n",
    "The version in the read-write layer hides the underlying file, but does not destroy it — it still exists in the underlying layer. When a Docker container is deleted, relaunching the image will start a fresh container without any of the changes made in the previously running container — those changes are lost. Docker calls this combination of read-only layers with a read-write layer on top a Union File System.\n",
    "\n",
    "<img src=\"http://container-solutions.com/content/uploads/2014/12/image_layers-1.png\" widtth=\"400px\">"
   ]
  },
  {
   "cell_type": "markdown",
   "metadata": {
    "slideshow": {
     "slide_type": "slide"
    }
   },
   "source": [
    "# Container Lifetime & Persistent Data\n",
    "\n",
    "Docker works on a concept called 'seperation of concerns'\n",
    "\n",
    "- The persistent data (like database data etc) is seperated from the immutable container via Volumes and Bind Mount\n",
    "- Volumes make special location outside UFS (Union File System)\n",
    ">\n",
    "\n",
    "- Bind Mounts: links container path to host path \n",
    "\n",
    "> docker container inspect CONTAINER_ID\n",
    "\n",
    "> docker volume ls\n"
   ]
  },
  {
   "cell_type": "markdown",
   "metadata": {
    "slideshow": {
     "slide_type": "slide"
    }
   },
   "source": [
    "# Difference between Named Volumes and Bind Mount\n",
    "\n",
    "A volume can be created in two ways:\n",
    "\n",
    "- Specifying VOLUME /some/dir in a Dockerfile\n",
    "- Specying it as part of your run command as docker run -v /some/dir\n",
    "\n",
    "Having VOLUME in Dockerfile allows you to specify that a path inside the image should always be created as a volume (to bypass the union filesystem Docker uses by default). e.g., this is common for database images where writing to /var/lib/postgresql\n",
    "\n",
    "\n",
    "The host-dir can either be an absolute path such as /dst/docs or a name value. \n",
    "- If you supply an absolute path for the host-dir, Docker bind-mounts to the path you specify. \n",
    "- If you supply a name, Docker creates a named volume by that name.\n",
    "\n",
    "\n",
    "You also need to chown your host directory \n",
    "> chown -R jovyan:staff /dir\n",
    "\n",
    "> chown -R user:group DIR_PATH\n",
    "\n",
    "Bind mounting is mapping a host file or directory to a container file or directory"
   ]
  }
 ],
 "metadata": {
  "celltoolbar": "Slideshow",
  "kernelspec": {
   "display_name": "Python 3",
   "language": "python",
   "name": "python3"
  },
  "language_info": {
   "codemirror_mode": {
    "name": "ipython",
    "version": 3
   },
   "file_extension": ".py",
   "mimetype": "text/x-python",
   "name": "python",
   "nbconvert_exporter": "python",
   "pygments_lexer": "ipython3",
   "version": "3.5.2"
  }
 },
 "nbformat": 4,
 "nbformat_minor": 2
}
