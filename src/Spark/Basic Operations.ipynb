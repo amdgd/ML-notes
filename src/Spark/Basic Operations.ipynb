{
 "cells": [
  {
   "cell_type": "code",
   "execution_count": 4,
   "metadata": {},
   "outputs": [],
   "source": [
    "from pyspark.sql import SparkSession\n",
    "spark = SparkSession.builder.appName(\"Basic Operations\").getOrCreate()"
   ]
  },
  {
   "cell_type": "code",
   "execution_count": 6,
   "metadata": {},
   "outputs": [
    {
     "name": "stdout",
     "output_type": "stream",
     "text": [
      "/home/jovyan/work/Spark\r\n"
     ]
    }
   ],
   "source": [
    "!pwd\n"
   ]
  },
  {
   "cell_type": "code",
   "execution_count": 12,
   "metadata": {},
   "outputs": [],
   "source": [
    "df = spark.read.csv(\"/home/jovyan/work/files/appl_stock.csv\", inferSchema=True, header=True)"
   ]
  },
  {
   "cell_type": "code",
   "execution_count": 13,
   "metadata": {},
   "outputs": [
    {
     "name": "stdout",
     "output_type": "stream",
     "text": [
      "root\n",
      " |-- Date: timestamp (nullable = true)\n",
      " |-- Open: double (nullable = true)\n",
      " |-- High: double (nullable = true)\n",
      " |-- Low: double (nullable = true)\n",
      " |-- Close: double (nullable = true)\n",
      " |-- Volume: integer (nullable = true)\n",
      " |-- Adj Close: double (nullable = true)\n",
      "\n"
     ]
    }
   ],
   "source": [
    "df.printSchema()"
   ]
  },
  {
   "cell_type": "code",
   "execution_count": 14,
   "metadata": {},
   "outputs": [
    {
     "name": "stdout",
     "output_type": "stream",
     "text": [
      "+--------------------+----------+----------+------------------+------------------+---------+------------------+\n",
      "|                Date|      Open|      High|               Low|             Close|   Volume|         Adj Close|\n",
      "+--------------------+----------+----------+------------------+------------------+---------+------------------+\n",
      "|2010-01-04 00:00:...|213.429998|214.499996|212.38000099999996|        214.009998|123432400|         27.727039|\n",
      "|2010-01-05 00:00:...|214.599998|215.589994|        213.249994|        214.379993|150476200|27.774976000000002|\n",
      "|2010-01-06 00:00:...|214.379993|    215.23|        210.750004|        210.969995|138040000|27.333178000000004|\n",
      "|2010-01-07 00:00:...|    211.75|212.000006|        209.050005|            210.58|119282800|          27.28265|\n",
      "|2010-01-08 00:00:...|210.299994|212.000006|209.06000500000002|211.98000499999998|111902700|         27.464034|\n",
      "+--------------------+----------+----------+------------------+------------------+---------+------------------+\n",
      "only showing top 5 rows\n",
      "\n"
     ]
    }
   ],
   "source": [
    "df.show(5)"
   ]
  },
  {
   "cell_type": "code",
   "execution_count": 57,
   "metadata": {},
   "outputs": [
    {
     "name": "stdout",
     "output_type": "stream",
     "text": [
      "112\n",
      "+--------------------+-----------------+\n",
      "|                Date|            Close|\n",
      "+--------------------+-----------------+\n",
      "|2012-03-19 00:00:...|       601.100006|\n",
      "|2012-03-20 00:00:...|       605.959984|\n",
      "|2012-03-21 00:00:...|602.4999849999999|\n",
      "|2012-03-26 00:00:...|        606.97998|\n",
      "|2012-03-27 00:00:...|614.4800190000001|\n",
      "|2012-03-28 00:00:...|        617.62001|\n",
      "|2012-03-29 00:00:...|609.8599929999999|\n",
      "|2012-04-02 00:00:...|618.6300200000001|\n",
      "|2012-04-03 00:00:...|       629.319984|\n",
      "|2012-04-04 00:00:...|624.3099900000001|\n",
      "|2012-04-05 00:00:...|       633.679977|\n",
      "|2012-04-09 00:00:...|       636.229996|\n",
      "|2012-04-10 00:00:...|       628.440018|\n",
      "|2012-04-11 00:00:...|        626.20002|\n",
      "|2012-04-12 00:00:...|622.7699809999999|\n",
      "|2012-04-13 00:00:...|        605.22998|\n",
      "|2012-04-17 00:00:...|       609.699989|\n",
      "|2012-04-18 00:00:...|       608.340012|\n",
      "|2012-04-25 00:00:...|       610.000023|\n",
      "|2012-04-26 00:00:...|607.6999969999999|\n",
      "+--------------------+-----------------+\n",
      "only showing top 20 rows\n",
      "\n"
     ]
    }
   ],
   "source": [
    "print(df.filter(\"Close > 600\").count())\n",
    "df.filter(\"Close > 600\").select([\"Date\", \"Close\"]).show()"
   ]
  },
  {
   "cell_type": "code",
   "execution_count": 65,
   "metadata": {},
   "outputs": [
    {
     "name": "stdout",
     "output_type": "stream",
     "text": [
      "Row(Date=datetime.datetime(2012, 4, 5, 0, 0), Open=626.980011, High=634.6600269999999, Low=623.400009, Close=633.679977, Volume=160324500, Adj Close=82.099293)\n"
     ]
    }
   ],
   "source": [
    "result = df.filter(df.Close > 600).collect()\n",
    "print(result[10])"
   ]
  },
  {
   "cell_type": "code",
   "execution_count": 75,
   "metadata": {},
   "outputs": [
    {
     "data": {
      "text/plain": [
       "{'Adj Close': 82.099293,\n",
       " 'Close': 633.679977,\n",
       " 'Date': datetime.datetime(2012, 4, 5, 0, 0),\n",
       " 'High': 634.6600269999999,\n",
       " 'Low': 623.400009,\n",
       " 'Open': 626.980011,\n",
       " 'Volume': 160324500}"
      ]
     },
     "execution_count": 75,
     "metadata": {},
     "output_type": "execute_result"
    }
   ],
   "source": [
    "row = result[10]\n",
    "row.asDict()"
   ]
  },
  {
   "cell_type": "code",
   "execution_count": 76,
   "metadata": {},
   "outputs": [
    {
     "data": {
      "text/plain": [
       "0"
      ]
     },
     "execution_count": 76,
     "metadata": {},
     "output_type": "execute_result"
    }
   ],
   "source": [
    "row.count('Volume')"
   ]
  }
 ],
 "metadata": {
  "kernelspec": {
   "display_name": "Python 3",
   "language": "python",
   "name": "python3"
  },
  "language_info": {
   "codemirror_mode": {
    "name": "ipython",
    "version": 3
   },
   "file_extension": ".py",
   "mimetype": "text/x-python",
   "name": "python",
   "nbconvert_exporter": "python",
   "pygments_lexer": "ipython3",
   "version": "3.5.2"
  }
 },
 "nbformat": 4,
 "nbformat_minor": 2
}
