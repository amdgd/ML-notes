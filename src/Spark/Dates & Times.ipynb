{
 "cells": [
  {
   "cell_type": "code",
   "execution_count": 7,
   "metadata": {
    "collapsed": true
   },
   "outputs": [],
   "source": [
    "from pyspark.sql import SparkSession\n",
    "from pyspark.sql.functions import (dayofmonth, dayofyear, hour, month, year, weekofyear, format_number, date_format, format_number)\n",
    "spark = SparkSession.builder.appName('Dates & Times').getOrCreate()"
   ]
  },
  {
   "cell_type": "code",
   "execution_count": 8,
   "metadata": {
    "collapsed": true
   },
   "outputs": [],
   "source": [
    "df = spark.read.csv('/home/jovyan/work/files/appl_stock.csv', header=True, inferSchema=True)"
   ]
  },
  {
   "cell_type": "code",
   "execution_count": 10,
   "metadata": {
    "scrolled": true
   },
   "outputs": [
    {
     "name": "stdout",
     "output_type": "stream",
     "text": [
      "+--------------------+----------+----------+------------------+----------+---------+------------------+\n",
      "|                Date|      Open|      High|               Low|     Close|   Volume|         Adj Close|\n",
      "+--------------------+----------+----------+------------------+----------+---------+------------------+\n",
      "|2010-01-04 00:00:...|213.429998|214.499996|212.38000099999996|214.009998|123432400|         27.727039|\n",
      "|2010-01-05 00:00:...|214.599998|215.589994|        213.249994|214.379993|150476200|27.774976000000002|\n",
      "|2010-01-06 00:00:...|214.379993|    215.23|        210.750004|210.969995|138040000|27.333178000000004|\n",
      "+--------------------+----------+----------+------------------+----------+---------+------------------+\n",
      "only showing top 3 rows\n",
      "\n"
     ]
    }
   ],
   "source": [
    "df.show(3)"
   ]
  },
  {
   "cell_type": "code",
   "execution_count": 23,
   "metadata": {},
   "outputs": [
    {
     "name": "stdout",
     "output_type": "stream",
     "text": [
      "+---+-----------+----------+-----+-----+-----+\n",
      "|Day|month(Date)|year(Date)| Open| High| High|\n",
      "+---+-----------+----------+-----+-----+-----+\n",
      "|  4|          1|      2010|213.4|214.5|212.4|\n",
      "|  5|          1|      2010|214.6|215.6|213.2|\n",
      "|  6|          1|      2010|214.4|215.2|210.8|\n",
      "|  7|          1|      2010|211.8|212.0|209.1|\n",
      "|  8|          1|      2010|210.3|212.0|209.1|\n",
      "| 11|          1|      2010|212.8|213.0|208.5|\n",
      "| 12|          1|      2010|209.2|209.8|206.4|\n",
      "| 13|          1|      2010|207.9|210.9|204.1|\n",
      "| 14|          1|      2010|210.1|210.5|209.0|\n",
      "| 15|          1|      2010|210.9|211.6|205.9|\n",
      "| 19|          1|      2010|208.3|215.2|207.2|\n",
      "| 20|          1|      2010|214.9|215.5|209.5|\n",
      "| 21|          1|      2010|212.1|213.3|207.2|\n",
      "| 22|          1|      2010|206.8|207.5|197.2|\n",
      "| 25|          1|      2010|202.5|204.7|200.2|\n",
      "| 26|          1|      2010|206.0|213.7|202.6|\n",
      "| 27|          1|      2010|206.8|210.6|199.5|\n",
      "| 28|          1|      2010|204.9|205.5|198.7|\n",
      "| 29|          1|      2010|201.1|202.2|190.3|\n",
      "|  1|          2|      2010|192.4|196.0|191.3|\n",
      "+---+-----------+----------+-----+-----+-----+\n",
      "only showing top 20 rows\n",
      "\n"
     ]
    }
   ],
   "source": [
    "df.select([\n",
    "           dayofmonth('Date').alias('Day'), \n",
    "           month('Date'), \n",
    "           year('Date'), \n",
    "           format_number('Open', 1).alias('Open'), \n",
    "           format_number('High', 1).alias('High'), \n",
    "           format_number('Low', 1).alias('High')\n",
    "          ]).show()"
   ]
  },
  {
   "cell_type": "code",
   "execution_count": 55,
   "metadata": {},
   "outputs": [
    {
     "data": {
      "text/plain": [
       "['Date', 'Open', 'High', 'Low', 'Close', 'Volume', 'Adj Close', 'Year']"
      ]
     },
     "execution_count": 55,
     "metadata": {},
     "output_type": "execute_result"
    }
   ],
   "source": [
    "newdf = df.withColumn(\"Year\", year(df['Date']))\n",
    "newdf.columns\n"
   ]
  },
  {
   "cell_type": "code",
   "execution_count": 69,
   "metadata": {},
   "outputs": [
    {
     "name": "stdout",
     "output_type": "stream",
     "text": [
      "+----+------+------+\n",
      "|Year| Close|  Open|\n",
      "+----+------+------+\n",
      "|2016|104.60|104.51|\n",
      "|2015|120.04|120.18|\n",
      "|2014|295.40|295.14|\n",
      "|2013|472.63|473.13|\n",
      "|2012|576.05|576.65|\n",
      "|2011|364.00|364.06|\n",
      "|2010|259.84|259.96|\n",
      "+----+------+------+\n",
      "\n"
     ]
    }
   ],
   "source": [
    "newdf.groupBy('Year').avg().select([\n",
    "                                    'Year',\n",
    "                                    format_number('avg(Close)', 2).alias('Close'),\n",
    "                                    format_number('avg(Open)', 2).alias('Open')\n",
    "                                    ]).orderBy(newdf['Year'].desc()).show()\n",
    "\n"
   ]
  }
 ],
 "metadata": {
  "kernelspec": {
   "display_name": "Python 3",
   "language": "python",
   "name": "python3"
  },
  "language_info": {
   "codemirror_mode": {
    "name": "ipython",
    "version": 3
   },
   "file_extension": ".py",
   "mimetype": "text/x-python",
   "name": "python",
   "nbconvert_exporter": "python",
   "pygments_lexer": "ipython3",
   "version": "3.5.2"
  }
 },
 "nbformat": 4,
 "nbformat_minor": 2
}
