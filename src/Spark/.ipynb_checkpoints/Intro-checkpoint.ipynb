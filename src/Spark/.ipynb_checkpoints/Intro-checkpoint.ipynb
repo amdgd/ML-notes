{
 "cells": [
  {
   "cell_type": "code",
   "execution_count": 72,
   "metadata": {
    "collapsed": true
   },
   "outputs": [],
   "source": [
    "from pyspark.sql import SparkSession\n",
    "\n",
    "spark = SparkSession \\\n",
    "     .builder \\\n",
    "     .appName(\"Some basic examples\") \\\n",
    "     .getOrCreate() \n"
   ]
  },
  {
   "cell_type": "code",
   "execution_count": 98,
   "metadata": {
    "collapsed": true
   },
   "outputs": [],
   "source": [
    "df = spark.read.csv(\"/home/jovyan/work/car_ad.csv\", header = \"true\", inferSchema =  \"true\")"
   ]
  },
  {
   "cell_type": "code",
   "execution_count": 268,
   "metadata": {},
   "outputs": [
    {
     "name": "stdout",
     "output_type": "stream",
     "text": [
      "+-------------+-------+---------+-------+----+-------+------------+----+-------+-----+\n",
      "|          car|  price|     body|mileage|engV|engType|registration|year|  model|drive|\n",
      "+-------------+-------+---------+-------+----+-------+------------+----+-------+-----+\n",
      "|         Ford|15500.0|crossover|     68| 2.5|    Gas|         yes|2010|   Kuga| full|\n",
      "|Mercedes-Benz|20500.0|    sedan|    173| 1.8|    Gas|         yes|2011|E-Class| rear|\n",
      "|Mercedes-Benz|35000.0|    other|    135| 5.5| Petrol|         yes|2008| CL 550| rear|\n",
      "|Mercedes-Benz|17800.0|      van|    162| 1.8| Diesel|         yes|2012|  B 180|front|\n",
      "|Mercedes-Benz|33000.0|    vagon|     91|  NA|  Other|         yes|2013|E-Class| null|\n",
      "|       Nissan|16600.0|crossover|     83|   2| Petrol|         yes|2013|X-Trail| full|\n",
      "+-------------+-------+---------+-------+----+-------+------------+----+-------+-----+\n",
      "only showing top 6 rows\n",
      "\n"
     ]
    }
   ],
   "source": [
    "df.show(6)"
   ]
  },
  {
   "cell_type": "code",
   "execution_count": 68,
   "metadata": {
    "scrolled": true
   },
   "outputs": [
    {
     "name": "stdout",
     "output_type": "stream",
     "text": [
      "root\n",
      " |-- car: string (nullable = true)\n",
      " |-- price: double (nullable = true)\n",
      " |-- body: string (nullable = true)\n",
      " |-- mileage: integer (nullable = true)\n",
      " |-- engV: string (nullable = true)\n",
      " |-- engType: string (nullable = true)\n",
      " |-- registration: string (nullable = true)\n",
      " |-- year: integer (nullable = true)\n",
      " |-- model: string (nullable = true)\n",
      " |-- drive: string (nullable = true)\n",
      "\n"
     ]
    }
   ],
   "source": [
    "df.printSchema()"
   ]
  },
  {
   "cell_type": "code",
   "execution_count": 69,
   "metadata": {},
   "outputs": [
    {
     "data": {
      "text/plain": [
       "['car',\n",
       " 'price',\n",
       " 'body',\n",
       " 'mileage',\n",
       " 'engV',\n",
       " 'engType',\n",
       " 'registration',\n",
       " 'year',\n",
       " 'model',\n",
       " 'drive']"
      ]
     },
     "execution_count": 69,
     "metadata": {},
     "output_type": "execute_result"
    }
   ],
   "source": [
    "df.columns"
   ]
  },
  {
   "cell_type": "code",
   "execution_count": null,
   "metadata": {},
   "outputs": [
    {
     "name": "stdout",
     "output_type": "stream",
     "text": [
      "Fetching package metadata ............"
     ]
    }
   ],
   "source": [
    "df.describe()\n",
    "#!conda install -c damianavila82 rise  --yes"
   ]
  },
  {
   "cell_type": "code",
   "execution_count": 117,
   "metadata": {},
   "outputs": [
    {
     "name": "stdout",
     "output_type": "stream",
     "text": [
      "+-------+-----+------------------+---------+-----------------+-----------------+-------+------------+------------------+------------------+-----+\n",
      "|summary|  car|             price|     body|          mileage|             engV|engType|registration|              year|             model|drive|\n",
      "+-------+-----+------------------+---------+-----------------+-----------------+-------+------------+------------------+------------------+-----+\n",
      "|  count| 9576|              9576|     9576|             9576|             9576|   9576|        9576|              9576|              9576| 9065|\n",
      "|   mean| null|15633.317315961785|     null|138.8623642439432|2.646344344782306|   null|        null|2006.6059941520468|2747.7056752873564| null|\n",
      "| stddev| null|24106.523435656214|     null|98.62975395449988|5.927699368554418|   null|        null| 7.067924205743787| 9920.775922036484| null|\n",
      "|    min|Acura|               0.0|crossover|                0|              0.1| Diesel|          no|              1953|          1 Series|front|\n",
      "|    max| �UAZ|          547800.0|      van|              999|               NA| Petrol|         yes|              2016|      ������������| rear|\n",
      "+-------+-----+------------------+---------+-----------------+-----------------+-------+------------+------------------+------------------+-----+\n",
      "\n"
     ]
    }
   ],
   "source": [
    "df.describe().show()"
   ]
  },
  {
   "cell_type": "code",
   "execution_count": 218,
   "metadata": {
    "collapsed": true
   },
   "outputs": [],
   "source": [
    "from pyspark.sql.types import StructField, StringType, StructType, IntegerType, FloatType, LongType"
   ]
  },
  {
   "cell_type": "code",
   "execution_count": 240,
   "metadata": {
    "collapsed": true
   },
   "outputs": [],
   "source": [
    "data_schema = [StructField('car', StringType(), nullable=True),\n",
    "               StructField('price', FloatType(), True),\n",
    "               StructField('body', StringType(), nullable=True),\n",
    "               StructField('mileage', dataType=IntegerType(), nullable=True),\n",
    "               StructField('engV', StringType(), False),\n",
    "               StructField('engType', dataType=StringType(), nullable=True),\n",
    "               StructField('year', StringType(), nullable=True),\n",
    "               StructField('model', StringType(), True),\n",
    "               StructField('drive', StringType(), nullable=True)]"
   ]
  },
  {
   "cell_type": "code",
   "execution_count": 241,
   "metadata": {
    "collapsed": true
   },
   "outputs": [],
   "source": [
    "final_struc = StructType(data_schema)"
   ]
  },
  {
   "cell_type": "code",
   "execution_count": 242,
   "metadata": {
    "collapsed": true
   },
   "outputs": [],
   "source": [
    "df1 = spark.read.csv(\"/home/jovyan/work/car_ad.csv\", header = \"true\", schema =  final_struc)"
   ]
  },
  {
   "cell_type": "code",
   "execution_count": 243,
   "metadata": {},
   "outputs": [
    {
     "name": "stdout",
     "output_type": "stream",
     "text": [
      "root\n",
      " |-- car: string (nullable = true)\n",
      " |-- price: float (nullable = true)\n",
      " |-- body: string (nullable = true)\n",
      " |-- mileage: integer (nullable = true)\n",
      " |-- engV: string (nullable = true)\n",
      " |-- engType: string (nullable = true)\n",
      " |-- year: string (nullable = true)\n",
      " |-- model: string (nullable = true)\n",
      " |-- drive: string (nullable = true)\n",
      "\n"
     ]
    }
   ],
   "source": [
    "df1.printSchema()"
   ]
  },
  {
   "cell_type": "code",
   "execution_count": 244,
   "metadata": {
    "scrolled": false
   },
   "outputs": [
    {
     "name": "stdout",
     "output_type": "stream",
     "text": [
      "+-------------+---------+---------+-------+----+-------+----+-----+---------+\n",
      "|          car|    price|     body|mileage|engV|engType|year|model|    drive|\n",
      "+-------------+---------+---------+-------+----+-------+----+-----+---------+\n",
      "|         Ford|  15500.0|crossover|     68| 2.5|    Gas| yes| 2010|     Kuga|\n",
      "|Mercedes-Benz|  20500.0|    sedan|    173| 1.8|    Gas| yes| 2011|  E-Class|\n",
      "|Mercedes-Benz|  35000.0|    other|    135| 5.5| Petrol| yes| 2008|   CL 550|\n",
      "|Mercedes-Benz|  17800.0|      van|    162| 1.8| Diesel| yes| 2012|    B 180|\n",
      "|Mercedes-Benz|  33000.0|    vagon|     91|  NA|  Other| yes| 2013|  E-Class|\n",
      "|       Nissan|  16600.0|crossover|     83|   2| Petrol| yes| 2013|  X-Trail|\n",
      "|        Honda|   6500.0|    sedan|    199|   2| Petrol| yes| 2003|   Accord|\n",
      "|      Renault|  10500.0|    vagon|    185| 1.5| Diesel| yes| 2011|   Megane|\n",
      "|Mercedes-Benz|  21500.0|    sedan|    146| 1.8|    Gas| yes| 2012|  E-Class|\n",
      "|Mercedes-Benz|  22700.0|    sedan|    125| 2.2| Diesel| yes| 2010|  E-Class|\n",
      "|       Nissan|20447.154|crossover|      0| 1.2| Petrol| yes| 2016|  Qashqai|\n",
      "|Mercedes-Benz|  20400.0|    sedan|    190| 1.8|    Gas| yes| 2011|  E-Class|\n",
      "|Mercedes-Benz|  22500.0|    sedan|    164| 1.8|    Gas| yes| 2012|  E-Class|\n",
      "|          BMW|   4700.0|    sedan|    200|  NA| Petrol| yes| 1996|      316|\n",
      "|Mercedes-Benz|  21500.0|    sedan|    159| 1.8|    Gas| yes| 2012|  E-Class|\n",
      "|          BMW|  19999.0|    sedan|    290| 4.8| Petrol| yes| 2006|      750|\n",
      "|          BMW| 129222.0|    sedan|      2|   5| Petrol| yes| 2016|      750|\n",
      "|Mercedes-Benz|  99999.0|crossover|      0|   3| Petrol| yes| 2016|GLE-Class|\n",
      "|       Nissan|  16600.0|crossover|     83|   2| Petrol| yes| 2013|  X-Trail|\n",
      "|          BMW|  73900.0|    sedan|     57| 4.4| Petrol| yes| 2013|       M5|\n",
      "+-------------+---------+---------+-------+----+-------+----+-----+---------+\n",
      "only showing top 20 rows\n",
      "\n"
     ]
    }
   ],
   "source": [
    "df1.show()"
   ]
  },
  {
   "cell_type": "code",
   "execution_count": 245,
   "metadata": {},
   "outputs": [
    {
     "data": {
      "text/plain": [
       "pyspark.sql.column.Column"
      ]
     },
     "execution_count": 245,
     "metadata": {},
     "output_type": "execute_result"
    }
   ],
   "source": [
    "type(df1['car'])"
   ]
  },
  {
   "cell_type": "code",
   "execution_count": 246,
   "metadata": {},
   "outputs": [
    {
     "data": {
      "text/plain": [
       "pyspark.sql.dataframe.DataFrame"
      ]
     },
     "execution_count": 246,
     "metadata": {},
     "output_type": "execute_result"
    }
   ],
   "source": [
    "type(df1.select('car'))"
   ]
  },
  {
   "cell_type": "code",
   "execution_count": 248,
   "metadata": {},
   "outputs": [
    {
     "name": "stdout",
     "output_type": "stream",
     "text": [
      "+-------------+\n",
      "|          car|\n",
      "+-------------+\n",
      "|         Ford|\n",
      "|Mercedes-Benz|\n",
      "|Mercedes-Benz|\n",
      "|Mercedes-Benz|\n",
      "|Mercedes-Benz|\n",
      "+-------------+\n",
      "only showing top 5 rows\n",
      "\n"
     ]
    }
   ],
   "source": [
    "df1.select('car').show(5)"
   ]
  },
  {
   "cell_type": "code",
   "execution_count": 269,
   "metadata": {},
   "outputs": [
    {
     "name": "stdout",
     "output_type": "stream",
     "text": [
      "+-------------+-----+\n",
      "|          car|model|\n",
      "+-------------+-----+\n",
      "|         Ford| 2010|\n",
      "|Mercedes-Benz| 2011|\n",
      "|Mercedes-Benz| 2008|\n",
      "|Mercedes-Benz| 2012|\n",
      "|Mercedes-Benz| 2013|\n",
      "+-------------+-----+\n",
      "only showing top 5 rows\n",
      "\n"
     ]
    }
   ],
   "source": [
    "df1.select(['car','model']).show(5)"
   ]
  },
  {
   "cell_type": "code",
   "execution_count": 267,
   "metadata": {},
   "outputs": [
    {
     "name": "stdout",
     "output_type": "stream",
     "text": [
      "Printing entire row\n",
      "------------------------\n",
      "Row(car='Mercedes-Benz', price=20500.0, body='sedan', mileage=173, engV='1.8', engType='Gas', registration='yes', year=2011, model='E-Class', drive='rear')\n",
      "\n",
      "Printing a variable calling its name\n",
      "------------------------\n",
      "E-Class\n"
     ]
    }
   ],
   "source": [
    "print(\"Printing entire row\")\n",
    "print(\"------------------------\")\n",
    "print(df.head(2)[1])\n",
    "print(\"\\nPrinting a variable calling its name\")\n",
    "print(\"------------------------\")\n",
    "print(df.head(2)[1].model)"
   ]
  },
  {
   "cell_type": "code",
   "execution_count": 285,
   "metadata": {},
   "outputs": [
    {
     "name": "stdout",
     "output_type": "stream",
     "text": [
      "+-------------+---------+---------+-------+----+-------+------------+----+---------+-----+-------+\n",
      "|          car|    price|     body|mileage|engV|engType|registration|year|    model|drive|newEngV|\n",
      "+-------------+---------+---------+-------+----+-------+------------+----+---------+-----+-------+\n",
      "|         Ford|  15500.0|crossover|     68| 2.5|    Gas|         yes|2010|     Kuga| full|    5.0|\n",
      "|Mercedes-Benz|  20500.0|    sedan|    173| 1.8|    Gas|         yes|2011|  E-Class| rear|    3.6|\n",
      "|Mercedes-Benz|  35000.0|    other|    135| 5.5| Petrol|         yes|2008|   CL 550| rear|   11.0|\n",
      "|Mercedes-Benz|  17800.0|      van|    162| 1.8| Diesel|         yes|2012|    B 180|front|    3.6|\n",
      "|Mercedes-Benz|  33000.0|    vagon|     91|  NA|  Other|         yes|2013|  E-Class| null|   null|\n",
      "|       Nissan|  16600.0|crossover|     83|   2| Petrol|         yes|2013|  X-Trail| full|    4.0|\n",
      "|        Honda|   6500.0|    sedan|    199|   2| Petrol|         yes|2003|   Accord|front|    4.0|\n",
      "|      Renault|  10500.0|    vagon|    185| 1.5| Diesel|         yes|2011|   Megane|front|    3.0|\n",
      "|Mercedes-Benz|  21500.0|    sedan|    146| 1.8|    Gas|         yes|2012|  E-Class| rear|    3.6|\n",
      "|Mercedes-Benz|  22700.0|    sedan|    125| 2.2| Diesel|         yes|2010|  E-Class| rear|    4.4|\n",
      "|       Nissan|20447.154|crossover|      0| 1.2| Petrol|         yes|2016|  Qashqai|front|    2.4|\n",
      "|Mercedes-Benz|  20400.0|    sedan|    190| 1.8|    Gas|         yes|2011|  E-Class| rear|    3.6|\n",
      "|Mercedes-Benz|  22500.0|    sedan|    164| 1.8|    Gas|         yes|2012|  E-Class| rear|    3.6|\n",
      "|          BMW|   4700.0|    sedan|    200|  NA| Petrol|         yes|1996|      316| rear|   null|\n",
      "|Mercedes-Benz|  21500.0|    sedan|    159| 1.8|    Gas|         yes|2012|  E-Class| rear|    3.6|\n",
      "|          BMW|  19999.0|    sedan|    290| 4.8| Petrol|         yes|2006|      750| rear|    9.6|\n",
      "|          BMW| 129222.0|    sedan|      2|   5| Petrol|         yes|2016|      750| full|   10.0|\n",
      "|Mercedes-Benz|  99999.0|crossover|      0|   3| Petrol|         yes|2016|GLE-Class| full|    6.0|\n",
      "|       Nissan|  16600.0|crossover|     83|   2| Petrol|         yes|2013|  X-Trail| full|    4.0|\n",
      "|          BMW|  73900.0|    sedan|     57| 4.4| Petrol|         yes|2013|       M5| rear|    8.8|\n",
      "+-------------+---------+---------+-------+----+-------+------------+----+---------+-----+-------+\n",
      "only showing top 20 rows\n",
      "\n"
     ]
    }
   ],
   "source": [
    "df.withColumn('newEngV', df['engV']*2).show()"
   ]
  },
  {
   "cell_type": "code",
   "execution_count": 288,
   "metadata": {
    "scrolled": true
   },
   "outputs": [
    {
     "name": "stdout",
     "output_type": "stream",
     "text": [
      "+----------------+---------+---------+-------+----+-------+------------+----+---------+-----+\n",
      "|car_name_changed|    price|     body|mileage|engV|engType|registration|year|    model|drive|\n",
      "+----------------+---------+---------+-------+----+-------+------------+----+---------+-----+\n",
      "|            Ford|  15500.0|crossover|     68| 2.5|    Gas|         yes|2010|     Kuga| full|\n",
      "|   Mercedes-Benz|  20500.0|    sedan|    173| 1.8|    Gas|         yes|2011|  E-Class| rear|\n",
      "|   Mercedes-Benz|  35000.0|    other|    135| 5.5| Petrol|         yes|2008|   CL 550| rear|\n",
      "|   Mercedes-Benz|  17800.0|      van|    162| 1.8| Diesel|         yes|2012|    B 180|front|\n",
      "|   Mercedes-Benz|  33000.0|    vagon|     91|  NA|  Other|         yes|2013|  E-Class| null|\n",
      "|          Nissan|  16600.0|crossover|     83|   2| Petrol|         yes|2013|  X-Trail| full|\n",
      "|           Honda|   6500.0|    sedan|    199|   2| Petrol|         yes|2003|   Accord|front|\n",
      "|         Renault|  10500.0|    vagon|    185| 1.5| Diesel|         yes|2011|   Megane|front|\n",
      "|   Mercedes-Benz|  21500.0|    sedan|    146| 1.8|    Gas|         yes|2012|  E-Class| rear|\n",
      "|   Mercedes-Benz|  22700.0|    sedan|    125| 2.2| Diesel|         yes|2010|  E-Class| rear|\n",
      "|          Nissan|20447.154|crossover|      0| 1.2| Petrol|         yes|2016|  Qashqai|front|\n",
      "|   Mercedes-Benz|  20400.0|    sedan|    190| 1.8|    Gas|         yes|2011|  E-Class| rear|\n",
      "|   Mercedes-Benz|  22500.0|    sedan|    164| 1.8|    Gas|         yes|2012|  E-Class| rear|\n",
      "|             BMW|   4700.0|    sedan|    200|  NA| Petrol|         yes|1996|      316| rear|\n",
      "|   Mercedes-Benz|  21500.0|    sedan|    159| 1.8|    Gas|         yes|2012|  E-Class| rear|\n",
      "|             BMW|  19999.0|    sedan|    290| 4.8| Petrol|         yes|2006|      750| rear|\n",
      "|             BMW| 129222.0|    sedan|      2|   5| Petrol|         yes|2016|      750| full|\n",
      "|   Mercedes-Benz|  99999.0|crossover|      0|   3| Petrol|         yes|2016|GLE-Class| full|\n",
      "|          Nissan|  16600.0|crossover|     83|   2| Petrol|         yes|2013|  X-Trail| full|\n",
      "|             BMW|  73900.0|    sedan|     57| 4.4| Petrol|         yes|2013|       M5| rear|\n",
      "+----------------+---------+---------+-------+----+-------+------------+----+---------+-----+\n",
      "only showing top 20 rows\n",
      "\n"
     ]
    }
   ],
   "source": [
    "df.withColumnRenamed('car','car_name_changed').show()"
   ]
  },
  {
   "cell_type": "code",
   "execution_count": 289,
   "metadata": {
    "collapsed": true
   },
   "outputs": [],
   "source": [
    "df.createOrReplaceTempView('cars')"
   ]
  },
  {
   "cell_type": "code",
   "execution_count": 295,
   "metadata": {},
   "outputs": [
    {
     "name": "stdout",
     "output_type": "stream",
     "text": [
      "+-------------+---------+-------+\n",
      "|          car|     body|mileage|\n",
      "+-------------+---------+-------+\n",
      "|          BMW|    sedan|    290|\n",
      "|          BMW|crossover|    235|\n",
      "|         Audi|    vagon|    273|\n",
      "|         Audi|    sedan|    260|\n",
      "|         Audi|    vagon|    215|\n",
      "|          BMW|    sedan|    300|\n",
      "|Mercedes-Benz|    vagon|    212|\n",
      "|         Audi|    sedan|    240|\n",
      "|   Volkswagen|    vagon|    320|\n",
      "|   Volkswagen|    sedan|    300|\n",
      "|          BMW|    sedan|    260|\n",
      "|Mercedes-Benz|      van|    280|\n",
      "|Mercedes-Benz|      van|    223|\n",
      "|Mercedes-Benz|      van|    450|\n",
      "|   Volkswagen|      van|    231|\n",
      "|          BMW|    vagon|    240|\n",
      "|Mercedes-Benz|    sedan|    221|\n",
      "|         Opel|    vagon|    231|\n",
      "|          BMW|    sedan|    214|\n",
      "|   Volkswagen|    sedan|    255|\n",
      "+-------------+---------+-------+\n",
      "only showing top 20 rows\n",
      "\n"
     ]
    }
   ],
   "source": [
    "results = spark.sql(\"SELECT car,body,mileage from cars WHERE mileage >200 \")\n",
    "results.show()"
   ]
  }
 ],
 "metadata": {
  "kernelspec": {
   "display_name": "Python 3",
   "language": "python",
   "name": "python3"
  },
  "language_info": {
   "codemirror_mode": {
    "name": "ipython",
    "version": 3
   },
   "file_extension": ".py",
   "mimetype": "text/x-python",
   "name": "python",
   "nbconvert_exporter": "python",
   "pygments_lexer": "ipython3",
   "version": "3.5.2"
  }
 },
 "nbformat": 4,
 "nbformat_minor": 2
}
