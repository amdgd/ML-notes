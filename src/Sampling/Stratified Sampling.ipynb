{
 "cells": [
  {
   "cell_type": "markdown",
   "metadata": {},
   "source": [
    "# Stratified Sampling\n",
    "In stratified sampling, the population is partitioned into non-overlapping groups, called strata and a sample is selected by some design within each stratum. \n",
    "\n",
    "for e.g. > customers can be stratified based on their total purchased done or revenue generated from \n",
    "\n",
    "Stratification may produce a smaller error of estimation than would be produced by a simple random sample of the same size. This result is particularly true if measurements within strata are very homogeneous. \n",
    "\n",
    "In other words by stratified sampling you are dividing a heterogeneous population into\n",
    "subpopulations, each of which is internally homogeneous.\n",
    "\n"
   ]
  },
  {
   "cell_type": "markdown",
   "metadata": {},
   "source": [
    "\n",
    "### Stratum & Strata\n",
    "Stratum in geology or biology refers to layers, as in a layer of rock or layer of skin. A stratum in statistics isn’t much different — you can think of it as where your target population is divided into non-overlapping layers, subgroups, or categories. For example, strata could define the socioeconomic statuses of a population:\n",
    "\n",
    "1. Lowest 25 percent of customers based on total revenue.\n",
    "2. Middle 50 percent of customers based on total revenue.\n",
    "3. Highest 25 percent of customers based on total revenue.\n",
    "\n",
    "Each of the subgroups (i.e. a single subgroup or a category) is called a stratum, \n",
    "and two or more subgroups are called strata.\n",
    "> [Note: ‘Stratum’ is singular and ‘strata’ is plural]\n",
    "\n",
    "Customers grouped based on Revenue is Strata\n",
    "and High Percntile Revenue Customers is a Stratum\n",
    "\n"
   ]
  },
  {
   "cell_type": "markdown",
   "metadata": {},
   "source": [
    "We use the following symbols and notations:\n",
    "- N : Population size\n",
    "- k : Number of strata\n",
    "- $ N_i $ : Number of sampling units in $ i^{th} $ strata\n",
    "$$ N = \\sum_{i=1}^{k} N_i $$\n",
    "\n",
    "- $ n_i $ : Number of sampling units to be drawn from  $ i^{th} $ stratum\n",
    "- n : Total sample size \n",
    "$$ n = \\sum_{i=1}^{k} N_i $$\n"
   ]
  },
  {
   "cell_type": "markdown",
   "metadata": {},
   "source": [
    "### Neyman Allocation\n",
    "In Neyman allocation, the number of units in the sample from a stratum is made proportional to the product of the stratum size and the stratum standard deviation.\n",
    "\n",
    "$ n_h = n  \\dfrac{ N_h  \\sigma_h } { \\sum_{i=1}^{k}  N_i  \\sigma_i  } $\n",
    "\n",
    "where \n",
    "- $ n_h $ is the sample size for stratum h, \n",
    "- n is total sample size, \n",
    "- $ N_h $ is the population size for stratum h, \n",
    "- $ \\sigma_h $ is the standard deviation of stratum h.\n",
    "\n",
    "> It is proved that Neyman’s allocation is the best when a sample of specified size is to be allocated to the strata"
   ]
  },
  {
   "cell_type": "markdown",
   "metadata": {},
   "source": [
    "###  Slovin’s formula\n",
    "\n",
    "$  n_h =\\dfrac{n}{1+ne^2} $\n",
    "\n",
    "- error tolerance, e,\n",
    "- $ n_h $ is the sample size for stratum h, \n",
    "- n is total sample size \n",
    "\n",
    "Slovin's formula is used when nothing about the behavior of a population is known at at all.\n",
    "\n",
    "Note that this is the least accurate formula and, as such, the least ideal. You should only use this if circumstances prevent you from determining an appropriate standard of deviation and/or confidence level (thereby preventing you from determining your z-score, as well)."
   ]
  },
  {
   "cell_type": "markdown",
   "metadata": {},
   "source": [
    "### Comments\n",
    "To obtain the full benefits of the stratification technique, the relative sizes of strata must be known.\n",
    "\n",
    "Each stratum should be internally homogeneous. If information about heterogeneity is not available then consider all strata equally variable. A short stratified pilot survey can sometimes provide useful information about internal dispersion within strata.\n",
    "\n",
    "#### A small sized sample could be taken from a stratum if the variability among their units is small.\n",
    "\n",
    "Compared with the simple random sample, stratification results almost always in a smaller sampling variance of the mean or total value estimators, when:\n",
    "\n",
    "- The strata are heterogeneous among themselves\n",
    "- The variance of each stratum is small.\n",
    "\n",
    "#### A larger sample from a stratum should be taken if:\n",
    "\n",
    "- The stratum is larger\n",
    "- The stratum is more heterogeneous\n",
    "- The cost of sampling the stratum is low."
   ]
  },
  {
   "cell_type": "markdown",
   "metadata": {},
   "source": [
    "### Proportionate Stratification\n",
    "Proportionate stratification is a type of stratified sampling . With proportionate stratification, the sample size of each stratum is proportionate to the population size of the stratum. This means that each stratum has the same sampling fraction ."
   ]
  },
  {
   "cell_type": "markdown",
   "metadata": {},
   "source": [
    "## Central Limit Theorem\n",
    "The central limit theorem states that the sampling distribution of the mean of any independent, random variable will be normal or nearly normal, if the sample size is large enough. The sampling distribution will have mean μ and a standard deviation of $ \\dfrac{σ}{√n} $\n",
    "\n",
    "\n",
    "##### Mean\n",
    "\n",
    "$ μ_x= μ $\n",
    " \n",
    "##### Standard Deviation (\"Standard Error\")\n",
    "$ SE(x\\bar)= \\dfrac{σ}{√n} $\n",
    "\n",
    "The amazing and counter-intuitive thing about the central limit theorem is that no matter what the shape of the original distribution, the sampling distribution of the mean approaches a normal distribution. "
   ]
  }
 ],
 "metadata": {
  "kernelspec": {
   "display_name": "Python 3",
   "language": "python",
   "name": "python3"
  },
  "language_info": {
   "codemirror_mode": {
    "name": "ipython",
    "version": 3
   },
   "file_extension": ".py",
   "mimetype": "text/x-python",
   "name": "python",
   "nbconvert_exporter": "python",
   "pygments_lexer": "ipython3",
   "version": "3.5.2"
  }
 },
 "nbformat": 4,
 "nbformat_minor": 2
}
