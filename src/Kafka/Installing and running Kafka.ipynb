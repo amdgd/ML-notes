{
 "cells": [
  {
   "cell_type": "markdown",
   "metadata": {},
   "source": [
    "# Installation on Ubuntu 16.04\n",
    "\n",
    "### Prerequisites\n",
    "- You will need an Ubuntu 16.04 server with the following:\n",
    "- A non-root user with sudo privileges \n",
    "\n",
    "### SSH to your server\n",
    "> sudo ssh -i \"hadoop.pem\" ec2-user@ec2-xx-xx-xx-xx.compute-1.amazonaws.com\n",
    "\n"
   ]
  },
  {
   "cell_type": "markdown",
   "metadata": {},
   "source": [
    "# Install Docker and Docker-compose\n",
    "\n",
    "\n",
    "After logging in your server\n",
    "1. Update your server\n",
    "> sudo apt-get update\n",
    "\n",
    "2. Now let's install Docker. Add the GPG key for the official Docker repository to the system:\n",
    ">sudo apt-key adv --keyserver hkp://p80.pool.sks-keyservers.net:80 --recv-keys 58118E89F3A912897C070ADBF76221572C52609D\n",
    "\n",
    "3. Add the Docker repository to APT sources:\n",
    ">sudo apt-add-repository 'deb https://apt.dockerproject.org/repo ubuntu-xenial main'\n",
    "\n",
    "4. Update the package database with the Docker packages from the newly added repo:\n",
    ">sudo apt-get update\n",
    "\n",
    "5. Make sure you are about to install from the Docker repo instead of the default Ubuntu 16.04 repo:\n",
    ">apt-cache policy docker-engine\n",
    "\n",
    "6. Finally, install Docker:\n",
    ">sudo apt-get install -y docker-engine\n",
    "\n",
    "7. Executing docker command without sudo\n",
    ">sudo usermod -aG docker $(whoami)\n",
    "\n",
    "8. Installing Docker Compose. First Check and update current release\n",
    ">sudo curl -o /usr/local/bin/docker-compose -L \"https://github.com/docker/compose/releases/download/1.11.2/docker-compose-$(uname -s)-$(uname -m)\"\n",
    "\n",
    "9. Next we'll set the permissions:\n",
    ">sudo chmod +x /usr/local/bin/docker-compose\n",
    "\n",
    "10. Install Docker Machine\n",
    ">curl -L https://github.com/docker/machine/releases/download/v0.10.0/docker-machine-`uname -s`-`uname -m` >/tmp/docker-machine &&\n",
    "  chmod +x /tmp/docker-machine &&\n",
    "  sudo cp /tmp/docker-machine /usr/local/bin/docker-machine\n",
    "  \n",
    "11. Then we'll verify that the installation was successful by checking the version:\n",
    ">docker-compose -v"
   ]
  },
  {
   "cell_type": "markdown",
   "metadata": {},
   "source": [
    "# Install Kafka and Zookeeper\n",
    "\n",
    "10.1\n",
    "\n",
    ">sudo docker run -it -d -p 2181:2181 -p 3030:3030 -p 8081:8081 -p 8082:8082 -p 8083:8083 -p 9092:9092 -v /home/ubuntu/logs:/var/lib/kafka -e \"USE_HTTP=1\" landoop/fast-data-dev\n",
    "\n",
    "\n",
    ">sudo docker run -it -d -p 2181:2181 -p 3030:3030 -p 8081:8081 -p 8082:8082 -p 8083:8083 -p 9092:9092 -v /home/ubuntu/logs:/var/lib/kafka -e \"USE_HTTP=1\" mohamnag/kafka-zookeeper\n",
    "\n",
    "9.1\n",
    "\n",
    "\n",
    "Services\n",
    "- 9092 : Kafka Broker\n",
    "- 8081 : Schema Registry\n",
    "- 8082 : Kafka REST Proxy\n",
    "- 8083 : Kafka Connect Distributed\n",
    "- 2181 : ZooKeeper\n",
    "- 3030 : Web Server\n",
    "\n",
    "Run on http://yourservername.com:3030 or http://localhost:3030\n"
   ]
  },
  {
   "cell_type": "markdown",
   "metadata": {},
   "source": [
    "```\n",
    "docker run -d -it \n",
    "-e KAFKA_HEAP_OPTS=\"-Xmx64M -Xms64M\" \n",
    "-e KAFKA_BROKER_ID=1 \n",
    "-e KAFKA_ZOOKEEPER_CONNECT=\"172.17.0.1:2181,172.17.0.1:2182,172.17.0.1:2183\" \n",
    "-e KAFKA_ADVERTISED_PORT=9092 \n",
    "-e KAFKA_ADVERTISED_HOST_NAME=\"172.17.0.1\" \n",
    "--publish 9092:9092 \n",
    "--name kafka-node-1 \n",
    "-v /data/kafka/node1:/tmp/kafka-logs vasylpurchel/kafka\n",
    "```"
   ]
  },
  {
   "cell_type": "code",
   "execution_count": null,
   "metadata": {
    "collapsed": true
   },
   "outputs": [],
   "source": []
  }
 ],
 "metadata": {
  "kernelspec": {
   "display_name": "Python 3",
   "language": "python",
   "name": "python3"
  },
  "language_info": {
   "codemirror_mode": {
    "name": "ipython",
    "version": 3
   },
   "file_extension": ".py",
   "mimetype": "text/x-python",
   "name": "python",
   "nbconvert_exporter": "python",
   "pygments_lexer": "ipython3",
   "version": "3.5.2"
  }
 },
 "nbformat": 4,
 "nbformat_minor": 2
}
