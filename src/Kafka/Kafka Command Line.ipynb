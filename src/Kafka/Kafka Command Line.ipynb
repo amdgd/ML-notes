{
 "cells": [
  {
   "cell_type": "markdown",
   "metadata": {},
   "source": [
    "# Using Kafka Command-line Tools\n",
    "\n",
    "### Login into Kafka Container \n",
    "\n",
    "Find the container id for docker\n",
    ">docker ps -a\n",
    "\n",
    "Log into the docker container with the id \n",
    ">sudo docker exec -it 2f2187cb69eb /bin/bash\n",
    "\n",
    "Check Kafka version\n",
    ">cat /build/.info\n",
    "\n"
   ]
  },
  {
   "cell_type": "markdown",
   "metadata": {},
   "source": [
    "## Kafka Topics\n",
    "\n",
    "List all Kafka Topics\n",
    ">kafka-topics --list --zookeeper localhost:2181\n",
    "\n",
    "Create Kafka Topic\n",
    "> kafka-topics --create --zookeeper localhost:2181 --replication-factor 1 --partitions 3 --topic hello_world\n"
   ]
  },
  {
   "cell_type": "markdown",
   "metadata": {},
   "source": [
    "# Glossary\n",
    "### Consumer Configs\n",
    "#### 1. bootstrap.servers\n",
    "A list of host/port pairs to use for establishing the initial connection to the Kafka cluster. The client will make use of all servers irrespective of which servers are specified here for bootstrapping—this list only impacts the initial hosts used to discover the full set of servers. This list should be in the form host1:port1,host2:port2,.... Since these servers are just used for the initial connection to discover the full cluster membership (which may change dynamically), this list need not contain the full set of servers (you may want more than one, though, in case a server is down)."
   ]
  },
  {
   "cell_type": "markdown",
   "metadata": {},
   "source": [
    "# Kafka Producer\n",
    "\n",
    "> kafka-console-producer --broker-list localhost:9092 --topic test_topics\n",
    "\n",
    "- If you don't enter the topic name, it will create error for the first entry but than will create the topic. \n",
    "- Also note, instead of Zookeeper, you use broker list here which has a different port  (9092)\n",
    "- “metadata.broker.list” defines where the Producer can find a one or more Brokers to determine the Leader for each topic. This does not need to be the full set of Brokers in your cluster but should include at least two in case the first Broker is not available. No need to worry about figuring out which Broker is the leader for the topic (and partition), the Producer knows how to connect to the Broker and ask for the meta data then connect to the correct Broker."
   ]
  },
  {
   "cell_type": "code",
   "execution_count": null,
   "metadata": {},
   "outputs": [],
   "source": [
    "#conda install -c conda-forge librdkafka\n",
    "#conda install -c conda-forge python-confluent-kafka=0.9.4\n",
    "#!pip install confluent_kafka\n",
    "import logging\n",
    "logging.basicConfig(level=logging.DEBUG)\n",
    "from confluent_kafka import Producer\n",
    "\n",
    "some_data_source = {\n",
    "    \"1\":\"Line1\",\n",
    "    \"2\":\"Line2\",\n",
    "    \"3\":\"Line3\",\n",
    "    \"4\":\"Line4\",\n",
    "    \"5\":\"Line5\"\n",
    "}\n",
    "\n",
    "\n",
    "p = Producer({'bootstrap.servers': 'localhost:9092,', 'api.version.request':'true'})\n",
    "for key in some_data_source:\n",
    "    print(key)\n",
    "    p.produce('test_topics', some_data_source[key].encode('utf-8'))\n",
    "p.flush()"
   ]
  },
  {
   "cell_type": "code",
   "execution_count": null,
   "metadata": {
    "collapsed": true
   },
   "outputs": [],
   "source": [
    "#import logging\n",
    "#logging.basicConfig(level=logging.DEBUG)\n",
    "from kafka import KafkaProducer\n",
    "\n",
    "producer = KafkaProducer(bootstrap_servers=['localhost:9092'],api_version=(0,10))\n",
    "for _ in range(10):\n",
    "    producer.send('test_topics', b'some_message_bytes')"
   ]
  }
 ],
 "metadata": {
  "kernelspec": {
   "display_name": "Python 3",
   "language": "python",
   "name": "python3"
  },
  "language_info": {
   "codemirror_mode": {
    "name": "ipython",
    "version": 3
   },
   "file_extension": ".py",
   "mimetype": "text/x-python",
   "name": "python",
   "nbconvert_exporter": "python",
   "pygments_lexer": "ipython3",
   "version": "3.5.2"
  }
 },
 "nbformat": 4,
 "nbformat_minor": 2
}
