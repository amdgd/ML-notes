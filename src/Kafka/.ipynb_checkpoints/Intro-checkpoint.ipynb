{
 "cells": [
  {
   "cell_type": "markdown",
   "metadata": {
    "slideshow": {
     "slide_type": "slide"
    }
   },
   "source": [
    "# Apache Kafka\n",
    "---\n",
    "A publish-subscribe messaging system\n"
   ]
  },
  {
   "cell_type": "markdown",
   "metadata": {
    "slideshow": {
     "slide_type": "slide"
    }
   },
   "source": [
    "# Messaging System\n",
    "A messaging system let you send messages between processes, applications, and servers.\n",
    "### Exchange types\n",
    "Fanout, Direct, Topic, Headers\n",
    "\n",
    "### Messaging Patterns\n",
    "- Pub-Sub\n",
    "- Point to Point (P2P)\n",
    "\n"
   ]
  },
  {
   "cell_type": "markdown",
   "metadata": {
    "slideshow": {
     "slide_type": "slide"
    }
   },
   "source": [
    "# Comparison b/w P2P and Pub-Sub\n",
    "|                     | RabbitMq                                                                                                                                                                    | Kafka                                                                                                                                                                                                                                                                                       |\n",
    "|:--------------------|:----------------------------------------------------------------------------------------------------------------------------------------------------------------------------|:--------------------------------------------------------------------------------------------------------------------------------------------------------------------------------------------------------------------------------------------------------------------------------------------|\n",
    "| What is it          | general purpose message broker that supports several standardized protocols such as AMQP                                                                                    | message bus optimized for high-ingress data streams and replay                                                                                                                                                                                                                              |\n",
    "| Working             | Each message is addressed to a virtual channel known as Queue                                                                                                               | Each message is addressed to a virtual channel know as Topic                                                                                                                                                                                                                                |\n",
    "| Producer / Consumer | One-to-One i.e. a message delivered by a producer is consumed by only one consumer                                                                                          | One-to-Many i.e. a message delivered by a producer (publisher) can be consumed by zero or more consumers                                                                                                                                                                                    |\n",
    "| MessageDlievery     | A queue can have multiple receivers, but each message is consumed by only one receiver                                                                                      | A topic can have multiple receivers and every receiver receives a copy of each message                                                                                                                                                                                                      |\n",
    "| Scaling strategy    | Mostly vertical                                                                                                                                                             | Built from the ground up with horizontal scaling in mind                                                                                                                                                                                                                                    |\n",
    "| Pull / Push         | Pull-based model i.e. client polls the queue for new messages and sends the request                                                                                         | Push-based model i.e. messages are broadcasted to all the subscribers without them having to poll the topic                                                                                                                                                                                 |\n",
    "| Deliverability      | Messages are retained in the queue until they are delivered to the receiver. The receiver can fetch the message even if it was not running when producer sent the messages. | Messages are retained in the topic until they are delivered to the “current“ subscribers.There is an option to have durable subscriptions in pub-sub model which allows the subscriber to dis-connect, reconnect again and collect the messages that were delivered when it was not active. |\n",
    "| Acknowledgement     | The receiver acknowledges the successful processing of a message.                                                                                                           | Acknowledgment is optional.                                                                                                                                                                                                                                                                 |"
   ]
  },
  {
   "cell_type": "markdown",
   "metadata": {
    "slideshow": {
     "slide_type": "slide"
    }
   },
   "source": [
    "# Comparison with Rabbit MQ\n",
    "\n",
    "|   | RabbitMQ                                                                   | Kafka                                                                                                                                                                                                          |\n",
    "|---|:---------------------------------------------------------------------------|:---------------------------------------------------------------------------------------------------------------------------------------------------------------------------------------------------------------|\n",
    "|   | Presume by design that consumers are mostly online                         | Designed to partition and persist large amounts of messages disregarding if the consumers are online or not.                                                                                                   |\n",
    "|   | Not designed to persist large amounts of messages on the broker.           | Kafka presumes that producers generate messages at such a rate that it can be thought of as a stream. Consumers in this concept can process events at their own pace either online, in batches or even offline |\n",
    "|   | RabbitMQ uses a richer variety of exchanges like Queues as well as Topics. | Kafka uses Topic-like exchanges only.                                                                                                                                                                          |\n",
    "|   | RabbitMQ producers can specify message priority                            | Kafka provides message ordering inside partitions. For ordering across partitions, the Kafka consumers have to be smart enough and resolve ordering across partitions themselves.                              |\n",
    "|   | One consumer for same data                                                 | Multiple consumers for same data                                                                                                                                                                               |\n",
    "|   | Common use case for it is to handle background jobs.                       | Kafka is a message bus optimized for high-ingress data streams and replay.                                                                                                                                     |\n",
    "|   | 20,000 msg/sec on a single server                                          | 100,000 ms/sec on a single server                                                                                                                                                                              |"
   ]
  },
  {
   "attachments": {},
   "cell_type": "markdown",
   "metadata": {
    "slideshow": {
     "slide_type": "slide"
    }
   },
   "source": [
    "# Kafka Architecture\n",
    "<img src=\"https://www.cloudkarafka.com/img/blog/kafka-webtracking.png\" width=\"750px\">"
   ]
  },
  {
   "cell_type": "markdown",
   "metadata": {
    "slideshow": {
     "slide_type": "slide"
    }
   },
   "source": [
    "# When Kafka Consumers crashes?\n",
    "- There are two general types of consumers: simple consumers, and consumer groups. \n",
    "- If any one consumer in a consumer group crashes, another consumer can easily pick up where it left off by retrieving the crashed consumer’s last offset (the message id) from ZooKeeper.\n",
    "- Kafka guarantees at-least-once delivery by default."
   ]
  },
  {
   "cell_type": "markdown",
   "metadata": {
    "slideshow": {
     "slide_type": "slide"
    }
   },
   "source": [
    "# When Kafka Broker crashes\n",
    "Kafka stores all of the message data on the brokers, and broker data is typically mirrored (or replicated) on at least two other brokers. This ensures data availability should one broker go down.\n",
    "\n"
   ]
  },
  {
   "cell_type": "markdown",
   "metadata": {
    "slideshow": {
     "slide_type": "slide"
    }
   },
   "source": [
    "# Glossary 1\n",
    "- Message: Information that is sent from the producer to a consumer through Apache Kafka.\n",
    "- Connection: A connection is a TCP connection between your application and the Kafka broker.\n",
    "- Topic: A Topic is a category/feed name to which messages are stored and published.\n",
    "- Partition: Kafka topics are divided into a number of partitions, which allows you to split data across multiple brokers.\n",
    "- Leader is the node responsible for all reads and writes for the given partition. Every partition has one server acting as a leader.\n"
   ]
  },
  {
   "cell_type": "markdown",
   "metadata": {
    "slideshow": {
     "slide_type": "slide"
    }
   },
   "source": [
    "# Glossary 2\n",
    "- Replica:  A replica of a partition is a \"backup\" of a partition. Replicas never read or write data. They are used to prevent data loss.\n",
    "- Consumer Group: includes the set of consumer processes that are subscribing to a specific topic.\n",
    "- Offset: a unique identifier of a record within a partition. It denotes the position of the consumer in the partition.\n",
    "- Node: A node is a single computer in the Apache Kafka cluster.\n",
    "- Broker - A node is also called Kafka broker.\n",
    "- Cluster: A cluster is a group of nodes i.e., a group of computers.\n",
    "- ZooKeeper is used for managing and coordinating Kafka brokers."
   ]
  },
  {
   "cell_type": "markdown",
   "metadata": {
    "slideshow": {
     "slide_type": "slide"
    }
   },
   "source": [
    "# Kafka Broker\n",
    "\n",
    "- A kafka cluster is composed of multiple servers called brokers\n",
    "- Each broker is identified with its ID (integer)\n",
    "- Each broker has certain topic partitions\n",
    "- after connecting to any broker (caalled bootstrap.broker), you are connected to entire cluster\n",
    "\n",
    "\n",
    "<img src=\"https://www.cloudkarafka.com/img/blog/kafka-producer-consumer-broker.png\" width=\"350px\">"
   ]
  },
  {
   "cell_type": "markdown",
   "metadata": {
    "slideshow": {
     "slide_type": "slide"
    }
   },
   "source": [
    "# Kafka Topic\n",
    "- a topic has a name, and it has to be unique across your Kafka cluster\n",
    "- topics are divided into a number of partitions to parallelize a topic by splitting the data across multiple brokers\n",
    "- topic should have a replication factor >1 (usually 2 or 3)\n",
    "- Each message within a partition has an identifier called its offset. \n",
    "\n",
    "\n",
    "> Example You can have a topic “users”, with event data. Or you can have a separate “event” topic\n",
    "\n",
    "\n",
    "<img src=\"https://image.ibb.co/ky6R5v/apache_kafka_lesson_learned_8_638.jpg\"  width =\"300px\">"
   ]
  },
  {
   "cell_type": "markdown",
   "metadata": {
    "slideshow": {
     "slide_type": "slide"
    }
   },
   "source": [
    "# Kaka Topic explaiend\n",
    "\n",
    "<img src=\"https://sookocheff.com/post/kafka/kafka-in-a-nutshell/log-anatomy.png\" width=500px>\n",
    "\n",
    "Each specific message in a Kafka cluster can be uniquely identified by a tuple consisting of the message’s topic, partition, and offset within the partition.\n",
    "\n",
    "message -> (topic, partition, offset)\n",
    "\n",
    "- Data is assigned randomly to a partition unless a key is provided "
   ]
  },
  {
   "cell_type": "markdown",
   "metadata": {
    "slideshow": {
     "slide_type": "slide"
    }
   },
   "source": [
    "# How to scale in Kafka\n",
    "\n",
    "The basic level of parallelism in Kafka is the partition.\n",
    "-  On both the producer and the broker side, writes to different partitions can be done fully in parallel. \n",
    "\n",
    "Things to keep in mind\n",
    "- More Partitions Requires More Open File Handles\n",
    "- More Partitions May Increase Unavailability\n",
    "- More Partitions May Increase End-to-end Latency\n",
    "\n",
    "> As a rule of thumb, it’s probably a good idea to limit the number of partitions per broker to \n",
    "\n",
    ">100 x b x r, \n",
    "\n",
    ">where b is the number of brokers in and r is the replication factor.\n"
   ]
  },
  {
   "cell_type": "markdown",
   "metadata": {
    "slideshow": {
     "slide_type": "slide"
    }
   },
   "source": [
    "# Leader Partition\n",
    "At any given time, only one partition on a broker of a topic can be a leader and only it will serve requests to Consumers and Producers\n",
    "\n",
    "- The other brokers having replica partitions will only synchronize data\n",
    "- A leader will haev multiple ISR (In-sync replicas, in-sync means they are very fast and are not lagging behind from leader)"
   ]
  },
  {
   "cell_type": "markdown",
   "metadata": {
    "slideshow": {
     "slide_type": "slide"
    }
   },
   "source": [
    "# Producers\n",
    "\n",
    "- Have to specify a topic name\n",
    "- One broker to connect to (Kafka will take care of routing/load balancing to other brokers)\n",
    "\n",
    "### Level of Acknowledgement\n",
    "- Acks = 0: No acknowledgement. Poosible data loss\n",
    "- Acks = 1: Wait till acknowledgement from the leader. \n",
    "- Acks = all: Leaders + replicas acknowledgement. No data loss"
   ]
  },
  {
   "cell_type": "markdown",
   "metadata": {
    "slideshow": {
     "slide_type": "slide"
    }
   },
   "source": [
    "# Message Keys in Producers\n",
    "- Optionally producers can sent a key (something like, customer ID)\n",
    "- If a key is sent, all data with same key will be on same partition. \n",
    "- This gurantees the ordering for that specifi key"
   ]
  },
  {
   "cell_type": "markdown",
   "metadata": {
    "slideshow": {
     "slide_type": "slide"
    }
   },
   "source": [
    "# Consumers\n",
    "- They have to specify a topic name and one broker to conenct to \n",
    "- Kafka will do the routing and load balancing\n",
    "- Data is read in order form each partition (That is where Message Key if supplied by the Producer comes in play)"
   ]
  },
  {
   "cell_type": "markdown",
   "metadata": {
    "slideshow": {
     "slide_type": "slide"
    }
   },
   "source": [
    "# Consumers and Consumer Groups\n",
    "\n",
    "Consumers can  be organized into consumer groups for a given topic \n",
    "- each consumer within the group reads from a unique partition \n",
    "- the group as a whole consumes all messages from the entire topic\n",
    "\n",
    "#### Unbalanced Consumers and Partitions\n",
    "-  If you have more consumers than partitions then some consumers will be idle. \n",
    "-  If you have more partitions than consumers then consumers will receive messages from multiple partitions.\n",
    "\n"
   ]
  },
  {
   "cell_type": "markdown",
   "metadata": {
    "slideshow": {
     "slide_type": "slide"
    }
   },
   "source": [
    "## Partitions and Consumer Group Interaction\n",
    ">Server 1 holds partitions 0 and 3 and server 3 holds partitions 1 and 2. We have two consumer groups, A and B. A is made up of two consumers and B is made up of four consumers. Consumer Group A has two consumers of four partitions — each consumer reads from two partitions. Consumer Group B, on the other hand, has the same number of consumers as partitions and each consumer reads from exactly one partition.\n",
    "\n",
    "\n",
    "<img src =\"https://sookocheff.com/post/kafka/kafka-in-a-nutshell/consumer-groups.png\"  width = \"300px\">"
   ]
  },
  {
   "cell_type": "markdown",
   "metadata": {
    "slideshow": {
     "slide_type": "slide"
    }
   },
   "source": [
    "# Consumer Offset\n",
    "- Kafka stores the offset at which consumer group has been reading\n",
    "- The offset commit lives in Kafka topic named \"_consumer_offsets\"\n",
    "- If consumer process dies, it will be able to read back from where it died via consumer offset"
   ]
  },
  {
   "cell_type": "markdown",
   "metadata": {
    "slideshow": {
     "slide_type": "slide"
    }
   },
   "source": [
    "# Zookeeper\n",
    "- Zookeeper manages brokers and keep a list of them\n",
    "- Zookeeper helps in performing leader partition\n",
    "- Zookeeper usually works in odd quorum (cluster of 3, 5, etc  servers)\n",
    "- Zookeeper send notifications to Kafka (for e.g. new topic, new broker, broker dies etc)\n",
    "- Zookeeper cluster has one leader and rest followers"
   ]
  },
  {
   "cell_type": "markdown",
   "metadata": {
    "slideshow": {
     "slide_type": "slide"
    }
   },
   "source": [
    "# Delivery Semantics for Consumers\n",
    "Consumer asks servr for messages via polling and than consimer commit message offsets.\n",
    "\n",
    "1. Atleast-once\n",
    "2. Atmost once\n",
    "\n",
    "Most ofter, you use Atleast-once but you have to ensure your processing is idempotent."
   ]
  },
  {
   "cell_type": "markdown",
   "metadata": {
    "slideshow": {
     "slide_type": "subslide"
    }
   },
   "source": [
    "Consumer poll for messages and get message with offset = 1.\n",
    "\n",
    "##### Atmost once\n",
    "If consumer commit that offset immediately before processing the message, then it can crash and will never receive that message again because it was already committed, on next poll Kafka will return message with offset = 2\n",
    "\n",
    "##### Atleast once \n",
    "If consumer process the message first and then commit the offset, what could happen is that after processing the message but before committing, the consumer crashes, so in that case next poll will get again the same message with offset = 1 and that message will be processed twice. \n",
    "\n"
   ]
  }
 ],
 "metadata": {
  "celltoolbar": "Slideshow",
  "kernelspec": {
   "display_name": "Python 3",
   "language": "python",
   "name": "python3"
  },
  "language_info": {
   "codemirror_mode": {
    "name": "ipython",
    "version": 3
   },
   "file_extension": ".py",
   "mimetype": "text/x-python",
   "name": "python",
   "nbconvert_exporter": "python",
   "pygments_lexer": "ipython3",
   "version": "3.5.2"
  }
 },
 "nbformat": 4,
 "nbformat_minor": 2
}
