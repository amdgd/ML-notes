{
 "cells": [
  {
   "cell_type": "markdown",
   "metadata": {},
   "source": [
    "# Python Virtual Environment and Docker Primer\n",
    "\n",
    "Python has a huge netwok of packages, libraries and scripts which itself is awesome but sometime becomes an issue between multiple projects which might require different versions of libaries. This conflict in project dependencies can easily be solved by Python Virtual environments.\n",
    "\n",
    "## What is a Virtual Environment\n",
    "A virtual environment is a Python environment such that the Python interpreter, libraries and scripts installed into it are isolated from those installed in other virtual environments and from default python installation in your operating system.\n",
    "\n",
    "It is a directory tree that contains Python executables files and other files including libraries, packages etc.\n",
    "You can create multiple virtual environments and can easily activate or deactivate them. \n",
    "\n",
    "## Multiple packages to create virtual environments\n",
    "There are many packages that can help in creatng virtual environments. \n",
    "\n",
    "#### virtualenv\n",
    "The most popular of all. It also copies Python binaries in the virtual environment folder.\n",
    "\n",
    "#### venv\n",
    "Similar to virtualenv but it doesn't copy Python binaries in the virtual environment folder. It's shipped with Python3. \n",
    "\n",
    "#### pipenv\n",
    "The brand new tool. It combines pip and virtualenv in one. Its's more of a wrapper around virtualenv\n"
   ]
  },
  {
   "cell_type": "markdown",
   "metadata": {},
   "source": [
    "## virtualenv\n",
    "Since it's the most popular we will focus on it \n",
    "\n",
    "To install it use\n",
    "\n",
    "            $pip install virtualenv\n",
    "           "
   ]
  },
  {
   "cell_type": "code",
   "execution_count": null,
   "metadata": {},
   "outputs": [],
   "source": [
    "To create virtual environments"
   ]
  }
 ],
 "metadata": {
  "kernelspec": {
   "display_name": "Python 3",
   "language": "python",
   "name": "python3"
  },
  "language_info": {
   "codemirror_mode": {
    "name": "ipython",
    "version": 3
   },
   "file_extension": ".py",
   "mimetype": "text/x-python",
   "name": "python",
   "nbconvert_exporter": "python",
   "pygments_lexer": "ipython3",
   "version": "3.6.2"
  }
 },
 "nbformat": 4,
 "nbformat_minor": 2
}
