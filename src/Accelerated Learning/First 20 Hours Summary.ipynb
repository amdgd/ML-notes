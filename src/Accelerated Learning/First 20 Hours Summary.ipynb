{
 "cells": [
  {
   "cell_type": "markdown",
   "metadata": {},
   "source": [
    "## Core Idea\n",
    "\n",
    "The core idea is that one can learn almost any skills sufficiently quickly with proper strategy, focus and technique. \n",
    "The most esential thing about skill learning is to develop temporary obsession about it. \n",
    "\n",
    "To learn a skill \n",
    "- Deconstruct a skill into smallest sub-skills\n",
    "- Learn enough about each sub-skills to practice and self correct during practice\n",
    "- Remove physical, mental and emotional barriers\n",
    "- Practice the most important sub-skills for atleast 20 hours\n"
   ]
  },
  {
   "cell_type": "markdown",
   "metadata": {},
   "source": [
    "## Major principles\n",
    " \n",
    "#### 1. Choose a lovable project\n",
    "The more excited one is about the skill, the faster he will acquire it. \n",
    "\n",
    "#### 2. Focus your energy on one skill at a time\n",
    "Pick one and only one skill to learn at a time. Give it your concentrated time and focus, amd place all other skills on a temporary hold. \n",
    "\n",
    "#### 3. Define your target performance level\n",
    "Define what's good enough is for you or describe on what level would you be able to perform the skill you are acquiring.\n",
    "\n",
    "#### 4. Deconstruct the skill into sub-skills\n",
    "Break down the skills into the smallest possible sub-skills and than focus on the critical sub-skills first"
   ]
  }
 ],
 "metadata": {
  "kernelspec": {
   "display_name": "Python 3",
   "language": "python",
   "name": "python3"
  },
  "language_info": {
   "codemirror_mode": {
    "name": "ipython",
    "version": 3
   },
   "file_extension": ".py",
   "mimetype": "text/x-python",
   "name": "python",
   "nbconvert_exporter": "python",
   "pygments_lexer": "ipython3",
   "version": "3.6.2"
  }
 },
 "nbformat": 4,
 "nbformat_minor": 2
}
