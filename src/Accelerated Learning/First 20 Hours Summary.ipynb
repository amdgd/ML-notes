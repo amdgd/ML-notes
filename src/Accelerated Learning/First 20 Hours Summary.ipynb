{
 "cells": [
  {
   "cell_type": "markdown",
   "metadata": {},
   "source": [
    "## Core Idea\n",
    "\n",
    "The core idea is that one can learn almost any skills sufficiently quickly with proper strategy, focus and technique. \n",
    "The most esential thing about skill learning is to develop temporary obsession about it. \n",
    "\n",
    "### To learn a skill \n",
    "- Deconstruct a skill into smallest sub-skills\n",
    "- Learn enough about each sub-skills to practice and self correct during practice\n",
    "- Remove physical, mental and emotional barriers\n",
    "- Practice the most important sub-skills for atleast 20 hours\n"
   ]
  },
  {
   "cell_type": "markdown",
   "metadata": {},
   "source": [
    "## Phases of Skill Acquisition\n",
    "\n",
    "Skill acquisition happens in these three stages\n",
    "1. **Cognitive** - Reasearching, thinking and understanding about the skill. Breaking the skills into manageable parts.\n",
    "2. **Associative** - Practising, getting feedback and adjusting based on feedback\n",
    "3. **Autonomus** - Effectively performing the skill with little thinking or paying unnecessary attention to it.  \n"
   ]
  },
  {
   "cell_type": "markdown",
   "metadata": {},
   "source": [
    "## Major principles of Skill Acquisition\n",
    " \n",
    "#### 1. Choose a lovable project\n",
    "The more excited one is about the skill, the faster he will acquire it. \n",
    "\n",
    "#### 2. Focus your energy on one skill at a time\n",
    "Pick one and only one skill to learn at a time. Give it your concentrated time and focus, amd place all other skills on a temporary hold. \n",
    "\n",
    "#### 3. Define your target performance level\n",
    "Define what's good enough is for you or describe on what level would you be able to perform the skill you are acquiring.\n",
    "\n",
    "#### 4. Deconstruct the skill into sub-skills\n",
    "Break down the skills into the smallest possible sub-skills and than focus on the critical sub-skills first\n",
    "\n",
    "#### 5. Obtain critical tools\n",
    "First identify all the critical tools and equipments you need to learn that skill and than get them.\n",
    "\n",
    "#### 6. Eliminate barriers to practice\n",
    "YOu have to eliminate all barries that can stop your from focussed and concentrated efforts - physical, mental and emotional.\n",
    "\n",
    "#### 7. Make dedicated time to practice\n",
    "Set up a dedicated time to practice. Since early parts of a skill acquiistion are the hardest - they are the time you are most prone to abandon the skill. Precommitting to 20 hours will make it easier to persist.\n",
    "\n",
    "#### 8. Create Fast feedback loop\n",
    "The faster the feedback loops you will have, easier and quicker will be your skill acquistion.\n",
    "\n",
    "#### 9. Practice by clock in short bursts\n",
    "Be disciplined about putting time to practice in short time sessions distributed around the day. They can be as short as 20 minutes. \n",
    "\n",
    "#### 10. Emphasie quantity and speed\n",
    "Ensure your practice with a good form that is good enough for your target performance level. Once you are doing it 80-90% of the time, increase your speed of learning. \n",
    "\n"
   ]
  },
  {
   "cell_type": "markdown",
   "metadata": {},
   "source": [
    "## Learning vs Skill Acquisition\n",
    "\n",
    "Learning is different from Skill Acquisition. Doing a bit research and learning about the skill will save you time, effort and emotional fortitude. \n",
    "\n",
    "Learning makes your practice more efficient so that you can spend most of your time on practicing most critical sub-skills first. \n",
    "\n",
    "### 10 major pricniples of effective learning\n",
    "#### 1. Reserach the skill, subskills and related topics\n",
    "Spend time on researching good resources including sites, books, papers etc. The idea here is to understand the broader topic instead of deeper knowledge of any small sub-skill. \n",
    "\n",
    "#### 2. Jump in over your head\n",
    "Whil reseraching you will find a lot of things which might confuse you. If it's not so, you are not reserach properly\n",
    "\n",
    "#### 3. Identify mental modes and hooks\n",
    "A mental model is a representation inside your head of an external reality. A mental model is an explanation of how something works.\n",
    "\n",
    "> For example, supply and demand is a mental model that helps you understand how the economy works. Game theory is a mental model that helps you understand how relationships and trust work\n",
    "\n",
    "Mental hooks are the analogies and metaphors you can use to remember new concepts.\n",
    "\n",
    "#### 4. Imagine the opposite of what you want.\n",
    "By considering the worst possible outcome, you can identify important elements that aren’t immediately obvious.\n",
    "\n",
    "#### 5. Talk to practitioners to set expectations. This helps set the standard that you want to achieve in the short term.\n",
    "\n",
    "#### 6. Elimintae distractions in your environment\n",
    "\n",
    "#### 7. Use spaced repetition and reinforcement for memorization.\n",
    "Use this technique when fast recall is crucial, like learning vocabulary words. Otherwise spend this time in practice or experimentation.\n",
    "\n",
    "#### 8. Create scaffolds and checklists.\n",
    "Checklists help you remember things that must be done every time you practice. .Scaffolds are structures that ensure you approach the skill the same way every time \n",
    "\n",
    "#### 9. Make and test predictions.\n",
    "Part of the skill acquisition process involves experimentation: trying new things to see if they work. Getting into the habit of making and testing predictions will help you acquire skills more rapidly.\n",
    "\n",
    "It’s a variation on the scientific method, with four key elements:\n",
    "- Observations — what are you currently observing?\n",
    "- Knowns — what do you know about the topic already?\n",
    "- Hypotheses — what do you think will improve your performance?\n",
    "- Tests — what are you going to try next?\n",
    "\n",
    "#### 10. Respect your biology"
   ]
  },
  {
   "cell_type": "markdown",
   "metadata": {},
   "source": [
    "Deliberate practice refers to a special type of practice that is purposeful and systematic. While regular practice might include mindless repetitions, deliberate practice requires focused attention and is conducted with the specific goal of improving performance."
   ]
  }
 ],
 "metadata": {
  "kernelspec": {
   "display_name": "Python 3",
   "language": "python",
   "name": "python3"
  },
  "language_info": {
   "codemirror_mode": {
    "name": "ipython",
    "version": 3
   },
   "file_extension": ".py",
   "mimetype": "text/x-python",
   "name": "python",
   "nbconvert_exporter": "python",
   "pygments_lexer": "ipython3",
   "version": "3.6.2"
  }
 },
 "nbformat": 4,
 "nbformat_minor": 2
}
