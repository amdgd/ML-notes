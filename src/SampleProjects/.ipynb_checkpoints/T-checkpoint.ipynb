{
 "cells": [
  {
   "cell_type": "code",
   "execution_count": 1,
   "metadata": {},
   "outputs": [],
   "source": [
    "import pandas as pd\n",
    "import numpy as np\n",
    "from matplotlib import pyplot as plt\n",
    "import seaborn as sns\n",
    "pd.set_option('display.float_format', lambda x: '%.1f' % x)\n",
    "\n",
    "#Fixed size for all plots\n",
    "plt.rcParams['figure.figsize']=18,8\n",
    "\n",
    "#Import Warnings\n",
    "import warnings\n",
    "warnings.filterwarnings('ignore')"
   ]
  },
  {
   "cell_type": "code",
   "execution_count": 2,
   "metadata": {},
   "outputs": [
    {
     "data": {
      "text/html": [
       "<div>\n",
       "<table border=\"1\" class=\"dataframe\">\n",
       "  <thead>\n",
       "    <tr style=\"text-align: right;\">\n",
       "      <th></th>\n",
       "      <th>average_order_value</th>\n",
       "      <th>best_day</th>\n",
       "      <th>best_hour</th>\n",
       "      <th>between_7_to_8_gmt</th>\n",
       "      <th>email_last_send_date</th>\n",
       "      <th>first_seen_date</th>\n",
       "      <th>frequency_score</th>\n",
       "      <th>highest_order_value</th>\n",
       "      <th>last_payment_method</th>\n",
       "      <th>last_purchase_date</th>\n",
       "      <th>...</th>\n",
       "      <th>recency_score</th>\n",
       "      <th>rfm_total_score</th>\n",
       "      <th>segmentation_last_process_date</th>\n",
       "      <th>session_on_sunday</th>\n",
       "      <th>time_to_first_purchase</th>\n",
       "      <th>total_event_done</th>\n",
       "      <th>total_frequency_monetary</th>\n",
       "      <th>total_revenue</th>\n",
       "      <th>user_id</th>\n",
       "      <th>user_tag</th>\n",
       "    </tr>\n",
       "  </thead>\n",
       "  <tbody>\n",
       "    <tr>\n",
       "      <th>0</th>\n",
       "      <td>175924.3</td>\n",
       "      <td>wednesday</td>\n",
       "      <td>5.0</td>\n",
       "      <td>1.0</td>\n",
       "      <td>2017-02-23T03:20:52</td>\n",
       "      <td>2017-01-12T15:36:41</td>\n",
       "      <td>1.0</td>\n",
       "      <td>349800.0</td>\n",
       "      <td>payment_method_atm_transfer</td>\n",
       "      <td>2017-02-03T09:02:08</td>\n",
       "      <td>...</td>\n",
       "      <td>9.0</td>\n",
       "      <td>19.0</td>\n",
       "      <td>1970-01-01T00:00:00</td>\n",
       "      <td>1.0</td>\n",
       "      <td>0.0</td>\n",
       "      <td>10.0</td>\n",
       "      <td>10.0</td>\n",
       "      <td>527773.0</td>\n",
       "      <td>5877a28a8d8fb54760d02598</td>\n",
       "      <td>customer</td>\n",
       "    </tr>\n",
       "    <tr>\n",
       "      <th>1</th>\n",
       "      <td>68000.0</td>\n",
       "      <td>saturday</td>\n",
       "      <td>1.0</td>\n",
       "      <td>1.0</td>\n",
       "      <td>2017-02-23T03:20:49</td>\n",
       "      <td>2014-02-20T18:26:02</td>\n",
       "      <td>0.0</td>\n",
       "      <td>68000.0</td>\n",
       "      <td>mandiri clickpay</td>\n",
       "      <td>2016-08-13T00:39:20</td>\n",
       "      <td>...</td>\n",
       "      <td>6.0</td>\n",
       "      <td>15.0</td>\n",
       "      <td>1970-01-01T00:00:00</td>\n",
       "      <td>4.0</td>\n",
       "      <td>904.0</td>\n",
       "      <td>30.0</td>\n",
       "      <td>9.0</td>\n",
       "      <td>68000.0</td>\n",
       "      <td>5776af877b685136788b7152</td>\n",
       "      <td>customer</td>\n",
       "    </tr>\n",
       "    <tr>\n",
       "      <th>2</th>\n",
       "      <td>95000.0</td>\n",
       "      <td>wednesday</td>\n",
       "      <td>7.0</td>\n",
       "      <td>3.0</td>\n",
       "      <td>2017-02-14T13:00:24</td>\n",
       "      <td>2016-08-24T02:41:18</td>\n",
       "      <td>1.0</td>\n",
       "      <td>120000.0</td>\n",
       "      <td>briva</td>\n",
       "      <td>2016-10-02T11:47:47</td>\n",
       "      <td>...</td>\n",
       "      <td>8.0</td>\n",
       "      <td>18.0</td>\n",
       "      <td>2016-11-14T22:01:48</td>\n",
       "      <td>1.0</td>\n",
       "      <td>0.0</td>\n",
       "      <td>29.0</td>\n",
       "      <td>10.0</td>\n",
       "      <td>285000.0</td>\n",
       "      <td>57bd094e8dbb1b1c038b456d</td>\n",
       "      <td>customer</td>\n",
       "    </tr>\n",
       "    <tr>\n",
       "      <th>3</th>\n",
       "      <td>102250.0</td>\n",
       "      <td>saturday</td>\n",
       "      <td>15.0</td>\n",
       "      <td>4.0</td>\n",
       "      <td>2017-02-16T04:55:52</td>\n",
       "      <td>2016-09-02T09:50:07</td>\n",
       "      <td>0.0</td>\n",
       "      <td>176000.0</td>\n",
       "      <td>indomaret</td>\n",
       "      <td>2016-10-28T12:48:35</td>\n",
       "      <td>...</td>\n",
       "      <td>9.0</td>\n",
       "      <td>18.0</td>\n",
       "      <td>2016-11-16T01:27:27</td>\n",
       "      <td>17.0</td>\n",
       "      <td>40.0</td>\n",
       "      <td>391.0</td>\n",
       "      <td>9.0</td>\n",
       "      <td>204500.0</td>\n",
       "      <td>57c94b4f8dbb1b90c68b456c</td>\n",
       "      <td>customer</td>\n",
       "    </tr>\n",
       "    <tr>\n",
       "      <th>4</th>\n",
       "      <td>97500.0</td>\n",
       "      <td>friday</td>\n",
       "      <td>12.0</td>\n",
       "      <td>3.0</td>\n",
       "      <td>2017-02-23T03:22:13</td>\n",
       "      <td>2016-02-12T18:32:20</td>\n",
       "      <td>0.0</td>\n",
       "      <td>100000.0</td>\n",
       "      <td>transfer bank</td>\n",
       "      <td>2016-11-29T11:53:38</td>\n",
       "      <td>...</td>\n",
       "      <td>9.0</td>\n",
       "      <td>18.0</td>\n",
       "      <td>2016-11-20T13:29:34</td>\n",
       "      <td>16.0</td>\n",
       "      <td>286.0</td>\n",
       "      <td>594.0</td>\n",
       "      <td>9.0</td>\n",
       "      <td>195000.0</td>\n",
       "      <td>57ac5f2b8dbb1b002f8b4587</td>\n",
       "      <td>customer</td>\n",
       "    </tr>\n",
       "  </tbody>\n",
       "</table>\n",
       "<p>5 rows × 32 columns</p>\n",
       "</div>"
      ],
      "text/plain": [
       "   average_order_value   best_day  best_hour  between_7_to_8_gmt  \\\n",
       "0             175924.3  wednesday        5.0                 1.0   \n",
       "1              68000.0   saturday        1.0                 1.0   \n",
       "2              95000.0  wednesday        7.0                 3.0   \n",
       "3             102250.0   saturday       15.0                 4.0   \n",
       "4              97500.0     friday       12.0                 3.0   \n",
       "\n",
       "  email_last_send_date      first_seen_date  frequency_score  \\\n",
       "0  2017-02-23T03:20:52  2017-01-12T15:36:41              1.0   \n",
       "1  2017-02-23T03:20:49  2014-02-20T18:26:02              0.0   \n",
       "2  2017-02-14T13:00:24  2016-08-24T02:41:18              1.0   \n",
       "3  2017-02-16T04:55:52  2016-09-02T09:50:07              0.0   \n",
       "4  2017-02-23T03:22:13  2016-02-12T18:32:20              0.0   \n",
       "\n",
       "   highest_order_value          last_payment_method   last_purchase_date  \\\n",
       "0             349800.0  payment_method_atm_transfer  2017-02-03T09:02:08   \n",
       "1              68000.0             mandiri clickpay  2016-08-13T00:39:20   \n",
       "2             120000.0                        briva  2016-10-02T11:47:47   \n",
       "3             176000.0                    indomaret  2016-10-28T12:48:35   \n",
       "4             100000.0                transfer bank  2016-11-29T11:53:38   \n",
       "\n",
       "     ...     recency_score rfm_total_score  segmentation_last_process_date  \\\n",
       "0    ...               9.0            19.0             1970-01-01T00:00:00   \n",
       "1    ...               6.0            15.0             1970-01-01T00:00:00   \n",
       "2    ...               8.0            18.0             2016-11-14T22:01:48   \n",
       "3    ...               9.0            18.0             2016-11-16T01:27:27   \n",
       "4    ...               9.0            18.0             2016-11-20T13:29:34   \n",
       "\n",
       "   session_on_sunday  time_to_first_purchase  total_event_done  \\\n",
       "0                1.0                     0.0              10.0   \n",
       "1                4.0                   904.0              30.0   \n",
       "2                1.0                     0.0              29.0   \n",
       "3               17.0                    40.0             391.0   \n",
       "4               16.0                   286.0             594.0   \n",
       "\n",
       "   total_frequency_monetary  total_revenue                   user_id  user_tag  \n",
       "0                      10.0       527773.0  5877a28a8d8fb54760d02598  customer  \n",
       "1                       9.0        68000.0  5776af877b685136788b7152  customer  \n",
       "2                      10.0       285000.0  57bd094e8dbb1b1c038b456d  customer  \n",
       "3                       9.0       204500.0  57c94b4f8dbb1b90c68b456c  customer  \n",
       "4                       9.0       195000.0  57ac5f2b8dbb1b002f8b4587  customer  \n",
       "\n",
       "[5 rows x 32 columns]"
      ]
     },
     "execution_count": 2,
     "metadata": {},
     "output_type": "execute_result"
    }
   ],
   "source": [
    "t = pd.read_csv('/home/jovyan/work/SampleProjects/db/sample_3849_32.csv', sep=',',index_col=0)\n",
    "t.head(5)"
   ]
  },
  {
   "cell_type": "code",
   "execution_count": 3,
   "metadata": {},
   "outputs": [
    {
     "data": {
      "text/plain": [
       "Index(['average_order_value', 'best_day', 'best_hour', 'between_7_to_8_gmt',\n",
       "       'email_last_send_date', 'first_seen_date', 'frequency_score',\n",
       "       'highest_order_value', 'last_payment_method', 'last_purchase_date',\n",
       "       'last_purchase_value', 'last_seen_date', 'lifecycle_id',\n",
       "       'lowest_order_value', 'monetary_score', 'orders_with_promo_count',\n",
       "       'orders_with_promo_percent', 'orders_without_promo_count',\n",
       "       'orders_without_promo_percent', 'pin_code', 'purchased',\n",
       "       'push_last_send_date', 'recency_score', 'rfm_total_score',\n",
       "       'segmentation_last_process_date', 'session_on_sunday',\n",
       "       'time_to_first_purchase', 'total_event_done',\n",
       "       'total_frequency_monetary', 'total_revenue', 'user_id', 'user_tag'],\n",
       "      dtype='object')"
      ]
     },
     "execution_count": 3,
     "metadata": {},
     "output_type": "execute_result"
    }
   ],
   "source": [
    "t.columns"
   ]
  },
  {
   "cell_type": "code",
   "execution_count": 4,
   "metadata": {},
   "outputs": [
    {
     "name": "stdout",
     "output_type": "stream",
     "text": [
      "<class 'pandas.core.frame.DataFrame'>\n",
      "Int64Index: 3849 entries, 0 to 3848\n",
      "Data columns (total 32 columns):\n",
      "average_order_value               3849 non-null float64\n",
      "best_day                          3849 non-null object\n",
      "best_hour                         3849 non-null float64\n",
      "between_7_to_8_gmt                3849 non-null float64\n",
      "email_last_send_date              3849 non-null object\n",
      "first_seen_date                   3849 non-null object\n",
      "frequency_score                   3849 non-null float64\n",
      "highest_order_value               3849 non-null float64\n",
      "last_payment_method               3849 non-null object\n",
      "last_purchase_date                3849 non-null object\n",
      "last_purchase_value               3849 non-null float64\n",
      "last_seen_date                    3849 non-null object\n",
      "lifecycle_id                      3849 non-null float64\n",
      "lowest_order_value                3849 non-null float64\n",
      "monetary_score                    3849 non-null float64\n",
      "orders_with_promo_count           3849 non-null float64\n",
      "orders_with_promo_percent         3849 non-null float64\n",
      "orders_without_promo_count        3849 non-null float64\n",
      "orders_without_promo_percent      3849 non-null float64\n",
      "pin_code                          3849 non-null int64\n",
      "purchased                         3849 non-null float64\n",
      "push_last_send_date               3849 non-null object\n",
      "recency_score                     3849 non-null float64\n",
      "rfm_total_score                   3849 non-null float64\n",
      "segmentation_last_process_date    3849 non-null object\n",
      "session_on_sunday                 3849 non-null float64\n",
      "time_to_first_purchase            3849 non-null float64\n",
      "total_event_done                  3849 non-null float64\n",
      "total_frequency_monetary          3849 non-null float64\n",
      "total_revenue                     3849 non-null float64\n",
      "user_id                           3849 non-null object\n",
      "user_tag                          3849 non-null object\n",
      "dtypes: float64(21), int64(1), object(10)\n",
      "memory usage: 992.3+ KB\n"
     ]
    }
   ],
   "source": [
    "t.info()"
   ]
  },
  {
   "cell_type": "code",
   "execution_count": 5,
   "metadata": {},
   "outputs": [],
   "source": [
    "t['lifecyleName'] = np.where(t['lifecycle_id']==19498, 'Contact', '')\n",
    "t['lifecyleName'] = np.where(t['lifecycle_id']==19509, 'New_Promising_Customer',t['lifecyleName'])\n",
    "t['lifecyleName'] = np.where(t['lifecycle_id']==19499, 'New_Customer',t['lifecyleName'])\n",
    "t['lifecyleName'] = np.where(t['lifecycle_id']==19500, 'Active_One_Time_buyer',t['lifecyleName'])\n",
    "t['lifecyleName'] = np.where(t['lifecycle_id']==19506, 'Active_Loyal',t['lifecyleName'])\n",
    "t['lifecyleName'] = np.where(t['lifecycle_id']==19503, 'Active_Repeat',t['lifecyleName'])\n",
    "t['lifecyleName'] = np.where(t['lifecycle_id']==19502, 'Lost_One_Time_buyer',t['lifecyleName'])\n",
    "t['lifecyleName'] = np.where(t['lifecycle_id']==19501, 'Risk_One_Time_buyer',t['lifecyleName'])\n",
    "t['lifecyleName'] = np.where(t['lifecycle_id']==19505, 'Lost_repeat',t['lifecyleName'])\n",
    "t['lifecyleName'] = np.where(t['lifecycle_id']==19504, 'Risk_repeat',t['lifecyleName'])\n",
    "t['lifecyleName'] = np.where(t['lifecycle_id']==19507, 'Risk_Loyal',t['lifecyleName'])\n",
    "t['lifecyleName'] = np.where(t['lifecycle_id']==19508, 'Lost_Loyal',t['lifecyleName'])"
   ]
  },
  {
   "cell_type": "code",
   "execution_count": 6,
   "metadata": {},
   "outputs": [
    {
     "data": {
      "text/plain": [
       "0       New_Promising_Customer\n",
       "1          Lost_One_Time_buyer\n",
       "2                  Lost_repeat\n",
       "3                  Risk_repeat\n",
       "4                  Risk_repeat\n",
       "5                  Risk_repeat\n",
       "6                   Lost_Loyal\n",
       "7          Risk_One_Time_buyer\n",
       "8          Lost_One_Time_buyer\n",
       "9                Active_Repeat\n",
       "10       Active_One_Time_buyer\n",
       "11      New_Promising_Customer\n",
       "12      New_Promising_Customer\n",
       "13      New_Promising_Customer\n",
       "14      New_Promising_Customer\n",
       "15      New_Promising_Customer\n",
       "16         Lost_One_Time_buyer\n",
       "17      New_Promising_Customer\n",
       "18      New_Promising_Customer\n",
       "19       Active_One_Time_buyer\n",
       "20      New_Promising_Customer\n",
       "21      New_Promising_Customer\n",
       "22         Lost_One_Time_buyer\n",
       "23      New_Promising_Customer\n",
       "24      New_Promising_Customer\n",
       "25                 Risk_repeat\n",
       "26                Active_Loyal\n",
       "27      New_Promising_Customer\n",
       "28      New_Promising_Customer\n",
       "29               Active_Repeat\n",
       "                 ...          \n",
       "3819    New_Promising_Customer\n",
       "3820     Active_One_Time_buyer\n",
       "3821               Risk_repeat\n",
       "3822    New_Promising_Customer\n",
       "3823              Active_Loyal\n",
       "3824             Active_Repeat\n",
       "3825               Lost_repeat\n",
       "3826              Active_Loyal\n",
       "3827               Lost_repeat\n",
       "3828                Lost_Loyal\n",
       "3829    New_Promising_Customer\n",
       "3830              New_Customer\n",
       "3831    New_Promising_Customer\n",
       "3832    New_Promising_Customer\n",
       "3833              Active_Loyal\n",
       "3834    New_Promising_Customer\n",
       "3835             Active_Repeat\n",
       "3836              Active_Loyal\n",
       "3837             Active_Repeat\n",
       "3838              Active_Loyal\n",
       "3839              Active_Loyal\n",
       "3840    New_Promising_Customer\n",
       "3841              Active_Loyal\n",
       "3842              Active_Loyal\n",
       "3843       Lost_One_Time_buyer\n",
       "3844              Active_Loyal\n",
       "3845    New_Promising_Customer\n",
       "3846    New_Promising_Customer\n",
       "3847              Active_Loyal\n",
       "3848    New_Promising_Customer\n",
       "Name: lifecyleName, dtype: object"
      ]
     },
     "execution_count": 6,
     "metadata": {},
     "output_type": "execute_result"
    }
   ],
   "source": [
    "t['lifecyleName']"
   ]
  },
  {
   "cell_type": "code",
   "execution_count": 7,
   "metadata": {},
   "outputs": [
    {
     "data": {
      "text/plain": [
       "0   175924.3\n",
       "1    68000.0\n",
       "2    95000.0\n",
       "3   102250.0\n",
       "4    97500.0\n",
       "Name: average_order_value, dtype: float64"
      ]
     },
     "execution_count": 7,
     "metadata": {},
     "output_type": "execute_result"
    }
   ],
   "source": [
    "t.average_order_value.head(5)"
   ]
  },
  {
   "cell_type": "code",
   "execution_count": 8,
   "metadata": {},
   "outputs": [
    {
     "data": {
      "text/plain": [
       "count       3849.0\n",
       "mean      415742.8\n",
       "std      1053079.1\n",
       "min         4050.0\n",
       "25%        87700.0\n",
       "50%       156600.0\n",
       "75%       347928.6\n",
       "max     22491154.1\n",
       "Name: average_order_value, dtype: float64"
      ]
     },
     "execution_count": 8,
     "metadata": {},
     "output_type": "execute_result"
    }
   ],
   "source": [
    "t.average_order_value.describe()\n"
   ]
  },
  {
   "cell_type": "code",
   "execution_count": 9,
   "metadata": {},
   "outputs": [
    {
     "data": {
      "image/png": "[encoded data removed]",
      "text/plain": [
       "<matplotlib.figure.Figure at 0x7fd71aa1d1d0>"
      ]
     },
     "metadata": {},
     "output_type": "display_data"
    }
   ],
   "source": [
    "vis1 = sns.distplot(t.average_order_value[(t.average_order_value<500000) & (t.average_order_value>100) ])\n"
   ]
  },
  {
   "cell_type": "code",
   "execution_count": 11,
   "metadata": {},
   "outputs": [
    {
     "data": {
      "image/png": "[encoded data removed]",
      "text/plain": [
       "<matplotlib.figure.Figure at 0x7fd71a9495f8>"
      ]
     },
     "metadata": {},
     "output_type": "display_data"
    }
   ],
   "source": [
    "sns.boxplot(y=t.average_order_value[(t.average_order_value<1000000) & (t.average_order_value>100) ], \n",
    "                   x =t.lifecyleName).set_xticklabels(t.lifecyleName, rotation=90)\n",
    "plt.show()\n"
   ]
  }
 ],
 "metadata": {
  "kernelspec": {
   "display_name": "Python 3",
   "language": "python",
   "name": "python3"
  },
  "language_info": {
   "codemirror_mode": {
    "name": "ipython",
    "version": 3
   },
   "file_extension": ".py",
   "mimetype": "text/x-python",
   "name": "python",
   "nbconvert_exporter": "python",
   "pygments_lexer": "ipython3",
   "version": "3.5.2"
  }
 },
 "nbformat": 4,
 "nbformat_minor": 2
}
