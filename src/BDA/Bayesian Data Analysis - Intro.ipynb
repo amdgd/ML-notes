{
 "cells": [
  {
   "cell_type": "markdown",
   "metadata": {},
   "source": [
    "## What is BDA (Bayesian Data Analysis)\n",
    "- When you use probability to represent uncertainity in your statistical model\n",
    "- A flexible extenstion of maximum likelihood\n",
    "- The most information efficient and most computational intensive\n",
    "\n",
    "#### It requires three things \n",
    "- Data\n",
    "- A generative model\n",
    "- Priors (prior probability distribution)"
   ]
  },
  {
   "cell_type": "code",
   "execution_count": null,
   "metadata": {
    "collapsed": true
   },
   "outputs": [],
   "source": []
  }
 ],
 "metadata": {
  "kernelspec": {
   "display_name": "Python 3",
   "language": "python",
   "name": "python3"
  },
  "language_info": {
   "codemirror_mode": {
    "name": "ipython",
    "version": 3
   },
   "file_extension": ".py",
   "mimetype": "text/x-python",
   "name": "python",
   "nbconvert_exporter": "python",
   "pygments_lexer": "ipython3",
   "version": "3.5.2"
  }
 },
 "nbformat": 4,
 "nbformat_minor": 2
}
