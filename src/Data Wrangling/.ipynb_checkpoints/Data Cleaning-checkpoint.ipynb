{
 "cells": [
  {
   "cell_type": "markdown",
   "metadata": {},
   "source": [
    "## Missing Data\n",
    "There will be times, when the data you  have imported has missing values, NaN or zero values. You can take care of that be following any/some of these steps."
   ]
  },
  {
   "cell_type": "code",
   "execution_count": 1,
   "metadata": {
    "collapsed": true
   },
   "outputs": [],
   "source": [
    "#import pandas\n",
    "import pandas as pd"
   ]
  },
  {
   "cell_type": "markdown",
   "metadata": {},
   "source": [
    "## Reading a CSV"
   ]
  },
  {
   "cell_type": "code",
   "execution_count": 2,
   "metadata": {
    "collapsed": false
   },
   "outputs": [
    {
     "name": "stdout",
     "output_type": "stream",
     "text": [
      "<class 'pandas.core.frame.DataFrame'>\n",
      "RangeIndex: 9576 entries, 0 to 9575\n",
      "Data columns (total 10 columns):\n",
      "car             9576 non-null object\n",
      "price           9576 non-null float64\n",
      "body            9576 non-null object\n",
      "mileage         9576 non-null int64\n",
      "engV            9142 non-null float64\n",
      "engType         9576 non-null object\n",
      "registration    9576 non-null object\n",
      "year            9576 non-null int64\n",
      "model           9576 non-null object\n",
      "drive           9065 non-null object\n",
      "dtypes: float64(2), int64(2), object(6)\n",
      "memory usage: 748.2+ KB\n"
     ]
    }
   ],
   "source": [
    "car_dataset_url ='https://raw.githubusercontent.com/ankitind/sample_datasets/master/car_ad.csv'\n",
    "car_ads = pd.read_csv(car_dataset_url, header=0)\n",
    "\n",
    "\n"
   ]
  },
  {
   "cell_type": "markdown",
   "metadata": {},
   "source": [
    "## Lets understand the data first"
   ]
  },
  {
   "cell_type": "code",
   "execution_count": 6,
   "metadata": {
    "collapsed": false,
    "scrolled": false
   },
   "outputs": [
    {
     "data": {
      "text/html": [
       "<div>\n",
       "<table border=\"1\" class=\"dataframe\">\n",
       "  <thead>\n",
       "    <tr style=\"text-align: right;\">\n",
       "      <th></th>\n",
       "      <th>price</th>\n",
       "      <th>mileage</th>\n",
       "      <th>engV</th>\n",
       "      <th>year</th>\n",
       "    </tr>\n",
       "  </thead>\n",
       "  <tbody>\n",
       "    <tr>\n",
       "      <th>count</th>\n",
       "      <td>8739.000000</td>\n",
       "      <td>8739.000000</td>\n",
       "      <td>8739.000000</td>\n",
       "      <td>8739.000000</td>\n",
       "    </tr>\n",
       "    <tr>\n",
       "      <th>mean</th>\n",
       "      <td>15733.542261</td>\n",
       "      <td>140.095434</td>\n",
       "      <td>2.588607</td>\n",
       "      <td>2006.609681</td>\n",
       "    </tr>\n",
       "    <tr>\n",
       "      <th>std</th>\n",
       "      <td>24252.904810</td>\n",
       "      <td>97.892213</td>\n",
       "      <td>5.416670</td>\n",
       "      <td>6.968947</td>\n",
       "    </tr>\n",
       "    <tr>\n",
       "      <th>min</th>\n",
       "      <td>0.000000</td>\n",
       "      <td>0.000000</td>\n",
       "      <td>0.100000</td>\n",
       "      <td>1959.000000</td>\n",
       "    </tr>\n",
       "    <tr>\n",
       "      <th>25%</th>\n",
       "      <td>5000.000000</td>\n",
       "      <td>71.000000</td>\n",
       "      <td>1.600000</td>\n",
       "      <td>2004.000000</td>\n",
       "    </tr>\n",
       "    <tr>\n",
       "      <th>50%</th>\n",
       "      <td>9250.000000</td>\n",
       "      <td>130.000000</td>\n",
       "      <td>2.000000</td>\n",
       "      <td>2008.000000</td>\n",
       "    </tr>\n",
       "    <tr>\n",
       "      <th>75%</th>\n",
       "      <td>16800.000000</td>\n",
       "      <td>195.500000</td>\n",
       "      <td>2.500000</td>\n",
       "      <td>2012.000000</td>\n",
       "    </tr>\n",
       "    <tr>\n",
       "      <th>max</th>\n",
       "      <td>547800.000000</td>\n",
       "      <td>999.000000</td>\n",
       "      <td>99.990000</td>\n",
       "      <td>2016.000000</td>\n",
       "    </tr>\n",
       "  </tbody>\n",
       "</table>\n",
       "</div>"
      ],
      "text/plain": [
       "               price      mileage         engV         year\n",
       "count    8739.000000  8739.000000  8739.000000  8739.000000\n",
       "mean    15733.542261   140.095434     2.588607  2006.609681\n",
       "std     24252.904810    97.892213     5.416670     6.968947\n",
       "min         0.000000     0.000000     0.100000  1959.000000\n",
       "25%      5000.000000    71.000000     1.600000  2004.000000\n",
       "50%      9250.000000   130.000000     2.000000  2008.000000\n",
       "75%     16800.000000   195.500000     2.500000  2012.000000\n",
       "max    547800.000000   999.000000    99.990000  2016.000000"
      ]
     },
     "execution_count": 6,
     "metadata": {},
     "output_type": "execute_result"
    }
   ],
   "source": [
    "car_ads.dropna().describe()"
   ]
  },
  {
   "cell_type": "code",
   "execution_count": 21,
   "metadata": {
    "collapsed": false
   },
   "outputs": [
    {
     "data": {
      "text/html": [
       "<div>\n",
       "<table border=\"1\" class=\"dataframe\">\n",
       "  <thead>\n",
       "    <tr style=\"text-align: right;\">\n",
       "      <th></th>\n",
       "      <th>car</th>\n",
       "      <th>body</th>\n",
       "      <th>engType</th>\n",
       "      <th>registration</th>\n",
       "      <th>model</th>\n",
       "      <th>drive</th>\n",
       "    </tr>\n",
       "  </thead>\n",
       "  <tbody>\n",
       "    <tr>\n",
       "      <th>count</th>\n",
       "      <td>8739</td>\n",
       "      <td>8739</td>\n",
       "      <td>8739</td>\n",
       "      <td>8739</td>\n",
       "      <td>8739</td>\n",
       "      <td>8739</td>\n",
       "    </tr>\n",
       "    <tr>\n",
       "      <th>unique</th>\n",
       "      <td>83</td>\n",
       "      <td>6</td>\n",
       "      <td>4</td>\n",
       "      <td>2</td>\n",
       "      <td>827</td>\n",
       "      <td>3</td>\n",
       "    </tr>\n",
       "    <tr>\n",
       "      <th>top</th>\n",
       "      <td>Volkswagen</td>\n",
       "      <td>sedan</td>\n",
       "      <td>Petrol</td>\n",
       "      <td>yes</td>\n",
       "      <td>E-Class</td>\n",
       "      <td>front</td>\n",
       "    </tr>\n",
       "    <tr>\n",
       "      <th>freq</th>\n",
       "      <td>860</td>\n",
       "      <td>3321</td>\n",
       "      <td>4065</td>\n",
       "      <td>8236</td>\n",
       "      <td>182</td>\n",
       "      <td>4973</td>\n",
       "    </tr>\n",
       "  </tbody>\n",
       "</table>\n",
       "</div>"
      ],
      "text/plain": [
       "               car   body engType registration    model  drive\n",
       "count         8739   8739    8739         8739     8739   8739\n",
       "unique          83      6       4            2      827      3\n",
       "top     Volkswagen  sedan  Petrol          yes  E-Class  front\n",
       "freq           860   3321    4065         8236      182   4973"
      ]
     },
     "execution_count": 21,
     "metadata": {},
     "output_type": "execute_result"
    }
   ],
   "source": [
    "car_ads.dropna().describe(include=['object'])"
   ]
  },
  {
   "cell_type": "code",
   "execution_count": 10,
   "metadata": {
    "collapsed": false
   },
   "outputs": [
    {
     "data": {
      "text/plain": [
       "(9576, 10)"
      ]
     },
     "execution_count": 10,
     "metadata": {},
     "output_type": "execute_result"
    }
   ],
   "source": [
    "#Shape will give a tuple to tell how many rows and columns\n",
    "car_ads.shape\n"
   ]
  },
  {
   "cell_type": "code",
   "execution_count": 15,
   "metadata": {
    "collapsed": false
   },
   "outputs": [
    {
     "data": {
      "text/plain": [
       "car              object\n",
       "price           float64\n",
       "body             object\n",
       "mileage           int64\n",
       "engV            float64\n",
       "engType          object\n",
       "registration     object\n",
       "year              int64\n",
       "model            object\n",
       "drive            object\n",
       "dtype: object"
      ]
     },
     "execution_count": 15,
     "metadata": {},
     "output_type": "execute_result"
    }
   ],
   "source": [
    "car_ads.dtypes"
   ]
  },
  {
   "cell_type": "markdown",
   "metadata": {},
   "source": [
    "### Finding rows(observations) with null or NaN values"
   ]
  },
  {
   "cell_type": "code",
   "execution_count": 249,
   "metadata": {
    "collapsed": false
   },
   "outputs": [
    {
     "name": "stdout",
     "output_type": "stream",
     "text": [
      "<class 'pandas.core.frame.DataFrame'>\n",
      "Int64Index: 511 entries, 4 to 9566\n",
      "Data columns (total 10 columns):\n",
      "car             511 non-null object\n",
      "price           511 non-null float64\n",
      "body            511 non-null object\n",
      "mileage         511 non-null int64\n",
      "engV            403 non-null float64\n",
      "engType         511 non-null object\n",
      "registration    511 non-null object\n",
      "year            511 non-null int64\n",
      "model           511 non-null object\n",
      "drive           0 non-null object\n",
      "dtypes: float64(2), int64(2), object(6)\n",
      "memory usage: 43.9+ KB\n"
     ]
    }
   ],
   "source": [
    "\n",
    "car_ads[pd.isnull(car_ads['drive'])].info()"
   ]
  },
  {
   "cell_type": "code",
   "execution_count": null,
   "metadata": {
    "collapsed": false
   },
   "outputs": [],
   "source": [
    "car_ads[pd.isnull(car_ads['drive'])]\n",
    "\n",
    "\n"
   ]
  },
  {
   "cell_type": "markdown",
   "metadata": {},
   "source": [
    "### Columns than have all non-zero Values"
   ]
  },
  {
   "cell_type": "code",
   "execution_count": 266,
   "metadata": {
    "collapsed": false,
    "scrolled": true
   },
   "outputs": [
    {
     "data": {
      "text/plain": [
       "car              True\n",
       "price           False\n",
       "body             True\n",
       "mileage         False\n",
       "engV             True\n",
       "engType          True\n",
       "registration     True\n",
       "year             True\n",
       "model            True\n",
       "drive            True\n",
       "dtype: bool"
      ]
     },
     "execution_count": 266,
     "metadata": {},
     "output_type": "execute_result"
    }
   ],
   "source": [
    "car_ads.all()"
   ]
  },
  {
   "cell_type": "markdown",
   "metadata": {},
   "source": [
    "### Columns than have any non-zero Values"
   ]
  },
  {
   "cell_type": "code",
   "execution_count": 267,
   "metadata": {
    "collapsed": false,
    "scrolled": true
   },
   "outputs": [
    {
     "data": {
      "text/plain": [
       "car             True\n",
       "price           True\n",
       "body            True\n",
       "mileage         True\n",
       "engV            True\n",
       "engType         True\n",
       "registration    True\n",
       "year            True\n",
       "model           True\n",
       "drive           True\n",
       "dtype: bool"
      ]
     },
     "execution_count": 267,
     "metadata": {},
     "output_type": "execute_result"
    }
   ],
   "source": [
    "car_ads.any()"
   ]
  },
  {
   "cell_type": "markdown",
   "metadata": {},
   "source": [
    "### Which rows or columns have NaN"
   ]
  },
  {
   "cell_type": "code",
   "execution_count": 269,
   "metadata": {
    "collapsed": false
   },
   "outputs": [
    {
     "data": {
      "text/plain": [
       "car             False\n",
       "price           False\n",
       "body            False\n",
       "mileage         False\n",
       "engV             True\n",
       "engType         False\n",
       "registration    False\n",
       "year            False\n",
       "model           False\n",
       "drive            True\n",
       "dtype: bool"
      ]
     },
     "execution_count": 269,
     "metadata": {},
     "output_type": "execute_result"
    }
   ],
   "source": [
    "car_ads.isnull().any()"
   ]
  },
  {
   "cell_type": "markdown",
   "metadata": {},
   "source": [
    "### Which rows or columns have no Nan"
   ]
  },
  {
   "cell_type": "code",
   "execution_count": 271,
   "metadata": {
    "collapsed": false
   },
   "outputs": [
    {
     "data": {
      "text/plain": [
       "car              True\n",
       "price            True\n",
       "body             True\n",
       "mileage          True\n",
       "engV            False\n",
       "engType          True\n",
       "registration     True\n",
       "year             True\n",
       "model            True\n",
       "drive           False\n",
       "dtype: bool"
      ]
     },
     "execution_count": 271,
     "metadata": {},
     "output_type": "execute_result"
    }
   ],
   "source": [
    "car_ads.notnull().all()"
   ]
  },
  {
   "cell_type": "markdown",
   "metadata": {},
   "source": [
    "### Drop Rows with NaN dropna()"
   ]
  },
  {
   "cell_type": "code",
   "execution_count": 289,
   "metadata": {
    "collapsed": false
   },
   "outputs": [
    {
     "name": "stdout",
     "output_type": "stream",
     "text": [
      "<class 'pandas.core.frame.DataFrame'>\n",
      "Int64Index: 8739 entries, 0 to 9575\n",
      "Data columns (total 10 columns):\n",
      "car             8739 non-null object\n",
      "price           8739 non-null float64\n",
      "body            8739 non-null object\n",
      "mileage         8739 non-null int64\n",
      "engV            8739 non-null float64\n",
      "engType         8739 non-null object\n",
      "registration    8739 non-null object\n",
      "year            8739 non-null int64\n",
      "model           8739 non-null object\n",
      "drive           8739 non-null object\n",
      "dtypes: float64(2), int64(2), object(6)\n",
      "memory usage: 751.0+ KB\n",
      "---\n",
      "<class 'pandas.core.frame.DataFrame'>\n",
      "Int64Index: 9576 entries, 0 to 9575\n",
      "Data columns (total 10 columns):\n",
      "car             9576 non-null object\n",
      "price           9576 non-null float64\n",
      "body            9576 non-null object\n",
      "mileage         9576 non-null int64\n",
      "engV            9142 non-null float64\n",
      "engType         9576 non-null object\n",
      "registration    9576 non-null object\n",
      "year            9576 non-null int64\n",
      "model           9576 non-null object\n",
      "drive           9065 non-null object\n",
      "dtypes: float64(2), int64(2), object(6)\n",
      "memory usage: 822.9+ KB\n"
     ]
    }
   ],
   "source": [
    "car_ads_no_missing_dropped_any = car_ads.dropna(how='any')\n",
    "car_ads_no_missing_dropped_all = car_ads.dropna(how='all')\n",
    "car_ads_no_missing_dropped_any.info()\n",
    "print(\"---\")\n",
    "car_ads_no_missing_dropped_all.info()"
   ]
  },
  {
   "cell_type": "markdown",
   "metadata": {},
   "source": [
    "### Using Thresholf in dataframes\n",
    "thresh= keyword argument to drop columns from the full dataset that have more than 1000 missing values."
   ]
  },
  {
   "cell_type": "code",
   "execution_count": 318,
   "metadata": {
    "collapsed": false
   },
   "outputs": [
    {
     "name": "stdout",
     "output_type": "stream",
     "text": [
      "             car    price       body  mileage  engV engType registration  \\\n",
      "0           Ford  15500.0  crossover       68   2.5     Gas          yes   \n",
      "1  Mercedes-Benz  20500.0      sedan      173   1.8     Gas          yes   \n",
      "2  Mercedes-Benz  35000.0      other      135   5.5  Petrol          yes   \n",
      "3  Mercedes-Benz  17800.0        van      162   1.8  Diesel          yes   \n",
      "4  Mercedes-Benz  33000.0      vagon       91   NaN   Other          yes   \n",
      "\n",
      "   year    model  drive  \n",
      "0  2010     Kuga   full  \n",
      "1  2011  E-Class   rear  \n",
      "2  2008   CL 550   rear  \n",
      "3  2012    B 180  front  \n",
      "4  2013  E-Class    NaN  \n",
      "---\n",
      "             car    price       body  mileage engType registration  year  \\\n",
      "0           Ford  15500.0  crossover       68     Gas          yes  2010   \n",
      "1  Mercedes-Benz  20500.0      sedan      173     Gas          yes  2011   \n",
      "2  Mercedes-Benz  35000.0      other      135  Petrol          yes  2008   \n",
      "3  Mercedes-Benz  17800.0        van      162  Diesel          yes  2012   \n",
      "4  Mercedes-Benz  33000.0      vagon       91   Other          yes  2013   \n",
      "\n",
      "     model  \n",
      "0     Kuga  \n",
      "1  E-Class  \n",
      "2   CL 550  \n",
      "3    B 180  \n",
      "4  E-Class  \n"
     ]
    }
   ],
   "source": [
    "print(car_ads.head())\n",
    "print(\"---\")\n",
    "car_ads_no_missing_dropped_col = car_ads.dropna(thresh=9500, axis='columns')\n",
    "print(car_ads_no_missing_dropped_col.head())"
   ]
  },
  {
   "cell_type": "code",
   "execution_count": null,
   "metadata": {
    "collapsed": true
   },
   "outputs": [],
   "source": []
  }
 ],
 "metadata": {
  "anaconda-cloud": {
   "attach-environment": true,
   "url": "https://anaconda.org/ankitind/missing-data-in-dataframes"
  },
  "kernelspec": {
   "display_name": "Python 3",
   "language": "python",
   "name": "python3"
  },
  "language_info": {
   "codemirror_mode": {
    "name": "ipython",
    "version": 3
   },
   "file_extension": ".py",
   "mimetype": "text/x-python",
   "name": "python",
   "nbconvert_exporter": "python",
   "pygments_lexer": "ipython3",
   "version": "3.5.1"
  }
 },
 "nbformat": 4,
 "nbformat_minor": 1
}
