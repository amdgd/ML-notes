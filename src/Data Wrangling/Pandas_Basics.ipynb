{
 "cells": [
  {
   "cell_type": "markdown",
   "metadata": {},
   "source": [
    "## Series\n",
    "A one-dimensional labeled array capable of holding any data type "
   ]
  },
  {
   "cell_type": "code",
   "execution_count": 1,
   "metadata": {
    "collapsed": true
   },
   "outputs": [],
   "source": [
    "#import pandas\n",
    "import pandas as pd\n",
    "#import numpy\n",
    "import numpy as np"
   ]
  },
  {
   "cell_type": "code",
   "execution_count": 2,
   "metadata": {
    "collapsed": false
   },
   "outputs": [
    {
     "data": {
      "text/plain": [
       "a       india\n",
       "b    pakistan\n",
       "c       china\n",
       "dtype: object"
      ]
     },
     "execution_count": 2,
     "metadata": {},
     "output_type": "execute_result"
    }
   ],
   "source": [
    "s = pd.Series(['india','pakistan','china'], index=['a','b','c'])\n",
    "s"
   ]
  },
  {
   "cell_type": "markdown",
   "metadata": {},
   "source": [
    "## DataFrame\n",
    "\n",
    "A two-dimensional labeled data structure with columns of potentially different types"
   ]
  },
  {
   "cell_type": "markdown",
   "metadata": {},
   "source": [
    "### Creating a Dataframe with dictionary data"
   ]
  },
  {
   "cell_type": "code",
   "execution_count": 4,
   "metadata": {
    "collapsed": false
   },
   "outputs": [
    {
     "data": {
      "text/html": [
       "<div>\n",
       "<table border=\"1\" class=\"dataframe\">\n",
       "  <thead>\n",
       "    <tr style=\"text-align: right;\">\n",
       "      <th></th>\n",
       "      <th>Capital</th>\n",
       "      <th>Country</th>\n",
       "      <th>Population</th>\n",
       "    </tr>\n",
       "  </thead>\n",
       "  <tbody>\n",
       "    <tr>\n",
       "      <th>0</th>\n",
       "      <td>Brussels</td>\n",
       "      <td>Belgium</td>\n",
       "      <td>11190846</td>\n",
       "    </tr>\n",
       "    <tr>\n",
       "      <th>1</th>\n",
       "      <td>New Delhi</td>\n",
       "      <td>India</td>\n",
       "      <td>1303171035</td>\n",
       "    </tr>\n",
       "    <tr>\n",
       "      <th>2</th>\n",
       "      <td>Brasilia</td>\n",
       "      <td>Brazil</td>\n",
       "      <td>207847528</td>\n",
       "    </tr>\n",
       "  </tbody>\n",
       "</table>\n",
       "</div>"
      ],
      "text/plain": [
       "     Capital  Country  Population\n",
       "0   Brussels  Belgium    11190846\n",
       "1  New Delhi    India  1303171035\n",
       "2   Brasilia   Brazil   207847528"
      ]
     },
     "execution_count": 4,
     "metadata": {},
     "output_type": "execute_result"
    }
   ],
   "source": [
    "#Creating a dictionary 'data' with strings as keys and lists as value\n",
    "data_from_dic = {\n",
    "        'Country': ['Belgium',  'India',  'Brazil'],\n",
    "        'Capital': ['Brussels',  'New Delhi',  'Brasilia'],\n",
    "        'Population': [11190846, 1303171035, 207847528]\n",
    "        }\n",
    "df_from_dic = pd.DataFrame(data_from_dic)\n",
    "df_from_dic\n"
   ]
  },
  {
   "cell_type": "code",
   "execution_count": 13,
   "metadata": {
    "collapsed": false
   },
   "outputs": [
    {
     "data": {
      "text/html": [
       "<div>\n",
       "<table border=\"1\" class=\"dataframe\">\n",
       "  <thead>\n",
       "    <tr style=\"text-align: right;\">\n",
       "      <th></th>\n",
       "      <th>year</th>\n",
       "      <th>team</th>\n",
       "      <th>wins</th>\n",
       "      <th>losses</th>\n",
       "    </tr>\n",
       "  </thead>\n",
       "  <tbody>\n",
       "    <tr>\n",
       "      <th>0</th>\n",
       "      <td>2010</td>\n",
       "      <td>Bears</td>\n",
       "      <td>11</td>\n",
       "      <td>5</td>\n",
       "    </tr>\n",
       "    <tr>\n",
       "      <th>1</th>\n",
       "      <td>2011</td>\n",
       "      <td>Bears</td>\n",
       "      <td>8</td>\n",
       "      <td>8</td>\n",
       "    </tr>\n",
       "    <tr>\n",
       "      <th>2</th>\n",
       "      <td>2012</td>\n",
       "      <td>Bears</td>\n",
       "      <td>10</td>\n",
       "      <td>6</td>\n",
       "    </tr>\n",
       "    <tr>\n",
       "      <th>3</th>\n",
       "      <td>2011</td>\n",
       "      <td>Packers</td>\n",
       "      <td>15</td>\n",
       "      <td>1</td>\n",
       "    </tr>\n",
       "    <tr>\n",
       "      <th>4</th>\n",
       "      <td>2012</td>\n",
       "      <td>Packers</td>\n",
       "      <td>11</td>\n",
       "      <td>5</td>\n",
       "    </tr>\n",
       "    <tr>\n",
       "      <th>5</th>\n",
       "      <td>2010</td>\n",
       "      <td>Lions</td>\n",
       "      <td>6</td>\n",
       "      <td>10</td>\n",
       "    </tr>\n",
       "    <tr>\n",
       "      <th>6</th>\n",
       "      <td>2011</td>\n",
       "      <td>Lions</td>\n",
       "      <td>10</td>\n",
       "      <td>6</td>\n",
       "    </tr>\n",
       "    <tr>\n",
       "      <th>7</th>\n",
       "      <td>2012</td>\n",
       "      <td>Lions</td>\n",
       "      <td>4</td>\n",
       "      <td>12</td>\n",
       "    </tr>\n",
       "    <tr>\n",
       "      <th>8</th>\n",
       "      <td>2012</td>\n",
       "      <td>Lions</td>\n",
       "      <td>4</td>\n",
       "      <td>12</td>\n",
       "    </tr>\n",
       "    <tr>\n",
       "      <th>9</th>\n",
       "      <td>2012</td>\n",
       "      <td></td>\n",
       "      <td>0</td>\n",
       "      <td>0</td>\n",
       "    </tr>\n",
       "  </tbody>\n",
       "</table>\n",
       "</div>"
      ],
      "text/plain": [
       "   year     team  wins  losses\n",
       "0  2010    Bears    11       5\n",
       "1  2011    Bears     8       8\n",
       "2  2012    Bears    10       6\n",
       "3  2011  Packers    15       1\n",
       "4  2012  Packers    11       5\n",
       "5  2010    Lions     6      10\n",
       "6  2011    Lions    10       6\n",
       "7  2012    Lions     4      12\n",
       "8  2012    Lions     4      12\n",
       "9  2012              0       0"
      ]
     },
     "execution_count": 13,
     "metadata": {},
     "output_type": "execute_result"
    }
   ],
   "source": [
    "## Dataframe with duplicated entries\n",
    "data = {'year': [2010, 2011, 2012, 2011, 2012, 2010, 2011, 2012,2012, 2012],\n",
    "        'team': ['Bears', 'Bears', 'Bears', 'Packers', 'Packers', 'Lions', 'Lions', 'Lions','Lions',''],\n",
    "        'wins': [11, 8, 10, 15, 11, 6, 10, 4,4, 0],\n",
    "        'losses': [5, 8, 6, 1, 5, 10, 6, 12,12, 0]}\n",
    "football = pd.DataFrame(data, columns=['year', 'team', 'wins', 'losses'])\n",
    "football"
   ]
  },
  {
   "cell_type": "code",
   "execution_count": 25,
   "metadata": {
    "collapsed": false
   },
   "outputs": [
    {
     "data": {
      "text/html": [
       "<div>\n",
       "<table border=\"1\" class=\"dataframe\">\n",
       "  <thead>\n",
       "    <tr style=\"text-align: right;\">\n",
       "      <th></th>\n",
       "      <th>year</th>\n",
       "      <th>team</th>\n",
       "      <th>wins</th>\n",
       "      <th>losses</th>\n",
       "    </tr>\n",
       "  </thead>\n",
       "  <tbody>\n",
       "    <tr>\n",
       "      <th>9</th>\n",
       "      <td>2012</td>\n",
       "      <td></td>\n",
       "      <td>0</td>\n",
       "      <td>0</td>\n",
       "    </tr>\n",
       "  </tbody>\n",
       "</table>\n",
       "</div>"
      ],
      "text/plain": [
       "   year team  wins  losses\n",
       "9  2012          0       0"
      ]
     },
     "execution_count": 25,
     "metadata": {},
     "output_type": "execute_result"
    }
   ],
   "source": [
    "football[football.wins == 0 ]"
   ]
  },
  {
   "cell_type": "code",
   "execution_count": 32,
   "metadata": {
    "collapsed": false
   },
   "outputs": [
    {
     "data": {
      "text/plain": [
       "0    False\n",
       "1    False\n",
       "2    False\n",
       "3    False\n",
       "4    False\n",
       "5    False\n",
       "6    False\n",
       "7    False\n",
       "8     True\n",
       "9    False\n",
       "dtype: bool"
      ]
     },
     "execution_count": 32,
     "metadata": {},
     "output_type": "execute_result"
    }
   ],
   "source": [
    "#Find duplicated entries\n",
    "#DataFrame.duplicated(subset=None, keep='first')\n",
    "football.duplicated(['team','year'], keep='first')"
   ]
  },
  {
   "cell_type": "code",
   "execution_count": 29,
   "metadata": {
    "collapsed": false
   },
   "outputs": [
    {
     "data": {
      "text/html": [
       "<div>\n",
       "<table border=\"1\" class=\"dataframe\">\n",
       "  <thead>\n",
       "    <tr style=\"text-align: right;\">\n",
       "      <th></th>\n",
       "      <th>year</th>\n",
       "      <th>team</th>\n",
       "      <th>wins</th>\n",
       "      <th>losses</th>\n",
       "    </tr>\n",
       "  </thead>\n",
       "  <tbody>\n",
       "    <tr>\n",
       "      <th>8</th>\n",
       "      <td>2012</td>\n",
       "      <td>Lions</td>\n",
       "      <td>4</td>\n",
       "      <td>12</td>\n",
       "    </tr>\n",
       "  </tbody>\n",
       "</table>\n",
       "</div>"
      ],
      "text/plain": [
       "   year   team  wins  losses\n",
       "8  2012  Lions     4      12"
      ]
     },
     "execution_count": 29,
     "metadata": {},
     "output_type": "execute_result"
    }
   ],
   "source": [
    "football[football.duplicated(['team','year'], keep='first')]"
   ]
  },
  {
   "cell_type": "code",
   "execution_count": 33,
   "metadata": {
    "collapsed": false
   },
   "outputs": [
    {
     "data": {
      "text/html": [
       "<div>\n",
       "<table border=\"1\" class=\"dataframe\">\n",
       "  <thead>\n",
       "    <tr style=\"text-align: right;\">\n",
       "      <th></th>\n",
       "      <th>year</th>\n",
       "      <th>team</th>\n",
       "      <th>wins</th>\n",
       "      <th>losses</th>\n",
       "    </tr>\n",
       "  </thead>\n",
       "  <tbody>\n",
       "    <tr>\n",
       "      <th>0</th>\n",
       "      <td>2010</td>\n",
       "      <td>Bears</td>\n",
       "      <td>11</td>\n",
       "      <td>5</td>\n",
       "    </tr>\n",
       "    <tr>\n",
       "      <th>1</th>\n",
       "      <td>2011</td>\n",
       "      <td>Bears</td>\n",
       "      <td>8</td>\n",
       "      <td>8</td>\n",
       "    </tr>\n",
       "    <tr>\n",
       "      <th>2</th>\n",
       "      <td>2012</td>\n",
       "      <td>Bears</td>\n",
       "      <td>10</td>\n",
       "      <td>6</td>\n",
       "    </tr>\n",
       "    <tr>\n",
       "      <th>3</th>\n",
       "      <td>2011</td>\n",
       "      <td>Packers</td>\n",
       "      <td>15</td>\n",
       "      <td>1</td>\n",
       "    </tr>\n",
       "    <tr>\n",
       "      <th>4</th>\n",
       "      <td>2012</td>\n",
       "      <td>Packers</td>\n",
       "      <td>11</td>\n",
       "      <td>5</td>\n",
       "    </tr>\n",
       "    <tr>\n",
       "      <th>5</th>\n",
       "      <td>2010</td>\n",
       "      <td>Lions</td>\n",
       "      <td>6</td>\n",
       "      <td>10</td>\n",
       "    </tr>\n",
       "    <tr>\n",
       "      <th>6</th>\n",
       "      <td>2011</td>\n",
       "      <td>Lions</td>\n",
       "      <td>10</td>\n",
       "      <td>6</td>\n",
       "    </tr>\n",
       "    <tr>\n",
       "      <th>7</th>\n",
       "      <td>2012</td>\n",
       "      <td>Lions</td>\n",
       "      <td>4</td>\n",
       "      <td>12</td>\n",
       "    </tr>\n",
       "    <tr>\n",
       "      <th>9</th>\n",
       "      <td>2012</td>\n",
       "      <td></td>\n",
       "      <td>0</td>\n",
       "      <td>0</td>\n",
       "    </tr>\n",
       "  </tbody>\n",
       "</table>\n",
       "</div>"
      ],
      "text/plain": [
       "   year     team  wins  losses\n",
       "0  2010    Bears    11       5\n",
       "1  2011    Bears     8       8\n",
       "2  2012    Bears    10       6\n",
       "3  2011  Packers    15       1\n",
       "4  2012  Packers    11       5\n",
       "5  2010    Lions     6      10\n",
       "6  2011    Lions    10       6\n",
       "7  2012    Lions     4      12\n",
       "9  2012              0       0"
      ]
     },
     "execution_count": 33,
     "metadata": {},
     "output_type": "execute_result"
    }
   ],
   "source": [
    "# Drop duplicates\n",
    "#DataFrame.drop_duplicates(subset=None, keep='first', inplace=False)\n",
    "football.drop_duplicates(['year', 'team'], keep='first')"
   ]
  },
  {
   "cell_type": "markdown",
   "metadata": {},
   "source": [
    "### Creating a Dataframe with list"
   ]
  },
  {
   "cell_type": "code",
   "execution_count": 4,
   "metadata": {
    "collapsed": false,
    "scrolled": true
   },
   "outputs": [
    {
     "data": {
      "text/html": [
       "<div>\n",
       "<table border=\"1\" class=\"dataframe\">\n",
       "  <thead>\n",
       "    <tr style=\"text-align: right;\">\n",
       "      <th></th>\n",
       "      <th>Country</th>\n",
       "      <th>Capital</th>\n",
       "      <th>Population</th>\n",
       "    </tr>\n",
       "  </thead>\n",
       "  <tbody>\n",
       "    <tr>\n",
       "      <th>1</th>\n",
       "      <td>Belgium</td>\n",
       "      <td>India</td>\n",
       "      <td>Brazil</td>\n",
       "    </tr>\n",
       "    <tr>\n",
       "      <th>2</th>\n",
       "      <td>Brussels</td>\n",
       "      <td>New Delhi</td>\n",
       "      <td>Brasilia</td>\n",
       "    </tr>\n",
       "    <tr>\n",
       "      <th>3</th>\n",
       "      <td>11190846</td>\n",
       "      <td>1303171035</td>\n",
       "      <td>207847528</td>\n",
       "    </tr>\n",
       "  </tbody>\n",
       "</table>\n",
       "</div>"
      ],
      "text/plain": [
       "    Country     Capital Population\n",
       "1   Belgium       India     Brazil\n",
       "2  Brussels   New Delhi   Brasilia\n",
       "3  11190846  1303171035  207847528"
      ]
     },
     "execution_count": 4,
     "metadata": {},
     "output_type": "execute_result"
    }
   ],
   "source": [
    "data_from_list = [\n",
    "    ['Belgium',  'India',  'Brazil'],\n",
    "    ['Brussels',  'New Delhi',  'Brasilia'],\n",
    "    [11190846, 1303171035, 207847528]\n",
    "]\n",
    "df_from_list = pd.DataFrame(data_from_list, columns=['Country',  'Capital',  'Population'], index=[1,2,3])\n",
    "df_from_list\n"
   ]
  },
  {
   "cell_type": "markdown",
   "metadata": {},
   "source": [
    "## Reading a CSV"
   ]
  },
  {
   "cell_type": "code",
   "execution_count": 5,
   "metadata": {
    "collapsed": false
   },
   "outputs": [
    {
     "name": "stdout",
     "output_type": "stream",
     "text": [
      "<class 'pandas.core.frame.DataFrame'>\n",
      "RangeIndex: 9576 entries, 0 to 9575\n",
      "Data columns (total 10 columns):\n",
      "car             9576 non-null object\n",
      "price           9576 non-null float64\n",
      "body            9576 non-null object\n",
      "mileage         9576 non-null int64\n",
      "engV            9142 non-null float64\n",
      "engType         9576 non-null object\n",
      "registration    9576 non-null object\n",
      "year            9576 non-null int64\n",
      "model           9576 non-null object\n",
      "drive           9065 non-null object\n",
      "dtypes: float64(2), int64(2), object(6)\n",
      "memory usage: 748.2+ KB\n"
     ]
    }
   ],
   "source": [
    "car_dataset_url ='https://raw.githubusercontent.com/ankitind/sample_datasets/master/car_ad.csv'\n",
    "car_ads = pd.read_csv(car_dataset_url, header=0)\n",
    "car_ads.info()"
   ]
  },
  {
   "cell_type": "markdown",
   "metadata": {},
   "source": [
    "### Reading a Dataframe using indexes and loc"
   ]
  },
  {
   "cell_type": "code",
   "execution_count": 101,
   "metadata": {
    "collapsed": false
   },
   "outputs": [
    {
     "name": "stdout",
     "output_type": "stream",
     "text": [
      "sedan\n",
      "sedan\n",
      "sedan\n",
      "sedan\n",
      "--\n",
      "    body\n",
      "1  sedan\n"
     ]
    }
   ],
   "source": [
    "print(car_ads['body'][1])\n",
    "print(car_ads.body[1])\n",
    "print(car_ads.loc[1, 'body'])\n",
    "print(car_ads.iloc[1, 2])\n",
    "print(\"--\")\n",
    "print(car_ads.ix[1:1, 2:3])"
   ]
  },
  {
   "cell_type": "markdown",
   "metadata": {},
   "source": [
    "## Slicing  Columns and Rows"
   ]
  },
  {
   "cell_type": "markdown",
   "metadata": {},
   "source": [
    "### Seleting specific columns by passing them as a list"
   ]
  },
  {
   "cell_type": "code",
   "execution_count": 138,
   "metadata": {
    "collapsed": false
   },
   "outputs": [
    {
     "data": {
      "text/html": [
       "<div>\n",
       "<table border=\"1\" class=\"dataframe\">\n",
       "  <thead>\n",
       "    <tr style=\"text-align: right;\">\n",
       "      <th></th>\n",
       "      <th>car</th>\n",
       "      <th>year</th>\n",
       "      <th>body</th>\n",
       "    </tr>\n",
       "  </thead>\n",
       "  <tbody>\n",
       "    <tr>\n",
       "      <th>0</th>\n",
       "      <td>Ford</td>\n",
       "      <td>2010</td>\n",
       "      <td>crossover</td>\n",
       "    </tr>\n",
       "    <tr>\n",
       "      <th>1</th>\n",
       "      <td>Mercedes-Benz</td>\n",
       "      <td>2011</td>\n",
       "      <td>sedan</td>\n",
       "    </tr>\n",
       "    <tr>\n",
       "      <th>2</th>\n",
       "      <td>Mercedes-Benz</td>\n",
       "      <td>2008</td>\n",
       "      <td>other</td>\n",
       "    </tr>\n",
       "    <tr>\n",
       "      <th>3</th>\n",
       "      <td>Mercedes-Benz</td>\n",
       "      <td>2012</td>\n",
       "      <td>van</td>\n",
       "    </tr>\n",
       "  </tbody>\n",
       "</table>\n",
       "</div>"
      ],
      "text/plain": [
       "             car  year       body\n",
       "0           Ford  2010  crossover\n",
       "1  Mercedes-Benz  2011      sedan\n",
       "2  Mercedes-Benz  2008      other\n",
       "3  Mercedes-Benz  2012        van"
      ]
     },
     "execution_count": 138,
     "metadata": {},
     "output_type": "execute_result"
    }
   ],
   "source": [
    "car_ads[['car', 'year','body']].head(4)"
   ]
  },
  {
   "cell_type": "markdown",
   "metadata": {},
   "source": [
    "### Seleting specific rows by doing a boolean operation"
   ]
  },
  {
   "cell_type": "code",
   "execution_count": 151,
   "metadata": {
    "collapsed": false,
    "scrolled": true
   },
   "outputs": [
    {
     "data": {
      "text/html": [
       "<div>\n",
       "<table border=\"1\" class=\"dataframe\">\n",
       "  <thead>\n",
       "    <tr style=\"text-align: right;\">\n",
       "      <th></th>\n",
       "      <th>car</th>\n",
       "      <th>price</th>\n",
       "      <th>body</th>\n",
       "      <th>mileage</th>\n",
       "      <th>engV</th>\n",
       "      <th>engType</th>\n",
       "      <th>registration</th>\n",
       "      <th>year</th>\n",
       "      <th>model</th>\n",
       "      <th>drive</th>\n",
       "    </tr>\n",
       "  </thead>\n",
       "  <tbody>\n",
       "    <tr>\n",
       "      <th>334</th>\n",
       "      <td>Toyota</td>\n",
       "      <td>36000.0</td>\n",
       "      <td>crossover</td>\n",
       "      <td>940</td>\n",
       "      <td>NaN</td>\n",
       "      <td>Other</td>\n",
       "      <td>yes</td>\n",
       "      <td>2009</td>\n",
       "      <td>Land Cruiser 200</td>\n",
       "      <td>NaN</td>\n",
       "    </tr>\n",
       "    <tr>\n",
       "      <th>2602</th>\n",
       "      <td>Mercedes-Benz</td>\n",
       "      <td>68700.0</td>\n",
       "      <td>crossover</td>\n",
       "      <td>980</td>\n",
       "      <td>3.0</td>\n",
       "      <td>Diesel</td>\n",
       "      <td>yes</td>\n",
       "      <td>2013</td>\n",
       "      <td>GL 350</td>\n",
       "      <td>full</td>\n",
       "    </tr>\n",
       "    <tr>\n",
       "      <th>4572</th>\n",
       "      <td>Kia</td>\n",
       "      <td>7150.0</td>\n",
       "      <td>hatch</td>\n",
       "      <td>920</td>\n",
       "      <td>1.4</td>\n",
       "      <td>Petrol</td>\n",
       "      <td>yes</td>\n",
       "      <td>2008</td>\n",
       "      <td>Ceed</td>\n",
       "      <td>front</td>\n",
       "    </tr>\n",
       "  </tbody>\n",
       "</table>\n",
       "</div>"
      ],
      "text/plain": [
       "                car    price       body  mileage  engV engType registration  \\\n",
       "334          Toyota  36000.0  crossover      940   NaN   Other          yes   \n",
       "2602  Mercedes-Benz  68700.0  crossover      980   3.0  Diesel          yes   \n",
       "4572            Kia   7150.0      hatch      920   1.4  Petrol          yes   \n",
       "\n",
       "      year             model  drive  \n",
       "334   2009  Land Cruiser 200    NaN  \n",
       "2602  2013            GL 350   full  \n",
       "4572  2008              Ceed  front  "
      ]
     },
     "execution_count": 151,
     "metadata": {},
     "output_type": "execute_result"
    }
   ],
   "source": [
    "car_ads[car_ads.mileage>900][0:3].head(4)"
   ]
  },
  {
   "cell_type": "code",
   "execution_count": 136,
   "metadata": {
    "collapsed": false
   },
   "outputs": [
    {
     "data": {
      "text/html": [
       "<div>\n",
       "<table border=\"1\" class=\"dataframe\">\n",
       "  <thead>\n",
       "    <tr style=\"text-align: right;\">\n",
       "      <th></th>\n",
       "      <th>car</th>\n",
       "      <th>price</th>\n",
       "      <th>body</th>\n",
       "      <th>mileage</th>\n",
       "      <th>engV</th>\n",
       "      <th>engType</th>\n",
       "      <th>registration</th>\n",
       "      <th>year</th>\n",
       "      <th>model</th>\n",
       "      <th>drive</th>\n",
       "    </tr>\n",
       "  </thead>\n",
       "  <tbody>\n",
       "    <tr>\n",
       "      <th>334</th>\n",
       "      <td>Toyota</td>\n",
       "      <td>36000.0</td>\n",
       "      <td>crossover</td>\n",
       "      <td>940</td>\n",
       "      <td>NaN</td>\n",
       "      <td>Other</td>\n",
       "      <td>yes</td>\n",
       "      <td>2009</td>\n",
       "      <td>Land Cruiser 200</td>\n",
       "      <td>NaN</td>\n",
       "    </tr>\n",
       "    <tr>\n",
       "      <th>666</th>\n",
       "      <td>BMW</td>\n",
       "      <td>30500.0</td>\n",
       "      <td>sedan</td>\n",
       "      <td>630</td>\n",
       "      <td>NaN</td>\n",
       "      <td>Petrol</td>\n",
       "      <td>yes</td>\n",
       "      <td>2010</td>\n",
       "      <td>523</td>\n",
       "      <td>rear</td>\n",
       "    </tr>\n",
       "    <tr>\n",
       "      <th>667</th>\n",
       "      <td>BMW</td>\n",
       "      <td>29500.0</td>\n",
       "      <td>sedan</td>\n",
       "      <td>850</td>\n",
       "      <td>NaN</td>\n",
       "      <td>Petrol</td>\n",
       "      <td>yes</td>\n",
       "      <td>2011</td>\n",
       "      <td>523</td>\n",
       "      <td>rear</td>\n",
       "    </tr>\n",
       "    <tr>\n",
       "      <th>668</th>\n",
       "      <td>Nissan</td>\n",
       "      <td>14500.0</td>\n",
       "      <td>crossover</td>\n",
       "      <td>740</td>\n",
       "      <td>2.0</td>\n",
       "      <td>Petrol</td>\n",
       "      <td>yes</td>\n",
       "      <td>2008</td>\n",
       "      <td>X-Trail</td>\n",
       "      <td>full</td>\n",
       "    </tr>\n",
       "    <tr>\n",
       "      <th>1524</th>\n",
       "      <td>Skoda</td>\n",
       "      <td>14900.0</td>\n",
       "      <td>hatch</td>\n",
       "      <td>710</td>\n",
       "      <td>1.8</td>\n",
       "      <td>Petrol</td>\n",
       "      <td>yes</td>\n",
       "      <td>2012</td>\n",
       "      <td>Octavia A5</td>\n",
       "      <td>front</td>\n",
       "    </tr>\n",
       "    <tr>\n",
       "      <th>1676</th>\n",
       "      <td>Bentley</td>\n",
       "      <td>117000.0</td>\n",
       "      <td>sedan</td>\n",
       "      <td>830</td>\n",
       "      <td>6.0</td>\n",
       "      <td>Petrol</td>\n",
       "      <td>yes</td>\n",
       "      <td>2011</td>\n",
       "      <td>Flying Spur</td>\n",
       "      <td>full</td>\n",
       "    </tr>\n",
       "    <tr>\n",
       "      <th>1889</th>\n",
       "      <td>Volkswagen</td>\n",
       "      <td>20500.0</td>\n",
       "      <td>hatch</td>\n",
       "      <td>800</td>\n",
       "      <td>2.0</td>\n",
       "      <td>Diesel</td>\n",
       "      <td>yes</td>\n",
       "      <td>2013</td>\n",
       "      <td>Golf VII</td>\n",
       "      <td>front</td>\n",
       "    </tr>\n",
       "  </tbody>\n",
       "</table>\n",
       "</div>"
      ],
      "text/plain": [
       "             car     price       body  mileage  engV engType registration  \\\n",
       "334       Toyota   36000.0  crossover      940   NaN   Other          yes   \n",
       "666          BMW   30500.0      sedan      630   NaN  Petrol          yes   \n",
       "667          BMW   29500.0      sedan      850   NaN  Petrol          yes   \n",
       "668       Nissan   14500.0  crossover      740   2.0  Petrol          yes   \n",
       "1524       Skoda   14900.0      hatch      710   1.8  Petrol          yes   \n",
       "1676     Bentley  117000.0      sedan      830   6.0  Petrol          yes   \n",
       "1889  Volkswagen   20500.0      hatch      800   2.0  Diesel          yes   \n",
       "\n",
       "      year             model  drive  \n",
       "334   2009  Land Cruiser 200    NaN  \n",
       "666   2010               523   rear  \n",
       "667   2011               523   rear  \n",
       "668   2008           X-Trail   full  \n",
       "1524  2012        Octavia A5  front  \n",
       "1676  2011       Flying Spur   full  \n",
       "1889  2013          Golf VII  front  "
      ]
     },
     "execution_count": 136,
     "metadata": {},
     "output_type": "execute_result"
    }
   ],
   "source": [
    "#or\n",
    "car_ads[(car_ads.mileage>500) & (car_ads.price>10000)].head(7)"
   ]
  },
  {
   "cell_type": "code",
   "execution_count": null,
   "metadata": {
    "collapsed": true
   },
   "outputs": [],
   "source": [
    "car_ads.ix[0:20,'body':'engV'].head()"
   ]
  },
  {
   "cell_type": "code",
   "execution_count": 157,
   "metadata": {
    "collapsed": false,
    "scrolled": true
   },
   "outputs": [
    {
     "data": {
      "text/html": [
       "<div>\n",
       "<table border=\"1\" class=\"dataframe\">\n",
       "  <thead>\n",
       "    <tr style=\"text-align: right;\">\n",
       "      <th></th>\n",
       "      <th>body</th>\n",
       "      <th>engV</th>\n",
       "    </tr>\n",
       "  </thead>\n",
       "  <tbody>\n",
       "    <tr>\n",
       "      <th>0</th>\n",
       "      <td>crossover</td>\n",
       "      <td>2.5</td>\n",
       "    </tr>\n",
       "    <tr>\n",
       "      <th>1</th>\n",
       "      <td>sedan</td>\n",
       "      <td>1.8</td>\n",
       "    </tr>\n",
       "    <tr>\n",
       "      <th>2</th>\n",
       "      <td>other</td>\n",
       "      <td>5.5</td>\n",
       "    </tr>\n",
       "    <tr>\n",
       "      <th>3</th>\n",
       "      <td>van</td>\n",
       "      <td>1.8</td>\n",
       "    </tr>\n",
       "    <tr>\n",
       "      <th>4</th>\n",
       "      <td>vagon</td>\n",
       "      <td>NaN</td>\n",
       "    </tr>\n",
       "  </tbody>\n",
       "</table>\n",
       "</div>"
      ],
      "text/plain": [
       "        body  engV\n",
       "0  crossover   2.5\n",
       "1      sedan   1.8\n",
       "2      other   5.5\n",
       "3        van   1.8\n",
       "4      vagon   NaN"
      ]
     },
     "execution_count": 157,
     "metadata": {},
     "output_type": "execute_result"
    }
   ],
   "source": [
    "#Slicing by providing list \n",
    "car_ads.ix[0:20,['body','engV']].head()"
   ]
  },
  {
   "cell_type": "code",
   "execution_count": 135,
   "metadata": {
    "collapsed": false,
    "scrolled": true
   },
   "outputs": [
    {
     "data": {
      "text/html": [
       "<div>\n",
       "<table border=\"1\" class=\"dataframe\">\n",
       "  <thead>\n",
       "    <tr style=\"text-align: right;\">\n",
       "      <th></th>\n",
       "      <th>body</th>\n",
       "      <th>mileage</th>\n",
       "      <th>engV</th>\n",
       "    </tr>\n",
       "  </thead>\n",
       "  <tbody>\n",
       "    <tr>\n",
       "      <th>334</th>\n",
       "      <td>crossover</td>\n",
       "      <td>940</td>\n",
       "      <td>NaN</td>\n",
       "    </tr>\n",
       "    <tr>\n",
       "      <th>2602</th>\n",
       "      <td>crossover</td>\n",
       "      <td>980</td>\n",
       "      <td>3.0</td>\n",
       "    </tr>\n",
       "    <tr>\n",
       "      <th>4572</th>\n",
       "      <td>hatch</td>\n",
       "      <td>920</td>\n",
       "      <td>1.4</td>\n",
       "    </tr>\n",
       "    <tr>\n",
       "      <th>6857</th>\n",
       "      <td>sedan</td>\n",
       "      <td>999</td>\n",
       "      <td>1.3</td>\n",
       "    </tr>\n",
       "  </tbody>\n",
       "</table>\n",
       "</div>"
      ],
      "text/plain": [
       "           body  mileage  engV\n",
       "334   crossover      940   NaN\n",
       "2602  crossover      980   3.0\n",
       "4572      hatch      920   1.4\n",
       "6857      sedan      999   1.3"
      ]
     },
     "execution_count": 135,
     "metadata": {},
     "output_type": "execute_result"
    }
   ],
   "source": [
    "car_ads.ix[car_ads.mileage>900, 'body':'engV'].head(4)"
   ]
  },
  {
   "cell_type": "markdown",
   "metadata": {},
   "source": [
    "### Series vs 1-column Dataframe Slicing"
   ]
  },
  {
   "cell_type": "code",
   "execution_count": 161,
   "metadata": {
    "collapsed": false
   },
   "outputs": [
    {
     "data": {
      "text/plain": [
       "0    crossover\n",
       "1        sedan\n",
       "2        other\n",
       "3          van\n",
       "4        vagon\n",
       "Name: body, dtype: object"
      ]
     },
     "execution_count": 161,
     "metadata": {},
     "output_type": "execute_result"
    }
   ],
   "source": [
    "#series  (by providing string)\n",
    "car_ads['body'].head()"
   ]
  },
  {
   "cell_type": "code",
   "execution_count": 163,
   "metadata": {
    "collapsed": false
   },
   "outputs": [
    {
     "data": {
      "text/html": [
       "<div>\n",
       "<table border=\"1\" class=\"dataframe\">\n",
       "  <thead>\n",
       "    <tr style=\"text-align: right;\">\n",
       "      <th></th>\n",
       "      <th>body</th>\n",
       "    </tr>\n",
       "  </thead>\n",
       "  <tbody>\n",
       "    <tr>\n",
       "      <th>0</th>\n",
       "      <td>crossover</td>\n",
       "    </tr>\n",
       "    <tr>\n",
       "      <th>1</th>\n",
       "      <td>sedan</td>\n",
       "    </tr>\n",
       "    <tr>\n",
       "      <th>2</th>\n",
       "      <td>other</td>\n",
       "    </tr>\n",
       "    <tr>\n",
       "      <th>3</th>\n",
       "      <td>van</td>\n",
       "    </tr>\n",
       "    <tr>\n",
       "      <th>4</th>\n",
       "      <td>vagon</td>\n",
       "    </tr>\n",
       "  </tbody>\n",
       "</table>\n",
       "</div>"
      ],
      "text/plain": [
       "        body\n",
       "0  crossover\n",
       "1      sedan\n",
       "2      other\n",
       "3        van\n",
       "4      vagon"
      ]
     },
     "execution_count": 163,
     "metadata": {},
     "output_type": "execute_result"
    }
   ],
   "source": [
    "#1-Column Dataframe (by providing list)\n",
    "car_ads[['body']].head()"
   ]
  },
  {
   "cell_type": "code",
   "execution_count": 165,
   "metadata": {
    "collapsed": false
   },
   "outputs": [
    {
     "data": {
      "text/html": [
       "<div>\n",
       "<table border=\"1\" class=\"dataframe\">\n",
       "  <thead>\n",
       "    <tr style=\"text-align: right;\">\n",
       "      <th></th>\n",
       "      <th>body</th>\n",
       "      <th>price</th>\n",
       "    </tr>\n",
       "  </thead>\n",
       "  <tbody>\n",
       "    <tr>\n",
       "      <th>0</th>\n",
       "      <td>crossover</td>\n",
       "      <td>15500.0</td>\n",
       "    </tr>\n",
       "    <tr>\n",
       "      <th>1</th>\n",
       "      <td>sedan</td>\n",
       "      <td>20500.0</td>\n",
       "    </tr>\n",
       "    <tr>\n",
       "      <th>2</th>\n",
       "      <td>other</td>\n",
       "      <td>35000.0</td>\n",
       "    </tr>\n",
       "    <tr>\n",
       "      <th>3</th>\n",
       "      <td>van</td>\n",
       "      <td>17800.0</td>\n",
       "    </tr>\n",
       "    <tr>\n",
       "      <th>4</th>\n",
       "      <td>vagon</td>\n",
       "      <td>33000.0</td>\n",
       "    </tr>\n",
       "  </tbody>\n",
       "</table>\n",
       "</div>"
      ],
      "text/plain": [
       "        body    price\n",
       "0  crossover  15500.0\n",
       "1      sedan  20500.0\n",
       "2      other  35000.0\n",
       "3        van  17800.0\n",
       "4      vagon  33000.0"
      ]
     },
     "execution_count": 165,
     "metadata": {},
     "output_type": "execute_result"
    }
   ],
   "source": [
    "#2-Column Dataframe (by providing list)\n",
    "car_ads[['body', 'price']].head()"
   ]
  },
  {
   "cell_type": "code",
   "execution_count": 188,
   "metadata": {
    "collapsed": false
   },
   "outputs": [
    {
     "data": {
      "text/html": [
       "<div>\n",
       "<table border=\"1\" class=\"dataframe\">\n",
       "  <thead>\n",
       "    <tr style=\"text-align: right;\">\n",
       "      <th></th>\n",
       "      <th>body</th>\n",
       "      <th>price</th>\n",
       "    </tr>\n",
       "  </thead>\n",
       "  <tbody>\n",
       "    <tr>\n",
       "      <th>1</th>\n",
       "      <td>sedan</td>\n",
       "      <td>20500.0</td>\n",
       "    </tr>\n",
       "    <tr>\n",
       "      <th>2</th>\n",
       "      <td>other</td>\n",
       "      <td>35000.0</td>\n",
       "    </tr>\n",
       "  </tbody>\n",
       "</table>\n",
       "</div>"
      ],
      "text/plain": [
       "    body    price\n",
       "1  sedan  20500.0\n",
       "2  other  35000.0"
      ]
     },
     "execution_count": 188,
     "metadata": {},
     "output_type": "execute_result"
    }
   ],
   "source": [
    "#2-Column Dataframe (by providing list)\n",
    "car_ads.loc[1:2,['body', 'price']]"
   ]
  },
  {
   "cell_type": "markdown",
   "metadata": {},
   "source": [
    "### Slicing in Reverse order"
   ]
  },
  {
   "cell_type": "markdown",
   "metadata": {},
   "source": [
    "Slice the row labels 4 to 1 in reverse order. \n",
    "To do this for hypothetical row labels 'a' and 'b', you could use a stepsize of -1 like so: df.loc['b':'a':-1].m"
   ]
  },
  {
   "cell_type": "code",
   "execution_count": 189,
   "metadata": {
    "collapsed": false
   },
   "outputs": [
    {
     "data": {
      "text/html": [
       "<div>\n",
       "<table border=\"1\" class=\"dataframe\">\n",
       "  <thead>\n",
       "    <tr style=\"text-align: right;\">\n",
       "      <th></th>\n",
       "      <th>body</th>\n",
       "      <th>price</th>\n",
       "    </tr>\n",
       "  </thead>\n",
       "  <tbody>\n",
       "    <tr>\n",
       "      <th>9</th>\n",
       "      <td>sedan</td>\n",
       "      <td>22700.0</td>\n",
       "    </tr>\n",
       "    <tr>\n",
       "      <th>8</th>\n",
       "      <td>sedan</td>\n",
       "      <td>21500.0</td>\n",
       "    </tr>\n",
       "    <tr>\n",
       "      <th>7</th>\n",
       "      <td>vagon</td>\n",
       "      <td>10500.0</td>\n",
       "    </tr>\n",
       "    <tr>\n",
       "      <th>6</th>\n",
       "      <td>sedan</td>\n",
       "      <td>6500.0</td>\n",
       "    </tr>\n",
       "    <tr>\n",
       "      <th>5</th>\n",
       "      <td>crossover</td>\n",
       "      <td>16600.0</td>\n",
       "    </tr>\n",
       "    <tr>\n",
       "      <th>4</th>\n",
       "      <td>vagon</td>\n",
       "      <td>33000.0</td>\n",
       "    </tr>\n",
       "    <tr>\n",
       "      <th>3</th>\n",
       "      <td>van</td>\n",
       "      <td>17800.0</td>\n",
       "    </tr>\n",
       "    <tr>\n",
       "      <th>2</th>\n",
       "      <td>other</td>\n",
       "      <td>35000.0</td>\n",
       "    </tr>\n",
       "    <tr>\n",
       "      <th>1</th>\n",
       "      <td>sedan</td>\n",
       "      <td>20500.0</td>\n",
       "    </tr>\n",
       "  </tbody>\n",
       "</table>\n",
       "</div>"
      ],
      "text/plain": [
       "        body    price\n",
       "9      sedan  22700.0\n",
       "8      sedan  21500.0\n",
       "7      vagon  10500.0\n",
       "6      sedan   6500.0\n",
       "5  crossover  16600.0\n",
       "4      vagon  33000.0\n",
       "3        van  17800.0\n",
       "2      other  35000.0\n",
       "1      sedan  20500.0"
      ]
     },
     "execution_count": 189,
     "metadata": {},
     "output_type": "execute_result"
    }
   ],
   "source": [
    "car_ads.loc[9:1:-1,['body', 'price']]"
   ]
  },
  {
   "cell_type": "markdown",
   "metadata": {},
   "source": [
    "### Filtering with multiple Boolean Operators"
   ]
  },
  {
   "cell_type": "code",
   "execution_count": 6,
   "metadata": {
    "collapsed": false
   },
   "outputs": [
    {
     "data": {
      "text/html": [
       "<div>\n",
       "<table border=\"1\" class=\"dataframe\">\n",
       "  <thead>\n",
       "    <tr style=\"text-align: right;\">\n",
       "      <th></th>\n",
       "      <th>car</th>\n",
       "      <th>price</th>\n",
       "      <th>body</th>\n",
       "      <th>mileage</th>\n",
       "      <th>engV</th>\n",
       "      <th>engType</th>\n",
       "      <th>registration</th>\n",
       "      <th>year</th>\n",
       "      <th>model</th>\n",
       "      <th>drive</th>\n",
       "    </tr>\n",
       "  </thead>\n",
       "  <tbody>\n",
       "    <tr>\n",
       "      <th>1611</th>\n",
       "      <td>Bentley</td>\n",
       "      <td>499999.0</td>\n",
       "      <td>crossover</td>\n",
       "      <td>0</td>\n",
       "      <td>6.0</td>\n",
       "      <td>Petrol</td>\n",
       "      <td>yes</td>\n",
       "      <td>2016</td>\n",
       "      <td>Bentayga</td>\n",
       "      <td>full</td>\n",
       "    </tr>\n",
       "    <tr>\n",
       "      <th>4134</th>\n",
       "      <td>Bentley</td>\n",
       "      <td>449999.0</td>\n",
       "      <td>crossover</td>\n",
       "      <td>0</td>\n",
       "      <td>6.0</td>\n",
       "      <td>Petrol</td>\n",
       "      <td>yes</td>\n",
       "      <td>2016</td>\n",
       "      <td>Bentayga</td>\n",
       "      <td>full</td>\n",
       "    </tr>\n",
       "    <tr>\n",
       "      <th>5074</th>\n",
       "      <td>Mercedes-Benz</td>\n",
       "      <td>222000.0</td>\n",
       "      <td>crossover</td>\n",
       "      <td>0</td>\n",
       "      <td>6.3</td>\n",
       "      <td>Petrol</td>\n",
       "      <td>yes</td>\n",
       "      <td>2016</td>\n",
       "      <td>S 63 AMG</td>\n",
       "      <td>full</td>\n",
       "    </tr>\n",
       "    <tr>\n",
       "      <th>7914</th>\n",
       "      <td>Bentley</td>\n",
       "      <td>499999.0</td>\n",
       "      <td>crossover</td>\n",
       "      <td>0</td>\n",
       "      <td>6.0</td>\n",
       "      <td>Petrol</td>\n",
       "      <td>yes</td>\n",
       "      <td>2016</td>\n",
       "      <td>Bentayga</td>\n",
       "      <td>full</td>\n",
       "    </tr>\n",
       "    <tr>\n",
       "      <th>8205</th>\n",
       "      <td>Land Rover</td>\n",
       "      <td>285000.0</td>\n",
       "      <td>crossover</td>\n",
       "      <td>0</td>\n",
       "      <td>5.0</td>\n",
       "      <td>Petrol</td>\n",
       "      <td>yes</td>\n",
       "      <td>2016</td>\n",
       "      <td>Range Rover</td>\n",
       "      <td>full</td>\n",
       "    </tr>\n",
       "  </tbody>\n",
       "</table>\n",
       "</div>"
      ],
      "text/plain": [
       "                car     price       body  mileage  engV engType registration  \\\n",
       "1611        Bentley  499999.0  crossover        0   6.0  Petrol          yes   \n",
       "4134        Bentley  449999.0  crossover        0   6.0  Petrol          yes   \n",
       "5074  Mercedes-Benz  222000.0  crossover        0   6.3  Petrol          yes   \n",
       "7914        Bentley  499999.0  crossover        0   6.0  Petrol          yes   \n",
       "8205     Land Rover  285000.0  crossover        0   5.0  Petrol          yes   \n",
       "\n",
       "      year        model drive  \n",
       "1611  2016     Bentayga  full  \n",
       "4134  2016     Bentayga  full  \n",
       "5074  2016     S 63 AMG  full  \n",
       "7914  2016     Bentayga  full  \n",
       "8205  2016  Range Rover  full  "
      ]
     },
     "execution_count": 6,
     "metadata": {},
     "output_type": "execute_result"
    }
   ],
   "source": [
    "car_ads[(car_ads.price > 200000) & (car_ads.year > 2014) & (car_ads.body == 'crossover')]\n"
   ]
  },
  {
   "cell_type": "markdown",
   "metadata": {},
   "source": [
    "### Apply functions"
   ]
  },
  {
   "cell_type": "code",
   "execution_count": 39,
   "metadata": {
    "collapsed": false
   },
   "outputs": [
    {
     "data": {
      "text/plain": [
       "0             Ford\n",
       "1    Mercedes-benz\n",
       "2    Mercedes-benz\n",
       "3    Mercedes-benz\n",
       "4    Mercedes-benz\n",
       "5           Nissan\n",
       "6            Honda\n",
       "Name: car, dtype: object"
      ]
     },
     "execution_count": 39,
     "metadata": {},
     "output_type": "execute_result"
    }
   ],
   "source": [
    "def capitalfuc(x):\n",
    "    return x.capitalize() \n",
    "\n",
    "car_ads_lower = car_ads['car'].apply(capitalfuc)\n",
    "car_ads_lower.head(7)\n",
    "#print(upperfuc(\"asd\"))"
   ]
  },
  {
   "cell_type": "markdown",
   "metadata": {},
   "source": [
    "#### Using Lambda function"
   ]
  },
  {
   "cell_type": "code",
   "execution_count": 53,
   "metadata": {
    "collapsed": false
   },
   "outputs": [
    {
     "data": {
      "text/plain": [
       "0             FORD\n",
       "1    MERCEDES-BENZ\n",
       "2    MERCEDES-BENZ\n",
       "3    MERCEDES-BENZ\n",
       "4    MERCEDES-BENZ\n",
       "5           NISSAN\n",
       "6            HONDA\n",
       "Name: car, dtype: object"
      ]
     },
     "execution_count": 53,
     "metadata": {},
     "output_type": "execute_result"
    }
   ],
   "source": [
    "car_ads_upper = car_ads['car'].apply(lambda x: x.upper())\n",
    "car_ads_upper.head(7)\n",
    "#print(upperfuc(\"asd\"))"
   ]
  },
  {
   "cell_type": "markdown",
   "metadata": {},
   "source": [
    "### Seelcting columns based on data types"
   ]
  },
  {
   "cell_type": "code",
   "execution_count": 45,
   "metadata": {
    "collapsed": false
   },
   "outputs": [
    {
     "data": {
      "text/html": [
       "<div>\n",
       "<table border=\"1\" class=\"dataframe\">\n",
       "  <thead>\n",
       "    <tr style=\"text-align: right;\">\n",
       "      <th></th>\n",
       "      <th>car</th>\n",
       "      <th>body</th>\n",
       "      <th>engType</th>\n",
       "      <th>registration</th>\n",
       "      <th>model</th>\n",
       "      <th>drive</th>\n",
       "    </tr>\n",
       "  </thead>\n",
       "  <tbody>\n",
       "    <tr>\n",
       "      <th>0</th>\n",
       "      <td>Ford</td>\n",
       "      <td>crossover</td>\n",
       "      <td>Gas</td>\n",
       "      <td>yes</td>\n",
       "      <td>Kuga</td>\n",
       "      <td>full</td>\n",
       "    </tr>\n",
       "    <tr>\n",
       "      <th>1</th>\n",
       "      <td>Mercedes-Benz</td>\n",
       "      <td>sedan</td>\n",
       "      <td>Gas</td>\n",
       "      <td>yes</td>\n",
       "      <td>E-Class</td>\n",
       "      <td>rear</td>\n",
       "    </tr>\n",
       "    <tr>\n",
       "      <th>2</th>\n",
       "      <td>Mercedes-Benz</td>\n",
       "      <td>other</td>\n",
       "      <td>Petrol</td>\n",
       "      <td>yes</td>\n",
       "      <td>CL 550</td>\n",
       "      <td>rear</td>\n",
       "    </tr>\n",
       "    <tr>\n",
       "      <th>3</th>\n",
       "      <td>Mercedes-Benz</td>\n",
       "      <td>van</td>\n",
       "      <td>Diesel</td>\n",
       "      <td>yes</td>\n",
       "      <td>B 180</td>\n",
       "      <td>front</td>\n",
       "    </tr>\n",
       "    <tr>\n",
       "      <th>4</th>\n",
       "      <td>Mercedes-Benz</td>\n",
       "      <td>vagon</td>\n",
       "      <td>Other</td>\n",
       "      <td>yes</td>\n",
       "      <td>E-Class</td>\n",
       "      <td>NaN</td>\n",
       "    </tr>\n",
       "    <tr>\n",
       "      <th>5</th>\n",
       "      <td>Nissan</td>\n",
       "      <td>crossover</td>\n",
       "      <td>Petrol</td>\n",
       "      <td>yes</td>\n",
       "      <td>X-Trail</td>\n",
       "      <td>full</td>\n",
       "    </tr>\n",
       "    <tr>\n",
       "      <th>6</th>\n",
       "      <td>Honda</td>\n",
       "      <td>sedan</td>\n",
       "      <td>Petrol</td>\n",
       "      <td>yes</td>\n",
       "      <td>Accord</td>\n",
       "      <td>front</td>\n",
       "    </tr>\n",
       "  </tbody>\n",
       "</table>\n",
       "</div>"
      ],
      "text/plain": [
       "             car       body engType registration    model  drive\n",
       "0           Ford  crossover     Gas          yes     Kuga   full\n",
       "1  Mercedes-Benz      sedan     Gas          yes  E-Class   rear\n",
       "2  Mercedes-Benz      other  Petrol          yes   CL 550   rear\n",
       "3  Mercedes-Benz        van  Diesel          yes    B 180  front\n",
       "4  Mercedes-Benz      vagon   Other          yes  E-Class    NaN\n",
       "5         Nissan  crossover  Petrol          yes  X-Trail   full\n",
       "6          Honda      sedan  Petrol          yes   Accord  front"
      ]
     },
     "execution_count": 45,
     "metadata": {},
     "output_type": "execute_result"
    }
   ],
   "source": [
    "car_ads_object = car_ads.select_dtypes(include=[object])\n",
    "car_ads_object.head(7) "
   ]
  },
  {
   "cell_type": "code",
   "execution_count": 47,
   "metadata": {
    "collapsed": false
   },
   "outputs": [
    {
     "data": {
      "text/html": [
       "<div>\n",
       "<table border=\"1\" class=\"dataframe\">\n",
       "  <thead>\n",
       "    <tr style=\"text-align: right;\">\n",
       "      <th></th>\n",
       "      <th>mileage</th>\n",
       "      <th>year</th>\n",
       "    </tr>\n",
       "  </thead>\n",
       "  <tbody>\n",
       "    <tr>\n",
       "      <th>0</th>\n",
       "      <td>68</td>\n",
       "      <td>2010</td>\n",
       "    </tr>\n",
       "    <tr>\n",
       "      <th>1</th>\n",
       "      <td>173</td>\n",
       "      <td>2011</td>\n",
       "    </tr>\n",
       "    <tr>\n",
       "      <th>2</th>\n",
       "      <td>135</td>\n",
       "      <td>2008</td>\n",
       "    </tr>\n",
       "    <tr>\n",
       "      <th>3</th>\n",
       "      <td>162</td>\n",
       "      <td>2012</td>\n",
       "    </tr>\n",
       "    <tr>\n",
       "      <th>4</th>\n",
       "      <td>91</td>\n",
       "      <td>2013</td>\n",
       "    </tr>\n",
       "    <tr>\n",
       "      <th>5</th>\n",
       "      <td>83</td>\n",
       "      <td>2013</td>\n",
       "    </tr>\n",
       "    <tr>\n",
       "      <th>6</th>\n",
       "      <td>199</td>\n",
       "      <td>2003</td>\n",
       "    </tr>\n",
       "  </tbody>\n",
       "</table>\n",
       "</div>"
      ],
      "text/plain": [
       "   mileage  year\n",
       "0       68  2010\n",
       "1      173  2011\n",
       "2      135  2008\n",
       "3      162  2012\n",
       "4       91  2013\n",
       "5       83  2013\n",
       "6      199  2003"
      ]
     },
     "execution_count": 47,
     "metadata": {},
     "output_type": "execute_result"
    }
   ],
   "source": [
    "car_ads_int = car_ads.select_dtypes(include=[int])\n",
    "car_ads_int.head(7) "
   ]
  },
  {
   "cell_type": "code",
   "execution_count": 48,
   "metadata": {
    "collapsed": false
   },
   "outputs": [
    {
     "data": {
      "text/html": [
       "<div>\n",
       "<table border=\"1\" class=\"dataframe\">\n",
       "  <thead>\n",
       "    <tr style=\"text-align: right;\">\n",
       "      <th></th>\n",
       "      <th>price</th>\n",
       "      <th>engV</th>\n",
       "    </tr>\n",
       "  </thead>\n",
       "  <tbody>\n",
       "    <tr>\n",
       "      <th>0</th>\n",
       "      <td>15500.0</td>\n",
       "      <td>2.5</td>\n",
       "    </tr>\n",
       "    <tr>\n",
       "      <th>1</th>\n",
       "      <td>20500.0</td>\n",
       "      <td>1.8</td>\n",
       "    </tr>\n",
       "    <tr>\n",
       "      <th>2</th>\n",
       "      <td>35000.0</td>\n",
       "      <td>5.5</td>\n",
       "    </tr>\n",
       "    <tr>\n",
       "      <th>3</th>\n",
       "      <td>17800.0</td>\n",
       "      <td>1.8</td>\n",
       "    </tr>\n",
       "    <tr>\n",
       "      <th>4</th>\n",
       "      <td>33000.0</td>\n",
       "      <td>NaN</td>\n",
       "    </tr>\n",
       "    <tr>\n",
       "      <th>5</th>\n",
       "      <td>16600.0</td>\n",
       "      <td>2.0</td>\n",
       "    </tr>\n",
       "    <tr>\n",
       "      <th>6</th>\n",
       "      <td>6500.0</td>\n",
       "      <td>2.0</td>\n",
       "    </tr>\n",
       "  </tbody>\n",
       "</table>\n",
       "</div>"
      ],
      "text/plain": [
       "     price  engV\n",
       "0  15500.0   2.5\n",
       "1  20500.0   1.8\n",
       "2  35000.0   5.5\n",
       "3  17800.0   1.8\n",
       "4  33000.0   NaN\n",
       "5  16600.0   2.0\n",
       "6   6500.0   2.0"
      ]
     },
     "execution_count": 48,
     "metadata": {},
     "output_type": "execute_result"
    }
   ],
   "source": [
    "car_ads_float = car_ads.select_dtypes(include=[float])\n",
    "car_ads_float.head(7) "
   ]
  },
  {
   "cell_type": "code",
   "execution_count": 54,
   "metadata": {
    "collapsed": false
   },
   "outputs": [
    {
     "data": {
      "text/html": [
       "<div>\n",
       "<table border=\"1\" class=\"dataframe\">\n",
       "  <thead>\n",
       "    <tr style=\"text-align: right;\">\n",
       "      <th></th>\n",
       "      <th>car</th>\n",
       "      <th>body</th>\n",
       "      <th>mileage</th>\n",
       "      <th>engType</th>\n",
       "      <th>registration</th>\n",
       "      <th>year</th>\n",
       "      <th>model</th>\n",
       "      <th>drive</th>\n",
       "    </tr>\n",
       "  </thead>\n",
       "  <tbody>\n",
       "    <tr>\n",
       "      <th>0</th>\n",
       "      <td>Ford</td>\n",
       "      <td>crossover</td>\n",
       "      <td>68</td>\n",
       "      <td>Gas</td>\n",
       "      <td>yes</td>\n",
       "      <td>2010</td>\n",
       "      <td>Kuga</td>\n",
       "      <td>full</td>\n",
       "    </tr>\n",
       "    <tr>\n",
       "      <th>1</th>\n",
       "      <td>Mercedes-Benz</td>\n",
       "      <td>sedan</td>\n",
       "      <td>173</td>\n",
       "      <td>Gas</td>\n",
       "      <td>yes</td>\n",
       "      <td>2011</td>\n",
       "      <td>E-Class</td>\n",
       "      <td>rear</td>\n",
       "    </tr>\n",
       "    <tr>\n",
       "      <th>2</th>\n",
       "      <td>Mercedes-Benz</td>\n",
       "      <td>other</td>\n",
       "      <td>135</td>\n",
       "      <td>Petrol</td>\n",
       "      <td>yes</td>\n",
       "      <td>2008</td>\n",
       "      <td>CL 550</td>\n",
       "      <td>rear</td>\n",
       "    </tr>\n",
       "    <tr>\n",
       "      <th>3</th>\n",
       "      <td>Mercedes-Benz</td>\n",
       "      <td>van</td>\n",
       "      <td>162</td>\n",
       "      <td>Diesel</td>\n",
       "      <td>yes</td>\n",
       "      <td>2012</td>\n",
       "      <td>B 180</td>\n",
       "      <td>front</td>\n",
       "    </tr>\n",
       "    <tr>\n",
       "      <th>4</th>\n",
       "      <td>Mercedes-Benz</td>\n",
       "      <td>vagon</td>\n",
       "      <td>91</td>\n",
       "      <td>Other</td>\n",
       "      <td>yes</td>\n",
       "      <td>2013</td>\n",
       "      <td>E-Class</td>\n",
       "      <td>NaN</td>\n",
       "    </tr>\n",
       "    <tr>\n",
       "      <th>5</th>\n",
       "      <td>Nissan</td>\n",
       "      <td>crossover</td>\n",
       "      <td>83</td>\n",
       "      <td>Petrol</td>\n",
       "      <td>yes</td>\n",
       "      <td>2013</td>\n",
       "      <td>X-Trail</td>\n",
       "      <td>full</td>\n",
       "    </tr>\n",
       "    <tr>\n",
       "      <th>6</th>\n",
       "      <td>Honda</td>\n",
       "      <td>sedan</td>\n",
       "      <td>199</td>\n",
       "      <td>Petrol</td>\n",
       "      <td>yes</td>\n",
       "      <td>2003</td>\n",
       "      <td>Accord</td>\n",
       "      <td>front</td>\n",
       "    </tr>\n",
       "  </tbody>\n",
       "</table>\n",
       "</div>"
      ],
      "text/plain": [
       "             car       body  mileage engType registration  year    model  \\\n",
       "0           Ford  crossover       68     Gas          yes  2010     Kuga   \n",
       "1  Mercedes-Benz      sedan      173     Gas          yes  2011  E-Class   \n",
       "2  Mercedes-Benz      other      135  Petrol          yes  2008   CL 550   \n",
       "3  Mercedes-Benz        van      162  Diesel          yes  2012    B 180   \n",
       "4  Mercedes-Benz      vagon       91   Other          yes  2013  E-Class   \n",
       "5         Nissan  crossover       83  Petrol          yes  2013  X-Trail   \n",
       "6          Honda      sedan      199  Petrol          yes  2003   Accord   \n",
       "\n",
       "   drive  \n",
       "0   full  \n",
       "1   rear  \n",
       "2   rear  \n",
       "3  front  \n",
       "4    NaN  \n",
       "5   full  \n",
       "6  front  "
      ]
     },
     "execution_count": 54,
     "metadata": {},
     "output_type": "execute_result"
    }
   ],
   "source": [
    "car_ads_ex_float = car_ads.select_dtypes(exclude=[float])\n",
    "car_ads_ex_float.head(7) "
   ]
  },
  {
   "cell_type": "code",
   "execution_count": 59,
   "metadata": {
    "collapsed": false
   },
   "outputs": [
    {
     "data": {
      "text/html": [
       "<div>\n",
       "<table border=\"1\" class=\"dataframe\">\n",
       "  <thead>\n",
       "    <tr style=\"text-align: right;\">\n",
       "      <th></th>\n",
       "      <th>car</th>\n",
       "      <th>body</th>\n",
       "      <th>engType</th>\n",
       "      <th>registration</th>\n",
       "      <th>model</th>\n",
       "      <th>drive</th>\n",
       "    </tr>\n",
       "  </thead>\n",
       "  <tbody>\n",
       "    <tr>\n",
       "      <th>0</th>\n",
       "      <td>Ford</td>\n",
       "      <td>crossover</td>\n",
       "      <td>Gas</td>\n",
       "      <td>yes</td>\n",
       "      <td>Kuga</td>\n",
       "      <td>full</td>\n",
       "    </tr>\n",
       "    <tr>\n",
       "      <th>1</th>\n",
       "      <td>Mercedes-Benz</td>\n",
       "      <td>sedan</td>\n",
       "      <td>Gas</td>\n",
       "      <td>yes</td>\n",
       "      <td>E-Class</td>\n",
       "      <td>rear</td>\n",
       "    </tr>\n",
       "    <tr>\n",
       "      <th>2</th>\n",
       "      <td>Mercedes-Benz</td>\n",
       "      <td>other</td>\n",
       "      <td>Petrol</td>\n",
       "      <td>yes</td>\n",
       "      <td>CL 550</td>\n",
       "      <td>rear</td>\n",
       "    </tr>\n",
       "    <tr>\n",
       "      <th>3</th>\n",
       "      <td>Mercedes-Benz</td>\n",
       "      <td>van</td>\n",
       "      <td>Diesel</td>\n",
       "      <td>yes</td>\n",
       "      <td>B 180</td>\n",
       "      <td>front</td>\n",
       "    </tr>\n",
       "    <tr>\n",
       "      <th>4</th>\n",
       "      <td>Mercedes-Benz</td>\n",
       "      <td>vagon</td>\n",
       "      <td>Other</td>\n",
       "      <td>yes</td>\n",
       "      <td>E-Class</td>\n",
       "      <td>NaN</td>\n",
       "    </tr>\n",
       "    <tr>\n",
       "      <th>5</th>\n",
       "      <td>Nissan</td>\n",
       "      <td>crossover</td>\n",
       "      <td>Petrol</td>\n",
       "      <td>yes</td>\n",
       "      <td>X-Trail</td>\n",
       "      <td>full</td>\n",
       "    </tr>\n",
       "    <tr>\n",
       "      <th>6</th>\n",
       "      <td>Honda</td>\n",
       "      <td>sedan</td>\n",
       "      <td>Petrol</td>\n",
       "      <td>yes</td>\n",
       "      <td>Accord</td>\n",
       "      <td>front</td>\n",
       "    </tr>\n",
       "  </tbody>\n",
       "</table>\n",
       "</div>"
      ],
      "text/plain": [
       "             car       body engType registration    model  drive\n",
       "0           Ford  crossover     Gas          yes     Kuga   full\n",
       "1  Mercedes-Benz      sedan     Gas          yes  E-Class   rear\n",
       "2  Mercedes-Benz      other  Petrol          yes   CL 550   rear\n",
       "3  Mercedes-Benz        van  Diesel          yes    B 180  front\n",
       "4  Mercedes-Benz      vagon   Other          yes  E-Class    NaN\n",
       "5         Nissan  crossover  Petrol          yes  X-Trail   full\n",
       "6          Honda      sedan  Petrol          yes   Accord  front"
      ]
     },
     "execution_count": 59,
     "metadata": {},
     "output_type": "execute_result"
    }
   ],
   "source": [
    "car_ads_ex_number = car_ads.select_dtypes(exclude=[np.number])\n",
    "car_ads_ex_number.head(7) "
   ]
  },
  {
   "cell_type": "markdown",
   "metadata": {},
   "source": [
    "## Map Function\n",
    "The .map() method is used to transform values according to a Python dictionary look-up. "
   ]
  },
  {
   "cell_type": "code",
   "execution_count": 78,
   "metadata": {
    "collapsed": false
   },
   "outputs": [
    {
     "data": {
      "text/html": [
       "<div>\n",
       "<table border=\"1\" class=\"dataframe\">\n",
       "  <thead>\n",
       "    <tr style=\"text-align: right;\">\n",
       "      <th></th>\n",
       "      <th>car</th>\n",
       "      <th>price</th>\n",
       "      <th>body</th>\n",
       "      <th>mileage</th>\n",
       "      <th>engV</th>\n",
       "      <th>engType</th>\n",
       "      <th>registration</th>\n",
       "      <th>year</th>\n",
       "      <th>model</th>\n",
       "      <th>drive</th>\n",
       "      <th>new</th>\n",
       "    </tr>\n",
       "  </thead>\n",
       "  <tbody>\n",
       "    <tr>\n",
       "      <th>0</th>\n",
       "      <td>Ford</td>\n",
       "      <td>15500.0</td>\n",
       "      <td>crossover</td>\n",
       "      <td>68</td>\n",
       "      <td>2.5</td>\n",
       "      <td>Gas</td>\n",
       "      <td>yes</td>\n",
       "      <td>2010</td>\n",
       "      <td>Kuga</td>\n",
       "      <td>full</td>\n",
       "      <td>&lt;map object at 0x1159764e0&gt;</td>\n",
       "    </tr>\n",
       "    <tr>\n",
       "      <th>1</th>\n",
       "      <td>Mercedes-Benz</td>\n",
       "      <td>20500.0</td>\n",
       "      <td>sedan</td>\n",
       "      <td>173</td>\n",
       "      <td>1.8</td>\n",
       "      <td>Gas</td>\n",
       "      <td>yes</td>\n",
       "      <td>2011</td>\n",
       "      <td>E-Class</td>\n",
       "      <td>rear</td>\n",
       "      <td>&lt;map object at 0x1159764e0&gt;</td>\n",
       "    </tr>\n",
       "    <tr>\n",
       "      <th>2</th>\n",
       "      <td>Mercedes-Benz</td>\n",
       "      <td>35000.0</td>\n",
       "      <td>other</td>\n",
       "      <td>135</td>\n",
       "      <td>5.5</td>\n",
       "      <td>Petrol</td>\n",
       "      <td>yes</td>\n",
       "      <td>2008</td>\n",
       "      <td>CL 550</td>\n",
       "      <td>rear</td>\n",
       "      <td>&lt;map object at 0x1159764e0&gt;</td>\n",
       "    </tr>\n",
       "    <tr>\n",
       "      <th>3</th>\n",
       "      <td>Mercedes-Benz</td>\n",
       "      <td>17800.0</td>\n",
       "      <td>van</td>\n",
       "      <td>162</td>\n",
       "      <td>1.8</td>\n",
       "      <td>Diesel</td>\n",
       "      <td>yes</td>\n",
       "      <td>2012</td>\n",
       "      <td>B 180</td>\n",
       "      <td>front</td>\n",
       "      <td>&lt;map object at 0x1159764e0&gt;</td>\n",
       "    </tr>\n",
       "    <tr>\n",
       "      <th>4</th>\n",
       "      <td>Mercedes-Benz</td>\n",
       "      <td>33000.0</td>\n",
       "      <td>vagon</td>\n",
       "      <td>91</td>\n",
       "      <td>NaN</td>\n",
       "      <td>Other</td>\n",
       "      <td>yes</td>\n",
       "      <td>2013</td>\n",
       "      <td>E-Class</td>\n",
       "      <td>NaN</td>\n",
       "      <td>&lt;map object at 0x1159764e0&gt;</td>\n",
       "    </tr>\n",
       "  </tbody>\n",
       "</table>\n",
       "</div>"
      ],
      "text/plain": [
       "             car    price       body  mileage  engV engType registration  \\\n",
       "0           Ford  15500.0  crossover       68   2.5     Gas          yes   \n",
       "1  Mercedes-Benz  20500.0      sedan      173   1.8     Gas          yes   \n",
       "2  Mercedes-Benz  35000.0      other      135   5.5  Petrol          yes   \n",
       "3  Mercedes-Benz  17800.0        van      162   1.8  Diesel          yes   \n",
       "4  Mercedes-Benz  33000.0      vagon       91   NaN   Other          yes   \n",
       "\n",
       "   year    model  drive                          new  \n",
       "0  2010     Kuga   full  <map object at 0x1159764e0>  \n",
       "1  2011  E-Class   rear  <map object at 0x1159764e0>  \n",
       "2  2008   CL 550   rear  <map object at 0x1159764e0>  \n",
       "3  2012    B 180  front  <map object at 0x1159764e0>  \n",
       "4  2013  E-Class    NaN  <map object at 0x1159764e0>  "
      ]
     },
     "execution_count": 78,
     "metadata": {},
     "output_type": "execute_result"
    }
   ],
   "source": [
    "def multiply(x):\n",
    "    x = x*2\n",
    "    \n",
    "car_ads['new'] = map(multiply, car_ads['price'])\n",
    "car_ads.head()"
   ]
  },
  {
   "cell_type": "code",
   "execution_count": 84,
   "metadata": {
    "collapsed": false
   },
   "outputs": [
    {
     "data": {
      "text/html": [
       "<div>\n",
       "<table border=\"1\" class=\"dataframe\">\n",
       "  <thead>\n",
       "    <tr style=\"text-align: right;\">\n",
       "      <th></th>\n",
       "      <th>new</th>\n",
       "    </tr>\n",
       "  </thead>\n",
       "  <tbody>\n",
       "    <tr>\n",
       "      <th>0</th>\n",
       "      <td>&lt;map object at 0x1159764e0&gt;</td>\n",
       "    </tr>\n",
       "    <tr>\n",
       "      <th>1</th>\n",
       "      <td>&lt;map object at 0x1159764e0&gt;</td>\n",
       "    </tr>\n",
       "    <tr>\n",
       "      <th>2</th>\n",
       "      <td>&lt;map object at 0x1159764e0&gt;</td>\n",
       "    </tr>\n",
       "    <tr>\n",
       "      <th>3</th>\n",
       "      <td>&lt;map object at 0x1159764e0&gt;</td>\n",
       "    </tr>\n",
       "    <tr>\n",
       "      <th>4</th>\n",
       "      <td>&lt;map object at 0x1159764e0&gt;</td>\n",
       "    </tr>\n",
       "    <tr>\n",
       "      <th>5</th>\n",
       "      <td>&lt;map object at 0x1159764e0&gt;</td>\n",
       "    </tr>\n",
       "    <tr>\n",
       "      <th>6</th>\n",
       "      <td>&lt;map object at 0x1159764e0&gt;</td>\n",
       "    </tr>\n",
       "    <tr>\n",
       "      <th>7</th>\n",
       "      <td>&lt;map object at 0x1159764e0&gt;</td>\n",
       "    </tr>\n",
       "    <tr>\n",
       "      <th>8</th>\n",
       "      <td>&lt;map object at 0x1159764e0&gt;</td>\n",
       "    </tr>\n",
       "    <tr>\n",
       "      <th>9</th>\n",
       "      <td>&lt;map object at 0x1159764e0&gt;</td>\n",
       "    </tr>\n",
       "    <tr>\n",
       "      <th>10</th>\n",
       "      <td>&lt;map object at 0x1159764e0&gt;</td>\n",
       "    </tr>\n",
       "    <tr>\n",
       "      <th>11</th>\n",
       "      <td>&lt;map object at 0x1159764e0&gt;</td>\n",
       "    </tr>\n",
       "    <tr>\n",
       "      <th>12</th>\n",
       "      <td>&lt;map object at 0x1159764e0&gt;</td>\n",
       "    </tr>\n",
       "    <tr>\n",
       "      <th>13</th>\n",
       "      <td>&lt;map object at 0x1159764e0&gt;</td>\n",
       "    </tr>\n",
       "    <tr>\n",
       "      <th>14</th>\n",
       "      <td>&lt;map object at 0x1159764e0&gt;</td>\n",
       "    </tr>\n",
       "    <tr>\n",
       "      <th>15</th>\n",
       "      <td>&lt;map object at 0x1159764e0&gt;</td>\n",
       "    </tr>\n",
       "    <tr>\n",
       "      <th>16</th>\n",
       "      <td>&lt;map object at 0x1159764e0&gt;</td>\n",
       "    </tr>\n",
       "    <tr>\n",
       "      <th>17</th>\n",
       "      <td>&lt;map object at 0x1159764e0&gt;</td>\n",
       "    </tr>\n",
       "    <tr>\n",
       "      <th>18</th>\n",
       "      <td>&lt;map object at 0x1159764e0&gt;</td>\n",
       "    </tr>\n",
       "    <tr>\n",
       "      <th>19</th>\n",
       "      <td>&lt;map object at 0x1159764e0&gt;</td>\n",
       "    </tr>\n",
       "    <tr>\n",
       "      <th>20</th>\n",
       "      <td>&lt;map object at 0x1159764e0&gt;</td>\n",
       "    </tr>\n",
       "  </tbody>\n",
       "</table>\n",
       "</div>"
      ],
      "text/plain": [
       "                            new\n",
       "0   <map object at 0x1159764e0>\n",
       "1   <map object at 0x1159764e0>\n",
       "2   <map object at 0x1159764e0>\n",
       "3   <map object at 0x1159764e0>\n",
       "4   <map object at 0x1159764e0>\n",
       "5   <map object at 0x1159764e0>\n",
       "6   <map object at 0x1159764e0>\n",
       "7   <map object at 0x1159764e0>\n",
       "8   <map object at 0x1159764e0>\n",
       "9   <map object at 0x1159764e0>\n",
       "10  <map object at 0x1159764e0>\n",
       "11  <map object at 0x1159764e0>\n",
       "12  <map object at 0x1159764e0>\n",
       "13  <map object at 0x1159764e0>\n",
       "14  <map object at 0x1159764e0>\n",
       "15  <map object at 0x1159764e0>\n",
       "16  <map object at 0x1159764e0>\n",
       "17  <map object at 0x1159764e0>\n",
       "18  <map object at 0x1159764e0>\n",
       "19  <map object at 0x1159764e0>\n",
       "20  <map object at 0x1159764e0>"
      ]
     },
     "execution_count": 84,
     "metadata": {},
     "output_type": "execute_result"
    }
   ],
   "source": [
    "car_ads.loc[0:20,['new']]"
   ]
  }
 ],
 "metadata": {
  "anaconda-cloud": {
   "attach-environment": true,
   "url": "https://anaconda.org/ankitind/pandas_basics"
  },
  "kernelspec": {
   "display_name": "Python 3",
   "language": "python",
   "name": "python3"
  },
  "language_info": {
   "codemirror_mode": {
    "name": "ipython",
    "version": 3
   },
   "file_extension": ".py",
   "mimetype": "text/x-python",
   "name": "python",
   "nbconvert_exporter": "python",
   "pygments_lexer": "ipython3",
   "version": "3.5.2"
  }
 },
 "nbformat": 4,
 "nbformat_minor": 1
}
