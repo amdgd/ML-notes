{
 "cells": [
  {
   "cell_type": "markdown",
   "metadata": {},
   "source": [
    "## Series\n",
    "A one-dimensional labeled array capable of holding any data type "
   ]
  },
  {
   "cell_type": "code",
   "execution_count": 1,
   "metadata": {
    "collapsed": true
   },
   "outputs": [],
   "source": [
    "#import pandas\n",
    "import pandas as pd\n",
    "#import numpy\n",
    "import numpy as np"
   ]
  },
  {
   "cell_type": "code",
   "execution_count": 2,
   "metadata": {},
   "outputs": [
    {
     "data": {
      "text/plain": [
       "a       india\n",
       "b    pakistan\n",
       "c       china\n",
       "dtype: object"
      ]
     },
     "execution_count": 2,
     "metadata": {},
     "output_type": "execute_result"
    }
   ],
   "source": [
    "s = pd.Series(['india','pakistan','china'], index=['a','b','c'])\n",
    "s"
   ]
  },
  {
   "cell_type": "markdown",
   "metadata": {},
   "source": [
    "## DataFrame\n",
    "\n",
    "A two-dimensional labeled data structure with columns of potentially different types"
   ]
  },
  {
   "cell_type": "markdown",
   "metadata": {},
   "source": [
    "### Creating a Dataframe with dictionary data"
   ]
  },
  {
   "cell_type": "code",
   "execution_count": 3,
   "metadata": {},
   "outputs": [
    {
     "data": {
      "text/html": [
       "<div>\n",
       "<table border=\"1\" class=\"dataframe\">\n",
       "  <thead>\n",
       "    <tr style=\"text-align: right;\">\n",
       "      <th></th>\n",
       "      <th>Capital</th>\n",
       "      <th>Country</th>\n",
       "      <th>Population</th>\n",
       "    </tr>\n",
       "  </thead>\n",
       "  <tbody>\n",
       "    <tr>\n",
       "      <th>0</th>\n",
       "      <td>Brussels</td>\n",
       "      <td>Belgium</td>\n",
       "      <td>11190846</td>\n",
       "    </tr>\n",
       "    <tr>\n",
       "      <th>1</th>\n",
       "      <td>New Delhi</td>\n",
       "      <td>India</td>\n",
       "      <td>1303171035</td>\n",
       "    </tr>\n",
       "    <tr>\n",
       "      <th>2</th>\n",
       "      <td>Brasilia</td>\n",
       "      <td>Brazil</td>\n",
       "      <td>207847528</td>\n",
       "    </tr>\n",
       "  </tbody>\n",
       "</table>\n",
       "</div>"
      ],
      "text/plain": [
       "     Capital  Country  Population\n",
       "0   Brussels  Belgium    11190846\n",
       "1  New Delhi    India  1303171035\n",
       "2   Brasilia   Brazil   207847528"
      ]
     },
     "execution_count": 3,
     "metadata": {},
     "output_type": "execute_result"
    }
   ],
   "source": [
    "#Creating a dictionary 'data' with strings as keys and lists as value\n",
    "data_from_dic = {\n",
    "        'Country': ['Belgium',  'India',  'Brazil'],\n",
    "        'Capital': ['Brussels',  'New Delhi',  'Brasilia'],\n",
    "        'Population': [11190846, 1303171035, 207847528]\n",
    "        }\n",
    "df_from_dic = pd.DataFrame(data_from_dic)\n",
    "df_from_dic\n"
   ]
  },
  {
   "cell_type": "code",
   "execution_count": 4,
   "metadata": {},
   "outputs": [
    {
     "data": {
      "text/html": [
       "<div>\n",
       "<table border=\"1\" class=\"dataframe\">\n",
       "  <thead>\n",
       "    <tr style=\"text-align: right;\">\n",
       "      <th></th>\n",
       "      <th>year</th>\n",
       "      <th>team</th>\n",
       "      <th>wins</th>\n",
       "      <th>losses</th>\n",
       "    </tr>\n",
       "  </thead>\n",
       "  <tbody>\n",
       "    <tr>\n",
       "      <th>0</th>\n",
       "      <td>2010</td>\n",
       "      <td>Bears</td>\n",
       "      <td>11</td>\n",
       "      <td>5</td>\n",
       "    </tr>\n",
       "    <tr>\n",
       "      <th>1</th>\n",
       "      <td>2011</td>\n",
       "      <td>Bears</td>\n",
       "      <td>8</td>\n",
       "      <td>8</td>\n",
       "    </tr>\n",
       "    <tr>\n",
       "      <th>2</th>\n",
       "      <td>2012</td>\n",
       "      <td>Bears</td>\n",
       "      <td>10</td>\n",
       "      <td>6</td>\n",
       "    </tr>\n",
       "    <tr>\n",
       "      <th>3</th>\n",
       "      <td>2011</td>\n",
       "      <td>Packers</td>\n",
       "      <td>15</td>\n",
       "      <td>1</td>\n",
       "    </tr>\n",
       "    <tr>\n",
       "      <th>4</th>\n",
       "      <td>2012</td>\n",
       "      <td>Packers</td>\n",
       "      <td>11</td>\n",
       "      <td>5</td>\n",
       "    </tr>\n",
       "    <tr>\n",
       "      <th>5</th>\n",
       "      <td>2010</td>\n",
       "      <td>Lions</td>\n",
       "      <td>6</td>\n",
       "      <td>10</td>\n",
       "    </tr>\n",
       "    <tr>\n",
       "      <th>6</th>\n",
       "      <td>2011</td>\n",
       "      <td>Lions</td>\n",
       "      <td>10</td>\n",
       "      <td>6</td>\n",
       "    </tr>\n",
       "    <tr>\n",
       "      <th>7</th>\n",
       "      <td>2012</td>\n",
       "      <td>Lions</td>\n",
       "      <td>4</td>\n",
       "      <td>12</td>\n",
       "    </tr>\n",
       "    <tr>\n",
       "      <th>8</th>\n",
       "      <td>2012</td>\n",
       "      <td>Lions</td>\n",
       "      <td>4</td>\n",
       "      <td>12</td>\n",
       "    </tr>\n",
       "    <tr>\n",
       "      <th>9</th>\n",
       "      <td>2012</td>\n",
       "      <td></td>\n",
       "      <td>0</td>\n",
       "      <td>0</td>\n",
       "    </tr>\n",
       "  </tbody>\n",
       "</table>\n",
       "</div>"
      ],
      "text/plain": [
       "   year     team  wins  losses\n",
       "0  2010    Bears    11       5\n",
       "1  2011    Bears     8       8\n",
       "2  2012    Bears    10       6\n",
       "3  2011  Packers    15       1\n",
       "4  2012  Packers    11       5\n",
       "5  2010    Lions     6      10\n",
       "6  2011    Lions    10       6\n",
       "7  2012    Lions     4      12\n",
       "8  2012    Lions     4      12\n",
       "9  2012              0       0"
      ]
     },
     "execution_count": 4,
     "metadata": {},
     "output_type": "execute_result"
    }
   ],
   "source": [
    "## Dataframe with duplicated entries\n",
    "data = {'year': [2010, 2011, 2012, 2011, 2012, 2010, 2011, 2012,2012, 2012],\n",
    "        'team': ['Bears', 'Bears', 'Bears', 'Packers', 'Packers', 'Lions', 'Lions', 'Lions','Lions',''],\n",
    "        'wins': [11, 8, 10, 15, 11, 6, 10, 4,4, 0],\n",
    "        'losses': [5, 8, 6, 1, 5, 10, 6, 12,12, 0]}\n",
    "football = pd.DataFrame(data, columns=['year', 'team', 'wins', 'losses'])\n",
    "football"
   ]
  },
  {
   "cell_type": "code",
   "execution_count": 5,
   "metadata": {},
   "outputs": [
    {
     "data": {
      "text/html": [
       "<div>\n",
       "<table border=\"1\" class=\"dataframe\">\n",
       "  <thead>\n",
       "    <tr style=\"text-align: right;\">\n",
       "      <th></th>\n",
       "      <th>year</th>\n",
       "      <th>team</th>\n",
       "      <th>wins</th>\n",
       "      <th>losses</th>\n",
       "    </tr>\n",
       "  </thead>\n",
       "  <tbody>\n",
       "    <tr>\n",
       "      <th>9</th>\n",
       "      <td>2012</td>\n",
       "      <td></td>\n",
       "      <td>0</td>\n",
       "      <td>0</td>\n",
       "    </tr>\n",
       "  </tbody>\n",
       "</table>\n",
       "</div>"
      ],
      "text/plain": [
       "   year team  wins  losses\n",
       "9  2012          0       0"
      ]
     },
     "execution_count": 5,
     "metadata": {},
     "output_type": "execute_result"
    }
   ],
   "source": [
    "football[football.wins == 0 ]"
   ]
  },
  {
   "cell_type": "code",
   "execution_count": 6,
   "metadata": {},
   "outputs": [
    {
     "data": {
      "text/plain": [
       "0    False\n",
       "1    False\n",
       "2    False\n",
       "3    False\n",
       "4    False\n",
       "5    False\n",
       "6    False\n",
       "7    False\n",
       "8     True\n",
       "9    False\n",
       "dtype: bool"
      ]
     },
     "execution_count": 6,
     "metadata": {},
     "output_type": "execute_result"
    }
   ],
   "source": [
    "#Find duplicated entries\n",
    "#DataFrame.duplicated(subset=None, keep='first')\n",
    "football.duplicated(['team','year'], keep='first')"
   ]
  },
  {
   "cell_type": "code",
   "execution_count": 7,
   "metadata": {},
   "outputs": [
    {
     "data": {
      "text/html": [
       "<div>\n",
       "<table border=\"1\" class=\"dataframe\">\n",
       "  <thead>\n",
       "    <tr style=\"text-align: right;\">\n",
       "      <th></th>\n",
       "      <th>year</th>\n",
       "      <th>team</th>\n",
       "      <th>wins</th>\n",
       "      <th>losses</th>\n",
       "    </tr>\n",
       "  </thead>\n",
       "  <tbody>\n",
       "    <tr>\n",
       "      <th>8</th>\n",
       "      <td>2012</td>\n",
       "      <td>Lions</td>\n",
       "      <td>4</td>\n",
       "      <td>12</td>\n",
       "    </tr>\n",
       "  </tbody>\n",
       "</table>\n",
       "</div>"
      ],
      "text/plain": [
       "   year   team  wins  losses\n",
       "8  2012  Lions     4      12"
      ]
     },
     "execution_count": 7,
     "metadata": {},
     "output_type": "execute_result"
    }
   ],
   "source": [
    "football[football.duplicated(['team','year'], keep='first')]"
   ]
  },
  {
   "cell_type": "code",
   "execution_count": 8,
   "metadata": {},
   "outputs": [
    {
     "data": {
      "text/html": [
       "<div>\n",
       "<table border=\"1\" class=\"dataframe\">\n",
       "  <thead>\n",
       "    <tr style=\"text-align: right;\">\n",
       "      <th></th>\n",
       "      <th>year</th>\n",
       "      <th>team</th>\n",
       "      <th>wins</th>\n",
       "      <th>losses</th>\n",
       "    </tr>\n",
       "  </thead>\n",
       "  <tbody>\n",
       "    <tr>\n",
       "      <th>0</th>\n",
       "      <td>2010</td>\n",
       "      <td>Bears</td>\n",
       "      <td>11</td>\n",
       "      <td>5</td>\n",
       "    </tr>\n",
       "    <tr>\n",
       "      <th>1</th>\n",
       "      <td>2011</td>\n",
       "      <td>Bears</td>\n",
       "      <td>8</td>\n",
       "      <td>8</td>\n",
       "    </tr>\n",
       "    <tr>\n",
       "      <th>2</th>\n",
       "      <td>2012</td>\n",
       "      <td>Bears</td>\n",
       "      <td>10</td>\n",
       "      <td>6</td>\n",
       "    </tr>\n",
       "    <tr>\n",
       "      <th>3</th>\n",
       "      <td>2011</td>\n",
       "      <td>Packers</td>\n",
       "      <td>15</td>\n",
       "      <td>1</td>\n",
       "    </tr>\n",
       "    <tr>\n",
       "      <th>4</th>\n",
       "      <td>2012</td>\n",
       "      <td>Packers</td>\n",
       "      <td>11</td>\n",
       "      <td>5</td>\n",
       "    </tr>\n",
       "    <tr>\n",
       "      <th>5</th>\n",
       "      <td>2010</td>\n",
       "      <td>Lions</td>\n",
       "      <td>6</td>\n",
       "      <td>10</td>\n",
       "    </tr>\n",
       "    <tr>\n",
       "      <th>6</th>\n",
       "      <td>2011</td>\n",
       "      <td>Lions</td>\n",
       "      <td>10</td>\n",
       "      <td>6</td>\n",
       "    </tr>\n",
       "    <tr>\n",
       "      <th>7</th>\n",
       "      <td>2012</td>\n",
       "      <td>Lions</td>\n",
       "      <td>4</td>\n",
       "      <td>12</td>\n",
       "    </tr>\n",
       "    <tr>\n",
       "      <th>9</th>\n",
       "      <td>2012</td>\n",
       "      <td></td>\n",
       "      <td>0</td>\n",
       "      <td>0</td>\n",
       "    </tr>\n",
       "  </tbody>\n",
       "</table>\n",
       "</div>"
      ],
      "text/plain": [
       "   year     team  wins  losses\n",
       "0  2010    Bears    11       5\n",
       "1  2011    Bears     8       8\n",
       "2  2012    Bears    10       6\n",
       "3  2011  Packers    15       1\n",
       "4  2012  Packers    11       5\n",
       "5  2010    Lions     6      10\n",
       "6  2011    Lions    10       6\n",
       "7  2012    Lions     4      12\n",
       "9  2012              0       0"
      ]
     },
     "execution_count": 8,
     "metadata": {},
     "output_type": "execute_result"
    }
   ],
   "source": [
    "# Drop duplicates\n",
    "#DataFrame.drop_duplicates(subset=None, keep='first', inplace=False)\n",
    "football.drop_duplicates(['year', 'team'], keep='first')"
   ]
  },
  {
   "cell_type": "markdown",
   "metadata": {},
   "source": [
    "### Creating a Dataframe with list"
   ]
  },
  {
   "cell_type": "code",
   "execution_count": 9,
   "metadata": {
    "scrolled": true
   },
   "outputs": [
    {
     "data": {
      "text/html": [
       "<div>\n",
       "<table border=\"1\" class=\"dataframe\">\n",
       "  <thead>\n",
       "    <tr style=\"text-align: right;\">\n",
       "      <th></th>\n",
       "      <th>Country</th>\n",
       "      <th>Capital</th>\n",
       "      <th>Population</th>\n",
       "    </tr>\n",
       "  </thead>\n",
       "  <tbody>\n",
       "    <tr>\n",
       "      <th>1</th>\n",
       "      <td>Belgium</td>\n",
       "      <td>India</td>\n",
       "      <td>Brazil</td>\n",
       "    </tr>\n",
       "    <tr>\n",
       "      <th>2</th>\n",
       "      <td>Brussels</td>\n",
       "      <td>New Delhi</td>\n",
       "      <td>Brasilia</td>\n",
       "    </tr>\n",
       "    <tr>\n",
       "      <th>3</th>\n",
       "      <td>11190846</td>\n",
       "      <td>1303171035</td>\n",
       "      <td>207847528</td>\n",
       "    </tr>\n",
       "  </tbody>\n",
       "</table>\n",
       "</div>"
      ],
      "text/plain": [
       "    Country     Capital Population\n",
       "1   Belgium       India     Brazil\n",
       "2  Brussels   New Delhi   Brasilia\n",
       "3  11190846  1303171035  207847528"
      ]
     },
     "execution_count": 9,
     "metadata": {},
     "output_type": "execute_result"
    }
   ],
   "source": [
    "data_from_list = [\n",
    "    ['Belgium',  'India',  'Brazil'],\n",
    "    ['Brussels',  'New Delhi',  'Brasilia'],\n",
    "    [11190846, 1303171035, 207847528]\n",
    "]\n",
    "df_from_list = pd.DataFrame(data_from_list, columns=['Country',  'Capital',  'Population'], index=[1,2,3])\n",
    "df_from_list\n"
   ]
  },
  {
   "cell_type": "markdown",
   "metadata": {},
   "source": [
    "## Reading a CSV"
   ]
  },
  {
   "cell_type": "code",
   "execution_count": 10,
   "metadata": {},
   "outputs": [
    {
     "name": "stdout",
     "output_type": "stream",
     "text": [
      "<class 'pandas.core.frame.DataFrame'>\n",
      "RangeIndex: 9576 entries, 0 to 9575\n",
      "Data columns (total 10 columns):\n",
      "car             9576 non-null object\n",
      "price           9576 non-null float64\n",
      "body            9576 non-null object\n",
      "mileage         9576 non-null int64\n",
      "engV            9142 non-null float64\n",
      "engType         9576 non-null object\n",
      "registration    9576 non-null object\n",
      "year            9576 non-null int64\n",
      "model           9576 non-null object\n",
      "drive           9065 non-null object\n",
      "dtypes: float64(2), int64(2), object(6)\n",
      "memory usage: 748.2+ KB\n"
     ]
    }
   ],
   "source": [
    "car_dataset_url ='https://raw.githubusercontent.com/ankitind/sample_datasets/master/car_ad.csv'\n",
    "car_ads = pd.read_csv(car_dataset_url, header=0)\n",
    "car_ads.info()"
   ]
  },
  {
   "cell_type": "markdown",
   "metadata": {},
   "source": [
    "### Reading a Dataframe using indexes and loc"
   ]
  },
  {
   "cell_type": "code",
   "execution_count": 11,
   "metadata": {},
   "outputs": [
    {
     "name": "stdout",
     "output_type": "stream",
     "text": [
      "sedan\n",
      "sedan\n",
      "sedan\n",
      "sedan\n",
      "--\n",
      "    body\n",
      "1  sedan\n"
     ]
    }
   ],
   "source": [
    "print(car_ads['body'][1])\n",
    "print(car_ads.body[1])\n",
    "print(car_ads.loc[1, 'body'])\n",
    "print(car_ads.iloc[1, 2])\n",
    "print(\"--\")\n",
    "print(car_ads.ix[1:1, 2:3])"
   ]
  },
  {
   "cell_type": "markdown",
   "metadata": {},
   "source": [
    "## Slicing  Columns and Rows"
   ]
  },
  {
   "cell_type": "markdown",
   "metadata": {},
   "source": [
    "### Seleting specific columns by passing them as a list"
   ]
  },
  {
   "cell_type": "code",
   "execution_count": 12,
   "metadata": {},
   "outputs": [
    {
     "data": {
      "text/html": [
       "<div>\n",
       "<table border=\"1\" class=\"dataframe\">\n",
       "  <thead>\n",
       "    <tr style=\"text-align: right;\">\n",
       "      <th></th>\n",
       "      <th>car</th>\n",
       "      <th>year</th>\n",
       "      <th>body</th>\n",
       "    </tr>\n",
       "  </thead>\n",
       "  <tbody>\n",
       "    <tr>\n",
       "      <th>0</th>\n",
       "      <td>Ford</td>\n",
       "      <td>2010</td>\n",
       "      <td>crossover</td>\n",
       "    </tr>\n",
       "    <tr>\n",
       "      <th>1</th>\n",
       "      <td>Mercedes-Benz</td>\n",
       "      <td>2011</td>\n",
       "      <td>sedan</td>\n",
       "    </tr>\n",
       "    <tr>\n",
       "      <th>2</th>\n",
       "      <td>Mercedes-Benz</td>\n",
       "      <td>2008</td>\n",
       "      <td>other</td>\n",
       "    </tr>\n",
       "    <tr>\n",
       "      <th>3</th>\n",
       "      <td>Mercedes-Benz</td>\n",
       "      <td>2012</td>\n",
       "      <td>van</td>\n",
       "    </tr>\n",
       "  </tbody>\n",
       "</table>\n",
       "</div>"
      ],
      "text/plain": [
       "             car  year       body\n",
       "0           Ford  2010  crossover\n",
       "1  Mercedes-Benz  2011      sedan\n",
       "2  Mercedes-Benz  2008      other\n",
       "3  Mercedes-Benz  2012        van"
      ]
     },
     "execution_count": 12,
     "metadata": {},
     "output_type": "execute_result"
    }
   ],
   "source": [
    "car_ads[['car', 'year','body']].head(4)"
   ]
  },
  {
   "cell_type": "markdown",
   "metadata": {},
   "source": [
    "### Seleting specific rows by doing a boolean operation"
   ]
  },
  {
   "cell_type": "code",
   "execution_count": 13,
   "metadata": {
    "scrolled": true
   },
   "outputs": [
    {
     "data": {
      "text/html": [
       "<div>\n",
       "<table border=\"1\" class=\"dataframe\">\n",
       "  <thead>\n",
       "    <tr style=\"text-align: right;\">\n",
       "      <th></th>\n",
       "      <th>car</th>\n",
       "      <th>price</th>\n",
       "      <th>body</th>\n",
       "      <th>mileage</th>\n",
       "      <th>engV</th>\n",
       "      <th>engType</th>\n",
       "      <th>registration</th>\n",
       "      <th>year</th>\n",
       "      <th>model</th>\n",
       "      <th>drive</th>\n",
       "    </tr>\n",
       "  </thead>\n",
       "  <tbody>\n",
       "    <tr>\n",
       "      <th>334</th>\n",
       "      <td>Toyota</td>\n",
       "      <td>36000.0</td>\n",
       "      <td>crossover</td>\n",
       "      <td>940</td>\n",
       "      <td>NaN</td>\n",
       "      <td>Other</td>\n",
       "      <td>yes</td>\n",
       "      <td>2009</td>\n",
       "      <td>Land Cruiser 200</td>\n",
       "      <td>NaN</td>\n",
       "    </tr>\n",
       "    <tr>\n",
       "      <th>2602</th>\n",
       "      <td>Mercedes-Benz</td>\n",
       "      <td>68700.0</td>\n",
       "      <td>crossover</td>\n",
       "      <td>980</td>\n",
       "      <td>3.0</td>\n",
       "      <td>Diesel</td>\n",
       "      <td>yes</td>\n",
       "      <td>2013</td>\n",
       "      <td>GL 350</td>\n",
       "      <td>full</td>\n",
       "    </tr>\n",
       "    <tr>\n",
       "      <th>4572</th>\n",
       "      <td>Kia</td>\n",
       "      <td>7150.0</td>\n",
       "      <td>hatch</td>\n",
       "      <td>920</td>\n",
       "      <td>1.4</td>\n",
       "      <td>Petrol</td>\n",
       "      <td>yes</td>\n",
       "      <td>2008</td>\n",
       "      <td>Ceed</td>\n",
       "      <td>front</td>\n",
       "    </tr>\n",
       "  </tbody>\n",
       "</table>\n",
       "</div>"
      ],
      "text/plain": [
       "                car    price       body  mileage  engV engType registration  \\\n",
       "334          Toyota  36000.0  crossover      940   NaN   Other          yes   \n",
       "2602  Mercedes-Benz  68700.0  crossover      980   3.0  Diesel          yes   \n",
       "4572            Kia   7150.0      hatch      920   1.4  Petrol          yes   \n",
       "\n",
       "      year             model  drive  \n",
       "334   2009  Land Cruiser 200    NaN  \n",
       "2602  2013            GL 350   full  \n",
       "4572  2008              Ceed  front  "
      ]
     },
     "execution_count": 13,
     "metadata": {},
     "output_type": "execute_result"
    }
   ],
   "source": [
    "car_ads[car_ads.mileage>900][0:3].head(4)"
   ]
  },
  {
   "cell_type": "code",
   "execution_count": 14,
   "metadata": {},
   "outputs": [
    {
     "data": {
      "text/html": [
       "<div>\n",
       "<table border=\"1\" class=\"dataframe\">\n",
       "  <thead>\n",
       "    <tr style=\"text-align: right;\">\n",
       "      <th></th>\n",
       "      <th>car</th>\n",
       "      <th>price</th>\n",
       "      <th>body</th>\n",
       "      <th>mileage</th>\n",
       "      <th>engV</th>\n",
       "      <th>engType</th>\n",
       "      <th>registration</th>\n",
       "      <th>year</th>\n",
       "      <th>model</th>\n",
       "      <th>drive</th>\n",
       "    </tr>\n",
       "  </thead>\n",
       "  <tbody>\n",
       "    <tr>\n",
       "      <th>334</th>\n",
       "      <td>Toyota</td>\n",
       "      <td>36000.0</td>\n",
       "      <td>crossover</td>\n",
       "      <td>940</td>\n",
       "      <td>NaN</td>\n",
       "      <td>Other</td>\n",
       "      <td>yes</td>\n",
       "      <td>2009</td>\n",
       "      <td>Land Cruiser 200</td>\n",
       "      <td>NaN</td>\n",
       "    </tr>\n",
       "    <tr>\n",
       "      <th>666</th>\n",
       "      <td>BMW</td>\n",
       "      <td>30500.0</td>\n",
       "      <td>sedan</td>\n",
       "      <td>630</td>\n",
       "      <td>NaN</td>\n",
       "      <td>Petrol</td>\n",
       "      <td>yes</td>\n",
       "      <td>2010</td>\n",
       "      <td>523</td>\n",
       "      <td>rear</td>\n",
       "    </tr>\n",
       "    <tr>\n",
       "      <th>667</th>\n",
       "      <td>BMW</td>\n",
       "      <td>29500.0</td>\n",
       "      <td>sedan</td>\n",
       "      <td>850</td>\n",
       "      <td>NaN</td>\n",
       "      <td>Petrol</td>\n",
       "      <td>yes</td>\n",
       "      <td>2011</td>\n",
       "      <td>523</td>\n",
       "      <td>rear</td>\n",
       "    </tr>\n",
       "    <tr>\n",
       "      <th>668</th>\n",
       "      <td>Nissan</td>\n",
       "      <td>14500.0</td>\n",
       "      <td>crossover</td>\n",
       "      <td>740</td>\n",
       "      <td>2.0</td>\n",
       "      <td>Petrol</td>\n",
       "      <td>yes</td>\n",
       "      <td>2008</td>\n",
       "      <td>X-Trail</td>\n",
       "      <td>full</td>\n",
       "    </tr>\n",
       "    <tr>\n",
       "      <th>1524</th>\n",
       "      <td>Skoda</td>\n",
       "      <td>14900.0</td>\n",
       "      <td>hatch</td>\n",
       "      <td>710</td>\n",
       "      <td>1.8</td>\n",
       "      <td>Petrol</td>\n",
       "      <td>yes</td>\n",
       "      <td>2012</td>\n",
       "      <td>Octavia A5</td>\n",
       "      <td>front</td>\n",
       "    </tr>\n",
       "    <tr>\n",
       "      <th>1676</th>\n",
       "      <td>Bentley</td>\n",
       "      <td>117000.0</td>\n",
       "      <td>sedan</td>\n",
       "      <td>830</td>\n",
       "      <td>6.0</td>\n",
       "      <td>Petrol</td>\n",
       "      <td>yes</td>\n",
       "      <td>2011</td>\n",
       "      <td>Flying Spur</td>\n",
       "      <td>full</td>\n",
       "    </tr>\n",
       "    <tr>\n",
       "      <th>1889</th>\n",
       "      <td>Volkswagen</td>\n",
       "      <td>20500.0</td>\n",
       "      <td>hatch</td>\n",
       "      <td>800</td>\n",
       "      <td>2.0</td>\n",
       "      <td>Diesel</td>\n",
       "      <td>yes</td>\n",
       "      <td>2013</td>\n",
       "      <td>Golf VII</td>\n",
       "      <td>front</td>\n",
       "    </tr>\n",
       "  </tbody>\n",
       "</table>\n",
       "</div>"
      ],
      "text/plain": [
       "             car     price       body  mileage  engV engType registration  \\\n",
       "334       Toyota   36000.0  crossover      940   NaN   Other          yes   \n",
       "666          BMW   30500.0      sedan      630   NaN  Petrol          yes   \n",
       "667          BMW   29500.0      sedan      850   NaN  Petrol          yes   \n",
       "668       Nissan   14500.0  crossover      740   2.0  Petrol          yes   \n",
       "1524       Skoda   14900.0      hatch      710   1.8  Petrol          yes   \n",
       "1676     Bentley  117000.0      sedan      830   6.0  Petrol          yes   \n",
       "1889  Volkswagen   20500.0      hatch      800   2.0  Diesel          yes   \n",
       "\n",
       "      year             model  drive  \n",
       "334   2009  Land Cruiser 200    NaN  \n",
       "666   2010               523   rear  \n",
       "667   2011               523   rear  \n",
       "668   2008           X-Trail   full  \n",
       "1524  2012        Octavia A5  front  \n",
       "1676  2011       Flying Spur   full  \n",
       "1889  2013          Golf VII  front  "
      ]
     },
     "execution_count": 14,
     "metadata": {},
     "output_type": "execute_result"
    }
   ],
   "source": [
    "#or\n",
    "car_ads[(car_ads.mileage>500) & (car_ads.price>10000)].head(7)"
   ]
  },
  {
   "cell_type": "code",
   "execution_count": 15,
   "metadata": {},
   "outputs": [
    {
     "data": {
      "text/html": [
       "<div>\n",
       "<table border=\"1\" class=\"dataframe\">\n",
       "  <thead>\n",
       "    <tr style=\"text-align: right;\">\n",
       "      <th></th>\n",
       "      <th>body</th>\n",
       "      <th>mileage</th>\n",
       "      <th>engV</th>\n",
       "    </tr>\n",
       "  </thead>\n",
       "  <tbody>\n",
       "    <tr>\n",
       "      <th>0</th>\n",
       "      <td>crossover</td>\n",
       "      <td>68</td>\n",
       "      <td>2.5</td>\n",
       "    </tr>\n",
       "    <tr>\n",
       "      <th>1</th>\n",
       "      <td>sedan</td>\n",
       "      <td>173</td>\n",
       "      <td>1.8</td>\n",
       "    </tr>\n",
       "    <tr>\n",
       "      <th>2</th>\n",
       "      <td>other</td>\n",
       "      <td>135</td>\n",
       "      <td>5.5</td>\n",
       "    </tr>\n",
       "    <tr>\n",
       "      <th>3</th>\n",
       "      <td>van</td>\n",
       "      <td>162</td>\n",
       "      <td>1.8</td>\n",
       "    </tr>\n",
       "    <tr>\n",
       "      <th>4</th>\n",
       "      <td>vagon</td>\n",
       "      <td>91</td>\n",
       "      <td>NaN</td>\n",
       "    </tr>\n",
       "  </tbody>\n",
       "</table>\n",
       "</div>"
      ],
      "text/plain": [
       "        body  mileage  engV\n",
       "0  crossover       68   2.5\n",
       "1      sedan      173   1.8\n",
       "2      other      135   5.5\n",
       "3        van      162   1.8\n",
       "4      vagon       91   NaN"
      ]
     },
     "execution_count": 15,
     "metadata": {},
     "output_type": "execute_result"
    }
   ],
   "source": [
    "car_ads.ix[0:20,'body':'engV'].head()"
   ]
  },
  {
   "cell_type": "code",
   "execution_count": 16,
   "metadata": {
    "scrolled": true
   },
   "outputs": [
    {
     "data": {
      "text/html": [
       "<div>\n",
       "<table border=\"1\" class=\"dataframe\">\n",
       "  <thead>\n",
       "    <tr style=\"text-align: right;\">\n",
       "      <th></th>\n",
       "      <th>body</th>\n",
       "      <th>engV</th>\n",
       "    </tr>\n",
       "  </thead>\n",
       "  <tbody>\n",
       "    <tr>\n",
       "      <th>0</th>\n",
       "      <td>crossover</td>\n",
       "      <td>2.5</td>\n",
       "    </tr>\n",
       "    <tr>\n",
       "      <th>1</th>\n",
       "      <td>sedan</td>\n",
       "      <td>1.8</td>\n",
       "    </tr>\n",
       "    <tr>\n",
       "      <th>2</th>\n",
       "      <td>other</td>\n",
       "      <td>5.5</td>\n",
       "    </tr>\n",
       "    <tr>\n",
       "      <th>3</th>\n",
       "      <td>van</td>\n",
       "      <td>1.8</td>\n",
       "    </tr>\n",
       "    <tr>\n",
       "      <th>4</th>\n",
       "      <td>vagon</td>\n",
       "      <td>NaN</td>\n",
       "    </tr>\n",
       "  </tbody>\n",
       "</table>\n",
       "</div>"
      ],
      "text/plain": [
       "        body  engV\n",
       "0  crossover   2.5\n",
       "1      sedan   1.8\n",
       "2      other   5.5\n",
       "3        van   1.8\n",
       "4      vagon   NaN"
      ]
     },
     "execution_count": 16,
     "metadata": {},
     "output_type": "execute_result"
    }
   ],
   "source": [
    "#Slicing by providing list \n",
    "car_ads.ix[0:20,['body','engV']].head()"
   ]
  },
  {
   "cell_type": "code",
   "execution_count": 17,
   "metadata": {
    "scrolled": true
   },
   "outputs": [
    {
     "data": {
      "text/html": [
       "<div>\n",
       "<table border=\"1\" class=\"dataframe\">\n",
       "  <thead>\n",
       "    <tr style=\"text-align: right;\">\n",
       "      <th></th>\n",
       "      <th>body</th>\n",
       "      <th>mileage</th>\n",
       "      <th>engV</th>\n",
       "    </tr>\n",
       "  </thead>\n",
       "  <tbody>\n",
       "    <tr>\n",
       "      <th>334</th>\n",
       "      <td>crossover</td>\n",
       "      <td>940</td>\n",
       "      <td>NaN</td>\n",
       "    </tr>\n",
       "    <tr>\n",
       "      <th>2602</th>\n",
       "      <td>crossover</td>\n",
       "      <td>980</td>\n",
       "      <td>3.0</td>\n",
       "    </tr>\n",
       "    <tr>\n",
       "      <th>4572</th>\n",
       "      <td>hatch</td>\n",
       "      <td>920</td>\n",
       "      <td>1.4</td>\n",
       "    </tr>\n",
       "    <tr>\n",
       "      <th>6857</th>\n",
       "      <td>sedan</td>\n",
       "      <td>999</td>\n",
       "      <td>1.3</td>\n",
       "    </tr>\n",
       "  </tbody>\n",
       "</table>\n",
       "</div>"
      ],
      "text/plain": [
       "           body  mileage  engV\n",
       "334   crossover      940   NaN\n",
       "2602  crossover      980   3.0\n",
       "4572      hatch      920   1.4\n",
       "6857      sedan      999   1.3"
      ]
     },
     "execution_count": 17,
     "metadata": {},
     "output_type": "execute_result"
    }
   ],
   "source": [
    "car_ads.ix[car_ads.mileage>900, 'body':'engV'].head(4)"
   ]
  },
  {
   "cell_type": "markdown",
   "metadata": {},
   "source": [
    "### Series vs 1-column Dataframe Slicing"
   ]
  },
  {
   "cell_type": "code",
   "execution_count": 18,
   "metadata": {},
   "outputs": [
    {
     "data": {
      "text/plain": [
       "0    crossover\n",
       "1        sedan\n",
       "2        other\n",
       "3          van\n",
       "4        vagon\n",
       "Name: body, dtype: object"
      ]
     },
     "execution_count": 18,
     "metadata": {},
     "output_type": "execute_result"
    }
   ],
   "source": [
    "#series  (by providing string)\n",
    "car_ads['body'].head()"
   ]
  },
  {
   "cell_type": "code",
   "execution_count": 19,
   "metadata": {},
   "outputs": [
    {
     "data": {
      "text/html": [
       "<div>\n",
       "<table border=\"1\" class=\"dataframe\">\n",
       "  <thead>\n",
       "    <tr style=\"text-align: right;\">\n",
       "      <th></th>\n",
       "      <th>body</th>\n",
       "    </tr>\n",
       "  </thead>\n",
       "  <tbody>\n",
       "    <tr>\n",
       "      <th>0</th>\n",
       "      <td>crossover</td>\n",
       "    </tr>\n",
       "    <tr>\n",
       "      <th>1</th>\n",
       "      <td>sedan</td>\n",
       "    </tr>\n",
       "    <tr>\n",
       "      <th>2</th>\n",
       "      <td>other</td>\n",
       "    </tr>\n",
       "    <tr>\n",
       "      <th>3</th>\n",
       "      <td>van</td>\n",
       "    </tr>\n",
       "    <tr>\n",
       "      <th>4</th>\n",
       "      <td>vagon</td>\n",
       "    </tr>\n",
       "  </tbody>\n",
       "</table>\n",
       "</div>"
      ],
      "text/plain": [
       "        body\n",
       "0  crossover\n",
       "1      sedan\n",
       "2      other\n",
       "3        van\n",
       "4      vagon"
      ]
     },
     "execution_count": 19,
     "metadata": {},
     "output_type": "execute_result"
    }
   ],
   "source": [
    "#1-Column Dataframe (by providing list)\n",
    "car_ads[['body']].head()"
   ]
  },
  {
   "cell_type": "code",
   "execution_count": 20,
   "metadata": {},
   "outputs": [
    {
     "data": {
      "text/html": [
       "<div>\n",
       "<table border=\"1\" class=\"dataframe\">\n",
       "  <thead>\n",
       "    <tr style=\"text-align: right;\">\n",
       "      <th></th>\n",
       "      <th>body</th>\n",
       "      <th>price</th>\n",
       "    </tr>\n",
       "  </thead>\n",
       "  <tbody>\n",
       "    <tr>\n",
       "      <th>0</th>\n",
       "      <td>crossover</td>\n",
       "      <td>15500.0</td>\n",
       "    </tr>\n",
       "    <tr>\n",
       "      <th>1</th>\n",
       "      <td>sedan</td>\n",
       "      <td>20500.0</td>\n",
       "    </tr>\n",
       "    <tr>\n",
       "      <th>2</th>\n",
       "      <td>other</td>\n",
       "      <td>35000.0</td>\n",
       "    </tr>\n",
       "    <tr>\n",
       "      <th>3</th>\n",
       "      <td>van</td>\n",
       "      <td>17800.0</td>\n",
       "    </tr>\n",
       "    <tr>\n",
       "      <th>4</th>\n",
       "      <td>vagon</td>\n",
       "      <td>33000.0</td>\n",
       "    </tr>\n",
       "  </tbody>\n",
       "</table>\n",
       "</div>"
      ],
      "text/plain": [
       "        body    price\n",
       "0  crossover  15500.0\n",
       "1      sedan  20500.0\n",
       "2      other  35000.0\n",
       "3        van  17800.0\n",
       "4      vagon  33000.0"
      ]
     },
     "execution_count": 20,
     "metadata": {},
     "output_type": "execute_result"
    }
   ],
   "source": [
    "#2-Column Dataframe (by providing list)\n",
    "car_ads[['body', 'price']].head()"
   ]
  },
  {
   "cell_type": "code",
   "execution_count": 21,
   "metadata": {},
   "outputs": [
    {
     "data": {
      "text/html": [
       "<div>\n",
       "<table border=\"1\" class=\"dataframe\">\n",
       "  <thead>\n",
       "    <tr style=\"text-align: right;\">\n",
       "      <th></th>\n",
       "      <th>body</th>\n",
       "      <th>price</th>\n",
       "    </tr>\n",
       "  </thead>\n",
       "  <tbody>\n",
       "    <tr>\n",
       "      <th>1</th>\n",
       "      <td>sedan</td>\n",
       "      <td>20500.0</td>\n",
       "    </tr>\n",
       "    <tr>\n",
       "      <th>2</th>\n",
       "      <td>other</td>\n",
       "      <td>35000.0</td>\n",
       "    </tr>\n",
       "  </tbody>\n",
       "</table>\n",
       "</div>"
      ],
      "text/plain": [
       "    body    price\n",
       "1  sedan  20500.0\n",
       "2  other  35000.0"
      ]
     },
     "execution_count": 21,
     "metadata": {},
     "output_type": "execute_result"
    }
   ],
   "source": [
    "#2-Column Dataframe (by providing list)\n",
    "car_ads.loc[1:2,['body', 'price']]"
   ]
  },
  {
   "cell_type": "markdown",
   "metadata": {},
   "source": [
    "### Slicing in Reverse order"
   ]
  },
  {
   "cell_type": "markdown",
   "metadata": {},
   "source": [
    "Slice the row labels 4 to 1 in reverse order. \n",
    "To do this for hypothetical row labels 'a' and 'b', you could use a stepsize of -1 like so: df.loc['b':'a':-1].m"
   ]
  },
  {
   "cell_type": "code",
   "execution_count": 22,
   "metadata": {},
   "outputs": [
    {
     "data": {
      "text/html": [
       "<div>\n",
       "<table border=\"1\" class=\"dataframe\">\n",
       "  <thead>\n",
       "    <tr style=\"text-align: right;\">\n",
       "      <th></th>\n",
       "      <th>body</th>\n",
       "      <th>price</th>\n",
       "    </tr>\n",
       "  </thead>\n",
       "  <tbody>\n",
       "    <tr>\n",
       "      <th>9</th>\n",
       "      <td>sedan</td>\n",
       "      <td>22700.0</td>\n",
       "    </tr>\n",
       "    <tr>\n",
       "      <th>8</th>\n",
       "      <td>sedan</td>\n",
       "      <td>21500.0</td>\n",
       "    </tr>\n",
       "    <tr>\n",
       "      <th>7</th>\n",
       "      <td>vagon</td>\n",
       "      <td>10500.0</td>\n",
       "    </tr>\n",
       "    <tr>\n",
       "      <th>6</th>\n",
       "      <td>sedan</td>\n",
       "      <td>6500.0</td>\n",
       "    </tr>\n",
       "    <tr>\n",
       "      <th>5</th>\n",
       "      <td>crossover</td>\n",
       "      <td>16600.0</td>\n",
       "    </tr>\n",
       "    <tr>\n",
       "      <th>4</th>\n",
       "      <td>vagon</td>\n",
       "      <td>33000.0</td>\n",
       "    </tr>\n",
       "    <tr>\n",
       "      <th>3</th>\n",
       "      <td>van</td>\n",
       "      <td>17800.0</td>\n",
       "    </tr>\n",
       "    <tr>\n",
       "      <th>2</th>\n",
       "      <td>other</td>\n",
       "      <td>35000.0</td>\n",
       "    </tr>\n",
       "    <tr>\n",
       "      <th>1</th>\n",
       "      <td>sedan</td>\n",
       "      <td>20500.0</td>\n",
       "    </tr>\n",
       "  </tbody>\n",
       "</table>\n",
       "</div>"
      ],
      "text/plain": [
       "        body    price\n",
       "9      sedan  22700.0\n",
       "8      sedan  21500.0\n",
       "7      vagon  10500.0\n",
       "6      sedan   6500.0\n",
       "5  crossover  16600.0\n",
       "4      vagon  33000.0\n",
       "3        van  17800.0\n",
       "2      other  35000.0\n",
       "1      sedan  20500.0"
      ]
     },
     "execution_count": 22,
     "metadata": {},
     "output_type": "execute_result"
    }
   ],
   "source": [
    "car_ads.loc[9:1:-1,['body', 'price']]"
   ]
  },
  {
   "cell_type": "markdown",
   "metadata": {},
   "source": [
    "### Filtering with multiple Boolean Operators"
   ]
  },
  {
   "cell_type": "code",
   "execution_count": 23,
   "metadata": {},
   "outputs": [
    {
     "data": {
      "text/html": [
       "<div>\n",
       "<table border=\"1\" class=\"dataframe\">\n",
       "  <thead>\n",
       "    <tr style=\"text-align: right;\">\n",
       "      <th></th>\n",
       "      <th>car</th>\n",
       "      <th>price</th>\n",
       "      <th>body</th>\n",
       "      <th>mileage</th>\n",
       "      <th>engV</th>\n",
       "      <th>engType</th>\n",
       "      <th>registration</th>\n",
       "      <th>year</th>\n",
       "      <th>model</th>\n",
       "      <th>drive</th>\n",
       "    </tr>\n",
       "  </thead>\n",
       "  <tbody>\n",
       "    <tr>\n",
       "      <th>1611</th>\n",
       "      <td>Bentley</td>\n",
       "      <td>499999.0</td>\n",
       "      <td>crossover</td>\n",
       "      <td>0</td>\n",
       "      <td>6.0</td>\n",
       "      <td>Petrol</td>\n",
       "      <td>yes</td>\n",
       "      <td>2016</td>\n",
       "      <td>Bentayga</td>\n",
       "      <td>full</td>\n",
       "    </tr>\n",
       "    <tr>\n",
       "      <th>4134</th>\n",
       "      <td>Bentley</td>\n",
       "      <td>449999.0</td>\n",
       "      <td>crossover</td>\n",
       "      <td>0</td>\n",
       "      <td>6.0</td>\n",
       "      <td>Petrol</td>\n",
       "      <td>yes</td>\n",
       "      <td>2016</td>\n",
       "      <td>Bentayga</td>\n",
       "      <td>full</td>\n",
       "    </tr>\n",
       "    <tr>\n",
       "      <th>5074</th>\n",
       "      <td>Mercedes-Benz</td>\n",
       "      <td>222000.0</td>\n",
       "      <td>crossover</td>\n",
       "      <td>0</td>\n",
       "      <td>6.3</td>\n",
       "      <td>Petrol</td>\n",
       "      <td>yes</td>\n",
       "      <td>2016</td>\n",
       "      <td>S 63 AMG</td>\n",
       "      <td>full</td>\n",
       "    </tr>\n",
       "    <tr>\n",
       "      <th>7914</th>\n",
       "      <td>Bentley</td>\n",
       "      <td>499999.0</td>\n",
       "      <td>crossover</td>\n",
       "      <td>0</td>\n",
       "      <td>6.0</td>\n",
       "      <td>Petrol</td>\n",
       "      <td>yes</td>\n",
       "      <td>2016</td>\n",
       "      <td>Bentayga</td>\n",
       "      <td>full</td>\n",
       "    </tr>\n",
       "    <tr>\n",
       "      <th>8205</th>\n",
       "      <td>Land Rover</td>\n",
       "      <td>285000.0</td>\n",
       "      <td>crossover</td>\n",
       "      <td>0</td>\n",
       "      <td>5.0</td>\n",
       "      <td>Petrol</td>\n",
       "      <td>yes</td>\n",
       "      <td>2016</td>\n",
       "      <td>Range Rover</td>\n",
       "      <td>full</td>\n",
       "    </tr>\n",
       "  </tbody>\n",
       "</table>\n",
       "</div>"
      ],
      "text/plain": [
       "                car     price       body  mileage  engV engType registration  \\\n",
       "1611        Bentley  499999.0  crossover        0   6.0  Petrol          yes   \n",
       "4134        Bentley  449999.0  crossover        0   6.0  Petrol          yes   \n",
       "5074  Mercedes-Benz  222000.0  crossover        0   6.3  Petrol          yes   \n",
       "7914        Bentley  499999.0  crossover        0   6.0  Petrol          yes   \n",
       "8205     Land Rover  285000.0  crossover        0   5.0  Petrol          yes   \n",
       "\n",
       "      year        model drive  \n",
       "1611  2016     Bentayga  full  \n",
       "4134  2016     Bentayga  full  \n",
       "5074  2016     S 63 AMG  full  \n",
       "7914  2016     Bentayga  full  \n",
       "8205  2016  Range Rover  full  "
      ]
     },
     "execution_count": 23,
     "metadata": {},
     "output_type": "execute_result"
    }
   ],
   "source": [
    "car_ads[(car_ads.price > 200000) & (car_ads.year > 2014) & (car_ads.body == 'crossover')]\n"
   ]
  },
  {
   "cell_type": "markdown",
   "metadata": {},
   "source": [
    "### Apply functions"
   ]
  },
  {
   "cell_type": "code",
   "execution_count": 24,
   "metadata": {},
   "outputs": [
    {
     "data": {
      "text/plain": [
       "0             Ford\n",
       "1    Mercedes-benz\n",
       "2    Mercedes-benz\n",
       "3    Mercedes-benz\n",
       "4    Mercedes-benz\n",
       "5           Nissan\n",
       "6            Honda\n",
       "Name: car, dtype: object"
      ]
     },
     "execution_count": 24,
     "metadata": {},
     "output_type": "execute_result"
    }
   ],
   "source": [
    "def capitalfuc(x):\n",
    "    return x.capitalize() \n",
    "\n",
    "car_ads_lower = car_ads['car'].apply(capitalfuc)\n",
    "car_ads_lower.head(7)\n",
    "#print(upperfuc(\"asd\"))"
   ]
  },
  {
   "cell_type": "markdown",
   "metadata": {},
   "source": [
    "#### Using Lambda function"
   ]
  },
  {
   "cell_type": "code",
   "execution_count": 25,
   "metadata": {},
   "outputs": [
    {
     "data": {
      "text/plain": [
       "0             FORD\n",
       "1    MERCEDES-BENZ\n",
       "2    MERCEDES-BENZ\n",
       "3    MERCEDES-BENZ\n",
       "4    MERCEDES-BENZ\n",
       "5           NISSAN\n",
       "6            HONDA\n",
       "Name: car, dtype: object"
      ]
     },
     "execution_count": 25,
     "metadata": {},
     "output_type": "execute_result"
    }
   ],
   "source": [
    "car_ads_upper = car_ads['car'].apply(lambda x: x.upper())\n",
    "car_ads_upper.head(7)\n",
    "#print(upperfuc(\"asd\"))"
   ]
  },
  {
   "cell_type": "markdown",
   "metadata": {},
   "source": [
    "### Seelcting columns based on data types"
   ]
  },
  {
   "cell_type": "code",
   "execution_count": 26,
   "metadata": {},
   "outputs": [
    {
     "data": {
      "text/html": [
       "<div>\n",
       "<table border=\"1\" class=\"dataframe\">\n",
       "  <thead>\n",
       "    <tr style=\"text-align: right;\">\n",
       "      <th></th>\n",
       "      <th>car</th>\n",
       "      <th>body</th>\n",
       "      <th>engType</th>\n",
       "      <th>registration</th>\n",
       "      <th>model</th>\n",
       "      <th>drive</th>\n",
       "    </tr>\n",
       "  </thead>\n",
       "  <tbody>\n",
       "    <tr>\n",
       "      <th>0</th>\n",
       "      <td>Ford</td>\n",
       "      <td>crossover</td>\n",
       "      <td>Gas</td>\n",
       "      <td>yes</td>\n",
       "      <td>Kuga</td>\n",
       "      <td>full</td>\n",
       "    </tr>\n",
       "    <tr>\n",
       "      <th>1</th>\n",
       "      <td>Mercedes-Benz</td>\n",
       "      <td>sedan</td>\n",
       "      <td>Gas</td>\n",
       "      <td>yes</td>\n",
       "      <td>E-Class</td>\n",
       "      <td>rear</td>\n",
       "    </tr>\n",
       "    <tr>\n",
       "      <th>2</th>\n",
       "      <td>Mercedes-Benz</td>\n",
       "      <td>other</td>\n",
       "      <td>Petrol</td>\n",
       "      <td>yes</td>\n",
       "      <td>CL 550</td>\n",
       "      <td>rear</td>\n",
       "    </tr>\n",
       "    <tr>\n",
       "      <th>3</th>\n",
       "      <td>Mercedes-Benz</td>\n",
       "      <td>van</td>\n",
       "      <td>Diesel</td>\n",
       "      <td>yes</td>\n",
       "      <td>B 180</td>\n",
       "      <td>front</td>\n",
       "    </tr>\n",
       "    <tr>\n",
       "      <th>4</th>\n",
       "      <td>Mercedes-Benz</td>\n",
       "      <td>vagon</td>\n",
       "      <td>Other</td>\n",
       "      <td>yes</td>\n",
       "      <td>E-Class</td>\n",
       "      <td>NaN</td>\n",
       "    </tr>\n",
       "    <tr>\n",
       "      <th>5</th>\n",
       "      <td>Nissan</td>\n",
       "      <td>crossover</td>\n",
       "      <td>Petrol</td>\n",
       "      <td>yes</td>\n",
       "      <td>X-Trail</td>\n",
       "      <td>full</td>\n",
       "    </tr>\n",
       "    <tr>\n",
       "      <th>6</th>\n",
       "      <td>Honda</td>\n",
       "      <td>sedan</td>\n",
       "      <td>Petrol</td>\n",
       "      <td>yes</td>\n",
       "      <td>Accord</td>\n",
       "      <td>front</td>\n",
       "    </tr>\n",
       "  </tbody>\n",
       "</table>\n",
       "</div>"
      ],
      "text/plain": [
       "             car       body engType registration    model  drive\n",
       "0           Ford  crossover     Gas          yes     Kuga   full\n",
       "1  Mercedes-Benz      sedan     Gas          yes  E-Class   rear\n",
       "2  Mercedes-Benz      other  Petrol          yes   CL 550   rear\n",
       "3  Mercedes-Benz        van  Diesel          yes    B 180  front\n",
       "4  Mercedes-Benz      vagon   Other          yes  E-Class    NaN\n",
       "5         Nissan  crossover  Petrol          yes  X-Trail   full\n",
       "6          Honda      sedan  Petrol          yes   Accord  front"
      ]
     },
     "execution_count": 26,
     "metadata": {},
     "output_type": "execute_result"
    }
   ],
   "source": [
    "car_ads_object = car_ads.select_dtypes(include=[object])\n",
    "car_ads_object.head(7) "
   ]
  },
  {
   "cell_type": "code",
   "execution_count": 27,
   "metadata": {},
   "outputs": [
    {
     "data": {
      "text/html": [
       "<div>\n",
       "<table border=\"1\" class=\"dataframe\">\n",
       "  <thead>\n",
       "    <tr style=\"text-align: right;\">\n",
       "      <th></th>\n",
       "      <th>mileage</th>\n",
       "      <th>year</th>\n",
       "    </tr>\n",
       "  </thead>\n",
       "  <tbody>\n",
       "    <tr>\n",
       "      <th>0</th>\n",
       "      <td>68</td>\n",
       "      <td>2010</td>\n",
       "    </tr>\n",
       "    <tr>\n",
       "      <th>1</th>\n",
       "      <td>173</td>\n",
       "      <td>2011</td>\n",
       "    </tr>\n",
       "    <tr>\n",
       "      <th>2</th>\n",
       "      <td>135</td>\n",
       "      <td>2008</td>\n",
       "    </tr>\n",
       "    <tr>\n",
       "      <th>3</th>\n",
       "      <td>162</td>\n",
       "      <td>2012</td>\n",
       "    </tr>\n",
       "    <tr>\n",
       "      <th>4</th>\n",
       "      <td>91</td>\n",
       "      <td>2013</td>\n",
       "    </tr>\n",
       "    <tr>\n",
       "      <th>5</th>\n",
       "      <td>83</td>\n",
       "      <td>2013</td>\n",
       "    </tr>\n",
       "    <tr>\n",
       "      <th>6</th>\n",
       "      <td>199</td>\n",
       "      <td>2003</td>\n",
       "    </tr>\n",
       "  </tbody>\n",
       "</table>\n",
       "</div>"
      ],
      "text/plain": [
       "   mileage  year\n",
       "0       68  2010\n",
       "1      173  2011\n",
       "2      135  2008\n",
       "3      162  2012\n",
       "4       91  2013\n",
       "5       83  2013\n",
       "6      199  2003"
      ]
     },
     "execution_count": 27,
     "metadata": {},
     "output_type": "execute_result"
    }
   ],
   "source": [
    "car_ads_int = car_ads.select_dtypes(include=[int])\n",
    "car_ads_int.head(7) "
   ]
  },
  {
   "cell_type": "code",
   "execution_count": 28,
   "metadata": {},
   "outputs": [
    {
     "data": {
      "text/html": [
       "<div>\n",
       "<table border=\"1\" class=\"dataframe\">\n",
       "  <thead>\n",
       "    <tr style=\"text-align: right;\">\n",
       "      <th></th>\n",
       "      <th>price</th>\n",
       "      <th>engV</th>\n",
       "    </tr>\n",
       "  </thead>\n",
       "  <tbody>\n",
       "    <tr>\n",
       "      <th>0</th>\n",
       "      <td>15500.0</td>\n",
       "      <td>2.5</td>\n",
       "    </tr>\n",
       "    <tr>\n",
       "      <th>1</th>\n",
       "      <td>20500.0</td>\n",
       "      <td>1.8</td>\n",
       "    </tr>\n",
       "    <tr>\n",
       "      <th>2</th>\n",
       "      <td>35000.0</td>\n",
       "      <td>5.5</td>\n",
       "    </tr>\n",
       "    <tr>\n",
       "      <th>3</th>\n",
       "      <td>17800.0</td>\n",
       "      <td>1.8</td>\n",
       "    </tr>\n",
       "    <tr>\n",
       "      <th>4</th>\n",
       "      <td>33000.0</td>\n",
       "      <td>NaN</td>\n",
       "    </tr>\n",
       "    <tr>\n",
       "      <th>5</th>\n",
       "      <td>16600.0</td>\n",
       "      <td>2.0</td>\n",
       "    </tr>\n",
       "    <tr>\n",
       "      <th>6</th>\n",
       "      <td>6500.0</td>\n",
       "      <td>2.0</td>\n",
       "    </tr>\n",
       "  </tbody>\n",
       "</table>\n",
       "</div>"
      ],
      "text/plain": [
       "     price  engV\n",
       "0  15500.0   2.5\n",
       "1  20500.0   1.8\n",
       "2  35000.0   5.5\n",
       "3  17800.0   1.8\n",
       "4  33000.0   NaN\n",
       "5  16600.0   2.0\n",
       "6   6500.0   2.0"
      ]
     },
     "execution_count": 28,
     "metadata": {},
     "output_type": "execute_result"
    }
   ],
   "source": [
    "car_ads_float = car_ads.select_dtypes(include=[float])\n",
    "car_ads_float.head(7) "
   ]
  },
  {
   "cell_type": "code",
   "execution_count": 29,
   "metadata": {},
   "outputs": [
    {
     "data": {
      "text/html": [
       "<div>\n",
       "<table border=\"1\" class=\"dataframe\">\n",
       "  <thead>\n",
       "    <tr style=\"text-align: right;\">\n",
       "      <th></th>\n",
       "      <th>car</th>\n",
       "      <th>body</th>\n",
       "      <th>mileage</th>\n",
       "      <th>engType</th>\n",
       "      <th>registration</th>\n",
       "      <th>year</th>\n",
       "      <th>model</th>\n",
       "      <th>drive</th>\n",
       "    </tr>\n",
       "  </thead>\n",
       "  <tbody>\n",
       "    <tr>\n",
       "      <th>0</th>\n",
       "      <td>Ford</td>\n",
       "      <td>crossover</td>\n",
       "      <td>68</td>\n",
       "      <td>Gas</td>\n",
       "      <td>yes</td>\n",
       "      <td>2010</td>\n",
       "      <td>Kuga</td>\n",
       "      <td>full</td>\n",
       "    </tr>\n",
       "    <tr>\n",
       "      <th>1</th>\n",
       "      <td>Mercedes-Benz</td>\n",
       "      <td>sedan</td>\n",
       "      <td>173</td>\n",
       "      <td>Gas</td>\n",
       "      <td>yes</td>\n",
       "      <td>2011</td>\n",
       "      <td>E-Class</td>\n",
       "      <td>rear</td>\n",
       "    </tr>\n",
       "    <tr>\n",
       "      <th>2</th>\n",
       "      <td>Mercedes-Benz</td>\n",
       "      <td>other</td>\n",
       "      <td>135</td>\n",
       "      <td>Petrol</td>\n",
       "      <td>yes</td>\n",
       "      <td>2008</td>\n",
       "      <td>CL 550</td>\n",
       "      <td>rear</td>\n",
       "    </tr>\n",
       "    <tr>\n",
       "      <th>3</th>\n",
       "      <td>Mercedes-Benz</td>\n",
       "      <td>van</td>\n",
       "      <td>162</td>\n",
       "      <td>Diesel</td>\n",
       "      <td>yes</td>\n",
       "      <td>2012</td>\n",
       "      <td>B 180</td>\n",
       "      <td>front</td>\n",
       "    </tr>\n",
       "    <tr>\n",
       "      <th>4</th>\n",
       "      <td>Mercedes-Benz</td>\n",
       "      <td>vagon</td>\n",
       "      <td>91</td>\n",
       "      <td>Other</td>\n",
       "      <td>yes</td>\n",
       "      <td>2013</td>\n",
       "      <td>E-Class</td>\n",
       "      <td>NaN</td>\n",
       "    </tr>\n",
       "    <tr>\n",
       "      <th>5</th>\n",
       "      <td>Nissan</td>\n",
       "      <td>crossover</td>\n",
       "      <td>83</td>\n",
       "      <td>Petrol</td>\n",
       "      <td>yes</td>\n",
       "      <td>2013</td>\n",
       "      <td>X-Trail</td>\n",
       "      <td>full</td>\n",
       "    </tr>\n",
       "    <tr>\n",
       "      <th>6</th>\n",
       "      <td>Honda</td>\n",
       "      <td>sedan</td>\n",
       "      <td>199</td>\n",
       "      <td>Petrol</td>\n",
       "      <td>yes</td>\n",
       "      <td>2003</td>\n",
       "      <td>Accord</td>\n",
       "      <td>front</td>\n",
       "    </tr>\n",
       "  </tbody>\n",
       "</table>\n",
       "</div>"
      ],
      "text/plain": [
       "             car       body  mileage engType registration  year    model  \\\n",
       "0           Ford  crossover       68     Gas          yes  2010     Kuga   \n",
       "1  Mercedes-Benz      sedan      173     Gas          yes  2011  E-Class   \n",
       "2  Mercedes-Benz      other      135  Petrol          yes  2008   CL 550   \n",
       "3  Mercedes-Benz        van      162  Diesel          yes  2012    B 180   \n",
       "4  Mercedes-Benz      vagon       91   Other          yes  2013  E-Class   \n",
       "5         Nissan  crossover       83  Petrol          yes  2013  X-Trail   \n",
       "6          Honda      sedan      199  Petrol          yes  2003   Accord   \n",
       "\n",
       "   drive  \n",
       "0   full  \n",
       "1   rear  \n",
       "2   rear  \n",
       "3  front  \n",
       "4    NaN  \n",
       "5   full  \n",
       "6  front  "
      ]
     },
     "execution_count": 29,
     "metadata": {},
     "output_type": "execute_result"
    }
   ],
   "source": [
    "car_ads_ex_float = car_ads.select_dtypes(exclude=[float])\n",
    "car_ads_ex_float.head(7) "
   ]
  },
  {
   "cell_type": "code",
   "execution_count": 30,
   "metadata": {},
   "outputs": [
    {
     "data": {
      "text/html": [
       "<div>\n",
       "<table border=\"1\" class=\"dataframe\">\n",
       "  <thead>\n",
       "    <tr style=\"text-align: right;\">\n",
       "      <th></th>\n",
       "      <th>car</th>\n",
       "      <th>body</th>\n",
       "      <th>engType</th>\n",
       "      <th>registration</th>\n",
       "      <th>model</th>\n",
       "      <th>drive</th>\n",
       "    </tr>\n",
       "  </thead>\n",
       "  <tbody>\n",
       "    <tr>\n",
       "      <th>0</th>\n",
       "      <td>Ford</td>\n",
       "      <td>crossover</td>\n",
       "      <td>Gas</td>\n",
       "      <td>yes</td>\n",
       "      <td>Kuga</td>\n",
       "      <td>full</td>\n",
       "    </tr>\n",
       "    <tr>\n",
       "      <th>1</th>\n",
       "      <td>Mercedes-Benz</td>\n",
       "      <td>sedan</td>\n",
       "      <td>Gas</td>\n",
       "      <td>yes</td>\n",
       "      <td>E-Class</td>\n",
       "      <td>rear</td>\n",
       "    </tr>\n",
       "    <tr>\n",
       "      <th>2</th>\n",
       "      <td>Mercedes-Benz</td>\n",
       "      <td>other</td>\n",
       "      <td>Petrol</td>\n",
       "      <td>yes</td>\n",
       "      <td>CL 550</td>\n",
       "      <td>rear</td>\n",
       "    </tr>\n",
       "    <tr>\n",
       "      <th>3</th>\n",
       "      <td>Mercedes-Benz</td>\n",
       "      <td>van</td>\n",
       "      <td>Diesel</td>\n",
       "      <td>yes</td>\n",
       "      <td>B 180</td>\n",
       "      <td>front</td>\n",
       "    </tr>\n",
       "    <tr>\n",
       "      <th>4</th>\n",
       "      <td>Mercedes-Benz</td>\n",
       "      <td>vagon</td>\n",
       "      <td>Other</td>\n",
       "      <td>yes</td>\n",
       "      <td>E-Class</td>\n",
       "      <td>NaN</td>\n",
       "    </tr>\n",
       "    <tr>\n",
       "      <th>5</th>\n",
       "      <td>Nissan</td>\n",
       "      <td>crossover</td>\n",
       "      <td>Petrol</td>\n",
       "      <td>yes</td>\n",
       "      <td>X-Trail</td>\n",
       "      <td>full</td>\n",
       "    </tr>\n",
       "    <tr>\n",
       "      <th>6</th>\n",
       "      <td>Honda</td>\n",
       "      <td>sedan</td>\n",
       "      <td>Petrol</td>\n",
       "      <td>yes</td>\n",
       "      <td>Accord</td>\n",
       "      <td>front</td>\n",
       "    </tr>\n",
       "  </tbody>\n",
       "</table>\n",
       "</div>"
      ],
      "text/plain": [
       "             car       body engType registration    model  drive\n",
       "0           Ford  crossover     Gas          yes     Kuga   full\n",
       "1  Mercedes-Benz      sedan     Gas          yes  E-Class   rear\n",
       "2  Mercedes-Benz      other  Petrol          yes   CL 550   rear\n",
       "3  Mercedes-Benz        van  Diesel          yes    B 180  front\n",
       "4  Mercedes-Benz      vagon   Other          yes  E-Class    NaN\n",
       "5         Nissan  crossover  Petrol          yes  X-Trail   full\n",
       "6          Honda      sedan  Petrol          yes   Accord  front"
      ]
     },
     "execution_count": 30,
     "metadata": {},
     "output_type": "execute_result"
    }
   ],
   "source": [
    "car_ads_ex_number = car_ads.select_dtypes(exclude=[np.number])\n",
    "car_ads_ex_number.head(7) "
   ]
  },
  {
   "cell_type": "markdown",
   "metadata": {},
   "source": [
    "## Melting dataframes"
   ]
  },
  {
   "cell_type": "code",
   "execution_count": 45,
   "metadata": {},
   "outputs": [
    {
     "data": {
      "text/html": [
       "<div>\n",
       "<table border=\"1\" class=\"dataframe\">\n",
       "  <thead>\n",
       "    <tr style=\"text-align: right;\">\n",
       "      <th></th>\n",
       "      <th>country</th>\n",
       "      <th>capital</th>\n",
       "      <th>currency</th>\n",
       "      <th>GDP</th>\n",
       "    </tr>\n",
       "  </thead>\n",
       "  <tbody>\n",
       "    <tr>\n",
       "      <th>0</th>\n",
       "      <td>india</td>\n",
       "      <td>delhi</td>\n",
       "      <td>INR</td>\n",
       "      <td>7860</td>\n",
       "    </tr>\n",
       "    <tr>\n",
       "      <th>1</th>\n",
       "      <td>pakistan</td>\n",
       "      <td>islamabad</td>\n",
       "      <td>PKR</td>\n",
       "      <td>3860</td>\n",
       "    </tr>\n",
       "    <tr>\n",
       "      <th>2</th>\n",
       "      <td>sri lanka</td>\n",
       "      <td>colombo</td>\n",
       "      <td>lankan rupee</td>\n",
       "      <td>456</td>\n",
       "    </tr>\n",
       "  </tbody>\n",
       "</table>\n",
       "</div>"
      ],
      "text/plain": [
       "     country    capital      currency   GDP\n",
       "0      india      delhi           INR  7860\n",
       "1   pakistan  islamabad           PKR  3860\n",
       "2  sri lanka    colombo  lankan rupee   456"
      ]
     },
     "execution_count": 45,
     "metadata": {},
     "output_type": "execute_result"
    }
   ],
   "source": [
    "a = {'country':'india', \n",
    "     'capital':'delhi', \n",
    "     'currency':'INR',\n",
    "     'GDP' : 7860\n",
    "    }\n",
    "b = {'country':'pakistan', 'capital':'islamabad', 'currency': 'PKR',\n",
    "     'GDP' : 3860}\n",
    "c = {'country':'sri lanka', 'capital':'colombo', 'currency':'lankan rupee',\n",
    "     'GDP' : 456}\n",
    "df = pd.DataFrame([a,b,c], columns=['country', 'capital', 'currency', 'GDP'])\n",
    "df"
   ]
  },
  {
   "cell_type": "code",
   "execution_count": 102,
   "metadata": {},
   "outputs": [
    {
     "data": {
      "text/html": [
       "<div>\n",
       "<table border=\"1\" class=\"dataframe\">\n",
       "  <thead>\n",
       "    <tr style=\"text-align: right;\">\n",
       "      <th>capital</th>\n",
       "      <th>colombo</th>\n",
       "      <th>delhi</th>\n",
       "      <th>islamabad</th>\n",
       "    </tr>\n",
       "    <tr>\n",
       "      <th>country</th>\n",
       "      <th></th>\n",
       "      <th></th>\n",
       "      <th></th>\n",
       "    </tr>\n",
       "  </thead>\n",
       "  <tbody>\n",
       "    <tr>\n",
       "      <th>india</th>\n",
       "      <td>NaN</td>\n",
       "      <td>7860.0</td>\n",
       "      <td>NaN</td>\n",
       "    </tr>\n",
       "    <tr>\n",
       "      <th>pakistan</th>\n",
       "      <td>NaN</td>\n",
       "      <td>NaN</td>\n",
       "      <td>3860.0</td>\n",
       "    </tr>\n",
       "    <tr>\n",
       "      <th>sri lanka</th>\n",
       "      <td>456.0</td>\n",
       "      <td>NaN</td>\n",
       "      <td>NaN</td>\n",
       "    </tr>\n",
       "  </tbody>\n",
       "</table>\n",
       "</div>"
      ],
      "text/plain": [
       "capital    colombo   delhi  islamabad\n",
       "country                              \n",
       "india          NaN  7860.0        NaN\n",
       "pakistan       NaN     NaN     3860.0\n",
       "sri lanka    456.0     NaN        NaN"
      ]
     },
     "execution_count": 102,
     "metadata": {},
     "output_type": "execute_result"
    }
   ],
   "source": [
    "df_pivot = df.pivot(index=\"country\", columns=\"capital\", values=\"GDP\")\n",
    "df_pivot.head(10)"
   ]
  },
  {
   "cell_type": "code",
   "execution_count": 59,
   "metadata": {
    "scrolled": true
   },
   "outputs": [
    {
     "data": {
      "text/html": [
       "<div>\n",
       "<table border=\"1\" class=\"dataframe\">\n",
       "  <thead>\n",
       "    <tr style=\"text-align: right;\">\n",
       "      <th></th>\n",
       "      <th></th>\n",
       "      <th>currency</th>\n",
       "      <th>GDP</th>\n",
       "    </tr>\n",
       "    <tr>\n",
       "      <th>country</th>\n",
       "      <th>capital</th>\n",
       "      <th></th>\n",
       "      <th></th>\n",
       "    </tr>\n",
       "  </thead>\n",
       "  <tbody>\n",
       "    <tr>\n",
       "      <th>india</th>\n",
       "      <th>delhi</th>\n",
       "      <td>INR</td>\n",
       "      <td>7860</td>\n",
       "    </tr>\n",
       "    <tr>\n",
       "      <th>pakistan</th>\n",
       "      <th>islamabad</th>\n",
       "      <td>PKR</td>\n",
       "      <td>3860</td>\n",
       "    </tr>\n",
       "    <tr>\n",
       "      <th>sri lanka</th>\n",
       "      <th>colombo</th>\n",
       "      <td>lankan rupee</td>\n",
       "      <td>456</td>\n",
       "    </tr>\n",
       "  </tbody>\n",
       "</table>\n",
       "</div>"
      ],
      "text/plain": [
       "                         currency   GDP\n",
       "country   capital                      \n",
       "india     delhi               INR  7860\n",
       "pakistan  islamabad           PKR  3860\n",
       "sri lanka colombo    lankan rupee   456"
      ]
     },
     "execution_count": 59,
     "metadata": {},
     "output_type": "execute_result"
    }
   ],
   "source": [
    "df_index = df.set_index(['country', 'capital'])\n",
    "df_index.head()"
   ]
  },
  {
   "cell_type": "code",
   "execution_count": 72,
   "metadata": {},
   "outputs": [
    {
     "data": {
      "text/html": [
       "<div>\n",
       "<table border=\"1\" class=\"dataframe\">\n",
       "  <thead>\n",
       "    <tr style=\"text-align: right;\">\n",
       "      <th></th>\n",
       "      <th>country</th>\n",
       "      <th>capital</th>\n",
       "      <th>currency</th>\n",
       "      <th>GDP</th>\n",
       "    </tr>\n",
       "  </thead>\n",
       "  <tbody>\n",
       "    <tr>\n",
       "      <th>0</th>\n",
       "      <td>india</td>\n",
       "      <td>delhi</td>\n",
       "      <td>INR</td>\n",
       "      <td>7860</td>\n",
       "    </tr>\n",
       "    <tr>\n",
       "      <th>1</th>\n",
       "      <td>pakistan</td>\n",
       "      <td>islamabad</td>\n",
       "      <td>PKR</td>\n",
       "      <td>3860</td>\n",
       "    </tr>\n",
       "    <tr>\n",
       "      <th>2</th>\n",
       "      <td>sri lanka</td>\n",
       "      <td>colombo</td>\n",
       "      <td>lankan rupee</td>\n",
       "      <td>456</td>\n",
       "    </tr>\n",
       "  </tbody>\n",
       "</table>\n",
       "</div>"
      ],
      "text/plain": [
       "     country    capital      currency   GDP\n",
       "0      india      delhi           INR  7860\n",
       "1   pakistan  islamabad           PKR  3860\n",
       "2  sri lanka    colombo  lankan rupee   456"
      ]
     },
     "execution_count": 72,
     "metadata": {},
     "output_type": "execute_result"
    }
   ],
   "source": [
    "#Resetting the Index\n",
    "df_no_i = df_index.reset_index()\n",
    "df_no_i.head()"
   ]
  },
  {
   "cell_type": "code",
   "execution_count": 62,
   "metadata": {},
   "outputs": [
    {
     "data": {
      "text/html": [
       "<div>\n",
       "<table border=\"1\" class=\"dataframe\">\n",
       "  <thead>\n",
       "    <tr style=\"text-align: right;\">\n",
       "      <th></th>\n",
       "      <th>variable</th>\n",
       "      <th>value</th>\n",
       "    </tr>\n",
       "  </thead>\n",
       "  <tbody>\n",
       "    <tr>\n",
       "      <th>0</th>\n",
       "      <td>country</td>\n",
       "      <td>india</td>\n",
       "    </tr>\n",
       "    <tr>\n",
       "      <th>1</th>\n",
       "      <td>country</td>\n",
       "      <td>pakistan</td>\n",
       "    </tr>\n",
       "    <tr>\n",
       "      <th>2</th>\n",
       "      <td>country</td>\n",
       "      <td>sri lanka</td>\n",
       "    </tr>\n",
       "    <tr>\n",
       "      <th>3</th>\n",
       "      <td>capital</td>\n",
       "      <td>delhi</td>\n",
       "    </tr>\n",
       "    <tr>\n",
       "      <th>4</th>\n",
       "      <td>capital</td>\n",
       "      <td>islamabad</td>\n",
       "    </tr>\n",
       "    <tr>\n",
       "      <th>5</th>\n",
       "      <td>capital</td>\n",
       "      <td>colombo</td>\n",
       "    </tr>\n",
       "    <tr>\n",
       "      <th>6</th>\n",
       "      <td>currency</td>\n",
       "      <td>INR</td>\n",
       "    </tr>\n",
       "    <tr>\n",
       "      <th>7</th>\n",
       "      <td>currency</td>\n",
       "      <td>PKR</td>\n",
       "    </tr>\n",
       "    <tr>\n",
       "      <th>8</th>\n",
       "      <td>currency</td>\n",
       "      <td>lankan rupee</td>\n",
       "    </tr>\n",
       "    <tr>\n",
       "      <th>9</th>\n",
       "      <td>GDP</td>\n",
       "      <td>7860</td>\n",
       "    </tr>\n",
       "    <tr>\n",
       "      <th>10</th>\n",
       "      <td>GDP</td>\n",
       "      <td>3860</td>\n",
       "    </tr>\n",
       "    <tr>\n",
       "      <th>11</th>\n",
       "      <td>GDP</td>\n",
       "      <td>456</td>\n",
       "    </tr>\n",
       "  </tbody>\n",
       "</table>\n",
       "</div>"
      ],
      "text/plain": [
       "    variable         value\n",
       "0    country         india\n",
       "1    country      pakistan\n",
       "2    country     sri lanka\n",
       "3    capital         delhi\n",
       "4    capital     islamabad\n",
       "5    capital       colombo\n",
       "6   currency           INR\n",
       "7   currency           PKR\n",
       "8   currency  lankan rupee\n",
       "9        GDP          7860\n",
       "10       GDP          3860\n",
       "11       GDP           456"
      ]
     },
     "execution_count": 62,
     "metadata": {},
     "output_type": "execute_result"
    }
   ],
   "source": [
    "#Melting\n",
    "pd.melt(df)"
   ]
  },
  {
   "cell_type": "code",
   "execution_count": 105,
   "metadata": {
    "scrolled": true
   },
   "outputs": [
    {
     "data": {
      "text/html": [
       "<div>\n",
       "<table border=\"1\" class=\"dataframe\">\n",
       "  <thead>\n",
       "    <tr style=\"text-align: right;\">\n",
       "      <th></th>\n",
       "      <th>country</th>\n",
       "      <th>capital</th>\n",
       "      <th>CurrencyGDP</th>\n",
       "      <th>Values</th>\n",
       "    </tr>\n",
       "  </thead>\n",
       "  <tbody>\n",
       "    <tr>\n",
       "      <th>0</th>\n",
       "      <td>india</td>\n",
       "      <td>delhi</td>\n",
       "      <td>currency</td>\n",
       "      <td>INR</td>\n",
       "    </tr>\n",
       "    <tr>\n",
       "      <th>1</th>\n",
       "      <td>pakistan</td>\n",
       "      <td>islamabad</td>\n",
       "      <td>currency</td>\n",
       "      <td>PKR</td>\n",
       "    </tr>\n",
       "    <tr>\n",
       "      <th>2</th>\n",
       "      <td>sri lanka</td>\n",
       "      <td>colombo</td>\n",
       "      <td>currency</td>\n",
       "      <td>lankan rupee</td>\n",
       "    </tr>\n",
       "    <tr>\n",
       "      <th>3</th>\n",
       "      <td>india</td>\n",
       "      <td>delhi</td>\n",
       "      <td>GDP</td>\n",
       "      <td>7860</td>\n",
       "    </tr>\n",
       "    <tr>\n",
       "      <th>4</th>\n",
       "      <td>pakistan</td>\n",
       "      <td>islamabad</td>\n",
       "      <td>GDP</td>\n",
       "      <td>3860</td>\n",
       "    </tr>\n",
       "  </tbody>\n",
       "</table>\n",
       "</div>"
      ],
      "text/plain": [
       "     country    capital CurrencyGDP        Values\n",
       "0      india      delhi    currency           INR\n",
       "1   pakistan  islamabad    currency           PKR\n",
       "2  sri lanka    colombo    currency  lankan rupee\n",
       "3      india      delhi         GDP          7860\n",
       "4   pakistan  islamabad         GDP          3860"
      ]
     },
     "execution_count": 105,
     "metadata": {},
     "output_type": "execute_result"
    }
   ],
   "source": [
    "dup_rows = pd.melt(df, \n",
    "        id_vars=['country', 'capital'], \n",
    "        value_vars=['currency', 'GDP'], \n",
    "        var_name = 'CurrencyGDP', \n",
    "        value_name = 'Values')\n",
    "dup_rows.head()"
   ]
  },
  {
   "cell_type": "code",
   "execution_count": 110,
   "metadata": {},
   "outputs": [
    {
     "data": {
      "text/html": [
       "<div>\n",
       "<table border=\"1\" class=\"dataframe\">\n",
       "  <thead>\n",
       "    <tr style=\"text-align: right;\">\n",
       "      <th>capital</th>\n",
       "      <th>colombo</th>\n",
       "      <th>delhi</th>\n",
       "      <th>islamabad</th>\n",
       "    </tr>\n",
       "    <tr>\n",
       "      <th>country</th>\n",
       "      <th></th>\n",
       "      <th></th>\n",
       "      <th></th>\n",
       "    </tr>\n",
       "  </thead>\n",
       "  <tbody>\n",
       "    <tr>\n",
       "      <th>india</th>\n",
       "      <td>NaN</td>\n",
       "      <td>2.0</td>\n",
       "      <td>NaN</td>\n",
       "    </tr>\n",
       "    <tr>\n",
       "      <th>pakistan</th>\n",
       "      <td>NaN</td>\n",
       "      <td>NaN</td>\n",
       "      <td>2.0</td>\n",
       "    </tr>\n",
       "    <tr>\n",
       "      <th>sri lanka</th>\n",
       "      <td>2.0</td>\n",
       "      <td>NaN</td>\n",
       "      <td>NaN</td>\n",
       "    </tr>\n",
       "  </tbody>\n",
       "</table>\n",
       "</div>"
      ],
      "text/plain": [
       "capital    colombo  delhi  islamabad\n",
       "country                             \n",
       "india          NaN    2.0        NaN\n",
       "pakistan       NaN    NaN        2.0\n",
       "sri lanka      2.0    NaN        NaN"
      ]
     },
     "execution_count": 110,
     "metadata": {},
     "output_type": "execute_result"
    }
   ],
   "source": [
    "#Pivot Table\n",
    "new_pivot = dup_rows.pivot_table(index=\"country\", columns=\"capital\", values=\"Values\", aggfunc='count')\n",
    "new_pivot.head(10)"
   ]
  },
  {
   "cell_type": "code",
   "execution_count": 99,
   "metadata": {},
   "outputs": [
    {
     "name": "stdout",
     "output_type": "stream",
     "text": [
      "               currency                     GDP                  \n",
      "capital         colombo delhi islamabad colombo   delhi islamabad\n",
      "country                                                          \n",
      "india              None   INR      None     NaN  7860.0       NaN\n",
      "pakistan           None  None       PKR     NaN     NaN    3860.0\n",
      "sri lanka  lankan rupee  None      None   456.0     NaN       NaN\n"
     ]
    },
    {
     "data": {
      "text/html": [
       "<div>\n",
       "<table border=\"1\" class=\"dataframe\">\n",
       "  <thead>\n",
       "    <tr style=\"text-align: right;\">\n",
       "      <th></th>\n",
       "      <th>variable</th>\n",
       "      <th>value</th>\n",
       "    </tr>\n",
       "  </thead>\n",
       "  <tbody>\n",
       "    <tr>\n",
       "      <th>0</th>\n",
       "      <td>currency</td>\n",
       "      <td>None</td>\n",
       "    </tr>\n",
       "    <tr>\n",
       "      <th>1</th>\n",
       "      <td>currency</td>\n",
       "      <td>None</td>\n",
       "    </tr>\n",
       "    <tr>\n",
       "      <th>2</th>\n",
       "      <td>currency</td>\n",
       "      <td>lankan rupee</td>\n",
       "    </tr>\n",
       "    <tr>\n",
       "      <th>3</th>\n",
       "      <td>currency</td>\n",
       "      <td>INR</td>\n",
       "    </tr>\n",
       "    <tr>\n",
       "      <th>4</th>\n",
       "      <td>currency</td>\n",
       "      <td>None</td>\n",
       "    </tr>\n",
       "    <tr>\n",
       "      <th>5</th>\n",
       "      <td>currency</td>\n",
       "      <td>None</td>\n",
       "    </tr>\n",
       "    <tr>\n",
       "      <th>6</th>\n",
       "      <td>currency</td>\n",
       "      <td>None</td>\n",
       "    </tr>\n",
       "    <tr>\n",
       "      <th>7</th>\n",
       "      <td>currency</td>\n",
       "      <td>PKR</td>\n",
       "    </tr>\n",
       "    <tr>\n",
       "      <th>8</th>\n",
       "      <td>currency</td>\n",
       "      <td>None</td>\n",
       "    </tr>\n",
       "    <tr>\n",
       "      <th>9</th>\n",
       "      <td>GDP</td>\n",
       "      <td>NaN</td>\n",
       "    </tr>\n",
       "    <tr>\n",
       "      <th>10</th>\n",
       "      <td>GDP</td>\n",
       "      <td>NaN</td>\n",
       "    </tr>\n",
       "    <tr>\n",
       "      <th>11</th>\n",
       "      <td>GDP</td>\n",
       "      <td>456</td>\n",
       "    </tr>\n",
       "    <tr>\n",
       "      <th>12</th>\n",
       "      <td>GDP</td>\n",
       "      <td>7860</td>\n",
       "    </tr>\n",
       "    <tr>\n",
       "      <th>13</th>\n",
       "      <td>GDP</td>\n",
       "      <td>NaN</td>\n",
       "    </tr>\n",
       "    <tr>\n",
       "      <th>14</th>\n",
       "      <td>GDP</td>\n",
       "      <td>NaN</td>\n",
       "    </tr>\n",
       "    <tr>\n",
       "      <th>15</th>\n",
       "      <td>GDP</td>\n",
       "      <td>NaN</td>\n",
       "    </tr>\n",
       "    <tr>\n",
       "      <th>16</th>\n",
       "      <td>GDP</td>\n",
       "      <td>3860</td>\n",
       "    </tr>\n",
       "    <tr>\n",
       "      <th>17</th>\n",
       "      <td>GDP</td>\n",
       "      <td>NaN</td>\n",
       "    </tr>\n",
       "  </tbody>\n",
       "</table>\n",
       "</div>"
      ],
      "text/plain": [
       "    variable         value\n",
       "0   currency          None\n",
       "1   currency          None\n",
       "2   currency  lankan rupee\n",
       "3   currency           INR\n",
       "4   currency          None\n",
       "5   currency          None\n",
       "6   currency          None\n",
       "7   currency           PKR\n",
       "8   currency          None\n",
       "9        GDP           NaN\n",
       "10       GDP           NaN\n",
       "11       GDP           456\n",
       "12       GDP          7860\n",
       "13       GDP           NaN\n",
       "14       GDP           NaN\n",
       "15       GDP           NaN\n",
       "16       GDP          3860\n",
       "17       GDP           NaN"
      ]
     },
     "execution_count": 99,
     "metadata": {},
     "output_type": "execute_result"
    }
   ],
   "source": [
    "\n",
    "df_indexn = df_index.unstack(level=1)\n",
    "print(df_indexn.head())\n",
    "\n",
    "#col_level : # Obtain the key-value pairs: kv_pairs\n",
    "kv_pairs = pd.melt(df_indexn,  col_level=0)\n",
    "kv_pairs.head(20)\n",
    "\n"
   ]
  },
  {
   "cell_type": "code",
   "execution_count": 98,
   "metadata": {},
   "outputs": [
    {
     "data": {
      "text/html": [
       "<div>\n",
       "<table border=\"1\" class=\"dataframe\">\n",
       "  <thead>\n",
       "    <tr style=\"text-align: right;\">\n",
       "      <th></th>\n",
       "      <th>capital</th>\n",
       "      <th>value</th>\n",
       "    </tr>\n",
       "  </thead>\n",
       "  <tbody>\n",
       "    <tr>\n",
       "      <th>0</th>\n",
       "      <td>colombo</td>\n",
       "      <td>None</td>\n",
       "    </tr>\n",
       "    <tr>\n",
       "      <th>1</th>\n",
       "      <td>colombo</td>\n",
       "      <td>None</td>\n",
       "    </tr>\n",
       "    <tr>\n",
       "      <th>2</th>\n",
       "      <td>colombo</td>\n",
       "      <td>lankan rupee</td>\n",
       "    </tr>\n",
       "    <tr>\n",
       "      <th>3</th>\n",
       "      <td>delhi</td>\n",
       "      <td>INR</td>\n",
       "    </tr>\n",
       "    <tr>\n",
       "      <th>4</th>\n",
       "      <td>delhi</td>\n",
       "      <td>None</td>\n",
       "    </tr>\n",
       "    <tr>\n",
       "      <th>5</th>\n",
       "      <td>delhi</td>\n",
       "      <td>None</td>\n",
       "    </tr>\n",
       "    <tr>\n",
       "      <th>6</th>\n",
       "      <td>islamabad</td>\n",
       "      <td>None</td>\n",
       "    </tr>\n",
       "    <tr>\n",
       "      <th>7</th>\n",
       "      <td>islamabad</td>\n",
       "      <td>PKR</td>\n",
       "    </tr>\n",
       "    <tr>\n",
       "      <th>8</th>\n",
       "      <td>islamabad</td>\n",
       "      <td>None</td>\n",
       "    </tr>\n",
       "    <tr>\n",
       "      <th>9</th>\n",
       "      <td>colombo</td>\n",
       "      <td>NaN</td>\n",
       "    </tr>\n",
       "    <tr>\n",
       "      <th>10</th>\n",
       "      <td>colombo</td>\n",
       "      <td>NaN</td>\n",
       "    </tr>\n",
       "    <tr>\n",
       "      <th>11</th>\n",
       "      <td>colombo</td>\n",
       "      <td>456</td>\n",
       "    </tr>\n",
       "    <tr>\n",
       "      <th>12</th>\n",
       "      <td>delhi</td>\n",
       "      <td>7860</td>\n",
       "    </tr>\n",
       "    <tr>\n",
       "      <th>13</th>\n",
       "      <td>delhi</td>\n",
       "      <td>NaN</td>\n",
       "    </tr>\n",
       "    <tr>\n",
       "      <th>14</th>\n",
       "      <td>delhi</td>\n",
       "      <td>NaN</td>\n",
       "    </tr>\n",
       "    <tr>\n",
       "      <th>15</th>\n",
       "      <td>islamabad</td>\n",
       "      <td>NaN</td>\n",
       "    </tr>\n",
       "    <tr>\n",
       "      <th>16</th>\n",
       "      <td>islamabad</td>\n",
       "      <td>3860</td>\n",
       "    </tr>\n",
       "    <tr>\n",
       "      <th>17</th>\n",
       "      <td>islamabad</td>\n",
       "      <td>NaN</td>\n",
       "    </tr>\n",
       "  </tbody>\n",
       "</table>\n",
       "</div>"
      ],
      "text/plain": [
       "      capital         value\n",
       "0     colombo          None\n",
       "1     colombo          None\n",
       "2     colombo  lankan rupee\n",
       "3       delhi           INR\n",
       "4       delhi          None\n",
       "5       delhi          None\n",
       "6   islamabad          None\n",
       "7   islamabad           PKR\n",
       "8   islamabad          None\n",
       "9     colombo           NaN\n",
       "10    colombo           NaN\n",
       "11    colombo           456\n",
       "12      delhi          7860\n",
       "13      delhi           NaN\n",
       "14      delhi           NaN\n",
       "15  islamabad           NaN\n",
       "16  islamabad          3860\n",
       "17  islamabad           NaN"
      ]
     },
     "execution_count": 98,
     "metadata": {},
     "output_type": "execute_result"
    }
   ],
   "source": [
    "\n",
    "kv_pairs = pd.melt(df_indexn,  col_level=1)\n",
    "kv_pairs.head(20)\n"
   ]
  },
  {
   "cell_type": "markdown",
   "metadata": {},
   "source": [
    "## Groupby and Categoricalsm"
   ]
  },
  {
   "cell_type": "code",
   "execution_count": 134,
   "metadata": {
    "collapsed": true
   },
   "outputs": [],
   "source": [
    "sales = pd.DataFrame(\n",
    "    {\n",
    "        'weekday': ['Sun', 'Mon', 'Tue', 'Wed', 'Thr', 'Fri', 'Sat', \n",
    "                    'Sun', 'Mon', 'Tue', 'Wed', 'Thr', 'Fri', 'Sat', \n",
    "                    'Sun', 'Sun'],\n",
    "        'city' :['Agra', 'Pune', 'Madras', 'Calcutta', 'Mumbai', 'Noida', 'Noida', \n",
    "                 'Delhi', 'Agra', 'Pune', 'Madras', 'Calcutta', 'Mumbai', 'Noida', \n",
    "                 'Noida', 'Delhi'],\n",
    "        'bread' :[345, 555, 222, 123, 231, 189, 49,\n",
    "                  89, 129, 113, 119, 213, 110, 90,\n",
    "                 48, 87],\n",
    "        'butter' :[235, 35, 32, 33, 41, 89, 39,\n",
    "                  69, 49, 43, 119, 113, 113, 27,\n",
    "                 48, 85]\n",
    "        \n",
    "        \n",
    "    })\n",
    "customers = pd.Series(['Sandeep', 'Urmil', 'Neha', 'Rahul', 'Amar', 'Rakesh', 'Nandi', \n",
    "                 'Aman', 'Sagar', 'Pratap', 'Raghu', 'Joy', 'Waqar', 'Roshan', \n",
    "                 'Ranbir', 'Sumit'])"
   ]
  },
  {
   "cell_type": "code",
   "execution_count": 114,
   "metadata": {},
   "outputs": [
    {
     "data": {
      "text/plain": [
       "bread      4\n",
       "butter     4\n",
       "city       4\n",
       "weekday    4\n",
       "dtype: int64"
      ]
     },
     "execution_count": 114,
     "metadata": {},
     "output_type": "execute_result"
    }
   ],
   "source": [
    "sales.loc[sales.weekday=='Sun'].count()\n"
   ]
  },
  {
   "cell_type": "code",
   "execution_count": 127,
   "metadata": {},
   "outputs": [
    {
     "name": "stdout",
     "output_type": "stream",
     "text": [
      "          bread  butter  weekday\n",
      "city                            \n",
      "Agra          2       2        2\n",
      "Calcutta      2       2        2\n",
      "Delhi         2       2        2\n",
      "Madras        2       2        2\n",
      "Mumbai        2       2        2\n",
      "Noida         4       4        4\n",
      "Pune          2       2        2\n",
      "-------------------\n",
      "                  bread  butter\n",
      "weekday city                   \n",
      "Fri     Mumbai    110.0   113.0\n",
      "        Noida     189.0    89.0\n",
      "Mon     Agra      129.0    49.0\n",
      "        Pune      555.0    35.0\n",
      "Sat     Noida      69.5    33.0\n",
      "Sun     Agra      345.0   235.0\n",
      "        Delhi      88.0    77.0\n",
      "        Noida      48.0    48.0\n",
      "Thr     Calcutta  213.0   113.0\n",
      "        Mumbai    231.0    41.0\n",
      "Tue     Madras    222.0    32.0\n",
      "        Pune      113.0    43.0\n",
      "Wed     Calcutta  123.0    33.0\n",
      "        Madras    119.0   119.0\n"
     ]
    }
   ],
   "source": [
    "print(sales.groupby('city').count())\n",
    "print(\"-------------------\")\n",
    "print(sales.groupby(by=['weekday','city']).mean())"
   ]
  },
  {
   "cell_type": "code",
   "execution_count": 133,
   "metadata": {},
   "outputs": [
    {
     "data": {
      "text/html": [
       "<div>\n",
       "<table border=\"1\" class=\"dataframe\">\n",
       "  <thead>\n",
       "    <tr style=\"text-align: right;\">\n",
       "      <th></th>\n",
       "      <th></th>\n",
       "      <th>bread</th>\n",
       "      <th>butter</th>\n",
       "    </tr>\n",
       "    <tr>\n",
       "      <th>weekday</th>\n",
       "      <th>city</th>\n",
       "      <th></th>\n",
       "      <th></th>\n",
       "    </tr>\n",
       "  </thead>\n",
       "  <tbody>\n",
       "    <tr>\n",
       "      <th rowspan=\"2\" valign=\"top\">Fri</th>\n",
       "      <th>Mumbai</th>\n",
       "      <td>110</td>\n",
       "      <td>113</td>\n",
       "    </tr>\n",
       "    <tr>\n",
       "      <th>Noida</th>\n",
       "      <td>189</td>\n",
       "      <td>89</td>\n",
       "    </tr>\n",
       "    <tr>\n",
       "      <th rowspan=\"2\" valign=\"top\">Mon</th>\n",
       "      <th>Agra</th>\n",
       "      <td>129</td>\n",
       "      <td>49</td>\n",
       "    </tr>\n",
       "    <tr>\n",
       "      <th>Pune</th>\n",
       "      <td>555</td>\n",
       "      <td>35</td>\n",
       "    </tr>\n",
       "    <tr>\n",
       "      <th>Sat</th>\n",
       "      <th>Noida</th>\n",
       "      <td>139</td>\n",
       "      <td>66</td>\n",
       "    </tr>\n",
       "    <tr>\n",
       "      <th rowspan=\"3\" valign=\"top\">Sun</th>\n",
       "      <th>Agra</th>\n",
       "      <td>345</td>\n",
       "      <td>235</td>\n",
       "    </tr>\n",
       "    <tr>\n",
       "      <th>Delhi</th>\n",
       "      <td>176</td>\n",
       "      <td>154</td>\n",
       "    </tr>\n",
       "    <tr>\n",
       "      <th>Noida</th>\n",
       "      <td>48</td>\n",
       "      <td>48</td>\n",
       "    </tr>\n",
       "    <tr>\n",
       "      <th rowspan=\"2\" valign=\"top\">Thr</th>\n",
       "      <th>Calcutta</th>\n",
       "      <td>213</td>\n",
       "      <td>113</td>\n",
       "    </tr>\n",
       "    <tr>\n",
       "      <th>Mumbai</th>\n",
       "      <td>231</td>\n",
       "      <td>41</td>\n",
       "    </tr>\n",
       "    <tr>\n",
       "      <th rowspan=\"2\" valign=\"top\">Tue</th>\n",
       "      <th>Madras</th>\n",
       "      <td>222</td>\n",
       "      <td>32</td>\n",
       "    </tr>\n",
       "    <tr>\n",
       "      <th>Pune</th>\n",
       "      <td>113</td>\n",
       "      <td>43</td>\n",
       "    </tr>\n",
       "    <tr>\n",
       "      <th rowspan=\"2\" valign=\"top\">Wed</th>\n",
       "      <th>Calcutta</th>\n",
       "      <td>123</td>\n",
       "      <td>33</td>\n",
       "    </tr>\n",
       "    <tr>\n",
       "      <th>Madras</th>\n",
       "      <td>119</td>\n",
       "      <td>119</td>\n",
       "    </tr>\n",
       "  </tbody>\n",
       "</table>\n",
       "</div>"
      ],
      "text/plain": [
       "                  bread  butter\n",
       "weekday city                   \n",
       "Fri     Mumbai      110     113\n",
       "        Noida       189      89\n",
       "Mon     Agra        129      49\n",
       "        Pune        555      35\n",
       "Sat     Noida       139      66\n",
       "Sun     Agra        345     235\n",
       "        Delhi       176     154\n",
       "        Noida        48      48\n",
       "Thr     Calcutta    213     113\n",
       "        Mumbai      231      41\n",
       "Tue     Madras      222      32\n",
       "        Pune        113      43\n",
       "Wed     Calcutta    123      33\n",
       "        Madras      119     119"
      ]
     },
     "execution_count": 133,
     "metadata": {},
     "output_type": "execute_result"
    }
   ],
   "source": [
    "sales.groupby(['weekday','city'])['bread', 'butter'].sum()"
   ]
  },
  {
   "cell_type": "code",
   "execution_count": 137,
   "metadata": {},
   "outputs": [
    {
     "data": {
      "text/plain": [
       "Aman        89\n",
       "Amar       231\n",
       "Joy        213\n",
       "Nandi       49\n",
       "Neha       222\n",
       "Pratap     113\n",
       "Raghu      119\n",
       "Rahul      123\n",
       "Rakesh     189\n",
       "Ranbir      48\n",
       "Roshan      90\n",
       "Sagar      129\n",
       "Sandeep    345\n",
       "Sumit       87\n",
       "Urmil      555\n",
       "Waqar      110\n",
       "Name: bread, dtype: int64"
      ]
     },
     "execution_count": 137,
     "metadata": {},
     "output_type": "execute_result"
    }
   ],
   "source": [
    "sales.groupby(customers)['bread'].sum()"
   ]
  },
  {
   "cell_type": "code",
   "execution_count": 139,
   "metadata": {},
   "outputs": [
    {
     "data": {
      "text/plain": [
       "array(['Agra', 'Pune', 'Madras', 'Calcutta', 'Mumbai', 'Noida', 'Delhi'], dtype=object)"
      ]
     },
     "execution_count": 139,
     "metadata": {},
     "output_type": "execute_result"
    }
   ],
   "source": [
    "sales['city'].unique()"
   ]
  },
  {
   "cell_type": "code",
   "execution_count": 140,
   "metadata": {},
   "outputs": [
    {
     "data": {
      "text/plain": [
       "Noida       4\n",
       "Pune        2\n",
       "Mumbai      2\n",
       "Delhi       2\n",
       "Calcutta    2\n",
       "Madras      2\n",
       "Agra        2\n",
       "Name: city, dtype: int64"
      ]
     },
     "execution_count": 140,
     "metadata": {},
     "output_type": "execute_result"
    }
   ],
   "source": [
    "sales['city'].value_counts()"
   ]
  },
  {
   "cell_type": "code",
   "execution_count": 142,
   "metadata": {},
   "outputs": [
    {
     "data": {
      "text/plain": [
       "0         Agra\n",
       "1         Pune\n",
       "2       Madras\n",
       "3     Calcutta\n",
       "4       Mumbai\n",
       "5        Noida\n",
       "6        Noida\n",
       "7        Delhi\n",
       "8         Agra\n",
       "9         Pune\n",
       "10      Madras\n",
       "11    Calcutta\n",
       "12      Mumbai\n",
       "13       Noida\n",
       "14       Noida\n",
       "15       Delhi\n",
       "Name: city, dtype: category\n",
       "Categories (7, object): [Agra, Calcutta, Delhi, Madras, Mumbai, Noida, Pune]"
      ]
     },
     "execution_count": 142,
     "metadata": {},
     "output_type": "execute_result"
    }
   ],
   "source": [
    "sales['city'] = sales['city'].astype('category')\n",
    "sales['city']"
   ]
  },
  {
   "cell_type": "markdown",
   "metadata": {},
   "source": [
    "## Map Function\n",
    "The .map() method is used to transform values according to a Python dictionary look-up. "
   ]
  },
  {
   "cell_type": "code",
   "execution_count": 42,
   "metadata": {},
   "outputs": [
    {
     "ename": "TypeError",
     "evalue": "applymap() takes 2 positional arguments but 3 were given",
     "output_type": "error",
     "traceback": [
      "\u001b[0;31m---------------------------------------------------------------------------\u001b[0m",
      "\u001b[0;31mTypeError\u001b[0m                                 Traceback (most recent call last)",
      "\u001b[0;32m<ipython-input-42-d36304c1c3ae>\u001b[0m in \u001b[0;36m<module>\u001b[0;34m()\u001b[0m\n\u001b[1;32m      6\u001b[0m \u001b[0;34m\u001b[0m\u001b[0m\n\u001b[1;32m      7\u001b[0m \u001b[0;34m\u001b[0m\u001b[0m\n\u001b[0;32m----> 8\u001b[0;31m \u001b[0mcar_ads\u001b[0m\u001b[0;34m[\u001b[0m\u001b[0;34m'new2'\u001b[0m\u001b[0;34m]\u001b[0m \u001b[0;34m=\u001b[0m \u001b[0mcar_ads\u001b[0m\u001b[0;34m.\u001b[0m\u001b[0mapplymap\u001b[0m\u001b[0;34m(\u001b[0m\u001b[0mmultiply\u001b[0m\u001b[0;34m,\u001b[0m \u001b[0mcar_ads\u001b[0m\u001b[0;34m[\u001b[0m\u001b[0;34m'price'\u001b[0m\u001b[0;34m]\u001b[0m\u001b[0;34m)\u001b[0m\u001b[0;34m\u001b[0m\u001b[0m\n\u001b[0m",
      "\u001b[0;31mTypeError\u001b[0m: applymap() takes 2 positional arguments but 3 were given"
     ]
    }
   ],
   "source": [
    "def multiply(x):\n",
    "    x = x*2\n",
    "    \n",
    "car_ads['new'] = map(multiply, car_ads['price'])\n",
    "car_ads.head()\n",
    "\n",
    "\n",
    "car_ads['new2'] = car_ads.applymap(multiply, car_ads['price'])"
   ]
  },
  {
   "cell_type": "code",
   "execution_count": null,
   "metadata": {},
   "outputs": [],
   "source": [
    "car_ads.loc[0:20,['new']]"
   ]
  }
 ],
 "metadata": {
  "anaconda-cloud": {
   "attach-environment": true,
   "url": "https://anaconda.org/ankitind/pandas_basics"
  },
  "kernelspec": {
   "display_name": "Python 3",
   "language": "python",
   "name": "python3"
  },
  "language_info": {
   "codemirror_mode": {
    "name": "ipython",
    "version": 3
   },
   "file_extension": ".py",
   "mimetype": "text/x-python",
   "name": "python",
   "nbconvert_exporter": "python",
   "pygments_lexer": "ipython3",
   "version": "3.5.2"
  }
 },
 "nbformat": 4,
 "nbformat_minor": 1
}
