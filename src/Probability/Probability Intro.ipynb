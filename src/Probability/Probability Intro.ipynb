{
 "cells": [
  {
   "cell_type": "code",
   "execution_count": 31,
   "metadata": {
    "collapsed": true
   },
   "outputs": [],
   "source": [
    "import seaborn as sns\n",
    "from matplotlib import pyplot as plt\n",
    "import numpy as np; from random import randint\n",
    "from scipy import stats"
   ]
  },
  {
   "cell_type": "markdown",
   "metadata": {},
   "source": [
    "# Probability\n",
    "---\n",
    "## 1 Intro\n",
    "Probability is a frequency expressed as a fraction of the sample size."
   ]
  },
  {
   "cell_type": "markdown",
   "metadata": {},
   "source": [
    "### 1.1. Random Experiment\n",
    "\n",
    "An experiment is said to be a random experiment, if it's out-come can't be predicted with certainty.\n",
    "> Example; If a coin is tossed, we can't say, whether head or tail will appear. So it is a random experiment.\n",
    "\n"
   ]
  },
  {
   "cell_type": "markdown",
   "metadata": {},
   "source": [
    "### 1.2 Sample Space\n",
    "The set of all possible out-comes of an experiment is called the sample space. It is denoted by 'S' and its number of elements are n(s).\n",
    "\n",
    "> Example; In throwing a dice, the number that appears at top is any one of 1,2,3,4,5,6. So here:\n",
    "S ={1,2,3,4,5,6} and n(s) = 6\n",
    "\n",
    "> Similarly in the case of a coin, S={Head,Tail} or {H,T} and n(s)=2.\n",
    "\n",
    "The elements of the sample space are called sample point or event point"
   ]
  },
  {
   "cell_type": "markdown",
   "metadata": {},
   "source": [
    "### 1.3 Event\n",
    "Every subset of a sample space is an event. It is denoted by 'E'.\n",
    "\n",
    "> Example: In throwing a dice S={1,2,3,4,5,6}, the appearance of an event number will be the event E={2,4,6}.\n",
    "\n",
    "Clearly E is a sub set of S."
   ]
  },
  {
   "cell_type": "markdown",
   "metadata": {},
   "source": [
    "### 1.4 Types of Events\n",
    "\n",
    "#### Simple event\n",
    "An event, consisting of a single sample point is called a simple event.\n",
    "\n",
    "> Example: In throwing a dice, S={1,2,3,4,5,6}, so each of {1},{2},{3},{4},{5} and {6} are simple events.\n",
    "\n",
    "#### Compound event\n",
    "A subset of the sample space, which has more than on element is called a mixed event.\n",
    "\n",
    "> Example: In throwing a dice, the event of appearing of odd numbers is a compound event, because E={1,3,5} which has '3' elements.\n",
    "\n",
    "#### Equally likely events\n",
    "Events are said to be equally likely, if we have no reason to believe that one is more likely to occur than the other.\n",
    "\n",
    "> Example: When a dice is thrown, all the six faces {1,2,3,4,5,6} are equally likely to come up.\n",
    "\n",
    "#### Exhaustive events\n",
    "When every possible out come of an experiment is considered.\n",
    "\n",
    ">Example: A dice is thrown, cases 1,2,3,4,5,6 form an exhaustive set of events.\n",
    "\n",
    "---"
   ]
  },
  {
   "cell_type": "markdown",
   "metadata": {},
   "source": [
    "##  2. Types of Distribution\n"
   ]
  },
  {
   "cell_type": "markdown",
   "metadata": {},
   "source": [
    "### 2.1 Continuous Distribution\n",
    "Distributions for continuous variables are called continuous distributions. \n",
    "\n",
    "- Continuous distributions cannot be written so neatly as the uniform discrete distribution,\n",
    "- As a result, a continuous probability distribution cannot be expressed in tabular form.\n",
    "- Instead, an equation or formula is used to describe a continuous probability distribution.\n",
    "\n",
    "A continous random variable X with a probability density function is a continous uniform random variable when:\n",
    "$f(x)=1(b−a)$ <br> $a<=x<=b$"
   ]
  },
  {
   "cell_type": "markdown",
   "metadata": {},
   "source": [
    "### 2.1.1. PDF (Probability Density Function)\n",
    "For a discrete random variable, a probability distribution contains the probability of each possible outcome. However, for a continuous random variable, the probability of any one outcome is zero (if you specify it to enough decimal places). A probability density function is a formula that can be used to compute probabilities of a range of outcomes for a continuous random variable. The sum of all densities is always 1.0 and the value of the function is always greater or equal to zero."
   ]
  },
  {
   "cell_type": "markdown",
   "metadata": {},
   "source": [
    "###  2.1.2. Cumulative distribution function (CDF): \n",
    "A function that maps from values to their cumulative probabilities. CDF(x) is the fraction of the sample less than or equal to x. It's equivalent to PercentileRank, except that the result is a probability in the range 0 to 1"
   ]
  },
  {
   "cell_type": "markdown",
   "metadata": {},
   "source": [
    "### 2.2 Normal Distribution or Gaussian Distribution\n",
    "<img src=\"https://image.ibb.co/hNdYNa/download.jpg\">\n",
    "- It is a continuous probability distribution\n",
    "- The maximum, mean, median and mode all are equal\n",
    "- It's bell shapped and symmetrical about the mean\n",
    "- The total area under the curve is 1.0\n",
    "- The maximum value is attained at mean $ \\mu $\n",
    "- The curve approaches but never touches x-axis as it extends away from the mean\n",
    "- The inflection points (a point of a curve at which a change in the direction of curvature occurs) are at x + $ \\mu $ and x - $ \\mu $ "
   ]
  },
  {
   "cell_type": "markdown",
   "metadata": {},
   "source": [
    "### 2.3 Distribution of Data for Normal Distribution\n",
    "<img src=\"http://www.statisticshowto.com/wp-content/uploads/2013/09/The_Normal_Distribution.svg_1.png\">\n",
    "\n",
    "- 68% of the data falls within one standard deviation of the mean.\n",
    "- 95% of the data falls within two standard deviations of the mean.\n",
    "- 99.7% of the data falls within three standard deviations of the mean.\n",
    "\n",
    "$ z = \\dfrac{X - \\mu}{\\sigma} $\n",
    "\n"
   ]
  },
  {
   "cell_type": "markdown",
   "metadata": {},
   "source": [
    "### 2.4 Standard Normal Distribution\n",
    "\n",
    "<img src=\"https://preview.ibb.co/ga7Pvv/main_qimg_bbc5a9680d8423e1caf02fd5a536dc69.gif\">\n",
    "\n",
    "The standard normal distribution is just a normal distribution scaled/standardized by the z-formula.\n",
    "\n",
    "Entering every $ x_i $ value of the normal distribution into the z-formula will give you the standard normal distribution which by definition of the z-formula than has a mean of zero and a standard deviation of one. (Basically what you do in standardizing is just shifting the distribution).\n",
    "\n",
    "Note: The probability of any value $ x_i $ under the normal distribution and the standard distribution is the same.\n"
   ]
  },
  {
   "cell_type": "markdown",
   "metadata": {},
   "source": [
    "### 2.5 Unimodal Distribution\n",
    "\n",
    "---"
   ]
  },
  {
   "cell_type": "markdown",
   "metadata": {},
   "source": [
    "## 3. Discrete probability distribution\n",
    "Unlike a continuous distribution, which has an infinite number of outcomes, a discrete distribution is characterized by a limited number of possible observations. \n",
    "\n",
    "Examples of discrete probability distributions include **binomial distribution** (with a finite set of values) and **Poisson distribution** (with an countably infinite set of values). "
   ]
  },
  {
   "cell_type": "markdown",
   "metadata": {},
   "source": [
    "### 3.1 Discrete Uniform distribution\n",
    "A random variable X has a discrete uniform distribution if each of the n values in its range: x1,x2,x3....xn has equal probability\n",
    "\n",
    "\n",
    "PMF is a representation of a distribution as a function that maps from values to probabilities.\n",
    "\n",
    "$f(x_i) = \\dfrac{1}{n}$"
   ]
  },
  {
   "cell_type": "code",
   "execution_count": 60,
   "metadata": {},
   "outputs": [
    {
     "data": {
      "image/png": "[encoded data removed]",
      "text/plain": [
       "<matplotlib.figure.Figure at 0x7ff1a854d2e8>"
      ]
     },
     "metadata": {},
     "output_type": "display_data"
    }
   ],
   "source": [
    "plt.hist(np.random.randint(1,7,10000000 ), align='right')\n",
    "plt.title('Dice Roll - Discrete Uniform Distribution')\n",
    "plt.show()"
   ]
  },
  {
   "cell_type": "markdown",
   "metadata": {},
   "source": [
    "### 3.2 Binomial Experiment\n",
    "A binomial experiment is an experiment where you have a fixed number of independent trials with only have two outcomes.\n",
    "\n",
    "- You must have a fixed number of trials.\n",
    "- Each trial is an independent event.\n",
    "- There are only two outcomes.\n",
    "\n",
    "| Experiement                                                                                                                                                                      | is Binomial Experiment                                                                                             |\n",
    "|:---------------------------------------------------------------------------------------------------------------------------------------------------------------------------------|:-------------------------------------------------------------------------------------------------------------------|\n",
    "| Tossing a coin a hundred times to see how many land on heads.                                                                                                                    | Yes                                                                                                                |\n",
    "| You are at a fair, playing “pop the balloon” with 6 darts. <br>There are 20 balloons. 10 of the balloons have a ticket inside that say “win,” and 10 have a ticket that says “lose.” | No, each time you toss a dart, the number of winning and losing tickets changes. So two trials are not independent |\n",
    "| Counting the average number of dogs seen at a veterinarian’s office daily.                                                                                                       | Trials are not fixed.                                                                                              |"
   ]
  },
  {
   "cell_type": "markdown",
   "metadata": {},
   "source": [
    "### 3.3. Binomial distribution\n",
    "The binomial distribution is a discrete probability distribution. It describes the outcome of n independent trials in an experiment. Each trial is assumed to have only two outcomes, either success or failure.\n",
    "<img src=\"https://www.optiontradingtips.com/images/binomial-distribution.jpg\" width=400>\n",
    "\n"
   ]
  },
  {
   "cell_type": "markdown",
   "metadata": {},
   "source": [
    "### 3.4 Bernoulli trials\n",
    "A sequence of Bernoulli trials satisfies the following assumptions:\n",
    "- Each trial has two possible outcomes, in the language of reliability called success and failure.\n",
    "- The trials are independent. Intuitively, the outcome of one trial has no influence over the outcome of another trial.\n",
    "- On each trial, the probability of success is p and the probability of failure is (1 − p) where p ∈ [0,1] is the success parameter of the process."
   ]
  },
  {
   "cell_type": "markdown",
   "metadata": {},
   "source": [
    "### 3.5 Geometric Distribution\n",
    "The geometric distribution represents the number of failures before you get a success in a series of Bernoulli trials. \n",
    "\n",
    "$ f(x) = (1 − p)^{x − 1}p $\n",
    "\n",
    "For example, you ask people outside a polling station who they voted for until you find someone that voted for the independent candidate in a local election. The geometric distribution would represent the number of people who you had to poll before you found someone who voted independent. You would need to get a certain number of failures before you got your first success.\n",
    "\n",
    "If you had to ask 3 people, then X=3; if you had to ask 4 people, then X=4 and so on. In other words, there would be X-1 failures before you get your success.\n",
    "\n",
    "If X=n, it means you succeeded on the nth try and failed for n-1 tries. The probability of failing on your first try is 1-p. For example, if p = 0.2 then your probability of success is .2 and your probability of failure is 1 – 0.2 = 0.8. Independence (i.e. that the outcome of one trial does not affect the next) means that you can multiply the probabilities together. So the probability of failing on your second try is (1-p)(1-p) and your probability of failing on the nth-1 tries is $ (1-p)^{n-1} $. If you succeeded on your 4th try, n = 4, n – 1 = 3, so the probability of failing up to that point is \n",
    "\n",
    "$ (1-p)(1-p)(1-p) = (1-p)^3 $\n",
    "\n",
    "Sample question: If your probability of success is 0.2, what is the probability you meet an independent voter on your third try?\n",
    "Inserting 0.2 as p and with X = 3, the probability density function becomes:\n",
    "\n",
    "$ f(x) = (1 − p)^{x − 1}*p $\n",
    "\n",
    "$ P(X=3) = (1 − 0.2)^{3 − 1}(0.2) $\n",
    "\n",
    "$ P(X=3) = (0.8)^2*0.2 = 0.128 $\n",
    "\n",
    "\n",
    "<img src=\"http://www.statisticshowto.com/wp-content/uploads/2015/05/geometric-distribution.png\">"
   ]
  },
  {
   "cell_type": "markdown",
   "metadata": {},
   "source": [
    "### 3.6 Poisson Distribution\n",
    "\n",
    "A Poisson distribution is the probability distribution that results from a Poisson experiment.\n",
    "\n",
    "##### Attributes of a Poisson Experiment\n",
    "- The experiment results in outcomes that can be classified as successes or failures.\n",
    "- The average number of successes (μ) that occurs in a specified region is known.\n",
    "- The probability that a success will occur is proportional to the size of the region.\n",
    "- The probability that a success will occur in an extremely small region is virtually zero.\n",
    "\n",
    "Unpredictable events, like shark attacks, do not occur at regular intervals but tend to occur in clusters.\n",
    "The unpredictable nature of these events means that there are bound to be periods with an above average number of events, as well as periods with a below average number events, or even no events at all.\n",
    "\n",
    "The Poisson distribution can be used to calculate the chance that a particular time period will exhibit an abnormally large number ofevents (Poisson burst), or that it will exhibit no events at all.\n",
    "\n",
    "<img src=\"http://nau.edu/uploadedImages/Academic/CEFNS/Labs/Electron_Microprobe/_Media/Poisson_Dristribution.jpg\">\n",
    "\n",
    "The function is defined only at integer values of a or x.\n",
    "\n",
    "\n",
    "- where, λ or m = average number of random occurrences per interval.\n",
    "- the vertical axis is the probability of k occurrences given λ or m. \n",
    "As the average number of random occurrences per interval, m, increases, the probability distribution moves to the right and broadens. For each m or λ value, sum of all probabilities = 1.0. It should be emphasized that the Poisson distribution is not a continuous function, but rather gives the probabilities for discrete values of a or x. The connecting lines are only guides for the eye. \n",
    "\n",
    "> Notice how the distribution for m = 10 resembles a \"bell-shaped-curve.\" The connecting lines are for convenience, probabilities only apply at the integer intervals shown by symbols.\n",
    "\n",
    "\n",
    "PMF function is\n",
    "$ P(a) = e ^ {- λ} \\dfrac {λ^x}{x!} $\n",
    "\n",
    "$ x = 1,2,3 ... $"
   ]
  }
 ],
 "metadata": {
  "kernelspec": {
   "display_name": "Python 3",
   "language": "python",
   "name": "python3"
  },
  "language_info": {
   "codemirror_mode": {
    "name": "ipython",
    "version": 3
   },
   "file_extension": ".py",
   "mimetype": "text/x-python",
   "name": "python",
   "nbconvert_exporter": "python",
   "pygments_lexer": "ipython3",
   "version": "3.5.2"
  }
 },
 "nbformat": 4,
 "nbformat_minor": 1
}
