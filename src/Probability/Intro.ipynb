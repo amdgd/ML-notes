{
 "cells": [
  {
   "cell_type": "code",
   "execution_count": 2,
   "metadata": {
    "collapsed": true
   },
   "outputs": [],
   "source": [
    "import seaborn as sns\n",
    "from matplotlib import pyplot as plt\n",
    "import numpy as np; from random import randint\n",
    "from scipy import stats"
   ]
  },
  {
   "cell_type": "markdown",
   "metadata": {},
   "source": [
    "# Probability\n",
    "---\n",
    "## 1 Intro\n",
    "Probability is a frequency expressed as a fraction of the sample size."
   ]
  },
  {
   "cell_type": "markdown",
   "metadata": {},
   "source": [
    "### 1.1. Random Experiment\n",
    "\n",
    "An experiment is said to be a random experiment, if it's out-come can't be predicted with certainty.\n",
    "> Example; If a coin is tossed, we can't say, whether head or tail will appear. So it is a random experiment.\n",
    "\n"
   ]
  },
  {
   "cell_type": "markdown",
   "metadata": {},
   "source": [
    "### 1.2 Sample Space\n",
    "The set of all possible out-comes of an experiment is called the sample space. It is denoted by 'S' and its number of elements are n(s).\n",
    "\n",
    "> Example; In throwing a dice, the number that appears at top is any one of 1,2,3,4,5,6. So here:\n",
    "S ={1,2,3,4,5,6} and n(s) = 6\n",
    "\n",
    "> Similarly in the case of a coin, S={Head,Tail} or {H,T} and n(s)=2.\n",
    "\n",
    "The elements of the sample space are called sample point or event point"
   ]
  },
  {
   "cell_type": "markdown",
   "metadata": {},
   "source": [
    "### 1.3 Event\n",
    "Every subset of a sample space is an event. It is denoted by 'E'.\n",
    "\n",
    "> Example: In throwing a dice S={1,2,3,4,5,6}, the appearance of an event number will be the event E={2,4,6}.\n",
    "\n",
    "Clearly E is a sub set of S."
   ]
  },
  {
   "cell_type": "markdown",
   "metadata": {},
   "source": [
    "### 1.4 Types of Events\n",
    "\n",
    "#### Simple event\n",
    "An event, consisting of a single sample point is called a simple event.\n",
    "\n",
    "> Example: In throwing a dice, S={1,2,3,4,5,6}, so each of {1},{2},{3},{4},{5} and {6} are simple events.\n",
    "\n",
    "#### Compound event\n",
    "A subset of the sample space, which has more than on element is called a mixed event.\n",
    "\n",
    "> Example: In throwing a dice, the event of appearing of odd numbers is a compound event, because E={1,3,5} which has '3' elements.\n",
    "\n",
    "#### Equally likely events\n",
    "Events are said to be equally likely, if we have no reason to believe that one is more likely to occur than the other.\n",
    "\n",
    "> Example: When a dice is thrown, all the six faces {1,2,3,4,5,6} are equally likely to come up.\n",
    "\n",
    "#### Exhaustive events\n",
    "When every possible out come of an experiment is considered.\n",
    "\n",
    ">Example: A dice is thrown, cases 1,2,3,4,5,6 form an exhaustive set of events.\n",
    "\n",
    "---"
   ]
  }
 ],
 "metadata": {
  "kernelspec": {
   "display_name": "Python 3",
   "language": "python",
   "name": "python3"
  },
  "language_info": {
   "codemirror_mode": {
    "name": "ipython",
    "version": 3
   },
   "file_extension": ".py",
   "mimetype": "text/x-python",
   "name": "python",
   "nbconvert_exporter": "python",
   "pygments_lexer": "ipython3",
   "version": "3.5.2"
  }
 },
 "nbformat": 4,
 "nbformat_minor": 1
}
