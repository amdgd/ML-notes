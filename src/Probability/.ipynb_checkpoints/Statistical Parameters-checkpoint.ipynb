{
 "cells": [
  {
   "cell_type": "code",
   "execution_count": null,
   "metadata": {
    "collapsed": true
   },
   "outputs": [],
   "source": [
    "\n",
    "#  ███████╗████████╗ █████╗ ████████╗██╗███████╗████████╗██╗ ██████╗ █████╗ ██╗         \n",
    "#  ██╔════╝╚══██╔══╝██╔══██╗╚══██╔══╝██║██╔════╝╚══██╔══╝██║██╔════╝██╔══██╗██║         \n",
    "#  ███████╗   ██║   ███████║   ██║   ██║███████╗   ██║   ██║██║     ███████║██║         \n",
    "#  ╚════██║   ██║   ██╔══██║   ██║   ██║╚════██║   ██║   ██║██║     ██╔══██║██║         \n",
    "#  ███████║   ██║   ██║  ██║   ██║   ██║███████║   ██║   ██║╚██████╗██║  ██║███████╗    \n",
    "#  ╚══════╝   ╚═╝   ╚═╝  ╚═╝   ╚═╝   ╚═╝╚══════╝   ╚═╝   ╚═╝ ╚═════╝╚═╝  ╚═╝╚══════╝    \n",
    "#                                                                                       \n",
    "#  ██████╗  █████╗ ██████╗  █████╗ ███╗   ███╗███████╗████████╗███████╗██████╗ ███████╗ \n",
    "#  ██╔══██╗██╔══██╗██╔══██╗██╔══██╗████╗ ████║██╔════╝╚══██╔══╝██╔════╝██╔══██╗██╔════╝ \n",
    "#  ██████╔╝███████║██████╔╝███████║██╔████╔██║█████╗     ██║   █████╗  ██████╔╝███████╗ \n",
    "#  ██╔═══╝ ██╔══██║██╔══██╗██╔══██║██║╚██╔╝██║██╔══╝     ██║   ██╔══╝  ██╔══██╗╚════██║ \n",
    "#  ██║     ██║  ██║██║  ██║██║  ██║██║ ╚═╝ ██║███████╗   ██║   ███████╗██║  ██║███████║ \n",
    "#  ╚═╝     ╚═╝  ╚═╝╚═╝  ╚═╝╚═╝  ╚═╝╚═╝     ╚═╝╚══════╝   ╚═╝   ╚══════╝╚═╝  ╚═╝╚══════╝ \n",
    "#                                                                                       \n"
   ]
  },
  {
   "cell_type": "markdown",
   "metadata": {},
   "source": [
    "# 1. Intro \n",
    "A parameter is any numerical quantity that characterizes a given population or some aspect of it. This means the parameter tells us something about the whole population.\n",
    "\n",
    "The most common statistics parameters are the measures of central tendency. These tell us how the data behaves on an average basis. For example, mean, median and mode are measures of central tendency that give us an idea about where the data concentrates. Standard deviation tells us how the data is spread from the central tendency, i.e. whether the distribution is wide or narrow. Such parameters are often very useful in analysis.\n",
    "\n",
    "Among parameterized families of distributions are the normal distributions, the Poisson distributions, the binomial distributions, and the exponential family of distributions. \n",
    "- The family of **normal distributions** has two parameters, the mean and the variance: if these are specified, the distribution is known exactly. \n",
    "- The family of **chi-squared distributions**, on the other hand, has only one parameter, the number of degrees of freedom.\n",
    "- The family of **poisson distributions**, on the other hand, has only one parameter, λ is the shape parameter which indicates the average number of events in the given time interval."
   ]
  },
  {
   "cell_type": "markdown",
   "metadata": {},
   "source": [
    "## 1.1  Population and Parameter\n",
    "- A population is any large collection of objects or individuals, such as Americans, students, or trees about which information is desired.\n",
    "- A parameter is any summary number, like an average or percentage, that describes the entire population."
   ]
  },
  {
   "cell_type": "markdown",
   "metadata": {},
   "source": [
    "## 1.2 Sample and Statistics\n",
    "- A sample is a representative group drawn from the population.\n",
    "- A statistic is any summary number, like an average or percentage, that describes the sample."
   ]
  },
  {
   "cell_type": "markdown",
   "metadata": {
    "collapsed": true
   },
   "source": [
    "## 1.3 Optimal Parameters\n",
    "Parameters values that bring the model in closest agreement with the data"
   ]
  },
  {
   "cell_type": "markdown",
   "metadata": {},
   "source": [
    "## 2. Bootstrapping \n",
    "It is a statistical technique that falls under the broader heading of resampling.  This technique involves a relatively simple procedure, but repeated so many times that it is heavily dependent upon computer calculations.  Bootstrapping provides a method other than confidence intervals to estimate a population parameter.\n",
    "\n",
    "### 2.1 An Explanation of Bootstrapping\n",
    "\n",
    "One goal of inferential statistics is to determine the value of a parameter of a population. It is typically too expensive or even impossible to measure this directly. So we use statistical sampling. We sample a population, measure a statistic of this sample, and then use this statistic to say something about the corresponding parameter of the population.\n",
    "\n",
    "> The process of repeatedly resampling from your observed sample has been shown to mimic the process of the original sampling from the whole population.\n",
    "\n",
    "###### The population is to the sample what the sample is to the bootstrapped sample\n",
    "\n",
    "- Bootstrapping - Use of resampling data to perform statistical inference\n",
    "- Bootstrap Sample - Each resampled array\n",
    "- Bootstrap Replciate - Value of summary statistics computed from a resampled array"
   ]
  },
  {
   "cell_type": "markdown",
   "metadata": {},
   "source": [
    "## 3. Confidence Interval\n",
    "\n",
    "### 3.1 Point Estimate\n",
    "When a parameter is being estimated, the estimate can be either a single number or it can be a range of numbers such as in a confidence interval. When the estimate is a single number, the estimate is called a \"point estimate.\" A point estimate by itself is of limited usefulness because it does not reveal the uncertainty associated with the estimate; you do not have a good sense of how far this sample mean may be from the population mean.\n",
    "\n"
   ]
  },
  {
   "cell_type": "markdown",
   "metadata": {},
   "source": [
    "### 3.2 Confidence Interval of a Statistics\n",
    "If repeated samples were taken and the p% confidence interval computed for each sample, p% of the intervals would contain the population mean. \n",
    "\n",
    "### 3.3 How to Interpret Confidence Intervals\n",
    "\n",
    "Suppose that a 90% confidence interval states that the population mean is greater than 100 and less than 200. How would you interpret this statement?\n",
    "\n",
    "Some people think this means there is a 90% chance that the population mean falls between 100 and 200. This is incorrect. Like any population parameter, the population mean is a constant, not a random variable. It does not change. The probability that a constant falls within any given range is always 0.00 or 1.00.\n",
    "\n",
    "The confidence level describes the uncertainty associated with a sampling method. Suppose we used the same sampling method to select different samples and to compute a different interval estimate for each sample. Some interval estimates would include the true population parameter and some would not. A 90% confidence level means that we would expect 90% of the interval estimates to include the population parameter; A 95% confidence level means that 95% of the intervals would include the parameter; and so on."
   ]
  },
  {
   "cell_type": "markdown",
   "metadata": {},
   "source": [
    "## 4 Parametric and Non-parametric Tests\n",
    "Parametric statistical test is one that makes assumptions about the parameters (defining properties) of the population distribution(s) from which one's data are drawn, while a non-parametric test is one that makes no such assumptions. "
   ]
  },
  {
   "cell_type": "markdown",
   "metadata": {},
   "source": [
    "### 4.1 Parametric tests\n",
    "Typical assumptions are:\n",
    "\n",
    "- Normality: Data have a normal distribution (or at least is symmetric)\n",
    "- Homogeneity of variances: Data from multiple groups have the same variance\n",
    "- Linearity: Data have a linear relationship\n",
    "- Independence: Data are independent\n",
    "\n",
    "> for e.g a Normal Distribution, assumption is that the graph of the data has the shape of a bell curve. Such data is symmetric around its mean and has kurtosis equal to zero. \n",
    "\n",
    "> Some tests (e.g. Regression) require that there be a linear correlation between the dependent and independent variables. Generally linearity can be tested graphically using scatter diagrams\n",
    "\n",
    "> another example if we measure the monthly weight of 10 people over the course of 5 months, these 50 observations are not independent since repeated measurements from the same people are not independent. \n"
   ]
  },
  {
   "cell_type": "markdown",
   "metadata": {},
   "source": [
    "### 4.2 Non-parametric tests\n",
    "\n",
    "In general, non-parametric tests:\n",
    "\n",
    "- make few or no assumptions about the distribution of the data\n",
    "- reduce the effect of outliers and heterogeneity of variance\n",
    "- can often be used even for ordinal, and sometimes even nominal, data\n",
    "\n",
    "Since non-parametric tests do not estimate population parameters, in general there are\n",
    "\n",
    "- no estimates of variance/variability\n",
    "- no confidence intervals\n",
    "- fewer measures of effect size\n",
    "\n",
    "Also non-parametric tests are generally not as powerful as parametric alternatives when the assumptions of the parametric tests are met."
   ]
  }
 ],
 "metadata": {
  "kernelspec": {
   "display_name": "Python 3",
   "language": "python",
   "name": "python3"
  },
  "language_info": {
   "codemirror_mode": {
    "name": "ipython",
    "version": 3
   },
   "file_extension": ".py",
   "mimetype": "text/x-python",
   "name": "python",
   "nbconvert_exporter": "python",
   "pygments_lexer": "ipython3",
   "version": "3.5.2"
  }
 },
 "nbformat": 4,
 "nbformat_minor": 2
}
