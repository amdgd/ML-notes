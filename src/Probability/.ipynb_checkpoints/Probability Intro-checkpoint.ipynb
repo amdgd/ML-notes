{
 "cells": [
  {
   "cell_type": "code",
   "execution_count": 31,
   "metadata": {
    "collapsed": true
   },
   "outputs": [],
   "source": [
    "import seaborn as sns\n",
    "from matplotlib import pyplot as plt\n",
    "import numpy as np; from random import randint\n",
    "from scipy import stats"
   ]
  },
  {
   "cell_type": "markdown",
   "metadata": {},
   "source": [
    "# Glossary\n",
    "#### 1. anecdotal evidence:\n",
    "Evidence,  often  personal,  that  is  collected  casually rather than by a well-designed study.\n",
    "####  2. population:\n",
    "A group we are interested in studying, often a group of people, but the term is also used for animals, vegetables and minerals\n",
    "####  3. cross-sectional study:\n",
    "A  study  that  collects  data  about  a  population  at  a particular point in time.\n",
    "####  4. cycle: \n",
    "In a repeated cross-sectional study, each repetition of the study is called a cycle.\n",
    "####  5. longitudinal study: A study that follows a population over time,\n",
    "collecting data from the same group repeatedly.\n",
    "####  6. record: \n",
    "In a dataset, a collection of information about a single person or other subject.\n",
    "####  7. sample: \n",
    "The subset of a population used to collect data.\n",
    "####  8. representative: \n",
    "A sample is representative if every member of the population has the same chance of being in the sample.\n",
    "####  9. effect size:\n",
    "is a summary statistic intended to describe the size of an effect. For example, to describe the difference between two groups, one obvious choice is the difference in the means\n",
    "####  10. clinically significant\n",
    "A result, like a difference between groups, that is relevant in practice.\n",
    "####  11. normal distribution / Gaussian distribution: \n",
    "An idealization of a bell-shaped distribution; also known as a Gaussian distribution.\n",
    "<img src=\"http://web.calstatela.edu/curvebank/gaussdist/normal.jpg\" width=200>\n",
    "\n",
    "\n",
    "####  12. uniform distribution: \n",
    "A distribution in which all values have the same frequency.\n",
    "\n",
    "<img src=\"http://www.epixanalytics.com/modelassist/CrystalBall/images/9/image524.gif\" width=200>\n",
    "\n",
    "\n",
    "####  13. Probability mass function (PMF): \n",
    "a representation of a distribution as a function that maps from values to probabilities.\n",
    "####  14. probability: \n",
    "A frequency expressed as a fraction of the sample size.\n",
    "####  15. normalization: \n",
    "The process of dividing a frequency by a sample size to get a probability\n",
    "percentile rank: The percentage of values in a distribution that are less\n",
    "than or equal to a given value.\n",
    "####  16. percentile: \n",
    "The value associated with a given percentile rank.\n",
    "####  17. cumulative distribution function (CDF): \n",
    "A function that maps from values to their cumulative probabilities. CDF(x) is the fraction of the sample less than or equal to x. It's equivalent to PercentileRank, except that the result is a probability in the range 0 to 1\n",
    "####  18. inverse CDF: \n",
    "A function that maps from a cumulative probability, p,to the corresponding value\n",
    "#### 19. Discrete Distribution\n",
    "A statistical distribution whose variables can take on only discrete values. \n",
    "- PMF is a type of discrete distribution, as a PMF represents the probabilities for a discrete set of values.\n",
    "- A discrete distribution is appropriate when the variable can only take on a fixed number of values. \n",
    "- E.g. if you roll a normal die, you can get 1, 2, 3, 4, 5, or 6. You cannot get 1.2 or 0.1. If it is a fair die, the probability distribution will be \n",
    "1/6, 1/6, 1/6, 1/6, 1/6, 1/6\n",
    "\n",
    "<img src=\"http://www2.cedarcrest.edu/academic/bio/hale/biostat/session10links/probgraph.jpg\" width=200>\n",
    "\n",
    "\n",
    "#### 19. Continuous Distribution\n",
    "A continuous distribution is appropriate when the variable can take on (at least in theory) an infinite number of values. You can weigh 150.2311 kgs or 150.1012 kgs. \n",
    "- Continuous distributions cannot be written so neatly as the uniform discrete distribution,\n",
    "- As a result, a continuous probability distribution cannot be expressed in tabular form.\n",
    "- Instead, an equation or formula is used to describe a continuous probability distribution.\n",
    "<img src=\"http://sites.nicholas.duke.edu/statsreview/files/2013/06/family.jpeg\" width=200>\n",
    "\n",
    "\n",
    "\n",
    "#### Probability Density Function (pdf)\n",
    "Most often, the equation used to describe a continuous probability distribution is called a probability density function . Sometimes, it is referred to as a density function, a PDF, or a pdf. For a continuous probability distribution, the density function has the following properties:\n",
    "\n",
    "- Since the continuous random variable is defined over a continuous range of values (called the domain of the variable), the graph of the density function will also be continuous over that range.\n",
    "- The area bounded by the curve of the density function and the x-axis is equal to 1, when computed over the domain of the variable.\n",
    "- The probability that a random variable assumes a value between a and b is equal to the area under the density function bounded by a and b.\n",
    "\n",
    "#### 20. empirical distributions\n",
    "Are based on empirical observations, which are necessarily finite samples.\n",
    "#### 21. analytics distributions\n",
    "The alternative to emprical distribution is an analytic distribution, which is characterized by a CDF that is a mathematical function.\n",
    "\n",
    "#### 22. binomial distribution\n",
    "The binomial distribution is a discrete probability distribution. It describes the outcome of n independent trials in an experiment. Each trial is assumed to have only two outcomes, either success or failure.\n",
    "<img src=\"https://www.optiontradingtips.com/images/binomial-distribution.jpg\" width=200>\n",
    "\n",
    "\n",
    "**What is the difference between Binomial and Normal Distributions?**\n",
    "\n",
    "Binomial distribution is a discrete probability distribution whereas the normal distribution is a continuous one.\n",
    "\n",
    "#### 23. Bernoulli trials\n",
    "A sequence of Bernoulli trials satisfies the following assumptions:\n",
    "- Each trial has two possible outcomes, in the language of reliability called success and failure.\n",
    "- The trials are independent. Intuitively, the outcome of one trial has no influence over the outcome of another trial.\n",
    "- On each trial, the probability of success is p and the probability of failure is (1 − p) where p ∈ [0,1] is the success parameter of the process."
   ]
  },
  {
   "cell_type": "markdown",
   "metadata": {},
   "source": [
    "# Probability\n",
    "## 1 Intro"
   ]
  },
  {
   "cell_type": "markdown",
   "metadata": {},
   "source": [
    "### 1.1. Random Experiment\n",
    "\n",
    "An experiment is said to be a random experiment, if it's out-come can't be predicted with certainty.\n",
    "> Example; If a coin is tossed, we can't say, whether head or tail will appear. So it is a random experiment.\n",
    "\n"
   ]
  },
  {
   "cell_type": "markdown",
   "metadata": {},
   "source": [
    "### 1.2 Sample Space\n",
    "The set of all possible out-comes of an experiment is called the sample space. It is denoted by 'S' and its number of elements are n(s).\n",
    "\n",
    "> Example; In throwing a dice, the number that appears at top is any one of 1,2,3,4,5,6. So here:\n",
    "S ={1,2,3,4,5,6} and n(s) = 6\n",
    "\n",
    "> Similarly in the case of a coin, S={Head,Tail} or {H,T} and n(s)=2.\n",
    "\n",
    "The elements of the sample space are called sample point or event point"
   ]
  },
  {
   "cell_type": "markdown",
   "metadata": {},
   "source": [
    "### 1.3 Event\n",
    "Every subset of a sample space is an event. It is denoted by 'E'.\n",
    "\n",
    "> Example: In throwing a dice S={1,2,3,4,5,6}, the appearance of an event number will be the event E={2,4,6}.\n",
    "\n",
    "Clearly E is a sub set of S."
   ]
  },
  {
   "cell_type": "markdown",
   "metadata": {},
   "source": [
    "### 1.4 Types of Events\n",
    "\n",
    "#### Simple event\n",
    "An event, consisting of a single sample point is called a simple event.\n",
    "\n",
    "> Example: In throwing a dice, S={1,2,3,4,5,6}, so each of {1},{2},{3},{4},{5} and {6} are simple events.\n",
    "\n",
    "#### Compound event\n",
    "A subset of the sample space, which has more than on element is called a mixed event.\n",
    "\n",
    "> Example: In throwing a dice, the event of appearing of odd numbers is a compound event, because E={1,3,5} which has '3' elements.\n",
    "\n",
    "#### Equally likely events\n",
    "Events are said to be equally likely, if we have no reason to believe that one is more likely to occur than the other.\n",
    "\n",
    "> Example: When a dice is thrown, all the six faces {1,2,3,4,5,6} are equally likely to come up.\n",
    "\n",
    "#### Exhaustive events\n",
    "When every possible out come of an experiment is considered.\n",
    "\n",
    ">Example: A dice is thrown, cases 1,2,3,4,5,6 form an exhaustive set of events."
   ]
  },
  {
   "cell_type": "markdown",
   "metadata": {},
   "source": [
    "## 2 Types of Distribution\n",
    "### 2.1 Frequency Distribution\n",
    "\n",
    "The distribution of empirical data is called a frequency distribution and consists of a count of the number of occurrences of each value. If the data are continuous, then a grouped frequency distribution is used. Typically, a distribution is portrayed using a histogram.\n",
    "\n",
    "Mathematical equations are often used to define distributions. The normal distribution is, perhaps, the best known example. Many empirical distributions are approximated well by mathematical distributions such as the normal distribution.\n",
    "\n",
    "A grouped frequency distribution is a frequency distribution in which frequencies are displayed for ranges of data rather than for individual values. For example, the distribution of heights might be calculated by defining one-inch ranges. The frequency of individuals with various heights rounded off to the nearest inch would then be tabulated\n",
    "\n",
    "<img src=\"http://onlinestatbook.com/2/graphing_distributions/histogram_files/image001.gif\" width =\"400px\">"
   ]
  },
  {
   "cell_type": "markdown",
   "metadata": {},
   "source": [
    "### 2 Continuous Distribution\n",
    "Distributions for continuous variables are called continuous distributions. \n",
    "\n",
    "### 2.1 PDF (Probability Density Function)\n",
    "For a discrete random variable, a probability distribution contains the probability of each possible outcome. However, for a continuous random variable, the probability of any one outcome is zero (if you specify it to enough decimal places). A probability density function is a formula that can be used to compute probabilities of a range of outcomes for a continuous random variable. The sum of all densities is always 1.0 and the value of the function is always greater or equal to zero."
   ]
  },
  {
   "cell_type": "markdown",
   "metadata": {},
   "source": [
    "### 2.2 Normal Distribution or Gaussian Distribution\n",
    "<img src=\"https://image.ibb.co/hNdYNa/download.jpg\">\n",
    "- It is a continuous probability distribution\n",
    "- The maximum, mean, median and mode all are equal\n",
    "- It's bell shapped and symmetrical about the mean\n",
    "- The total area under the curve is 1.0\n",
    "- The maximum value is attained at mean $ \\mu $\n",
    "- The curve approaches but never touches x-axis as it extends away from the mean\n",
    "- The inflection points (a point of a curve at which a change in the direction of curvature occurs) are at x + $ \\mu $ and x - $ \\mu $ "
   ]
  },
  {
   "cell_type": "markdown",
   "metadata": {},
   "source": [
    "### 2.3 Distribution of Data for Normal Distribution\n",
    "<img src=\"http://www.statisticshowto.com/wp-content/uploads/2013/09/The_Normal_Distribution.svg_1.png\">\n",
    "\n",
    "- 68% of the data falls within one standard deviation of the mean.\n",
    "- 95% of the data falls within two standard deviations of the mean.\n",
    "- 99.7% of the data falls within three standard deviations of the mean.\n",
    "\n",
    "$ z = \\dfrac{X - \\mu}{\\sigma} $\n",
    "\n"
   ]
  },
  {
   "cell_type": "markdown",
   "metadata": {},
   "source": [
    "### 2.4 Standard Normal Distribution\n",
    "\n",
    "<img src=\"https://preview.ibb.co/ga7Pvv/main_qimg_bbc5a9680d8423e1caf02fd5a536dc69.gif\">\n",
    "\n",
    "The standard normal distribution is just a normal distribution scaled/standardized by the z-formula.\n",
    "\n",
    "Entering every $ x_i $ value of the normal distribution into the z-formula will give you the standard normal distribution which by definition of the z-formula than has a mean of zero and a standard deviation of one. (Basically what you do in standardizing is just shifting the distribution).\n",
    "\n",
    "Note: The probability of any value $ x_i $ under the normal distribution and the standard distribution is the same.\n"
   ]
  },
  {
   "cell_type": "markdown",
   "metadata": {},
   "source": [
    "### 2.5 Unimodal Distribution"
   ]
  },
  {
   "cell_type": "markdown",
   "metadata": {},
   "source": [
    "## 3. Discrete probability distribution\n",
    "Unlike a continuous distribution, which has an infinite number of outcomes, a discrete distribution is characterized by a limited number of possible observations. \n",
    "\n",
    "Examples of discrete probability distributions include **binomial distribution** (with a finite set of values) and **Poisson distribution** (with an countably infinite set of values). "
   ]
  },
  {
   "cell_type": "markdown",
   "metadata": {},
   "source": [
    "### 3.1 Discrete Uniform distribution\n",
    "A random variable X has a discrete uniform distribution if each of the n values in its range: x1,x2,x3....xn has equal probability\n",
    "\n",
    "Below 4 graphs shows a single dice rolls, and we can see as number of rolls increases, the frequencies tends to be same. \n",
    "So we can say a uniform distribution in which all values have the same frequency."
   ]
  },
  {
   "cell_type": "code",
   "execution_count": 41,
   "metadata": {},
   "outputs": [
    {
     "data": {
      "image/png": "[encoded data removed]",
      "text/plain": [
       "<matplotlib.figure.Figure at 0x7ff1a853e470>"
      ]
     },
     "metadata": {},
     "output_type": "display_data"
    }
   ],
   "source": [
    "plt.hist(np.random.randint(1, 7, 1000000 ), align='right')\n",
    "plt.title('Dice Roll - Discrete Uniform Distribution')\n",
    "plt.show()"
   ]
  },
  {
   "cell_type": "markdown",
   "metadata": {},
   "source": [
    "### 3.2. Probability mass function (PMF)\n",
    "a representation of a distribution as a function that maps from values to probabilities.\n",
    "\n",
    "$f(x_i) = \\dfrac{1}{n}$"
   ]
  },
  {
   "cell_type": "markdown",
   "metadata": {},
   "source": [
    "### 2.5 Binomial Experiment\n",
    "A binomial experiment is an experiment where you have a fixed number of independent trials with only have two outcomes.\n",
    "\n",
    "- You must have a fixed number of trials.\n",
    "- Each trial is an independent event.\n",
    "- There are only two outcomes.\n",
    "\n",
    "| Experiement                                                                                                                                                                      | is Binomial Experiment                                                                                             |\n",
    "|:---------------------------------------------------------------------------------------------------------------------------------------------------------------------------------|:-------------------------------------------------------------------------------------------------------------------|\n",
    "| Tossing a coin a hundred times to see how many land on heads.                                                                                                                    | Yes                                                                                                                |\n",
    "| You are at a fair, playing “pop the balloon” with 6 darts. <br>There are 20 balloons. 10 of the balloons have a ticket inside that say “win,” and 10 have a ticket that says “lose.” | No, each time you toss a dart, the number of winning and losing tickets changes. So two trials are not independent |\n",
    "| Counting the average number of dogs seen at a veterinarian’s office daily.                                                                                                       | Trials are not fixed.                                                                                              |"
   ]
  }
 ],
 "metadata": {
  "kernelspec": {
   "display_name": "Python 3",
   "language": "python",
   "name": "python3"
  },
  "language_info": {
   "codemirror_mode": {
    "name": "ipython",
    "version": 3
   },
   "file_extension": ".py",
   "mimetype": "text/x-python",
   "name": "python",
   "nbconvert_exporter": "python",
   "pygments_lexer": "ipython3",
   "version": "3.5.2"
  }
 },
 "nbformat": 4,
 "nbformat_minor": 1
}
