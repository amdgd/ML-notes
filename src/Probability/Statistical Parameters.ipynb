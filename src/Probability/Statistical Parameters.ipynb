{
 "cells": [
  {
   "cell_type": "code",
   "execution_count": null,
   "metadata": {
    "collapsed": true
   },
   "outputs": [],
   "source": [
    "\n",
    "#  ███████╗████████╗ █████╗ ████████╗██╗███████╗████████╗██╗ ██████╗ █████╗ ██╗         \n",
    "#  ██╔════╝╚══██╔══╝██╔══██╗╚══██╔══╝██║██╔════╝╚══██╔══╝██║██╔════╝██╔══██╗██║         \n",
    "#  ███████╗   ██║   ███████║   ██║   ██║███████╗   ██║   ██║██║     ███████║██║         \n",
    "#  ╚════██║   ██║   ██╔══██║   ██║   ██║╚════██║   ██║   ██║██║     ██╔══██║██║         \n",
    "#  ███████║   ██║   ██║  ██║   ██║   ██║███████║   ██║   ██║╚██████╗██║  ██║███████╗    \n",
    "#  ╚══════╝   ╚═╝   ╚═╝  ╚═╝   ╚═╝   ╚═╝╚══════╝   ╚═╝   ╚═╝ ╚═════╝╚═╝  ╚═╝╚══════╝    \n",
    "#                                                                                       \n",
    "#  ██████╗  █████╗ ██████╗  █████╗ ███╗   ███╗███████╗████████╗███████╗██████╗ ███████╗ \n",
    "#  ██╔══██╗██╔══██╗██╔══██╗██╔══██╗████╗ ████║██╔════╝╚══██╔══╝██╔════╝██╔══██╗██╔════╝ \n",
    "#  ██████╔╝███████║██████╔╝███████║██╔████╔██║█████╗     ██║   █████╗  ██████╔╝███████╗ \n",
    "#  ██╔═══╝ ██╔══██║██╔══██╗██╔══██║██║╚██╔╝██║██╔══╝     ██║   ██╔══╝  ██╔══██╗╚════██║ \n",
    "#  ██║     ██║  ██║██║  ██║██║  ██║██║ ╚═╝ ██║███████╗   ██║   ███████╗██║  ██║███████║ \n",
    "#  ╚═╝     ╚═╝  ╚═╝╚═╝  ╚═╝╚═╝  ╚═╝╚═╝     ╚═╝╚══════╝   ╚═╝   ╚══════╝╚═╝  ╚═╝╚══════╝ \n",
    "#                                                                                       \n"
   ]
  },
  {
   "cell_type": "markdown",
   "metadata": {},
   "source": [
    "# 1. Intro \n",
    "A parameter is any numerical quantity that characterizes a given population or some aspect of it. This means the parameter tells us something about the whole population.\n",
    "\n",
    "The most common statistics parameters are the measures of central tendency. These tell us how the data behaves on an average basis. For example, mean, median and mode are measures of central tendency that give us an idea about where the data concentrates. Standard deviation tells us how the data is spread from the central tendency, i.e. whether the distribution is wide or narrow. Such parameters are often very useful in analysis.\n",
    "\n",
    "Among parameterized families of distributions are the normal distributions, the Poisson distributions, the binomial distributions, and the exponential family of distributions. \n",
    "- The family of **normal distributions** has two parameters, the mean and the variance: if these are specified, the distribution is known exactly. \n",
    "- The family of **chi-squared distributions**, on the other hand, has only one parameter, the number of degrees of freedom.\n",
    "- The family of **poisson distributions**, on the other hand, has only one parameter, λ is the shape parameter which indicates the average number of events in the given time interval."
   ]
  },
  {
   "cell_type": "markdown",
   "metadata": {},
   "source": [
    "## 1.1  Population and Parameter\n",
    "- A population is any large collection of objects or individuals, such as Americans, students, or trees about which information is desired.\n",
    "- A parameter is any summary number, like an average or percentage, that describes the entire population."
   ]
  },
  {
   "cell_type": "markdown",
   "metadata": {},
   "source": [
    "## 1.2 Sample and Statistics\n",
    "- A sample is a representative group drawn from the population.\n",
    "- A statistic is any summary number, like an average or percentage, that describes the sample."
   ]
  },
  {
   "cell_type": "code",
   "execution_count": 3,
   "metadata": {
    "collapsed": true
   },
   "outputs": [],
   "source": []
  }
 ],
 "metadata": {
  "kernelspec": {
   "display_name": "Python 3",
   "language": "python",
   "name": "python3"
  },
  "language_info": {
   "codemirror_mode": {
    "name": "ipython",
    "version": 3
   },
   "file_extension": ".py",
   "mimetype": "text/x-python",
   "name": "python",
   "nbconvert_exporter": "python",
   "pygments_lexer": "ipython3",
   "version": "3.5.2"
  }
 },
 "nbformat": 4,
 "nbformat_minor": 2
}
