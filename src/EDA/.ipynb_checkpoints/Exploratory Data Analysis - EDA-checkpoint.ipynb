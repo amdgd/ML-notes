{
 "cells": [
  {
   "cell_type": "code",
   "execution_count": 138,
   "metadata": {
    "collapsed": true
   },
   "outputs": [],
   "source": [
    "import seaborn as sns\n",
    "import numpy as np\n",
    "from matplotlib import pyplot as plt\n",
    "from scipy import stats\n",
    "import requests\n",
    "from faker import Faker\n",
    "import ujson as json\n",
    "import pandas as pd\n",
    "import requests\n",
    "from numpy import random \n",
    "from elasticsearch import Elasticsearch\n",
    "from elasticsearch import helpers\n",
    "from elasticsearch_dsl import Search, DocType, Date, Integer, Keyword, Text\n",
    "from datetime import datetime\n",
    "from elasticsearch_dsl.connections import connections\n",
    "import requests\n",
    "from random import randint\n",
    "from pandas.io.json import json_normalize\n",
    "\n",
    "ES_HOST = 'http://ec2-34-205-15-150.compute-1.amazonaws.com:9200'\n",
    "INDEX = \"eda1\"\n",
    "DOC_TYPE=\"user\"\n",
    "es = Elasticsearch(ES_HOST)"
   ]
  },
  {
   "cell_type": "markdown",
   "metadata": {},
   "source": [
    "# Exploratory data analysis (EDA) \n",
    "It is an approach to analyzing data sets to summarize their main characteristics, often with visual methods.\n",
    "\n",
    "##### Key Concepts\n",
    "\n",
    "- Displaying data \n",
    "- Displaying distributions \n",
    "- Displaying info about the variables"
   ]
  },
  {
   "cell_type": "markdown",
   "metadata": {},
   "source": [
    "##### There are 4 focal point. These are:\n",
    "\n",
    "- measures of central tendency, i.e. the mean, the media and mode,\n",
    "- measures of spread, i.e. variability, variants and standard deviation,\n",
    "- the shape of the distribution, and\n",
    "- the existence of outliers.\n",
    "\n",
    "##### Types of data\n",
    "- discrete (Number of orders customers have done)\n",
    "- continuous (Total Revenue of Customers)\n",
    "- categorical-nominal (RFM Score, Customer Status)\n",
    "- Categorical-ordinal  (City)\n",
    "- binary (Email Unsubscribed - Yes/No)\n",
    "\n",
    "\n"
   ]
  },
  {
   "cell_type": "markdown",
   "metadata": {},
   "source": [
    "#####  Important Question to ask?\n",
    "- What type of variation occurs within my variables?\n",
    "- What type of covariation occurs between my variables?\n",
    "- Which are response(dependednt) and predictor(independent) variables? \n",
    "- What are some obvious mistakes in data (recording errors etc)?\n",
    "- What are some visible patterns in the data?\n",
    "- Is there any violations of statistical assumptions?\n",
    "- Can I generate some hypotheses?\n",
    "\n"
   ]
  },
  {
   "cell_type": "markdown",
   "metadata": {},
   "source": [
    "##### Types of Variables and suggested EDA techinques\n",
    "\n",
    "| Quantitative Variables                                                                             | Categorical  Variables                  | Quantitative &  Categorical                                                                                           |\n",
    "|----------------------------------------------------------------------------------------------------|-----------------------------------------|-----------------------------------------------------------------------------------------------------------------------|\n",
    "| - Interval variables - Ratio variables                                                             | - Ordinal Variables - Nominal Variables |                                                                                                                       |\n",
    "| 1. Univariate(one variable) - Histograms  - Boxplots, - Stem & Leaf Plots - Quantile Normal Plots  | 1 variable:  Pie charts, Bar graphs     |                                                                                                                       |\n",
    "| 2. Bivariate (two variables) - Scatterplots                                                        | 2 or more: Facetted PieCharts           | Bivariate  Line Graph, Bar Graph                                                                                      |\n",
    "| 3 Three Variables -  Bubble Chart                                                                  |                                         | 2. One Categorical & 2 Quantitative  - Facetted Scatter Two Categorical & 1 Quantitative - Facetted Line or Barcharts |"
   ]
  },
  {
   "cell_type": "code",
   "execution_count": 102,
   "metadata": {
    "scrolled": false
   },
   "outputs": [
    {
     "data": {
      "image/png": "[encoded data removed]",
      "text/plain": [
       "<matplotlib.figure.Figure at 0x7f5dca5d30f0>"
      ]
     },
     "metadata": {},
     "output_type": "display_data"
    }
   ],
   "source": [
    "roll_options = [1,2,3,4,5,6]\n",
    "#since index starts at 0\n",
    "high_value = 7 \n",
    "low_value = 1\n",
    "\n",
    "plt.bar(roll_options,stats.randint.pmf(roll_options,low_value,high_value))\n",
    "plt.title('Dice Roll - Discrete Uniform Distribution')\n",
    "plt.show()\n"
   ]
  },
  {
   "cell_type": "markdown",
   "metadata": {},
   "source": [
    "# Continuous Uniform Distribution\n",
    "\n",
    "A continuous distribution is appropriate when the variable can take on (at least in theory) an infinite number of values. You can weigh 150.2311 kgs or 150.1012 kgs. \n",
    "- Continuous distributions cannot be written so neatly as the uniform discrete distribution,\n",
    "- As a result, a continuous probability distribution cannot be expressed in tabular form.\n",
    "- Instead, an equation or formula is used to describe a continuous probability distribution.\n",
    "\n",
    "A continous random variable X with a probability density function is a continous uniform random variable when:\n",
    "$f(x)=1(b−a)$ <br> $a<=x<=b$"
   ]
  },
  {
   "cell_type": "markdown",
   "metadata": {},
   "source": [
    "Let's say a session that ends in a purchase is on avergae 25 mins long. After taking some time measurements from experiments we gather that all the purchase sessiosns are **uniformly distributed** between 19 and 37 minutes.\n",
    "What is the probability density function of a purchase session, or f(x)?"
   ]
  },
  {
   "cell_type": "code",
   "execution_count": 126,
   "metadata": {},
   "outputs": [
    {
     "name": "stdout",
     "output_type": "stream",
     "text": [
      "The probability density function results in 0.0556\n"
     ]
    }
   ],
   "source": [
    "b= 37\n",
    "a = 19\n",
    "fx = 1.0/(b-a)\n",
    "\n",
    "#show \n",
    "print('The probability density function results in {:.4f}'.format(fx))"
   ]
  },
  {
   "cell_type": "code",
   "execution_count": 129,
   "metadata": {},
   "outputs": [
    {
     "name": "stdout",
     "output_type": "stream",
     "text": [
      " The probability that the session will last at least 25 minutes is 11.1 %\n"
     ]
    }
   ],
   "source": [
    "#So let's ask the question, what's the probability that the session length will last \n",
    "# at least 25 minutes?\n",
    "\n",
    "#f(27)\n",
    "fx_1 = 27.0/(b-a)\n",
    "#f(25)\n",
    "fx_2 = 26.0/(b-a)\n",
    "\n",
    "#Our answer is then\n",
    "ans = fx_1-fx_2\n",
    "\n",
    "#print\n",
    "print (' The probability that the session will last at least 25 minutes is {:.1f} %'.format(100*ans))"
   ]
  },
  {
   "cell_type": "code",
   "execution_count": null,
   "metadata": {
    "collapsed": true
   },
   "outputs": [],
   "source": []
  },
  {
   "cell_type": "code",
   "execution_count": null,
   "metadata": {
    "collapsed": true
   },
   "outputs": [],
   "source": []
  },
  {
   "cell_type": "code",
   "execution_count": null,
   "metadata": {
    "collapsed": true
   },
   "outputs": [],
   "source": []
  },
  {
   "cell_type": "code",
   "execution_count": null,
   "metadata": {
    "collapsed": true
   },
   "outputs": [],
   "source": []
  },
  {
   "cell_type": "code",
   "execution_count": null,
   "metadata": {
    "collapsed": true
   },
   "outputs": [],
   "source": []
  },
  {
   "cell_type": "code",
   "execution_count": null,
   "metadata": {
    "collapsed": true
   },
   "outputs": [],
   "source": []
  },
  {
   "cell_type": "code",
   "execution_count": null,
   "metadata": {
    "collapsed": true
   },
   "outputs": [],
   "source": []
  },
  {
   "cell_type": "markdown",
   "metadata": {
    "collapsed": true
   },
   "source": [
    "## 1. Data Analysis Framework\n",
    "The six types of questions are:\n",
    "\n",
    "- Descriptive Analytics: insight into the past\n",
    "- Exploratory Analysis: generating an hypothesis\n",
    "- Inferenial Analytics is guessing about something unobservable.\n",
    "- Predictive Analytics: understanding the future\n",
    "- Prescriptive Analytics: advise on possible outcomes\n",
    "- Causal Anlytics: Understanding the cause for the observable outcome"
   ]
  },
  {
   "cell_type": "markdown",
   "metadata": {},
   "source": [
    "### 1.1 Descriptive question\n",
    "A descriptive question is one that seeks to summarize a characteristic of a set of data. Examples\n",
    "- Revenue distribution among gender\n",
    "- The average revenue per day \n",
    "- The frequency of cart abandonment in a set of carts created\n",
    "- How many people have viewed this product\n",
    "\n",
    "There is **no interpretation** of the result. The result is just a fact or an attribute of the data.\n",
    "\n",
    "NOTE: Descriptive statistics are applied to populations"
   ]
  },
  {
   "cell_type": "markdown",
   "metadata": {},
   "source": [
    "### 1.2 Exploratory Question\n",
    "An exploratory question is one in which you analyze the data to see if there are patterns, trends, or relationships between variables. You are trying to generate a hypothesis but **not testing** the hypothesis. \n",
    "\n",
    ">For e.g. You have a feeling that email openers also take more discount on an e-commerce  website. You can explore this idea by examining customers email opening patterns with the amount of dicount they take. You might find pople who have opened more emails have taken more discount. Now you can propose a hypothesis that people who have opened more than 5 emails in last 6 months have taken an average 30% discount.\n",
    "\n",
    "\n",
    "The basic goal here is you want to look at trends or relationships between variables in your data set."
   ]
  },
  {
   "cell_type": "markdown",
   "metadata": {},
   "source": [
    "### 1.3 Inferential Question\n",
    "This question answers your hypothesis by analysis different sets of data. By analyzing this different set of data you are both determining if the association you observed in your exploratory analysis holds in a different sample which is a representative of the total population.\n",
    " \n",
    "So in summary Inferential statistics use a random sample of data taken from a population to describe and make inferences about the population\n",
    "\n",
    "\n",
    ">eg. You can say 30% of customers  buy through mobile app. This is deccriptive because you are just stating a fact, but when you say 30% of customers who buy through mobile app have higher order value - this is inferential."
   ]
  },
  {
   "cell_type": "markdown",
   "metadata": {},
   "source": [
    "### 1.4 Predictive Question\n",
    "\n",
    "Predictive modelling like Inferential modeling, crudely, just looks for associations between variables, whether controlled by the user or not. Prediction is guessing about something you can observe (just not right now); inference is guessing about something unobservable.\n",
    "\n",
    ">e.g A predictive question would be one where you ask what types of customers will purchase with zero discount\n",
    "\n",
    "The goal is to really produce a very good prediction of a given feature, given a set of other features, and the goal is not really to explain how things are working. "
   ]
  },
  {
   "cell_type": "markdown",
   "metadata": {},
   "source": [
    "### 1.5 Causal Question\n",
    "Cause and Effect Questions Designed to determine whether one or more variables causes or affects one or more outcome variables.\n",
    "\n",
    "Why customers are not completing their purchase or abandoning their carts?"
   ]
  },
  {
   "cell_type": "markdown",
   "metadata": {},
   "source": [
    "### 1.6 Common Mistakes\n",
    "\n",
    "| REAL QUESTION TYPE      | PERCEIVED QUESTION TYPE | PHRASE DESCRIBING ERROR                |\n",
    "|:------------------------|:------------------------|:---------------------------------------|\n",
    "| Inferential             | Causal                  | “Correlation does not imply causation” |\n",
    "| Exploratory             | Inferential             | “Data dredging”                        |\n",
    "| Exploratory             | Predictive              | “Overftting”                           |\n",
    "| Descriptive             | Inferential             | “n of 1 analysis”                      |"
   ]
  },
  {
   "cell_type": "markdown",
   "metadata": {},
   "source": [
    "There are a couple of additional points about the types of questions that are important. First, by necessity, many data analyses answer multiple types of questions. \n",
    "\n",
    "\n",
    "For example, if a data analysis aims to answer an inferential question, descriptive and exploratory questions must also be answered during the process of answering the inferential question. Let's say you are infering that high shipping price is related to high cart abandonment. You would start with determing the frequency of cart abandonment, average shipping price in descriptive analytics. Than you will move to exploratory analysis of finding relationship between these two variables for a give sample. Then you will do inferential or predictive analysis based on these. "
   ]
  },
  {
   "cell_type": "markdown",
   "metadata": {},
   "source": [
    "### 2 Charactestics of a good question\n",
    "1. It should be relevant to your audience.\n",
    "2. It should not be answered already.\n",
    "3. It should be plausible.\n",
    "4. It should be answerable. \n",
    "5. It should be very specific.\n",
    "\n",
    "\n",
    "> for e.g You are asking - does higher shipping increases cart abandonment? \n",
    "This question is relevant to e-commerce, It's plausible, answerable but not very specific. \n",
    "\n",
    ">Let's rephrase the question\n",
    "\"Does shipping rates of  $10 or more translates into cart abandonment rates higher than average?\n",
    " "
   ]
  },
  {
   "cell_type": "markdown",
   "metadata": {},
   "source": [
    "## Histograms\n",
    "- Learn how to summarize quantitative data graphically using a histogram.\n",
    "- Learn how to construct histograms for discrete data.\n",
    "- Learn how to construct histograms for continuous data.\n",
    "- Learn the distinction between frequency histograms, relative frequency histograms, and density histograms."
   ]
  }
 ],
 "metadata": {
  "kernelspec": {
   "display_name": "Python 3",
   "language": "python",
   "name": "python3"
  },
  "language_info": {
   "codemirror_mode": {
    "name": "ipython",
    "version": 3
   },
   "file_extension": ".py",
   "mimetype": "text/x-python",
   "name": "python",
   "nbconvert_exporter": "python",
   "pygments_lexer": "ipython3",
   "version": "3.5.2"
  }
 },
 "nbformat": 4,
 "nbformat_minor": 1
}
