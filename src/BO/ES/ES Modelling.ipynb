{
 "cells": [
  {
   "cell_type": "markdown",
   "metadata": {},
   "source": [
    "## Major ways to represent a relationship in ES\n",
    "\n",
    "- Flat Structure\n",
    "- Nested Objects\n",
    "- Parent / Child documents\n",
    "- Denormalization\n",
    "           \n",
    "           \n"
   ]
  },
  {
   "cell_type": "markdown",
   "metadata": {},
   "source": [
    "### A nested approach:\n",
    "\n",
    "- The data is joined by a design\n",
    "- This is ideal for cases with a smaller number of children\n",
    "- This is **faster** than the parent-child approach\n",
    "- Adding or deleting child means the entire document has to be reindexed, which is very costly in Lucene\n",
    "- Editing information of parent will also require a reindex, which is again very expensive\n",
    "\n",
    "\n",
    "### A parent-child approach:\n",
    "\n",
    "- This works well for large number of children\n",
    "- This is ideal for large relations with a large number of children\n",
    "- Adding and deleting a child is seamless and cheap\n",
    "- Editing parent information can be done without any updation on the child document\n",
    "- Parent child is a bit expensive as for each parent query, all child documents have to be loaded in the main memory"
   ]
  },
  {
   "cell_type": "markdown",
   "metadata": {},
   "source": [
    "- Message Delivered\n",
    "- Message Actions\n",
    "- System Events (E-Commerce Events / Non-Ecommerce Events)\n",
    "- Custom Events\n",
    "- Tag Creation"
   ]
  },
  {
   "cell_type": "markdown",
   "metadata": {},
   "source": [
    "## New Types\n",
    "- Messages (Delivered / Action\n",
    "- Events/tags"
   ]
  },
  {
   "cell_type": "code",
   "execution_count": null,
   "metadata": {
    "collapsed": true
   },
   "outputs": [],
   "source": []
  }
 ],
 "metadata": {
  "kernelspec": {
   "display_name": "Python 3",
   "language": "python",
   "name": "python3"
  },
  "language_info": {
   "codemirror_mode": {
    "name": "ipython",
    "version": 3
   },
   "file_extension": ".py",
   "mimetype": "text/x-python",
   "name": "python",
   "nbconvert_exporter": "python",
   "pygments_lexer": "ipython3",
   "version": "3.5.2"
  }
 },
 "nbformat": 4,
 "nbformat_minor": 2
}
