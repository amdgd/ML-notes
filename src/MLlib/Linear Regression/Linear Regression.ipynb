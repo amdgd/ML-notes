{
 "cells": [
  {
   "cell_type": "code",
   "execution_count": 97,
   "metadata": {
    "collapsed": true
   },
   "outputs": [],
   "source": [
    "#   +-+-+-+-+-+-+ +-+-+-+-+-+-+-+-+-+-+\n",
    "#   |L|i|n|e|a|r| |R|e|g|r|e|s|s|i|o|n|\n",
    "#   +-+-+-+-+-+-+ +-+-+-+-+-+-+-+-+-+-+\n",
    "#                                                       \n",
    "#   ________  ________  ________  ________  ___  __    \n",
    "#  |\\   ____\\|\\   __  \\|\\   __  \\|\\   __  \\|\\  \\|\\  \\   \n",
    "#  \\ \\  \\___|\\ \\  \\|\\  \\ \\  \\|\\  \\ \\  \\|\\  \\ \\  \\/  /|_ \n",
    "#   \\ \\_____  \\ \\   ____\\ \\   __  \\ \\   _  _\\ \\   ___  \\\n",
    "#    \\|____|\\  \\ \\  \\___|\\ \\  \\ \\  \\ \\  \\\\  \\\\ \\  \\\\ \\  \\\n",
    "#      ____\\_\\  \\ \\__\\    \\ \\__\\ \\__\\ \\__\\\\ _\\\\ \\__\\\\ \\__\\\n",
    "#     |\\_________\\|__|     \\|__|\\|__|\\|__|\\|__|\\|__| \\|__|\n",
    "#     \\|_________| \n",
    "#     "
   ]
  },
  {
   "cell_type": "code",
   "execution_count": 5,
   "metadata": {},
   "outputs": [
    {
     "data": {
      "text/plain": [
       "{'acknowledged': True}"
      ]
     },
     "execution_count": 5,
     "metadata": {},
     "output_type": "execute_result"
    }
   ],
   "source": [
    "import seaborn as sns\n",
    "import numpy as np\n",
    "from matplotlib import pyplot as plt\n",
    "from scipy import stats\n",
    "import requests\n",
    "from faker import Faker\n",
    "import ujson as json\n",
    "import pandas as pd\n",
    "import requests\n",
    "from numpy import random \n",
    "from elasticsearch import Elasticsearch\n",
    "from elasticsearch import helpers\n",
    "from elasticsearch_dsl import Search, DocType, Date, Integer, Keyword, Text\n",
    "from datetime import datetime\n",
    "from elasticsearch_dsl.connections import connections\n",
    "import requests\n",
    "from random import randint\n",
    "from pandas.io.json import json_normalize\n",
    "from pandasticsearch import DataFrame\n",
    "from pandasticsearch import Select\n",
    "\n",
    "\n",
    "ES_HOST = 'http://team.ankit.one:9200'\n",
    "ES_HOST_wo_PORT = 'http://team.ankit.one'\n",
    "INDEX = \"eda_small\"\n",
    "ES_PORT = \"9200\"\n",
    "DOC_TYPE=\"user\"\n",
    "es = Elasticsearch(ES_HOST)\n",
    "es.indices.put_settings(index=INDEX,\n",
    "                        body= {\"index\" : {\n",
    "                                \"max_result_window\" : 750000\n",
    "                              }})\n"
   ]
  },
  {
   "cell_type": "code",
   "execution_count": 6,
   "metadata": {
    "collapsed": true
   },
   "outputs": [],
   "source": [
    "#################################################################\n",
    "###\n",
    "###  Import SparkSession and LinearRegression from \n",
    "###  pyspark.sql and pysparl.ml.regression respectively \n",
    "###  \n",
    "##################################################################\n",
    "\n",
    "from pyspark.sql import SparkSession\n",
    "from pyspark.ml.regression import LinearRegression\n",
    "\n"
   ]
  },
  {
   "cell_type": "code",
   "execution_count": 7,
   "metadata": {
    "collapsed": true
   },
   "outputs": [],
   "source": [
    "#################################################################\n",
    "###\n",
    "###  SparkSession - a new entry point\n",
    "###  A SparkSession can be created using a builder pattern. \n",
    "###  The builder will automatically reuse an existing SparkContext \n",
    "###  if one exists; and create a SparkContext if it does not exist. \n",
    "###  \n",
    "##################################################################\n",
    "\n",
    "spark = SparkSession.builder.appName(\"LModel\").getOrCreate()"
   ]
  },
  {
   "cell_type": "code",
   "execution_count": 8,
   "metadata": {
    "collapsed": true
   },
   "outputs": [],
   "source": [
    "## Create Elasticsearch Query\n",
    "query = {\n",
    "            \"from\" : 0, \n",
    "            \"size\" : 10000,\n",
    "            \"query\": {\n",
    "                        \"match_all\": {}\n",
    "                     }\n",
    "            }\n",
    "## Import Data\n",
    "result_dict = es.search(index=INDEX, body=query)\n"
   ]
  },
  {
   "cell_type": "code",
   "execution_count": 334,
   "metadata": {
    "collapsed": true
   },
   "outputs": [],
   "source": [
    "#################################################################\n",
    "###\n",
    "###  Importing data into Panda Dataframe first via Pandastactic and than \n",
    "###  creating a spark Dataframe.  \n",
    "###  @Todo create Spark datframe directly from Elastcisearch \n",
    "###  \n",
    "##################################################################\n",
    "\n",
    "\n",
    "pandas_df = Select.from_dict(result_dict).to_pandas()\n",
    "pandas_df = pandas_df.set_index(['_id'])\n",
    "pandas_df.drop(['_index', '_score', '_type'],inplace=True,axis=1,errors='ignore')\n",
    "pandas_df = pandas_df[(pandas_df['revenue'] > 1000) & (pandas_df['revenue'] < 10000)]\n",
    "spark_df = spark.createDataFrame(pandas_df)"
   ]
  },
  {
   "cell_type": "code",
   "execution_count": 285,
   "metadata": {},
   "outputs": [
    {
     "name": "stdout",
     "output_type": "stream",
     "text": [
      "root\n",
      " |-- Avg Order Value: double (nullable = true)\n",
      " |-- City: string (nullable = true)\n",
      " |-- days_since_last_purchase: long (nullable = true)\n",
      " |-- discount_percentage: long (nullable = true)\n",
      " |-- email_unsubscribe: boolean (nullable = true)\n",
      " |-- f_score: long (nullable = true)\n",
      " |-- lifecycle: string (nullable = true)\n",
      " |-- m_score: long (nullable = true)\n",
      " |-- name: string (nullable = true)\n",
      " |-- num_of_orders: long (nullable = true)\n",
      " |-- r_score: long (nullable = true)\n",
      " |-- revenue: long (nullable = true)\n",
      " |-- rfm_score: long (nullable = true)\n",
      " |-- segments: array (nullable = true)\n",
      " |    |-- element: string (containsNull = true)\n",
      " |-- signup_date: string (nullable = true)\n",
      " |-- total_discount_revenue: double (nullable = true)\n",
      "\n"
     ]
    }
   ],
   "source": [
    "spark_df.printSchema()\n"
   ]
  },
  {
   "cell_type": "code",
   "execution_count": 286,
   "metadata": {},
   "outputs": [
    {
     "data": {
      "text/plain": [
       "6245"
      ]
     },
     "execution_count": 286,
     "metadata": {},
     "output_type": "execute_result"
    }
   ],
   "source": [
    "spark_df.count()"
   ]
  },
  {
   "cell_type": "code",
   "execution_count": 335,
   "metadata": {},
   "outputs": [
    {
     "data": {
      "text/plain": [
       "2376"
      ]
     },
     "execution_count": 335,
     "metadata": {},
     "output_type": "execute_result"
    }
   ],
   "source": [
    "#spark_df = spark_df.where((spark_df['num_of_orders'] > 1) & (spark_df['num_of_orders'] <20))\n",
    "spark_df.count()"
   ]
  },
  {
   "cell_type": "code",
   "execution_count": 336,
   "metadata": {
    "collapsed": true
   },
   "outputs": [],
   "source": [
    "# A few things we need to do before Spark can accept the data!\n",
    "# It needs to be in the form of two columns\n",
    "# (\"label\",\"features\")\n",
    "\n",
    "# Import VectorAssembler and Vectors\n",
    "from pyspark.ml.linalg import Vectors\n",
    "from pyspark.ml.feature import VectorAssembler"
   ]
  },
  {
   "cell_type": "code",
   "execution_count": 337,
   "metadata": {
    "scrolled": true
   },
   "outputs": [
    {
     "data": {
      "text/plain": [
       "['Avg Order Value',\n",
       " 'City',\n",
       " 'days_since_last_purchase',\n",
       " 'discount_percentage',\n",
       " 'email_unsubscribe',\n",
       " 'f_score',\n",
       " 'lifecycle',\n",
       " 'm_score',\n",
       " 'name',\n",
       " 'num_of_orders',\n",
       " 'r_score',\n",
       " 'revenue',\n",
       " 'rfm_score',\n",
       " 'segments',\n",
       " 'signup_date',\n",
       " 'total_discount_revenue']"
      ]
     },
     "execution_count": 337,
     "metadata": {},
     "output_type": "execute_result"
    }
   ],
   "source": [
    "spark_df.columns"
   ]
  },
  {
   "cell_type": "code",
   "execution_count": 338,
   "metadata": {},
   "outputs": [
    {
     "data": {
      "image/png": "[encoded data removed]",
      "text/plain": [
       "<matplotlib.figure.Figure at 0x7f57935d1438>"
      ]
     },
     "metadata": {},
     "output_type": "display_data"
    }
   ],
   "source": [
    "sns.lmplot(y='revenue', x='Avg Order Value', data=pandas_df)\n",
    "plt.show()"
   ]
  },
  {
   "cell_type": "code",
   "execution_count": 361,
   "metadata": {
    "scrolled": false
   },
   "outputs": [
    {
     "name": "stdout",
     "output_type": "stream",
     "text": [
      "+--------------------+\n",
      "|            features|\n",
      "+--------------------+\n",
      "|[4.0,2432.0,1.0,2.0]|\n",
      "|[5.0,3993.5,1.0,2.0]|\n",
      "|[4.0,1114.75,3.0,...|\n",
      "|[5.0,2559.3333333...|\n",
      "|[5.0,1643.0,4.0,6.0]|\n",
      "|[5.0,2009.0,2.0,3.0]|\n",
      "|[5.0,2716.5,1.0,2.0]|\n",
      "|[5.0,614.33333333...|\n",
      "|[5.0,543.18181818...|\n",
      "|[5.0,3846.0,1.0,2.0]|\n",
      "|[5.0,1057.0,3.0,5.0]|\n",
      "|[4.0,522.33333333...|\n",
      "|[5.0,3790.5,1.0,2.0]|\n",
      "|[5.0,2291.0,3.0,4.0]|\n",
      "|[5.0,3320.5,1.0,2.0]|\n",
      "|[5.0,3399.0,1.0,2.0]|\n",
      "|[5.0,2384.3333333...|\n",
      "|[5.0,2978.5,1.0,2.0]|\n",
      "|[4.0,1328.0,2.0,3.0]|\n",
      "|[5.0,3800.5,1.0,2.0]|\n",
      "+--------------------+\n",
      "only showing top 20 rows\n",
      "\n",
      "+------------------+---------+------------------------+-------------------+-----------------+-------+---------------+-------+-----------------+-------------+-------+-------+---------+--------------------+-------------------+----------------------+--------------------+\n",
      "|   Avg Order Value|     City|days_since_last_purchase|discount_percentage|email_unsubscribe|f_score|      lifecycle|m_score|             name|num_of_orders|r_score|revenue|rfm_score|            segments|        signup_date|total_discount_revenue|            features|\n",
      "+------------------+---------+------------------------+-------------------+-----------------+-------+---------------+-------+-----------------+-------------+-------+-------+---------+--------------------+-------------------+----------------------+--------------------+\n",
      "|            2432.0|Hyderabad|                      48|                  9|            false|      1|Repeat_Sleeping|      4|  Henry Patterson|            2|      5|   4864|       10|                  []|2016-04-29T01:57:59|                437.76|[4.0,2432.0,1.0,2.0]|\n",
      "|            3993.5|Bangalore|                      95|                 27|            false|      1| Repeat_Churned|      5|Christina Bennett|            2|      3|   7987|        9|[High_Discount_Se...|2015-06-27T03:16:48|               2156.49|[5.0,3993.5,1.0,2.0]|\n",
      "|           1114.75|    Delhi|                       5|                 25|            false|      3|  Repeat_Active|      4|   Joseph Lang MD|            4|      9|   4459|       16|               [NCR]|2015-11-01T06:32:09|               1114.75|[4.0,1114.75,3.0,...|\n",
      "|2559.3333333333335|Ahmedabad|                      71|                 22|            false|      2| Repeat_Churned|      5|  Janice Martinez|            3|      4|   7678|       11|                  []|2015-07-28T10:35:23|               1689.16|[5.0,2559.3333333...|\n",
      "|            1643.0|    Thane|                      84|                 13|            false|      4|  Loyal_Churned|      5|       Duane West|            6|      4|   9858|       13|                  []|2015-07-22T13:20:55|               1281.54|[5.0,1643.0,4.0,6.0]|\n",
      "|            2009.0|Bangalore|                      89|                 24|             true|      2| Repeat_Churned|      5|      David Bowen|            3|      4|   6027|       11|                  []|2016-01-25T17:08:55|               1446.48|[5.0,2009.0,2.0,3.0]|\n",
      "|            2716.5|    Delhi|                      32|                 16|            false|      1|Repeat_Sleeping|      5|      Craig Stout|            2|      6|   5433|       12|               [NCR]|2015-10-09T06:26:23|                869.28|[5.0,2716.5,1.0,2.0]|\n",
      "| 614.3333333333334|Bangalore|                      41|                  5|            false|      5| Loyal_Sleeping|      5|   Sandra Sanchez|           12|      6|   7372|       16|                  []|2015-08-20T20:19:57|                 368.6|[5.0,614.33333333...|\n",
      "| 543.1818181818181|    Delhi|                      40|                  7|            false|      5| Loyal_Sleeping|      5|      Lisa Ashley|           11|      6|   5975|       16|               [NCR]|2016-05-07T11:03:14|                418.25|[5.0,543.18181818...|\n",
      "|            3846.0|    Delhi|                      58|                 17|            false|      1|Repeat_Sleeping|      5|  Amanda Figueroa|            2|      5|   7692|       11|[NCR, High_Cart_V...|2015-10-16T05:29:25|               1307.64|[5.0,3846.0,1.0,2.0]|\n",
      "|            1057.0|   Mumbai|                      82|                 10|            false|      3|  Loyal_Churned|      5|   Jennifer Allen|            5|      4|   5285|       12|                  []|2016-02-05T15:48:35|                 528.5|[5.0,1057.0,3.0,5.0]|\n",
      "| 522.3333333333334|Ahmedabad|                      55|                 22|            false|      4| Loyal_Sleeping|      4|    Aaron Jimenez|            9|      5|   4701|       13|                  []|2016-05-01T10:38:30|               1034.22|[4.0,522.33333333...|\n",
      "|            3790.5|    Delhi|                       3|                  6|            false|      1|  Repeat_Active|      5|   Robert Holland|            2|      9|   7581|       15|[NCR, High_Cart_V...|2016-03-14T09:49:44|                454.86|[5.0,3790.5,1.0,2.0]|\n",
      "|            2291.0|Bangalore|                      44|                 21|            false|      3|Repeat_Sleeping|      5|    Douglas Young|            4|      6|   9164|       14|                  []|2016-05-08T18:54:43|               1924.44|[5.0,2291.0,3.0,4.0]|\n",
      "|            3320.5|   Mumbai|                      89|                 16|            false|      1| Repeat_Churned|      5|        Amy Vance|            2|      4|   6641|       10|   [High_Cart_Value]|2016-03-07T18:16:10|               1062.56|[5.0,3320.5,1.0,2.0]|\n",
      "|            3399.0| Vadodara|                      60|                 14|            false|      1|Repeat_Sleeping|      5| Anthony Williams|            2|      4|   6798|       10|   [High_Cart_Value]|2015-12-25T18:37:44|                951.72|[5.0,3399.0,1.0,2.0]|\n",
      "|2384.3333333333335|   Mumbai|                      67|                 17|            false|      2| Repeat_Churned|      5|     Philip Perez|            3|      4|   7153|       11|                  []|2015-11-06T08:09:34|               1216.01|[5.0,2384.3333333...|\n",
      "|            2978.5|    Delhi|                       6|                 12|            false|      1|  Repeat_Active|      5|      Shawn Avery|            2|      9|   5957|       15|               [NCR]|2015-07-01T01:03:19|                714.84|[5.0,2978.5,1.0,2.0]|\n",
      "|            1328.0|Ahmedabad|                       3|                 22|            false|      2|  Repeat_Active|      4|   Lauren Aguilar|            3|      9|   3984|       15|                  []|2015-07-16T12:23:54|                876.48|[4.0,1328.0,2.0,3.0]|\n",
      "|            3800.5|    Delhi|                      58|                 11|            false|      1|Repeat_Sleeping|      5|       Susan Bray|            2|      5|   7601|       11|[NCR, High_Cart_V...|2016-06-04T19:40:35|                836.11|[5.0,3800.5,1.0,2.0]|\n",
      "+------------------+---------+------------------------+-------------------+-----------------+-------+---------------+-------+-----------------+-------------+-------+-------+---------+--------------------+-------------------+----------------------+--------------------+\n",
      "only showing top 20 rows\n",
      "\n",
      "+-------+------------------+\n",
      "|summary|           revenue|\n",
      "+-------+------------------+\n",
      "|  count|              1683|\n",
      "|   mean| 4263.884135472371|\n",
      "| stddev|2618.0903480201378|\n",
      "|    min|              1001|\n",
      "|    max|              9998|\n",
      "+-------+------------------+\n",
      "\n"
     ]
    }
   ],
   "source": [
    "assembler = VectorAssembler(\n",
    "    inputCols=[\"m_score\", 'Avg Order Value', 'f_score', 'num_of_orders'],\n",
    "    outputCol=\"features\")\n",
    "\n",
    "output = assembler.transform(spark_df)\n",
    "\n",
    "output.select(\"features\").show()\n",
    "\n",
    "output.show()\n",
    "\n",
    "final_data = output.select(\"features\",'revenue')\n",
    "\n",
    "train_data,test_data = final_data.randomSplit([0.7,0.3])\n",
    "\n",
    "train_data.describe().show()"
   ]
  },
  {
   "cell_type": "code",
   "execution_count": 362,
   "metadata": {},
   "outputs": [
    {
     "data": {
      "text/plain": [
       "[Row(features=DenseVector([2.0, 341.6667, 2.0, 3.0]), revenue=1025)]"
      ]
     },
     "execution_count": 362,
     "metadata": {},
     "output_type": "execute_result"
    }
   ],
   "source": [
    "train_data.head(1)"
   ]
  },
  {
   "cell_type": "code",
   "execution_count": 363,
   "metadata": {},
   "outputs": [
    {
     "name": "stdout",
     "output_type": "stream",
     "text": [
      "+-------+------------------+\n",
      "|summary|           revenue|\n",
      "+-------+------------------+\n",
      "|  count|               693|\n",
      "|   mean| 4437.473304473305|\n",
      "| stddev|2692.0403104122693|\n",
      "|    min|              1002|\n",
      "|    max|              9980|\n",
      "+-------+------------------+\n",
      "\n"
     ]
    }
   ],
   "source": [
    "test_data.describe().show()"
   ]
  },
  {
   "cell_type": "code",
   "execution_count": 364,
   "metadata": {},
   "outputs": [
    {
     "name": "stdout",
     "output_type": "stream",
     "text": [
      "Coefficients: [756.676495578,1.5740679364,1283.03559938,8.33725277185] Intercept: -3526.046180429509\n"
     ]
    }
   ],
   "source": [
    "# Create a Linear Regression Model object\n",
    "lr = LinearRegression(labelCol='revenue')\n",
    "# Fit the model to the data and call this model lrModel\n",
    "lrModel = lr.fit(train_data)\n",
    "# Print the coefficients and intercept for linear regression\n",
    "print(\"Coefficients: {} Intercept: {}\".format(lrModel.coefficients,lrModel.intercept))"
   ]
  },
  {
   "cell_type": "code",
   "execution_count": 365,
   "metadata": {
    "scrolled": false
   },
   "outputs": [
    {
     "name": "stdout",
     "output_type": "stream",
     "text": [
      "+------------------+\n",
      "|         residuals|\n",
      "+------------------+\n",
      "| 969.1812206045415|\n",
      "|1411.9178261328589|\n",
      "|1407.8993505780254|\n",
      "|1399.8623994683594|\n",
      "|1386.0847689946459|\n",
      "|1372.8812064573367|\n",
      "|1345.9000134463145|\n",
      "|1339.0111982094577|\n",
      "|1338.4371302730533|\n",
      "|1313.1781410712447|\n",
      "+------------------+\n",
      "only showing top 10 rows\n",
      "\n"
     ]
    }
   ],
   "source": [
    "test_results = lrModel.evaluate(test_data)\n",
    "# Interesting results....\n",
    "test_results.residuals.show(10)"
   ]
  },
  {
   "cell_type": "code",
   "execution_count": 366,
   "metadata": {},
   "outputs": [
    {
     "name": "stdout",
     "output_type": "stream",
     "text": [
      "+--------------------+-------------------+\n",
      "|            features|         prediction|\n",
      "+--------------------+-------------------+\n",
      "| [2.0,601.5,1.0,2.0]| 233.81877939545848|\n",
      "|[2.0,1032.0,0.0,1.0]|-379.91782613285886|\n",
      "|[2.0,1039.0,0.0,1.0]| -368.8993505780254|\n",
      "|[2.0,1053.0,0.0,1.0]| -346.8623994683594|\n",
      "|[2.0,1077.0,0.0,1.0]|-309.08476899464586|\n",
      "|[2.0,1100.0,0.0,1.0]| -272.8812064573367|\n",
      "|[2.0,1147.0,0.0,1.0]|-198.90001344631446|\n",
      "|[2.0,1159.0,0.0,1.0]| -180.0111982094577|\n",
      "|[2.0,1160.0,0.0,1.0]| -178.4371302730533|\n",
      "|[2.0,1204.0,0.0,1.0]|-109.17814107124468|\n",
      "|[2.0,1228.0,0.0,1.0]| -71.40051059753114|\n",
      "|[2.0,1241.0,0.0,1.0]| -50.93762742426952|\n",
      "| [3.0,288.0,4.0,8.0]|  4396.155291677355|\n",
      "|[3.0,345.25,3.0,4.0]|  3169.886070570413|\n",
      "|[3.0,408.75,3.0,4.0]| 3269.8393845321134|\n",
      "|[3.0,533.33333333...| 2174.5691627919805|\n",
      "|[3.0,539.75,3.0,4.0]|  3476.042284201133|\n",
      "| [3.0,550.0,2.0,3.0]|  2200.803628398726|\n",
      "| [3.0,603.0,2.0,3.0]| 2284.2292290281766|\n",
      "| [3.0,665.5,1.0,2.0]| 1091.2356229029183|\n",
      "+--------------------+-------------------+\n",
      "only showing top 20 rows\n",
      "\n"
     ]
    }
   ],
   "source": [
    "unlabeled_data = test_data.select('features')\n",
    "predictions = lrModel.transform(unlabeled_data)\n",
    "predictions.show()"
   ]
  },
  {
   "cell_type": "code",
   "execution_count": 367,
   "metadata": {},
   "outputs": [
    {
     "name": "stdout",
     "output_type": "stream",
     "text": [
      "RMSE: 970.7631322199486\n",
      "R^2: 0.869776137877506\n"
     ]
    }
   ],
   "source": [
    "print(\"RMSE: {}\".format(test_results.rootMeanSquaredError))\n",
    "#print(\"MSE: {}\".format(test_results.meanSquaredError))\n",
    "print(\"R^2: {}\".format(test_results.r2))"
   ]
  },
  {
   "cell_type": "code",
   "execution_count": 368,
   "metadata": {},
   "outputs": [
    {
     "name": "stdout",
     "output_type": "stream",
     "text": [
      "+-------+------------------+\n",
      "|summary|           revenue|\n",
      "+-------+------------------+\n",
      "|  count|              2376|\n",
      "|   mean|4314.5143097643095|\n",
      "| stddev| 2640.483813842374|\n",
      "|    min|              1001|\n",
      "|    max|              9998|\n",
      "+-------+------------------+\n",
      "\n"
     ]
    }
   ],
   "source": [
    "spark_df.select('revenue').describe().show()"
   ]
  },
  {
   "cell_type": "code",
   "execution_count": 348,
   "metadata": {},
   "outputs": [
    {
     "name": "stdout",
     "output_type": "stream",
     "text": [
      "+--------------------+\n",
      "|            features|\n",
      "+--------------------+\n",
      "|[2.0,341.66666666...|\n",
      "|[2.0,379.66666666...|\n",
      "|[2.0,388.33333333...|\n",
      "|[2.0,403.33333333...|\n",
      "|     [2.0,529.5,1.0]|\n",
      "+--------------------+\n",
      "only showing top 5 rows\n",
      "\n"
     ]
    }
   ],
   "source": [
    "unlabeled_data = train_data.select('features')\n",
    "unlabeled_data.show(5)"
   ]
  }
 ],
 "metadata": {
  "kernelspec": {
   "display_name": "Python 3",
   "language": "python",
   "name": "python3"
  },
  "language_info": {
   "codemirror_mode": {
    "name": "ipython",
    "version": 3
   },
   "file_extension": ".py",
   "mimetype": "text/x-python",
   "name": "python",
   "nbconvert_exporter": "python",
   "pygments_lexer": "ipython3",
   "version": "3.5.2"
  }
 },
 "nbformat": 4,
 "nbformat_minor": 2
}
