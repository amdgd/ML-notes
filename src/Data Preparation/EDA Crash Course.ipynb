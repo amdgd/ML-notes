{
 "cells": [
  {
   "cell_type": "markdown",
   "metadata": {},
   "source": [
    "# EDA\n",
    "\n",
    "The goal of EDA is to discover patterns in data.\n",
    ">Tukey often likened EDA to detective work. The role of the data analyst is to listen to the data in as many ways as possible until a plausible \"story\" of the data is apparent, even if such a description would not beborne out in subsequent samples. \n",
    "\n",
    "- Data profiling and quality assessment\n",
    "- Basic describing of the data\n",
    "- Visualizing the data including interactive visualizations\n",
    "- Identifying patterns in the data (including patterns of correlated missing data)\n",
    "- Dealing with many attributes (columns)\n",
    "- Dealing with large datasets using sampling techniques\n",
    "- Informing the engineering of features for future modeling\n",
    "- Identifying challenges of using the data (e.g. skewness, outliers)\n",
    "- Developing an intuition for interpreting the results of future modeling\n",
    "\n",
    "\n",
    "EDA techniques for cross-section data, time-series data, and panel data"
   ]
  }
 ],
 "metadata": {
  "kernelspec": {
   "display_name": "Python 3",
   "language": "python",
   "name": "python3"
  },
  "language_info": {
   "codemirror_mode": {
    "name": "ipython",
    "version": 3
   },
   "file_extension": ".py",
   "mimetype": "text/x-python",
   "name": "python",
   "nbconvert_exporter": "python",
   "pygments_lexer": "ipython3",
   "version": "3.6.2"
  }
 },
 "nbformat": 4,
 "nbformat_minor": 2
}
