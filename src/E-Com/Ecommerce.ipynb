{
 "cells": [
  {
   "cell_type": "markdown",
   "metadata": {},
   "source": [
    "## Ecommerce Experience\n",
    "Successful e-commerce is about more than just delivery, however. It’s about the shopping experience itself and the ease with which we can find and buy items. The better the experience, the more people will buy."
   ]
  },
  {
   "cell_type": "markdown",
   "metadata": {},
   "source": [
    "## US vs China\n",
    "#### Split\n",
    "- US (93% offline vs 7% online)\n",
    "- China (85% offline vs 15% online)\n",
    "\n",
    "#### Online Sales\n",
    "- US (USD 360 Billion online sales)\n",
    "- China (USD 634 billion Online sales)\n",
    "\n",
    "#### Market share of market leaders\n",
    "- More than 75 percent of Chinese e-commerce is transacted through Alibaba, which includes Tmall and sister site Taobao (Alibaba’s consumer-to--consumer sales site\n",
    "- Amazon, which “only” held an estimated 26 percent share of the U.S. e-commerce market \n",
    "\n",
    "#### Mobile E-Comemrce\n",
    "- China, mobile represented nearly 50 percent of all e-commerce sales in 2015 \n",
    "- US, mobile represented nearly 22 percent of all e-commerce sales in 2015"
   ]
  }
 ],
 "metadata": {
  "kernelspec": {
   "display_name": "Python 3",
   "language": "python",
   "name": "python3"
  },
  "language_info": {
   "codemirror_mode": {
    "name": "ipython",
    "version": 3
   },
   "file_extension": ".py",
   "mimetype": "text/x-python",
   "name": "python",
   "nbconvert_exporter": "python",
   "pygments_lexer": "ipython3",
   "version": "3.5.2"
  }
 },
 "nbformat": 4,
 "nbformat_minor": 2
}
