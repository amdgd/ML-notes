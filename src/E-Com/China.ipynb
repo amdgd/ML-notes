{
 "cells": [
  {
   "cell_type": "markdown",
   "metadata": {},
   "source": [
    "## China Overview\n",
    "\n",
    "- Chinese consumers already make up for almost half of global online retail sales. \n",
    "- Online retail sales amounted to $581.61 billion in 2015, surging 33.3% from the previous year. \n",
    "- The volume of online sales in China now exceeds that in the US\n",
    "- Online sales are expected to grow 20% annually by 2020. \n",
    "- E-commerce penetration amounts to 89% in Tier 1 and 2 cities, but only amounts to 62% in Tier 3 and 4 cities"
   ]
  },
  {
   "cell_type": "markdown",
   "metadata": {},
   "source": [
    "## Companies\n",
    "- Taobao\n",
    "- JD.com\n",
    "- Suning.com"
   ]
  },
  {
   "cell_type": "markdown",
   "metadata": {},
   "source": [
    "## Impact on Offline Stores\n",
    "- Carrefour and Walmart have shut down a number of stores. "
   ]
  },
  {
   "cell_type": "markdown",
   "metadata": {},
   "source": [
    "## Consumers\n",
    "\n",
    "#### E-commerce standardization\n",
    " A massive difference from the U.S. and other major markets where shopping at ten different e-commerce sites means having ten different accounts with different log-ins and passwords along with completely different checkout procedures to learn. \n",
    "\n",
    "In China, it’s one account and the same checkout UI for shopping at thousands of different retailers.\n",
    "\n",
    "Chinese e-retailers sacrifice some ability to personalize and “own” the shopping experience with the upside of ensuring more e-commerce in total across the ecosystem. \n",
    "\n",
    "#### Ubiquitous presence\n",
    "Most notably, the ability to bake e-commerce into ads, social media and even online TV at a level unparalleled in other major markets. Making a purchase entirely within an ad or via text, via image or via video is common in China, meaning retailers can generate sales without consumers ever visiting their dedicated e-commerce sites and apps. Simply put, when the entire digital universe is a store, more shopping happens.\n",
    "\n",
    "#### Availability of goods \n",
    "Chinese e-commerce is the fact that online may be the only place shoppers (outside of the biggest cities) can buy certain, non-Chinese brand products. U.S. shoppers can easily pick up, say, the latest Nike’s, a tube of Crest toothpaste, Levi’s jeans and organic baby food wherever they happen to live. For Chinese shoppers in second and third-tier cities this is not the case. Online is the only game in town for purchasing these “necessities” that Western shoppers take for granted.\n",
    "\n",
    "#### Super inexpensive shipping\n",
    "China also offers shipping that is much, much cheaper than in Western markets. In fact, shipping is so cheap that there is a thriving e-commerce market for one off (and same day) purchases of inexpensive items that has no parallel in other major economies.\n",
    "\n",
    "\n"
   ]
  },
  {
   "cell_type": "markdown",
   "metadata": {},
   "source": [
    "### Haitao and Daigou \n",
    "\n",
    "- haitao\n",
    "> means to buy imported items from online sites\n",
    "\n",
    "- daigou\n",
    "> means to have a buyer physically in a foreign country purchase items on your behalf\n",
    "\n",
    "\n",
    "Known as cross-border e-commerce, the booming backdoor avenue allows Chinese consumers to buy overseas-manufactured goods online and effectively circumvent the regulatory issues that have stymied access to consumer products from cosmetics to Cognac. Faced with pressure from conventional retailers at home, and the loss of tax revenue, the government is now looking at overhauling the legal loophole.\n",
    "\n",
    "> Cross-border e-commerce may triple to 15 percent of the total e-commerce market within five years"
   ]
  },
  {
   "cell_type": "markdown",
   "metadata": {},
   "source": [
    "## Sellers\n",
    "- In China most retailers big and small operate as storefronts on Alibaba’s Tmall.com.\n",
    "- 75% of online retail is owned by Alibaba group"
   ]
  }
 ],
 "metadata": {
  "kernelspec": {
   "display_name": "Python 3",
   "language": "python",
   "name": "python3"
  },
  "language_info": {
   "codemirror_mode": {
    "name": "ipython",
    "version": 3
   },
   "file_extension": ".py",
   "mimetype": "text/x-python",
   "name": "python",
   "nbconvert_exporter": "python",
   "pygments_lexer": "ipython3",
   "version": "3.5.2"
  }
 },
 "nbformat": 4,
 "nbformat_minor": 2
}
