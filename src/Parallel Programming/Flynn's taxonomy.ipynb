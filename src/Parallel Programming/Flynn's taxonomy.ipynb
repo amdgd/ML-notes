{
 "cells": [
  {
   "cell_type": "markdown",
   "metadata": {},
   "source": [
    "# Intro\n",
    "Flynn's taxonomy was defined by the great computer architect Flynn in 1960s. Though since that time there is an entire paradigm shift, so today it's better to understand these concepts with a different context. In modern world, parallel computing works by dividing large problems into smaller problems which are then solved at the same time. \n",
    "\n",
    "So applying Flynn's taxonomy, which says that computers have single (S) or multiple (M) streams of instructions (I) and  data (D), leading to four types of computers: SISD, SIMD, MISD, and MIMD.\n",
    "\n",
    ">Technically, a thread is defined as an independent stream of instructions \n",
    "\n",
    "### SISD\n",
    "In computing, SISD is a computer architecture in which a single uni-core processor, executes a single instruction stream, to operate on data stored in a single memory.\n",
    "\n",
    "### SIMD\n",
    "The SIMD architecture performs a single, identical action simultaneously on multiple data pieces. Here we have a single control unit (CU) and more than one processing unit (PU). For e.g. a single instruction to fetch multiple files. \n",
    "\n",
    "<img src=\"https://image.ibb.co/nvAtkv/main_qimg_dbadebceeb73da98e8d8ca2fc3d41b5c.png\" width=\"400px\">\n",
    "\n",
    "### MISD\n",
    "Multiple Instruction, Single Data (MISD) computers have multiple processors. Each processor uses a different algorithm but uses the same shared input data. MISD computers can analyze the same set of data using several different operations at the same time. The number of operations depends upon the number of processors. There aren't many actual examples of MISD computers, for e.g.  fault-tolerant computers executing the same instructions redundantly in order to detect and mask errors.\n",
    " \n",
    " \n",
    "### MIMD\n",
    "It means that parallel units have separate instructions, so each of them can do something different at any given time. While technically it's true that most modern desktop/laptops are MIMD. Using the MIMD, each processor in a multiprocessor system can execute asynchronously different set of the instructions independently on the different set of data units. \n",
    "\n",
    "<img src=\"https://image.ibb.co/crYkyF/main_qimg_0d218713a7a6605dbfa458aea937794d.png\" width=\"400\">"
   ]
  }
 ],
 "metadata": {
  "kernelspec": {
   "display_name": "Python 3",
   "language": "python",
   "name": "python3"
  },
  "language_info": {
   "codemirror_mode": {
    "name": "ipython",
    "version": 3
   },
   "file_extension": ".py",
   "mimetype": "text/x-python",
   "name": "python",
   "nbconvert_exporter": "python",
   "pygments_lexer": "ipython3",
   "version": "3.5.2"
  }
 },
 "nbformat": 4,
 "nbformat_minor": 2
}
