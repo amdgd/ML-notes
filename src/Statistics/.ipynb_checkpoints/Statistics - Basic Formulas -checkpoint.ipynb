{
 "cells": [
  {
   "cell_type": "markdown",
   "metadata": {},
   "source": [
    "\n",
    "# Stats Formulaes\n"
   ]
  },
  {
   "cell_type": "markdown",
   "metadata": {},
   "source": [
    "# 1. Population Mean (μ)\n",
    "$\\mu = \\dfrac{\\Sigma x_i}{N} $\n",
    "- The mean is the average of the entire population\n",
    "- N is the entire population\n",
    "\n",
    "# 2. Sample Mean (x̅)\n",
    "$\\bar{x} = \\dfrac{(\\Sigma x_i)}{n} $\n",
    "- X-bar is the average of the sample given\n",
    "- n is the sample population\n",
    "\n",
    "# 3. Variance\n",
    "sd = $\\sigma^2  = \\dfrac{\\Sigma (x_i - \\bar{x})^ 2}{(n-1) } $\n",
    "- Variance is a measurement of the spread between numbers in a data set\n",
    "\n",
    "# 4. Standard Deviation (σ)\n",
    "$\\sigma  = \\sqrt{\\dfrac{\\Sigma (x_i - \\bar{x})^ 2}{n-1}}$\n",
    "\n",
    "- Standard deviation is the square root of variance\n",
    "- The standard deviation is a measure that summarises the amount by which every value within a dataset varies from the mean.\n",
    "\n",
    "# 5. Coefficient of variation ($C_v$)\n",
    "$C_v = \\dfrac{\\sigma}{\\mu}$\n",
    " - Also known as relative standard deviation (RSD)\n",
    " - Is a standardized measure of dispersion and is unitless\n",
    "\n",
    "# 6. Covariance, Cov(x,y), σxy,\n",
    "\n",
    "$S_{xy} = Sample Cov(x,y) = \\dfrac{\\Sigma (x_i - \\bar{x})(y_i - \\bar{y}))}{n-1}$\n",
    "\n",
    "$\\sigma_{xy} = Population Cov(x,y) = \\dfrac{\\Sigma {(x_i - \\mu_x)(y_i - \\mu_y)}}{N}$\n",
    "- Covariance is a measure of how much two random variables vary together.\n",
    "- It’s similar to variance, but where variance tells you how a single variable varies, co variance tells you how two variables vary together.\n",
    "\n",
    "- Lie between $-\\infty$ and $+\\infty$\n",
    "- It's not unit free measure"
   ]
  },
  {
   "cell_type": "markdown",
   "metadata": {},
   "source": [
    "# 7. Co-relation, $r_{xy}$\n",
    "\n",
    "$Cor(x,y) = r = \\dfrac{\\sigma_{xy} } {(\\sigma_{x} * \\sigma_{y})}$\n",
    "- Correlation is a scaled version of covariance and takes on values in  [−1,1]\n",
    "-  A correlation is a single number that describes the degree of relationship between two variables\n",
    "- The most common correlation coefficient, called the Pearson product-moment correlation coefficient\n",
    "- It's a unit free measure\n",
    "\n",
    "# 8. R-squared (coefficient of determination)\n",
    "$r^2 = {\\dfrac{\\sigma_{xy} } {(\\sigma_{x} * \\sigma_{y})}}^2$\n",
    "- R-squared is a statistical measure of how close the data are to the fitted regression line and denotes the strength of the linear association between x and y.\n",
    "- It's always between 0 and 1:\n",
    "- 0 <  R-squared < 1\n"
   ]
  },
  {
   "cell_type": "markdown",
   "metadata": {},
   "source": [
    "\n",
    "# 9. Slope of Regression line\n",
    "$\\beta_1 =  r \\dfrac{\\sigma_y }{ \\sigma_x}$\n",
    "\n",
    "# 10. Y intercept\n",
    "$\\beta_0 =  \\bar{y} - \\beta_1\\bar{x}$\n",
    " - The value at which the fitted line crosses the y-axis\n",
    "\n",
    "# 11 Predicted Y-hat or Regression line equation\n",
    "$\\hat{y} = \\beta_0 + \\beta_1x$\n",
    "\n",
    "# 12. Mean squared error\" or MSE\n",
    "$MSE = \\dfrac{\\Sigma (y_i - \\hat{y})^2}{n}$\n",
    "- MSE is the estimate of variance of residuals, or non-fit, in the population\n",
    "- The MSE is a measure of the quality of an estimator—it is always non-negative, and values closer to zero are better.\n",
    "\n",
    "# 13. RMSE\n",
    "$RMSE = \\sqrt{\\dfrac{\\Sigma (y_i - \\hat{y})^2}{n}}$\n",
    "\n",
    "also\n",
    "\n",
    "$RMSE =   \\sqrt{1-r^2}* \\sigma_y$\n",
    "\n",
    " - A measure of the differences between values (sample and population values) predicted by a model or an estimator and the values actually observed.\n",
    "\n",
    "# 14. Bessel's correction\n",
    "is the use of n − 1 instead of n in the formula for the sample variance and sample standard deviation, where n is the number of observations in a sample. This method corrects the bias in the estimation of the population variance.\n"
   ]
  }
 ],
 "metadata": {
  "kernelspec": {
   "display_name": "Python 3",
   "language": "python",
   "name": "python3"
  },
  "language_info": {
   "codemirror_mode": {
    "name": "ipython",
    "version": 3
   },
   "file_extension": ".py",
   "mimetype": "text/x-python",
   "name": "python",
   "nbconvert_exporter": "python",
   "pygments_lexer": "ipython3",
   "version": "3.5.2"
  }
 },
 "nbformat": 4,
 "nbformat_minor": 2
}
