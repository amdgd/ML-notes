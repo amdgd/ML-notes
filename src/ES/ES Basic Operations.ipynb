{
 "cells": [
  {
   "cell_type": "code",
   "execution_count": 2,
   "metadata": {
    "collapsed": true
   },
   "outputs": [],
   "source": [
    "from elasticsearch import Elasticsearch\n",
    "import requests\n",
    "import json\n",
    "\n",
    "url = 'http://ec2-52-91-189-234.compute-1.amazonaws.com:9200'\n",
    "ES_HOST = {\"host\" : \"ec2-52-91-189-234.compute-1.amazonaws.com\", \"port\" : 9200}\n",
    "es = Elasticsearch(url)"
   ]
  },
  {
   "cell_type": "code",
   "execution_count": 12,
   "metadata": {},
   "outputs": [
    {
     "name": "stdout",
     "output_type": "stream",
     "text": [
      "dict_keys(['test-index1', 'megacorp', 'books', 'schools', 'index_test', 'logstash-2017.05.23', 'titanic', 'test_index', 'test', 'test-index', 'logstash-2017.05.22', '.kibana', 'something'])\n"
     ]
    },
    {
     "data": {
      "text/plain": [
       "['.kibana',\n",
       " 'books',\n",
       " 'index_test',\n",
       " 'logstash-2017.05.22',\n",
       " 'logstash-2017.05.23',\n",
       " 'megacorp',\n",
       " 'schools',\n",
       " 'something',\n",
       " 'test',\n",
       " 'test-index',\n",
       " 'test-index1',\n",
       " 'test_index',\n",
       " 'titanic']"
      ]
     },
     "execution_count": 12,
     "metadata": {},
     "output_type": "execute_result"
    }
   ],
   "source": [
    "#Get all Indices\n",
    "indices=es.indices.get_alias()\n",
    "print(indices.keys())\n",
    "sorted(indices.keys())\n"
   ]
  },
  {
   "cell_type": "code",
   "execution_count": 11,
   "metadata": {},
   "outputs": [
    {
     "name": "stdout",
     "output_type": "stream",
     "text": [
      "<requests.packages.urllib3.response.HTTPResponse object at 0x7fef6df31eb8>\n"
     ]
    }
   ],
   "source": [
    "res = requests.get(url + '/_cat/indices?pretty')\n",
    "print(res.raw)\n",
    "\n",
    "\n",
    "\n"
   ]
  }
 ],
 "metadata": {
  "kernelspec": {
   "display_name": "Python 3",
   "language": "python",
   "name": "python3"
  },
  "language_info": {
   "codemirror_mode": {
    "name": "ipython",
    "version": 3
   },
   "file_extension": ".py",
   "mimetype": "text/x-python",
   "name": "python",
   "nbconvert_exporter": "python",
   "pygments_lexer": "ipython3",
   "version": "3.5.2"
  }
 },
 "nbformat": 4,
 "nbformat_minor": 2
}
