{
 "cells": [
  {
   "cell_type": "code",
   "execution_count": 1,
   "metadata": {},
   "outputs": [
    {
     "name": "stdout",
     "output_type": "stream",
     "text": [
      "Fetching package metadata ...........\n",
      "Solving package specifications: .\n",
      "\n",
      "\n",
      "PackageNotFoundError: Package not found: '' Package missing in current linux-64 channels: \n",
      "  - nbextensions\n",
      "\n",
      "Close matches found; did you mean one of these?\n",
      "\n",
      "    nbextensions: bob.extension, django-extensions, widgetsnbextension\n",
      "\n",
      "You can search for packages on anaconda.org with\n",
      "\n",
      "    anaconda search -t conda nbextensions\n",
      "\n",
      "You may need to install the anaconda-client command line client with\n",
      "\n",
      "    conda install anaconda-client\n",
      "\n",
      "\n"
     ]
    }
   ],
   "source": [
    "!conda install nbextensions"
   ]
  }
 ],
 "metadata": {
  "kernelspec": {
   "display_name": "Python 3",
   "language": "python",
   "name": "python3"
  },
  "language_info": {
   "codemirror_mode": {
    "name": "ipython",
    "version": 3
   },
   "file_extension": ".py",
   "mimetype": "text/x-python",
   "name": "python",
   "nbconvert_exporter": "python",
   "pygments_lexer": "ipython3",
   "version": "3.5.2"
  }
 },
 "nbformat": 4,
 "nbformat_minor": 2
}
