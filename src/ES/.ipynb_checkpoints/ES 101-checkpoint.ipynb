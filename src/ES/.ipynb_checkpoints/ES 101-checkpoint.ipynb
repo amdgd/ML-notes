{
 "cells": [
  {
   "cell_type": "markdown",
   "metadata": {
    "slideshow": {
     "slide_type": "slide"
    }
   },
   "source": [
    "# ElasticSearch & Python\n",
    "---\n",
    "\n",
    "\n",
    "\n",
    "<h3>Ankit Maheshwari</h3>\n",
    "<br/><br/><br/>\n",
    "<div style=\"text-align: right\"> \n",
    "\n",
    "Twitter: @ankitind <br/>\n",
    "Web: www.betout.com \n",
    "\n",
    "</div>\n"
   ]
  },
  {
   "cell_type": "markdown",
   "metadata": {
    "slideshow": {
     "slide_type": "slide"
    }
   },
   "source": [
    "# 1. What is Elasticsearch\n",
    "---\n",
    "- Full-text Search Engine\n",
    "- NoSQL Database\n",
    "- Analytics Engine\n",
    "- Lucene based\n",
    "- Schemaless\n",
    "- RESTful interface\n",
    "- Inverted Indices\n",
    "- (Nearly) Real time\n",
    "- ELK Stack (Elasticsearch, Kibana, Logstash)"
   ]
  },
  {
   "cell_type": "markdown",
   "metadata": {
    "slideshow": {
     "slide_type": "slide"
    }
   },
   "source": [
    "# 2. Installing ElasticSearch\n",
    "---\n",
    "- Install via docker\n",
    "- Create a directory to store ES Data\n",
    "- Start ELK Stack\n",
    "\n",
    "> docker pull qnib/elk <br>\n",
    "> mkdir -p ~/data <br>\n",
    "> docker run -d --name elasticsearch -v ~/data:/usr/share/elasticsearch/data -p 9200:9200 elasticsearch\n",
    "\n",
    "Test the stack <br>\n",
    "ElasticsSearch http://localhost:9200 & Kibana http://localhost:5601"
   ]
  },
  {
   "cell_type": "markdown",
   "metadata": {
    "slideshow": {
     "slide_type": "slide"
    }
   },
   "source": [
    "# 3. Comparison with a RDBMS \n",
    "### like MySQL/Oracle\n",
    "\n",
    "| Relational DBs | Elasticsearch                         |\n",
    "|:---------------|:--------------------------------------|\n",
    "| Database       | Index                                 |\n",
    "| Partition      | Shard                                 |\n",
    "| Table          | Type                                  |\n",
    "| Row            | Document                              |\n",
    "| Column         | Field                                 |\n",
    "| Schema         | Mapping                               |\n",
    "| Index          | Everything is <br> already Indexed :) |\n",
    "| SQL            | DSL <br> Domain Specific Language     |\n",
    "\n"
   ]
  },
  {
   "cell_type": "markdown",
   "metadata": {
    "slideshow": {
     "slide_type": "slide"
    }
   },
   "source": [
    "### 3.2 JSON schema cheatsheet / quick reference\n",
    "\n",
    "| Javascript     | Python                                | Example                    |\n",
    "|:---------------|:--------------------------------------|:---------------------------|\n",
    "| string         | string                                | \"Name\"                     |\n",
    "| number         | int/float                             | 42                         |\n",
    "| object         | dict (dictionary)                     | {\"name\": \"sam\", \"age\": 26} |\n",
    "| array          | list                                  | [\"foo\",\"bar\", 5,\"hello\"]   |\n",
    "| boolean        | bool                                  | tr                         |\n",
    "\n"
   ]
  },
  {
   "cell_type": "markdown",
   "metadata": {
    "slideshow": {
     "slide_type": "slide"
    }
   },
   "source": [
    "3.2 Installing Python libraries "
   ]
  },
  {
   "cell_type": "code",
   "execution_count": 288,
   "metadata": {
    "slideshow": {
     "slide_type": "fragment"
    }
   },
   "outputs": [
    {
     "name": "stdout",
     "output_type": "stream",
     "text": [
      "<Elasticsearch([{'port': 9200, 'host': 'ec2-52-91-189-234.compute-1.amazonaws.com'}])>\n"
     ]
    }
   ],
   "source": [
    "#Few libraries we will using t\n",
    "import requests\n",
    "import ujson as json\n",
    "from elasticsearch import Elasticsearch\n",
    "from elasticsearch import helpers\n",
    "from elasticsearch_dsl import Search, DocType, Date, Integer, Keyword, Text\n",
    "from datetime import datetime\n",
    "from elasticsearch_dsl.connections import connections\n",
    "import pandas as pd\n",
    "from ipywidgets import interact, interactive, fixed, interact_manual\n",
    "\n",
    "ES_HOST = 'http://ec2-52-91-189-234.compute-1.amazonaws.com:9200'\n",
    "es = Elasticsearch(ES_HOST)\n",
    "print(es)\n"
   ]
  },
  {
   "cell_type": "markdown",
   "metadata": {
    "slideshow": {
     "slide_type": "slide"
    }
   },
   "source": [
    "Print all indices of Elasticsearch"
   ]
  },
  {
   "cell_type": "code",
   "execution_count": 9,
   "metadata": {
    "slideshow": {
     "slide_type": "fragment"
    }
   },
   "outputs": [
    {
     "data": {
      "text/plain": [
       "['.kibana',\n",
       " 'books',\n",
       " 'index_test',\n",
       " 'logstash-2017.05.22',\n",
       " 'logstash-2017.05.23',\n",
       " 'megacorp',\n",
       " 'schools',\n",
       " 'something',\n",
       " 'test',\n",
       " 'test-index',\n",
       " 'test-index1',\n",
       " 'test_index',\n",
       " 'titanic']"
      ]
     },
     "execution_count": 9,
     "metadata": {},
     "output_type": "execute_result"
    }
   ],
   "source": [
    "# list all the indexes\n",
    "indices=es.indices.get_alias().keys()\n",
    "sorted(indices)"
   ]
  },
  {
   "cell_type": "markdown",
   "metadata": {
    "slideshow": {
     "slide_type": "slide"
    }
   },
   "source": [
    "# 4. Mapping\n",
    "Mapping is the process of defining how a document, and the fields it contains, are stored and indexed. \n",
    "\n",
    "#### Mapping Types\n",
    "Each index has one or more mapping types, which are used to divide the documents in an index into logical groups. \n",
    ">User documents might be stored in a user type, and blog posts in a blogpost type."
   ]
  },
  {
   "cell_type": "markdown",
   "metadata": {
    "slideshow": {
     "slide_type": "slide"
    }
   },
   "source": [
    "##### Meta-fields\n",
    ">Meta-fields are used to customize how a document’s metadata associated is treated. \n",
    "Examples of meta-fields include the document’s _index, _type, _id, and _source fields.\n",
    "\n",
    "##### Fields or properties\n",
    ">Each mapping type contains a list of fields or properties pertinent to that type. \n",
    "A user type might contain title, name, and age fields"
   ]
  },
  {
   "cell_type": "markdown",
   "metadata": {
    "slideshow": {
     "slide_type": "slide"
    }
   },
   "source": [
    "```\n",
    "PUT my_index \n",
    "{\"mappings\": {\n",
    "    \"user\": { \n",
    "      \"_all\":       { \"enabled\": false  }, \n",
    "      \"properties\": {\n",
    "        \"name\":     { \"type\": \"text\"  }, \n",
    "        \"age\":      { \"type\": \"integer\" }  \n",
    "              },//end of user\n",
    "    \"blogpost\": { \n",
    "      \"_all\":       { \"enabled\": false  }, \n",
    "      \"properties\": { \n",
    "        \"title\":    { \"type\": \"text\"  }, \n",
    "        \"body\":     { \"type\": \"text\"  }, \n",
    "        \"user_id\":  { \"type\": \"keyword\" },\n",
    "        \"created\":  { \"type\":   \"date\", \n",
    "                      \"format\": \"strict_date\" } \n",
    "                 } // end of blogpost\n",
    "      } //end of mappings\n",
    "}```"
   ]
  },
  {
   "cell_type": "markdown",
   "metadata": {
    "slideshow": {
     "slide_type": "slide"
    }
   },
   "source": [
    "# 5. Query and filter contex\n",
    "\n",
    "### Query context\n",
    "This query answers the question “How well does this document match this query clause?” Besides deciding whether or not the document matches, the query clause also calculates a _score representing how well the document matches\n",
    "\n",
    "### Filter context\n",
    "In filter context, a query clause answers the question “Does this document match this query clause?” The answer is a simple Yes or No — no scores are calculated. Filter context is mostly used for filtering structured data, e.g.\n",
    "Does this timestamp fall into the range 2015 to 2016? Is the status field set to \"published\"?"
   ]
  },
  {
   "cell_type": "markdown",
   "metadata": {
    "slideshow": {
     "slide_type": "slide"
    }
   },
   "source": [
    "## 5.1 Filter query\n",
    "- When working with exact values, we will be working with non-scoring, filtering queries. \n",
    "- Filters are important because they are very fast. \n",
    "- They do not calculate relevance (avoiding the entire scoring phase) and are easily cached.\n",
    "- We use a constant_score to convert the term query into a filter\n"
   ]
  },
  {
   "cell_type": "code",
   "execution_count": 258,
   "metadata": {
    "slideshow": {
     "slide_type": "subslide"
    }
   },
   "outputs": [
    {
     "name": "stdout",
     "output_type": "stream",
     "text": [
      "Abrahim, Mrs. Joseph (Sophie Halaut Easu) (Id: 900) has a score of: 1.0\n",
      "Corbett, Mrs. Walter H (Irene Colvin) (Id: 935) has a score of: 1.0\n",
      "Connolly, Miss. Kate (Id: 898) has a score of: 1.0\n",
      "Davidson, Mrs. Thornton (Orian Hays) (Id: 984) has a score of: 1.0\n",
      "Dyker, Mrs. Adolf Fredrik (Anna Elisabeth Judith Andersson) (Id: 982) has a score of: 1.0\n",
      "Hocking, Miss. Ellen Nellie\"\" (Id: 944) has a score of: 1.0\n",
      "O'Donoghue, Ms. Bridget (Id: 980) has a score of: 1.0\n",
      "Straus, Mrs. Isidor (Rosalie Ida Blun) (Id: 1006) has a score of: 1.0\n",
      "Evans, Miss. Edith Corse (Id: 1004) has a score of: 1.0\n",
      "Goodwin, Miss. Jessie Allis (Id: 1032) has a score of: 1.0\n"
     ]
    }
   ],
   "source": [
    "myquery = {\"query\":  {\"constant_score\" : {\"filter\" : {\"term\" : {\"Sex\":\"female\"}}}}}\n",
    "res = es.search(index=\"titanic\", body=myquery)\n",
    "for items in res['hits']['hits']:\n",
    "    print(items['_source']['Name'] + \" (Id: \" + items['_id'] + \") has a score of: \" + str(items['_score']))"
   ]
  },
  {
   "cell_type": "markdown",
   "metadata": {
    "slideshow": {
     "slide_type": "slide"
    }
   },
   "source": [
    "## 6. Types of Queries\n",
    "Leaf Queries\n",
    "- Match all\n",
    "- Full Text\n",
    "- Term Level\n",
    ">\"query\" : {\"queryType\" : {\"fieldname\" : \"fieldvalue\"}}\n",
    "\n",
    "Compund Queries\n",
    "- Bool Query\n",
    "- Constant Score Queries\n",
    "\n",
    "\n"
   ]
  },
  {
   "cell_type": "markdown",
   "metadata": {
    "slideshow": {
     "slide_type": "slide"
    }
   },
   "source": [
    "### 6.1 Match all\n",
    "The most simple query, which matches all documents, giving them all a _score of 1.0."
   ]
  },
  {
   "cell_type": "code",
   "execution_count": 306,
   "metadata": {
    "slideshow": {
     "slide_type": "subslide"
    }
   },
   "outputs": [],
   "source": [
    "# save match all query as python variable\n",
    "myquery={\"query\": \n",
    "         {\"match_all\": {}}\n",
    "        }\n",
    "\n",
    "# execute the query using body parameter and return total number of records\n",
    "# select count(*) from table\n",
    "res = es.search(index=\"titanic\", body=myquery)  \n",
    "\n",
    "print(\"Total records found: {rec}\".format(rec=res['hits']['total']))\n",
    "for x in range(0, res['hits']['total']):\n",
    "    print(\"\\n\" + str(x+1))\n",
    "    for key, value in res['hits']['hits'][x]['_source'].items():\n",
    "        print(str(key) + \": \" + str(value))\n",
    "    if x == 1:\n",
    "        print(\"-- breaking--\")\n",
    "        break "
   ]
  },
  {
   "cell_type": "code",
   "execution_count": 351,
   "metadata": {
    "slideshow": {
     "slide_type": "subslide"
    }
   },
   "outputs": [
    {
     "data": {
      "application/vnd.jupyter.widget-view+json": {
       "model_id": "772bb0ea2c7e4e49932b8210c3a1d323"
      }
     },
     "metadata": {},
     "output_type": "display_data"
    }
   ],
   "source": [
    "field=[]\n",
    "res = requests.get(ES_HOST + '/titanic/passenger/_mapping')\n",
    "for a in res.json()['titanic']['mappings']['passenger']['properties'].keys():\n",
    "    field.append(a)\n",
    "def func(Query_type):\n",
    "    myquery={\"query\":{Query_type: {}}}\n",
    "    res = es.search(index=\"titanic\", body=myquery) \n",
    "    print(\"Total records found: {rec}\".format(rec=res['hits']['total']))\n",
    "    for x in range(0, res['hits']['total']):\n",
    "        print(\"\\n\" + str(x+1))\n",
    "        for key, value in res['hits']['hits'][x]['_source'].items():\n",
    "            print(str(key) + \": \" + str(value))\n",
    "        if x == 1:\n",
    "            print(\"-- breaking--\")\n",
    "            break \n",
    "\n",
    "\n",
    "interact_manual(func,  Query_type={'Get All Records':'match_all'});\n"
   ]
  },
  {
   "cell_type": "markdown",
   "metadata": {
    "slideshow": {
     "slide_type": "slide"
    }
   },
   "source": [
    "### 6.2 Full text queries\n",
    "\n",
    "\n",
    "<img src=\"https://qbox.io/img/blog/elasticsearch-queries-example.png\">"
   ]
  },
  {
   "cell_type": "markdown",
   "metadata": {
    "slideshow": {
     "slide_type": "slide"
    }
   },
   "source": [
    "### 6.2.1 Match Query\n",
    "- match queries accept text/numerics/dates, analyzes them, and constructs a query.\n",
    "- matches even if one term is match\n",
    "- more the terms better the score"
   ]
  },
  {
   "cell_type": "code",
   "execution_count": 111,
   "metadata": {
    "slideshow": {
     "slide_type": "slide"
    }
   },
   "outputs": [
    {
     "name": "stdout",
     "output_type": "stream",
     "text": [
      "Total records found: 26\n",
      "\n",
      "1\n",
      "Sex: male\n",
      "Name: Thomas, Mr. Tannous\n",
      "Embarked: C\n",
      "Pclass: 3\n",
      "Cabin: None\n",
      "SibSp: 0\n",
      "Parch: 0\n",
      "Age: None\n",
      "PassengerId: 1224\n",
      "Ticket: 2684\n",
      "Fare: 7.225\n",
      "\n",
      "2\n",
      "Sex: male\n",
      "Name: Lamb, Mr. John Joseph\n",
      "Embarked: Q\n",
      "Pclass: 2\n",
      "Cabin: None\n",
      "SibSp: 0\n",
      "Parch: 0\n",
      "Age: None\n",
      "PassengerId: 976\n",
      "Ticket: 240261\n",
      "Fare: 10.7083\n",
      "-- breaking--\n"
     ]
    }
   ],
   "source": [
    "myquery={\n",
    "    \"query\": {\n",
    "        \"match\" : {\"Name\" : \"Thomas Joseph\"}\n",
    "    }}\n",
    "res = es.search(index=\"titanic\", body=myquery) \n",
    "print(\"Total records found: {rec}\".format(rec=res['hits']['total']))\n",
    "for x in range(0, res['hits']['total']):\n",
    "    print(\"\\n\" + str(x+1))\n",
    "    for key, value in res['hits']['hits'][x]['_source'].items():\n",
    "        print(str(key) + \": \" + str(value))\n",
    "    if x == 1:\n",
    "        print(\"-- breaking--\")\n",
    "        break "
   ]
  },
  {
   "cell_type": "code",
   "execution_count": 358,
   "metadata": {
    "slideshow": {
     "slide_type": "subslide"
    }
   },
   "outputs": [
    {
     "data": {
      "application/vnd.jupyter.widget-view+json": {
       "model_id": "8911985a7e0f4a1b8239e8133a5c8833"
      }
     },
     "metadata": {},
     "output_type": "display_data"
    }
   ],
   "source": [
    "def func(Query_type, Dimension, Value):\n",
    "    myquery={\n",
    "    \"query\": {\n",
    "        Query_type : {Dimension : Value}\n",
    "    }}\n",
    "    res = es.search(index=\"titanic\", body=myquery) \n",
    "    print(\"Total records found: {rec}\".format(rec=res['hits']['total']))\n",
    "    for x in range(0, res['hits']['total']):\n",
    "        print(\"\\n\" + str(x+1))\n",
    "        for key, value in res['hits']['hits'][x]['_source'].items():\n",
    "            print(str(key) + \": \" + str(value))\n",
    "        if x == 1:\n",
    "            print(\"-- breaking--\")\n",
    "            break \n",
    "\n",
    "\n",
    "interact_manual(func,  Query_type={'Match':'match'}, Dimension = field, Value = '');"
   ]
  },
  {
   "cell_type": "markdown",
   "metadata": {
    "slideshow": {
     "slide_type": "slide"
    }
   },
   "source": [
    "### 6.2.2 \"Match Phrase\"  (match_phrase) Query\n",
    "The match_phrase query analyzes the text and only results if terms come in same order"
   ]
  },
  {
   "cell_type": "code",
   "execution_count": 113,
   "metadata": {
    "slideshow": {
     "slide_type": "fragment"
    }
   },
   "outputs": [
    {
     "name": "stdout",
     "output_type": "stream",
     "text": [
      "Total records found: 6\n",
      "\n",
      "1\n",
      "Sex: male\n",
      "Name: Andersson, Mr. Johan Samuel\n",
      "Embarked: S\n",
      "Pclass: 3\n",
      "Cabin: None\n",
      "SibSp: 0\n",
      "Parch: 0\n",
      "Age: 26.0\n",
      "PassengerId: 1212\n",
      "Ticket: 347075\n",
      "Fare: 7.775\n",
      "\n",
      "2\n",
      "Sex: male\n",
      "Name: Davies, Mr. John Samuel\n",
      "Embarked: S\n",
      "Pclass: 3\n",
      "Cabin: None\n",
      "SibSp: 2\n",
      "Parch: 0\n",
      "Age: 21.0\n",
      "PassengerId: 901\n",
      "Ticket: A/4 48871\n",
      "Fare: 24.15\n",
      "-- breaking--\n"
     ]
    }
   ],
   "source": [
    "myquery={ \"query\": {\n",
    "        \"match_phrase\" : { \"Name\" : \"Samuel\"}\n",
    "     }}\n",
    "res = es.search(index=\"titanic\", body=myquery) \n",
    "print(\"Total records found: {rec}\".format(rec=res['hits']['total']))\n",
    "for x in range(0, res['hits']['total']):\n",
    "    print(\"\\n\" + str(x+1))\n",
    "    for key, value in res['hits']['hits'][x]['_source'].items():\n",
    "        print(str(key) + \": \" + str(value))\n",
    "    if x == 1:\n",
    "        print(\"-- breaking--\")\n",
    "        break "
   ]
  },
  {
   "cell_type": "code",
   "execution_count": 360,
   "metadata": {
    "slideshow": {
     "slide_type": "slide"
    }
   },
   "outputs": [
    {
     "data": {
      "application/vnd.jupyter.widget-view+json": {
       "model_id": "e11ff8fd12b84685ae14444355d77987"
      }
     },
     "metadata": {},
     "output_type": "display_data"
    }
   ],
   "source": [
    "def func(Query_type, Dimension, Value):\n",
    "    myquery={\n",
    "    \"query\": {\n",
    "        Query_type : {Dimension : Value}\n",
    "    }}\n",
    "    print(myquery)\n",
    "    res = es.search(index=\"titanic\", body=myquery) \n",
    "    print(\"Total records found: {rec}\".format(rec=res['hits']['total']))\n",
    "    for x in range(0, res['hits']['total']):\n",
    "        print(\"\\n\" + str(x+1))\n",
    "        for key, value in res['hits']['hits'][x]['_source'].items():\n",
    "            print(str(key) + \": \" + str(value))\n",
    "        if x == 1:\n",
    "            print(\"-- breaking--\")\n",
    "            break \n",
    "\n",
    "\n",
    "interact_manual(func,  Query_type={'Match':'match', 'Match Phrase':'match_phrase'}, Dimension = field, Value = '');"
   ]
  },
  {
   "cell_type": "markdown",
   "metadata": {
    "slideshow": {
     "slide_type": "slide"
    }
   },
   "source": [
    "### 6.2.3 Term Query\n",
    "While the full text queries will analyze the query string before executing, the term-level queries operate on the **exact terms** that are stored in the inverted index.\n",
    "\n",
    "These queries are usually used for structured data like numbers, dates, and enums, rather than full text fields."
   ]
  },
  {
   "cell_type": "code",
   "execution_count": 121,
   "metadata": {
    "slideshow": {
     "slide_type": "fragment"
    }
   },
   "outputs": [
    {
     "name": "stdout",
     "output_type": "stream",
     "text": [
      "Sex: male\n",
      "Name: Thomas, Mr. John\n",
      "Embarked: C\n",
      "Pclass: 3\n",
      "Cabin: None\n",
      "SibSp: 0\n",
      "Parch: 0\n",
      "Age: None\n",
      "PassengerId: 1008\n",
      "Ticket: 2681\n",
      "Fare: 6.4375\n"
     ]
    }
   ],
   "source": [
    "myquery={\"query\": {\"term\" : { \"Ticket\" : \"2681\" }  }}\n",
    "\n",
    "res = es.search(index=\"titanic\", body=myquery) \n",
    "for itemkey, itemvalue in res['hits']['hits'][0][\"_source\"].items():\n",
    "    print(str(itemkey) + \": \" + str(itemvalue))"
   ]
  },
  {
   "cell_type": "code",
   "execution_count": 361,
   "metadata": {
    "slideshow": {
     "slide_type": "slide"
    }
   },
   "outputs": [
    {
     "data": {
      "application/vnd.jupyter.widget-view+json": {
       "model_id": "9ebcff77ef2f4619b53542ef5c6e3863"
      }
     },
     "metadata": {},
     "output_type": "display_data"
    }
   ],
   "source": [
    "def func(Query_type, Dimension, Value):\n",
    "    myquery={\n",
    "    \"query\": {\n",
    "        Query_type : {Dimension : Value}\n",
    "    }}\n",
    "    res = es.search(index=\"titanic\", body=myquery) \n",
    "    print(\"Total records found: {rec}\".format(rec=res['hits']['total']))\n",
    "    for x in range(0, res['hits']['total']):\n",
    "        print(\"\\n\" + str(x+1))\n",
    "        for key, value in res['hits']['hits'][x]['_source'].items():\n",
    "            print(str(key) + \": \" + str(value))\n",
    "        if x == 1:\n",
    "            print(\"-- breaking--\")\n",
    "            break \n",
    "\n",
    "\n",
    "interact_manual(func,  Query_type={'Match':'match', 'Match Phrase':'match_phrase', 'Absolute Phrase':'term'}, Dimension = field, Value = '');"
   ]
  },
  {
   "cell_type": "markdown",
   "metadata": {
    "slideshow": {
     "slide_type": "slide"
    }
   },
   "source": [
    "### 6.2.4 Terms query\n",
    "Filters documents that have fields that match any of the provided terms (not analyzed).\n",
    ">The terms query is also aliased with **in** as in MySQL"
   ]
  },
  {
   "cell_type": "code",
   "execution_count": 110,
   "metadata": {
    "slideshow": {
     "slide_type": "fragment"
    }
   },
   "outputs": [
    {
     "name": "stdout",
     "output_type": "stream",
     "text": [
      "Total records found - 34\n",
      "Third record : {'Sex': 'female', 'Name': 'Klasen, Mrs. (Hulda Kristina Eugenia Lofqvist)', 'Embarked': 'S', 'Pclass': 3, 'Cabin': None, 'SibSp': 0, 'Parch': 2, 'Age': 36.0, 'PassengerId': 1045, 'Ticket': '350405', 'Fare': 12.1833}\n"
     ]
    }
   ],
   "source": [
    "myquery={\"query\": { \"terms\" : { \"Parch\" : [2, 3, 5]}}}\n",
    "res = es.search(index=\"titanic\",  body=myquery)\n",
    "print(\"Total records found - {a}\".format(a=(res['hits']['total'])))\n",
    "print(\"Third record : {a}\".format(a=(res['hits']['hits'][2]['_source'])))"
   ]
  },
  {
   "cell_type": "markdown",
   "metadata": {
    "slideshow": {
     "slide_type": "slide"
    }
   },
   "source": [
    "### 6.2.5 Range Query\n",
    "Matches documents with fields that have terms within a certain range. \n"
   ]
  },
  {
   "cell_type": "code",
   "execution_count": 125,
   "metadata": {
    "slideshow": {
     "slide_type": "fragment"
    }
   },
   "outputs": [
    {
     "name": "stdout",
     "output_type": "stream",
     "text": [
      "Total records found - 11\n"
     ]
    }
   ],
   "source": [
    "myquery = {\"query\" : {\"range\": {\"PassengerId\":{\"gte\":990,\"lte\":1000}}}}\n",
    "res = es.search(index=\"titanic\",  body=myquery)\n",
    "print(\"Total records found - {a}\".format(a=res['hits']['total']))\n",
    "\n",
    "myqueryTimeExample = {\"query\" : {\"range\":{\"timestamp\":{\"gte\":\"2015-01-01 00:00:00\", \"lte\":\"now\"}}}}\n"
   ]
  },
  {
   "cell_type": "code",
   "execution_count": 369,
   "metadata": {},
   "outputs": [
    {
     "data": {
      "application/vnd.jupyter.widget-view+json": {
       "model_id": "cda5325d723a4799b4bf62aed33c7691"
      }
     },
     "metadata": {},
     "output_type": "display_data"
    }
   ],
   "source": [
    "def func(Query_type, Dimension,  Less_Than, Greater_Than):\n",
    "    myquery = {\"query\" : {Query_type: {Dimension:{\"gte\":Greater_Than,\"lte\":Less_Than}}}}\n",
    "    res = es.search(index=\"titanic\", body=myquery) \n",
    "    print(\"Total records found: {rec}\".format(rec=res['hits']['total']))\n",
    "    for x in range(0, res['hits']['total']):\n",
    "        print(\"\\n\" + str(x+1))\n",
    "        for key, value in res['hits']['hits'][x]['_source'].items():\n",
    "            print(str(key) + \": \" + str(value))\n",
    "        if x == 1:\n",
    "            print(\"-- breaking--\")\n",
    "            break \n",
    "\n",
    "\n",
    "interact_manual(func,  Query_type='range', Dimension = field,   Greater_Than = '', Less_Than = '');"
   ]
  },
  {
   "cell_type": "code",
   "execution_count": 274,
   "metadata": {
    "slideshow": {
     "slide_type": "slide"
    }
   },
   "outputs": [
    {
     "name": "stdout",
     "output_type": "stream",
     "text": [
      "377\n"
     ]
    }
   ],
   "source": [
    "## Summary of Leaf Queries\n",
    "# 1. Match_all\n",
    "q1 = {\"query\" : {\"match_all\":{}}}\n",
    "\n",
    "# 2. Match\n",
    "q2 = {\"query\" : {\"match\":{\"Sex\":\"male\"}}}\n",
    "\n",
    "# 3. Match Phrase\n",
    "q3 = {\"query\" : {\"match_phrase\":{\"Sex\":\"male\"}}}\n",
    "\n",
    "# 4. Term\n",
    "q4 = {\"query\" : {\"term\":{\"Sex\":\"male\"}}}\n",
    "\n",
    "#5. Terms\n",
    "q5 = {\"query\" : {\"terms\":{\"Sex\":[\"male\", \"female\"]}}}\n",
    "\n",
    "#6. Range\n",
    "q6 = {\"query\" : {\"range\" : {\"PassengerId\" : {\"gte\" : 1000, \"lte\" : 2000}}}}\n",
    "\n",
    "res = es.search(index=\"titanic\", body=q5)\n",
    "print(res['hits']['total'])\n"
   ]
  },
  {
   "cell_type": "markdown",
   "metadata": {
    "slideshow": {
     "slide_type": "slide"
    }
   },
   "source": [
    "## 7. Compound queries\n",
    "Compound queries wrap other compound or leaf queries, either to combine their results and scores, to change their behaviour, or to switch from query to filter context."
   ]
  },
  {
   "cell_type": "markdown",
   "metadata": {
    "slideshow": {
     "slide_type": "slide"
    }
   },
   "source": [
    "# 7.1 Boolean Querey\n",
    "A query that matches documents matching boolean combinations of other queries.\n",
    "bool query is composed of four sections:\n",
    "```{\n",
    "   \"bool\" : {\n",
    "      \"must\" :     [],\n",
    "      \"should\" :   [],\n",
    "      \"must_not\" : [],\n",
    "      \"filter\":    []\n",
    "   }}```"
   ]
  },
  {
   "cell_type": "code",
   "execution_count": 273,
   "metadata": {
    "slideshow": {
     "slide_type": "subslide"
    }
   },
   "outputs": [
    {
     "name": "stdout",
     "output_type": "stream",
     "text": [
      "Total count is: 2\n"
     ]
    }
   ],
   "source": [
    "myquery = {\"query\":\n",
    "               {\"bool\":{\n",
    "                    \"filter\":{\"term\":{\"Age\":\"22\"}},\n",
    "                    \"must\":{\"term\":{\"Pclass\":\"2\"}},\n",
    "                    \"must_not\":{\"term\":{\"Sex\":\"female\"}}\n",
    "                    }}}\n",
    "\n",
    "\n",
    "\n",
    "res = es.count(index=\"titanic\", body=myquery)\n",
    "print(\"Total count is: {a}\".format(a=res['count']))"
   ]
  },
  {
   "cell_type": "code",
   "execution_count": null,
   "metadata": {
    "collapsed": true
   },
   "outputs": [],
   "source": [
    "\"A\" : {\"gte\" : 1000, \"lte\" : 2000}\n",
    "A[\"gte\"] =  1000\n",
    "A[\"lte\"] =  2000\n",
    "\n",
    "\"A\" : [{\"gte\" : 1000}, {\"lte\" : 2000}]\n",
    "A[0][\"gte\"] = 1000\n",
    "A[0][\"lte\"] = 2000\n",
    "\n",
    "b={\"query\":\n",
    "               {\"bool\":{\n",
    "                    \"filter\":[{\"term\":{\"Age\":\"22\"}},\n",
    "                              {\"term\":{\"Rev\":\"222\"}}\n",
    "                             ]\n",
    "                    \"must\":{\"term\":{\"Pclass\":\"2\"}},\n",
    "                    \"must_not\":{\"term\":{\"Sex\":\"female\"}}\n",
    "                    }}}\n",
    "typ\n",
    "\n",
    "\n",
    "query[\"bool\"][\"filter\"][0][\"term\"][\"Age\"] = 22\n",
    "query[\"bool\"][\"filter\"][0][\"term\"][\"Rev\"] = 222\n"
   ]
  },
  {
   "cell_type": "code",
   "execution_count": 287,
   "metadata": {
    "slideshow": {
     "slide_type": "-"
    }
   },
   "outputs": [
    {
     "name": "stdout",
     "output_type": "stream",
     "text": [
      "{\n",
      "    \"query\":{\n",
      "        \"bool\":{\n",
      "            \"filter\":[\n",
      "                {\n",
      "                    \"term\":{\n",
      "                        \"Age\":\"36\"\n",
      "                    }\n",
      "                },\n",
      "                {\n",
      "                    \"term\":{\n",
      "                        \"Pclass\":\"1\"\n",
      "                    }\n",
      "                }\n",
      "            ],\n",
      "            \"must\":{\n",
      "                \"term\":{\n",
      "                    \"Pclass\":\"1\"\n",
      "                }\n",
      "            },\n",
      "            \"must_not\":{\n",
      "                \"term\":{\n",
      "                    \"Sex\":\"female\"\n",
      "                }\n",
      "            }\n",
      "        }\n",
      "    }\n",
      "}\n",
      "Total count is: 1\n"
     ]
    }
   ],
   "source": [
    "\n",
    "b={\"query\":\n",
    "               {\"bool\":{\n",
    "                    \"filter\":[{\"term\":{\"Age\":\"36\"}},\n",
    "                              {\"term\":{\"Pclass\":\"1\"}}\n",
    "                             ],\n",
    "                    \"must\":{\"term\":{\"Pclass\":\"1\"}},\n",
    "                    \"must_not\":{\"term\":{\"Sex\":\"female\"}}\n",
    "                    }}}\n",
    "print(json.dumps(b, indent=4, sort_keys=True ))\n",
    "\n",
    "res = es.count(index=\"titanic\", body = b)\n",
    "print(\"Total count is: {a}\".format(a=res['count']))\n"
   ]
  },
  {
   "cell_type": "code",
   "execution_count": 392,
   "metadata": {},
   "outputs": [
    {
     "data": {
      "application/vnd.jupyter.widget-view+json": {
       "model_id": "5f665a688233471dbed1771d1a9c53b7"
      }
     },
     "metadata": {},
     "output_type": "display_data"
    },
    {
     "data": {
      "text/plain": [
       "<function __main__.func>"
      ]
     },
     "execution_count": 392,
     "metadata": {},
     "output_type": "execute_result"
    }
   ],
   "source": [
    "def func(Query_type, subQuery_type, Dimension,  Value):\n",
    "    myquery = {\"query\":{Query_type:{subQuery_type:{\"term\":{Dimension:Value}}}}}\n",
    "    res = es.search(index=\"titanic\", body=myquery) \n",
    "    print(myquery)\n",
    "    print(\"Total records found: {rec}\".format(rec=res['hits']['total']))\n",
    "    for x in range(0, res['hits']['total']):\n",
    "        print(\"\\n\" + str(x+1))\n",
    "        for key, value in res['hits']['hits'][x]['_source'].items():\n",
    "            print(str(key) + \": \" + str(value))\n",
    "        if x == 1:\n",
    "            print(\"-- breaking--\")\n",
    "            break \n",
    "\n",
    "           \n",
    "interact_manual(func,  \n",
    "                Query_type={'Compound':'bool'},\n",
    "                subQuery_type ={'Filter':'filter', 'Must have':'must', 'Must NOT have':'must_not', 'Maybe Have':'should'},\n",
    "                Dimension = field,   \n",
    "                Value = ''\n",
    "               )"
   ]
  }
 ],
 "metadata": {
  "celltoolbar": "Slideshow",
  "kernelspec": {
   "display_name": "Python 3",
   "language": "python",
   "name": "python3"
  },
  "language_info": {
   "codemirror_mode": {
    "name": "ipython",
    "version": 3
   },
   "file_extension": ".py",
   "mimetype": "text/x-python",
   "name": "python",
   "nbconvert_exporter": "python",
   "pygments_lexer": "ipython3",
   "version": "3.5.2"
  }
 },
 "nbformat": 4,
 "nbformat_minor": 2
}
