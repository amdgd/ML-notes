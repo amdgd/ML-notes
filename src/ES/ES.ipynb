{
 "cells": [
  {
   "cell_type": "code",
   "execution_count": 90,
   "metadata": {},
   "outputs": [
    {
     "name": "stdout",
     "output_type": "stream",
     "text": [
      "Collecting ujson\n",
      "  Downloading ujson-1.35.tar.gz (192kB)\n",
      "\u001b[K    100% |████████████████████████████████| 194kB 222kB/s ta 0:00:01\n",
      "\u001b[?25hBuilding wheels for collected packages: ujson\n",
      "  Running setup.py bdist_wheel for ujson ... \u001b[?25ldone\n",
      "\u001b[?25h  Stored in directory: /home/jovyan/.cache/pip/wheels/9e/9b/d0/df92653bb5b2664c15d8ee5b99e3f2eb08a034444db8922b2f\n",
      "Successfully built ujson\n",
      "Installing collected packages: ujson\n",
      "Successfully installed ujson-1.35\n"
     ]
    }
   ],
   "source": [
    "#!pip install elasticsearch-dsl\n",
    "#!pip install certifi\n",
    "#!pip install ujson \n",
    "import requests\n",
    "import ujson as json\n",
    "\n",
    "url = 'http://ec2-52-91-189-234.compute-1.amazonaws.com:9200'\n",
    "ES_HOST = {\"host\" : \"ec2-52-91-189-234.compute-1.amazonaws.com\", \"port\" : 9200}\n"
   ]
  },
  {
   "cell_type": "code",
   "execution_count": 16,
   "metadata": {
    "collapsed": true
   },
   "outputs": [],
   "source": [
    "from elasticsearch import Elasticsearch\n",
    "from elasticsearch_dsl import Search\n",
    "client = Elasticsearch()"
   ]
  },
  {
   "cell_type": "code",
   "execution_count": 91,
   "metadata": {},
   "outputs": [
    {
     "name": "stdout",
     "output_type": "stream",
     "text": [
      "{'properties': {'description': {'type': 'text'}, 'price': {'scaling_factor': 100.0, 'type': 'scaled_float'}, 'pub_date': {'format': 'yyyy-MM-dd', 'type': 'date'}, 'title': {'type': 'text'}, 'tags': {'type': 'text'}, 'language': {'type': 'keyword'}, 'isbn': {'type': 'integer'}, 'author': {'type': 'text'}}}\n",
      "a\n"
     ]
    },
    {
     "data": {
      "text/html": [
       "<div>\n",
       "<table border=\"1\" class=\"dataframe\">\n",
       "  <thead>\n",
       "    <tr style=\"text-align: right;\">\n",
       "      <th></th>\n",
       "      <th>properties.author.type</th>\n",
       "      <th>properties.description.type</th>\n",
       "      <th>properties.isbn.type</th>\n",
       "      <th>properties.language.type</th>\n",
       "      <th>properties.price.scaling_factor</th>\n",
       "      <th>properties.price.type</th>\n",
       "      <th>properties.pub_date.format</th>\n",
       "      <th>properties.pub_date.type</th>\n",
       "      <th>properties.tags.type</th>\n",
       "      <th>properties.title.type</th>\n",
       "    </tr>\n",
       "  </thead>\n",
       "  <tbody>\n",
       "    <tr>\n",
       "      <th>0</th>\n",
       "      <td>text</td>\n",
       "      <td>text</td>\n",
       "      <td>integer</td>\n",
       "      <td>keyword</td>\n",
       "      <td>100.0</td>\n",
       "      <td>scaled_float</td>\n",
       "      <td>yyyy-MM-dd</td>\n",
       "      <td>date</td>\n",
       "      <td>text</td>\n",
       "      <td>text</td>\n",
       "    </tr>\n",
       "  </tbody>\n",
       "</table>\n",
       "</div>"
      ],
      "text/plain": [
       "  properties.author.type properties.description.type properties.isbn.type  \\\n",
       "0                   text                        text              integer   \n",
       "\n",
       "  properties.language.type  properties.price.scaling_factor  \\\n",
       "0                  keyword                            100.0   \n",
       "\n",
       "  properties.price.type properties.pub_date.format properties.pub_date.type  \\\n",
       "0          scaled_float                 yyyy-MM-dd                     date   \n",
       "\n",
       "  properties.tags.type properties.title.type  \n",
       "0                 text                  text  "
      ]
     },
     "execution_count": 91,
     "metadata": {},
     "output_type": "execute_result"
    }
   ],
   "source": [
    "res = requests.get(url +'/books/book/_mapping?pretty')\n",
    "#print(res.json)\n",
    "\n",
    "import json\n",
    "j = json.loads(res.text)\n",
    "print(j['books']['mappings']['book'])\n",
    "\n",
    "\n",
    "for i in j['books']['mappings']['book']:\n",
    "    print(\"a\")\n",
    "\n",
    "\n",
    "import pandas as pd\n",
    "from pandas.io.json import json_normalize\n",
    "\n",
    "#df = pd.DataFrame(j['books']['mappings']['book'])\n",
    "\n",
    "\n",
    "\n",
    "\n",
    "\n",
    "\n",
    "df = json_normalize(j['books']['mappings']['book'])\n",
    "df.head()"
   ]
  },
  {
   "cell_type": "code",
   "execution_count": 19,
   "metadata": {
    "collapsed": true
   },
   "outputs": [],
   "source": [
    "FILE_URL = \"http://apps.sloanahrens.com/qbox-blog-resources/kaggle-titanic-data/test.csv\"\n",
    "INDEX_NAME = 'titanic'\n",
    "TYPE_NAME = 'passenger'\n",
    "ID_FIELD = 'passengerid'"
   ]
  },
  {
   "cell_type": "code",
   "execution_count": 20,
   "metadata": {},
   "outputs": [
    {
     "data": {
      "text/plain": [
       "{'_id': '78',\n",
       " '_index': 'test',\n",
       " '_source': {'content': 'One more fox'},\n",
       " '_type': 'articles',\n",
       " '_version': 1,\n",
       " 'found': True}"
      ]
     },
     "execution_count": 20,
     "metadata": {},
     "output_type": "execute_result"
    }
   ],
   "source": [
    "from datetime import datetime\n",
    "from elasticsearch_dsl import DocType, Date, Integer, Keyword, Text\n",
    "from elasticsearch_dsl.connections import connections\n",
    "# Define a default Elasticsearch client\n",
    "es = Elasticsearch(url)\n",
    "#es.create(index=\"test\", doc_type=\"articles\", body={\"content\": \"One more fox\"})\n",
    "es.get(id='78', index=\"test\")\n",
    "\n"
   ]
  },
  {
   "cell_type": "code",
   "execution_count": 21,
   "metadata": {},
   "outputs": [
    {
     "name": "stdout",
     "output_type": "stream",
     "text": [
      "False\n"
     ]
    }
   ],
   "source": [
    "doc = {\n",
    "    'author': 'kimchy',\n",
    "    'text': 'Nothing lasts',\n",
    "    'timestamp': datetime.now(),\n",
    "}\n",
    "res = es.index(index=\"test-index\", doc_type='tweet', id=1, body=doc)\n",
    "print(res['created'])"
   ]
  },
  {
   "cell_type": "code",
   "execution_count": 63,
   "metadata": {
    "collapsed": true
   },
   "outputs": [],
   "source": [
    "s = Search(using=es, index=\"test-index\") \\\n",
    "    .filter(\"term\", category=\"search\") \\\n",
    "    .query(\"match\", title=\"Elastic\")   \\\n",
    "    .exclude(\"match\", description=\"beta\")\n",
    "\n",
    "\n",
    "s.aggs.bucket('per_tag', 'terms', field='tags') \\\n",
    "    .metric('max_lines', 'max', field='lines')\n",
    "\n",
    "response = s.execute()\n",
    "print\n",
    "for hit in response:\n",
    "    print(hit.meta.score, hit.title)\n",
    "\n",
    "for tag in response.aggregations.per_tag.buckets:\n",
    "    print(tag.key, tag.max_lines.value)"
   ]
  },
  {
   "cell_type": "code",
   "execution_count": 33,
   "metadata": {},
   "outputs": [
    {
     "name": "stdout",
     "output_type": "stream",
     "text": [
      "{'_type': 'tweet', '_index': 'test-index', '_source': {'text': 'Nothing lasts', 'timestamp': '2017-05-23T15:46:58.908242', 'author': 'kimchy'}, 'found': True, '_id': '1', '_version': 8}\n"
     ]
    }
   ],
   "source": [
    "res = es.get(index=\"test-index\", doc_type='tweet', id=1)\n",
    "print(res)"
   ]
  },
  {
   "cell_type": "code",
   "execution_count": 24,
   "metadata": {},
   "outputs": [
    {
     "data": {
      "text/plain": [
       "{'_shards': {'failed': 0, 'successful': 5, 'total': 5},\n",
       " 'hits': {'hits': [{'_id': '1',\n",
       "    '_index': 'test-index',\n",
       "    '_score': 1.0,\n",
       "    '_source': {'author': 'kimchy',\n",
       "     'text': 'Nothing lasts',\n",
       "     'timestamp': '2017-05-23T15:46:58.908242'},\n",
       "    '_type': 'tweet'}],\n",
       "  'max_score': 1.0,\n",
       "  'total': 1},\n",
       " 'timed_out': False,\n",
       " 'took': 0}"
      ]
     },
     "execution_count": 24,
     "metadata": {},
     "output_type": "execute_result"
    }
   ],
   "source": [
    "doc = {\n",
    "        \"query\": {\n",
    "                    \"match_all\": {}\n",
    "                }\n",
    "        }\n",
    "es.search(index=\"test-index\", body=doc)\n",
    "\n",
    "\n"
   ]
  },
  {
   "cell_type": "code",
   "execution_count": 85,
   "metadata": {},
   "outputs": [
    {
     "name": "stdout",
     "output_type": "stream",
     "text": [
      "{'_type': 'tweet', '_index': 'test-index', '_id': '1', '_score': 1.0, '_source': {'text': 'Nothing lasts', 'timestamp': '2017-05-23T15:46:58.908242', 'author': 'kimchy'}}\n"
     ]
    },
    {
     "data": {
      "text/html": [
       "<div>\n",
       "<table border=\"1\" class=\"dataframe\">\n",
       "  <thead>\n",
       "    <tr style=\"text-align: right;\">\n",
       "      <th></th>\n",
       "      <th>_id</th>\n",
       "      <th>_index</th>\n",
       "      <th>_score</th>\n",
       "      <th>_source.author</th>\n",
       "      <th>_source.text</th>\n",
       "      <th>_source.timestamp</th>\n",
       "      <th>_type</th>\n",
       "    </tr>\n",
       "  </thead>\n",
       "  <tbody>\n",
       "    <tr>\n",
       "      <th>0</th>\n",
       "      <td>1</td>\n",
       "      <td>test-index</td>\n",
       "      <td>1.0</td>\n",
       "      <td>kimchy</td>\n",
       "      <td>Nothing lasts</td>\n",
       "      <td>2017-05-23T15:46:58.908242</td>\n",
       "      <td>tweet</td>\n",
       "    </tr>\n",
       "  </tbody>\n",
       "</table>\n",
       "</div>"
      ],
      "text/plain": [
       "  _id      _index  _score _source.author   _source.text  \\\n",
       "0   1  test-index     1.0         kimchy  Nothing lasts   \n",
       "\n",
       "            _source.timestamp  _type  \n",
       "0  2017-05-23T15:46:58.908242  tweet  "
      ]
     },
     "execution_count": 85,
     "metadata": {},
     "output_type": "execute_result"
    }
   ],
   "source": [
    "res  = es.search(index=\"test-index\", body=doc)\n",
    "\n",
    "for hit in res['hits']['hits']:\n",
    "    print(hit)\n",
    "    \n",
    "df = json_normalize(res['hits']['hits'])\n",
    "df.head()"
   ]
  },
  {
   "cell_type": "code",
   "execution_count": 32,
   "metadata": {},
   "outputs": [
    {
     "name": "stdout",
     "output_type": "stream",
     "text": [
      "{'text': 'Nothing lasts', 'timestamp': '2017-05-23T15:46:58.908242', 'author': 'kimchy'}\n"
     ]
    }
   ],
   "source": [
    "#/test/mytype/_mapping\n",
    "\n",
    "res = es.get_source(index=\"test-index\", doc_type='tweet', id=1)\n",
    "print(res)\n",
    "res = es."
   ]
  },
  {
   "cell_type": "code",
   "execution_count": 11,
   "metadata": {},
   "outputs": [
    {
     "data": {
      "text/plain": [
       "{'error': {'index': 'test-index1',\n",
       "  'index_uuid': 'fY3utQb5T-a35zTIEjLnPg',\n",
       "  'reason': 'index [test-index1/fY3utQb5T-a35zTIEjLnPg] already exists',\n",
       "  'root_cause': [{'index': 'test-index1',\n",
       "    'index_uuid': 'fY3utQb5T-a35zTIEjLnPg',\n",
       "    'reason': 'index [test-index1/fY3utQb5T-a35zTIEjLnPg] already exists',\n",
       "    'type': 'index_already_exists_exception'}],\n",
       "  'type': 'index_already_exists_exception'},\n",
       " 'status': 400}"
      ]
     },
     "execution_count": 11,
     "metadata": {},
     "output_type": "execute_result"
    }
   ],
   "source": [
    "es.indices.create(index='test-index1', ignore=[400,404])"
   ]
  },
  {
   "cell_type": "code",
   "execution_count": 12,
   "metadata": {},
   "outputs": [
    {
     "data": {
      "text/plain": [
       "{'hits': {'hits': [{'_id': '1',\n",
       "    '_index': 'test-index',\n",
       "    '_score': 1.0,\n",
       "    '_source': {'author': 'kimchy',\n",
       "     'text': 'Nothing lasts',\n",
       "     'timestamp': '2017-05-23T13:11:43.944443'},\n",
       "    '_type': 'tweet'}]}}"
      ]
     },
     "execution_count": 12,
     "metadata": {},
     "output_type": "execute_result"
    }
   ],
   "source": [
    "es.search(index='test-index', filter_path=['hits.hits', 'hits.hits._source'])"
   ]
  },
  {
   "cell_type": "code",
   "execution_count": 13,
   "metadata": {},
   "outputs": [
    {
     "data": {
      "text/plain": [
       "{'hits': {'hits': [{'_source': {'author': 'kimchy',\n",
       "     'text': 'Nothing lasts',\n",
       "     'timestamp': '2017-05-23T13:11:43.944443'}}]}}"
      ]
     },
     "execution_count": 13,
     "metadata": {},
     "output_type": "execute_result"
    }
   ],
   "source": [
    "es.search(index='test-index', filter_path=['hits.hits._source'])"
   ]
  },
  {
   "cell_type": "code",
   "execution_count": 14,
   "metadata": {},
   "outputs": [
    {
     "data": {
      "text/plain": [
       "{'_shards': {'failed': 0, 'successful': 5, 'total': 5},\n",
       " 'hits': {'hits': [{'_id': '1',\n",
       "    '_index': 'test-index',\n",
       "    '_score': 1.0,\n",
       "    '_source': {'author': 'kimchy',\n",
       "     'text': 'Nothing lasts',\n",
       "     'timestamp': '2017-05-23T13:11:43.944443'},\n",
       "    '_type': 'tweet'}],\n",
       "  'max_score': 1.0,\n",
       "  'total': 1},\n",
       " 'timed_out': False,\n",
       " 'took': 0}"
      ]
     },
     "execution_count": 14,
     "metadata": {},
     "output_type": "execute_result"
    }
   ],
   "source": [
    "es.search(index='test-index')"
   ]
  }
 ],
 "metadata": {
  "kernelspec": {
   "display_name": "Python 3",
   "language": "python",
   "name": "python3"
  },
  "language_info": {
   "codemirror_mode": {
    "name": "ipython",
    "version": 3
   },
   "file_extension": ".py",
   "mimetype": "text/x-python",
   "name": "python",
   "nbconvert_exporter": "python",
   "pygments_lexer": "ipython3",
   "version": "3.5.2"
  }
 },
 "nbformat": 4,
 "nbformat_minor": 2
}
