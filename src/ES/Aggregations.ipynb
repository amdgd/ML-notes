{
 "cells": [
  {
   "cell_type": "markdown",
   "metadata": {
    "slideshow": {
     "slide_type": "slide"
    }
   },
   "source": [
    "# Aggregations\n",
    "\n",
    "To translate into rough SQL terms:\n",
    "\n",
    ">SELECT COUNT(color) \n",
    "\n",
    ">FROM table\n",
    "\n",
    ">GROUP BY color \n",
    "\n",
    "\n",
    "- COUNT(color) is equivalent to a metric.\n",
    "- GROUP BY color is equivalent to a bucket."
   ]
  },
  {
   "cell_type": "markdown",
   "metadata": {
    "slideshow": {
     "slide_type": "slide"
    }
   },
   "source": [
    "\n",
    "## 1. Metric\n",
    "Aggregations that keep track and compute metrics over a set of documents.\n",
    "## 2. Matrix\n",
    "Operate on multiple fields and produce a matrix result based on the values extracted from the requested document fields. No support of scripting.\n",
    "## 3. Pipeline\n",
    "Aggregations that aggregate the output of other aggregations and their associated metrics"
   ]
  },
  {
   "cell_type": "markdown",
   "metadata": {
    "slideshow": {
     "slide_type": "slide"
    }
   },
   "source": [
    "\n",
    "## 4. Bucketing\n",
    "Each bucket is associated with a key and a document criterion. When the aggregation is executed, all the buckets criteria are evaluated on every document in the context and when a criterion matches, the document is considered to \"fall in\" the relevant bucket. By the end of the aggregation process, we’ll end up with a list of buckets - each one with a set of documents that \"belong\" to it.\n",
    "\n",
    ">Bucketing aggregations can have sub-aggregations (bucketing or metric). The sub-aggregations will be computed for the buckets which their parent aggregation generates. \n"
   ]
  },
  {
   "cell_type": "markdown",
   "metadata": {
    "slideshow": {
     "slide_type": "slide"
    }
   },
   "source": [
    "## Examples of Bucket Aggregation\n",
    "- Date Histogram Aggregation\n",
    "- Date Range Aggregation\n",
    "- Filter(s) Aggregation\n",
    "- Geo Distance Aggregation\n",
    "- Histogram Aggregation\n",
    "- Missing Aggregation\n",
    "- Nested Aggregation\n",
    "- Range Aggregation\n",
    "- Reverse nested Aggregation\n",
    "- Sampler Aggregation\n",
    "- Significant Terms Aggregation\n",
    "- Terms Aggregation"
   ]
  },
  {
   "cell_type": "code",
   "execution_count": 27,
   "metadata": {
    "slideshow": {
     "slide_type": "slide"
    }
   },
   "outputs": [
    {
     "name": "stdout",
     "output_type": "stream",
     "text": [
      "<Elasticsearch([{'port': 9200, 'host': '34.205.15.150'}])>\n",
      "/home/jovyan/work/ES\n"
     ]
    }
   ],
   "source": [
    "#Few libraries we will using \n",
    "#!pip install ujson requests elasticsearch ipywidgets certifi elasticsearch_dsl\n",
    "#!pip install -U certifi\n",
    "#!pip install faker\n",
    "import faker\n",
    "import requests\n",
    "import ujson as json\n",
    "from elasticsearch import Elasticsearch\n",
    "from elasticsearch import helpers\n",
    "from elasticsearch_dsl import Search, DocType, Date, Integer, Keyword, Text\n",
    "from datetime import datetime\n",
    "from elasticsearch_dsl.connections import connections\n",
    "import pandas as pd\n",
    "from ipywidgets import interact, interactive, fixed, interact_manual, HBox, Dropdown\n",
    "from IPython.display import clear_output\n",
    "\n",
    "\n",
    "ES_HOST = 'http://34.205.15.150:9200'\n",
    "INDEX ='umbrellacorp'\n",
    "DOC_TYPE = 'user'\n",
    "es = Elasticsearch(ES_HOST)\n",
    "print(es)\n",
    "!pwd\n"
   ]
  },
  {
   "cell_type": "code",
   "execution_count": 23,
   "metadata": {
    "slideshow": {
     "slide_type": "slide"
    }
   },
   "outputs": [
    {
     "name": "stdout",
     "output_type": "stream",
     "text": [
      "Total records found: 4025732\n",
      "\n",
      "1\n",
      "country: Solomon Islands\n",
      "lifecycle: 8\n",
      "email: nicholasharvey@example.org\n",
      "r_score: 5\n",
      "name: Allen Ellis\n",
      "job: Copy\n",
      "address: PSC 5253, Box 9321\n",
      "APO AE 43941-8966\n",
      "m_score: 0\n",
      "city: Donnahaven\n",
      "total_discount_revenue: 58.68\n",
      "f_score: 3\n",
      "avg_revenue_per_month: 279.42857142857144\n",
      "discount_percentage: 3\n",
      "rfm_score: 21\n",
      "revenue: 7446\n",
      "email_unsubscribe: False\n",
      "num_of_orders: 10.0\n",
      "signup_date: 2017-01-25T00:19:27\n",
      "fav_color: ForestGreen\n",
      "\n",
      "2\n",
      "country: Saint Kitts and Nevis\n",
      "lifecycle: 7\n",
      "email: iayala@example.net\n",
      "r_score: 7\n",
      "name: Annette Diaz\n",
      "job: Higher education careers adviser\n",
      "address: 3853 Derek Shores Suite 428\n",
      "Jonathanfurt, SC 84266\n",
      "m_score: 6\n",
      "city: West Thomas\n",
      "total_discount_revenue: 58.68\n",
      "f_score: 8\n",
      "avg_revenue_per_month: 244.5\n",
      "discount_percentage: 28\n",
      "rfm_score: 21\n",
      "revenue: 8114\n",
      "email_unsubscribe: True\n",
      "num_of_orders: 10.0\n",
      "signup_date: 2017-04-10T11:03:09\n",
      "fav_color: DarkGoldenRod\n",
      "-- breaking--\n"
     ]
    }
   ],
   "source": [
    "# save match all query as python variable\n",
    "myquery={\"query\": \n",
    "         {\"match_all\": {}}\n",
    "        }\n",
    "\n",
    "# execute the query using body parameter and return total number of records\n",
    "# select count(*) from table\n",
    "res = es.search(index=INDEX, body=myquery)  \n",
    "\n",
    "print(\"Total records found: {rec}\".format(rec=res['hits']['total']))\n",
    "for x in range(0, res['hits']['total']):\n",
    "    print(\"\\n\" + str(x+1))\n",
    "    for key, value in res['hits']['hits'][x]['_source'].items():\n",
    "        print(str(key) + \": \" + str(value))\n",
    "    if x == 1:\n",
    "        print(\"-- breaking--\")\n",
    "        break "
   ]
  },
  {
   "cell_type": "code",
   "execution_count": 26,
   "metadata": {},
   "outputs": [
    {
     "name": "stdout",
     "output_type": "stream",
     "text": [
      "{'revenue_avg': {'value': 4836.429386258201}}\n"
     ]
    }
   ],
   "source": [
    "body_json = {\n",
    "   \"aggs\":{\n",
    "      \"revenue_avg\":{\"avg\":{\"field\":\"revenue\"}}\n",
    "   }\n",
    "}\n",
    "\n",
    "res = es.search(index=INDEX, body=json.dumps(body_json))\n",
    "print(res['aggregations'])"
   ]
  }
 ],
 "metadata": {
  "celltoolbar": "Slideshow",
  "kernelspec": {
   "display_name": "Python 3",
   "language": "python",
   "name": "python3"
  },
  "language_info": {
   "codemirror_mode": {
    "name": "ipython",
    "version": 3
   },
   "file_extension": ".py",
   "mimetype": "text/x-python",
   "name": "python",
   "nbconvert_exporter": "python",
   "pygments_lexer": "ipython3",
   "version": "3.5.2"
  }
 },
 "nbformat": 4,
 "nbformat_minor": 2
}
