{
 "cells": [
  {
   "cell_type": "markdown",
   "metadata": {
    "slideshow": {
     "slide_type": "slide"
    }
   },
   "source": [
    "# Aggregations\n",
    "\n",
    "To translate into rough SQL terms:\n",
    "\n",
    ">SELECT COUNT(color) \n",
    "\n",
    ">FROM table\n",
    "\n",
    ">GROUP BY color \n",
    "\n",
    "\n",
    "- COUNT(color) is equivalent to a metric.\n",
    "- GROUP BY color is equivalent to a bucket."
   ]
  },
  {
   "cell_type": "markdown",
   "metadata": {
    "slideshow": {
     "slide_type": "slide"
    }
   },
   "source": [
    "\n",
    "## 1. Metric\n",
    "Aggregations that keep track and compute metrics over a set of documents.\n",
    "## 2. Matrix\n",
    "Operate on multiple fields and produce a matrix result based on the values extracted from the requested document fields. No support of scripting.\n",
    "## 3. Pipeline\n",
    "Aggregations that aggregate the output of other aggregations and their associated metrics"
   ]
  },
  {
   "cell_type": "markdown",
   "metadata": {
    "slideshow": {
     "slide_type": "slide"
    }
   },
   "source": [
    "\n",
    "## 4. Bucketing\n",
    "Each bucket is associated with a key and a document criterion. When the aggregation is executed, all the buckets criteria are evaluated on every document in the context and when a criterion matches, the document is considered to \"fall in\" the relevant bucket. By the end of the aggregation process, we’ll end up with a list of buckets - each one with a set of documents that \"belong\" to it.\n",
    "\n",
    ">Bucketing aggregations can have sub-aggregations (bucketing or metric). The sub-aggregations will be computed for the buckets which their parent aggregation generates. \n"
   ]
  },
  {
   "cell_type": "markdown",
   "metadata": {
    "slideshow": {
     "slide_type": "slide"
    }
   },
   "source": [
    "## Examples of Bucket Aggregation\n",
    "- Date Histogram Aggregation\n",
    "- Date Range Aggregation\n",
    "- Filter(s) Aggregation\n",
    "- Geo Distance Aggregation\n",
    "- Histogram Aggregation\n",
    "- Missing Aggregation\n",
    "- Nested Aggregation\n",
    "- Range Aggregation\n",
    "- Reverse nested Aggregation\n",
    "- Sampler Aggregation\n",
    "- Significant Terms Aggregation\n",
    "- Terms Aggregation"
   ]
  },
  {
   "cell_type": "code",
   "execution_count": 23,
   "metadata": {
    "slideshow": {
     "slide_type": "slide"
    }
   },
   "outputs": [],
   "source": [
    "import requests\n",
    "from faker import Faker\n",
    "from faker import Factory\n",
    "import ujson as json\n",
    "import pandas as pd\n",
    "import requests\n",
    "import certifi\n",
    "from numpy import random \n",
    "from elasticsearch import Elasticsearch\n",
    "from elasticsearch import helpers\n",
    "from elasticsearch_dsl import Search, DocType, Date, Integer, Keyword, Text\n",
    "from datetime import datetime\n",
    "from elasticsearch_dsl.connections import connections\n",
    "import pandas as pd\n",
    "import requests\n",
    "from random import randint\n",
    "from datetime import datetime, timedelta\n",
    "import math\n",
    "import numpy as np\n",
    "from pandas.io.json import json_normalize\n",
    "from pandasticsearch import DataFrame\n",
    "from pandasticsearch import Select\n",
    "\n",
    "ES_HOST = 'http://ec2-34-205-15-150.compute-1.amazonaws.com:9200'\n",
    "INDEX = \"eda_new\"\n",
    "DOC_TYPE=\"user\"\n",
    "es = Elasticsearch(ES_HOST)\n"
   ]
  },
  {
   "cell_type": "markdown",
   "metadata": {
    "slideshow": {
     "slide_type": "slide"
    }
   },
   "source": [
    "\n",
    "## Aggregation Format\n",
    "\n",
    "```\n",
    "\"aggregations\" : {\n",
    "    \"<aggregation_name>\" : {\n",
    "        \"<aggregation_type>\" : {\n",
    "            <aggregation_body>\n",
    "        }\n",
    "        [,\"meta\" : {  [<meta_data_body>] } ]?\n",
    "        [,\"aggregations\" : { [<sub_aggregation>]+ } ]?\n",
    "    }\n",
    "    [,\"<aggregation_name_2>\" : { ... } ]*\n",
    "}\n",
    "```\n"
   ]
  },
  {
   "cell_type": "markdown",
   "metadata": {},
   "source": [
    "### Metrics Aggregation\n",
    "Some aggregations output a single numeric metric (e.g. avg) and are called single-value numeric metrics aggregation, others generate multiple metrics (e.g. stats) and are called multi-value numeric metrics aggregation"
   ]
  },
  {
   "cell_type": "code",
   "execution_count": 24,
   "metadata": {},
   "outputs": [],
   "source": [
    "query = {\n",
    "            \"from\" : 0, \n",
    "            \"size\" : 50,\n",
    "            \"query\": {\n",
    "                        \"match_all\": {}\n",
    "                     }\n",
    "            }\n",
    "result_dict = es.search(index=INDEX, body=query)\n",
    "df = Select.from_dict(result_dict).to_pandas()\n",
    "df = df.set_index(['_id'])\n",
    "df.drop(['_index', '_score', '_type'],inplace=True,axis=1,errors='ignore')\n"
   ]
  },
  {
   "cell_type": "code",
   "execution_count": 68,
   "metadata": {},
   "outputs": [
    {
     "data": {
      "text/html": [
       "<div>\n",
       "<table border=\"1\" class=\"dataframe\">\n",
       "  <thead>\n",
       "    <tr style=\"text-align: right;\">\n",
       "      <th></th>\n",
       "      <th>Avg Order Value</th>\n",
       "      <th>City</th>\n",
       "      <th>days_since_last_purchase</th>\n",
       "      <th>discount_percentage</th>\n",
       "      <th>email_unsubscribe</th>\n",
       "      <th>f_score</th>\n",
       "      <th>lifecycle</th>\n",
       "      <th>m_score</th>\n",
       "      <th>name</th>\n",
       "      <th>num_of_orders</th>\n",
       "      <th>r_score</th>\n",
       "      <th>revenue</th>\n",
       "      <th>rfm_score</th>\n",
       "      <th>segments</th>\n",
       "      <th>total_discount_revenue</th>\n",
       "    </tr>\n",
       "    <tr>\n",
       "      <th>_id</th>\n",
       "      <th></th>\n",
       "      <th></th>\n",
       "      <th></th>\n",
       "      <th></th>\n",
       "      <th></th>\n",
       "      <th></th>\n",
       "      <th></th>\n",
       "      <th></th>\n",
       "      <th></th>\n",
       "      <th></th>\n",
       "      <th></th>\n",
       "      <th></th>\n",
       "      <th></th>\n",
       "      <th></th>\n",
       "      <th></th>\n",
       "    </tr>\n",
       "  </thead>\n",
       "  <tbody>\n",
       "    <tr>\n",
       "      <th>0ce81a1e-f3c2-02d4-8fd1-49307ad26c1b</th>\n",
       "      <td>1128.568182</td>\n",
       "      <td>Lucknow</td>\n",
       "      <td>52</td>\n",
       "      <td>29</td>\n",
       "      <td>False</td>\n",
       "      <td>8</td>\n",
       "      <td>Loyal (Sleeping)</td>\n",
       "      <td>8</td>\n",
       "      <td>Michael Goodman</td>\n",
       "      <td>44</td>\n",
       "      <td>5</td>\n",
       "      <td>49657</td>\n",
       "      <td>21</td>\n",
       "      <td>[High Discount Seeker]</td>\n",
       "      <td>14400.53</td>\n",
       "    </tr>\n",
       "    <tr>\n",
       "      <th>4d88c2e9-fb30-2fda-4b23-807b08457cf0</th>\n",
       "      <td>3375.538462</td>\n",
       "      <td>Chennai</td>\n",
       "      <td>29</td>\n",
       "      <td>23</td>\n",
       "      <td>False</td>\n",
       "      <td>5</td>\n",
       "      <td>Loyal (Sleeping)</td>\n",
       "      <td>8</td>\n",
       "      <td>Tony Adams</td>\n",
       "      <td>13</td>\n",
       "      <td>7</td>\n",
       "      <td>43882</td>\n",
       "      <td>20</td>\n",
       "      <td>[High Cart Value]</td>\n",
       "      <td>10092.86</td>\n",
       "    </tr>\n",
       "    <tr>\n",
       "      <th>fad0c0a5-8ec6-721e-8180-d902cf1fa86d</th>\n",
       "      <td>674.220000</td>\n",
       "      <td>Noida</td>\n",
       "      <td>24</td>\n",
       "      <td>20</td>\n",
       "      <td>False</td>\n",
       "      <td>8</td>\n",
       "      <td>Loyal (Sleeping)</td>\n",
       "      <td>8</td>\n",
       "      <td>Eric Clark</td>\n",
       "      <td>50</td>\n",
       "      <td>7</td>\n",
       "      <td>33711</td>\n",
       "      <td>23</td>\n",
       "      <td>[NCR]</td>\n",
       "      <td>6742.20</td>\n",
       "    </tr>\n",
       "    <tr>\n",
       "      <th>c1e9d162-7349-ee0f-556d-264aca508b47</th>\n",
       "      <td>3249.153846</td>\n",
       "      <td>Ahmedabad</td>\n",
       "      <td>45</td>\n",
       "      <td>10</td>\n",
       "      <td>False</td>\n",
       "      <td>5</td>\n",
       "      <td>Loyal (Sleeping)</td>\n",
       "      <td>8</td>\n",
       "      <td>Daniel Thomas</td>\n",
       "      <td>13</td>\n",
       "      <td>5</td>\n",
       "      <td>42239</td>\n",
       "      <td>18</td>\n",
       "      <td>[High Cart Value]</td>\n",
       "      <td>4223.90</td>\n",
       "    </tr>\n",
       "    <tr>\n",
       "      <th>18a3b227-a9e6-412d-25c9-771966d9cd02</th>\n",
       "      <td>1089.304348</td>\n",
       "      <td>Chennai</td>\n",
       "      <td>1</td>\n",
       "      <td>23</td>\n",
       "      <td>False</td>\n",
       "      <td>6</td>\n",
       "      <td>Loyal (Active)</td>\n",
       "      <td>8</td>\n",
       "      <td>Samuel Miller</td>\n",
       "      <td>23</td>\n",
       "      <td>9</td>\n",
       "      <td>25054</td>\n",
       "      <td>23</td>\n",
       "      <td>[]</td>\n",
       "      <td>5762.42</td>\n",
       "    </tr>\n",
       "  </tbody>\n",
       "</table>\n",
       "</div>"
      ],
      "text/plain": [
       "                                      Avg Order Value       City  \\\n",
       "_id                                                                \n",
       "0ce81a1e-f3c2-02d4-8fd1-49307ad26c1b      1128.568182    Lucknow   \n",
       "4d88c2e9-fb30-2fda-4b23-807b08457cf0      3375.538462    Chennai   \n",
       "fad0c0a5-8ec6-721e-8180-d902cf1fa86d       674.220000      Noida   \n",
       "c1e9d162-7349-ee0f-556d-264aca508b47      3249.153846  Ahmedabad   \n",
       "18a3b227-a9e6-412d-25c9-771966d9cd02      1089.304348    Chennai   \n",
       "\n",
       "                                      days_since_last_purchase  \\\n",
       "_id                                                              \n",
       "0ce81a1e-f3c2-02d4-8fd1-49307ad26c1b                        52   \n",
       "4d88c2e9-fb30-2fda-4b23-807b08457cf0                        29   \n",
       "fad0c0a5-8ec6-721e-8180-d902cf1fa86d                        24   \n",
       "c1e9d162-7349-ee0f-556d-264aca508b47                        45   \n",
       "18a3b227-a9e6-412d-25c9-771966d9cd02                         1   \n",
       "\n",
       "                                      discount_percentage email_unsubscribe  \\\n",
       "_id                                                                           \n",
       "0ce81a1e-f3c2-02d4-8fd1-49307ad26c1b                   29             False   \n",
       "4d88c2e9-fb30-2fda-4b23-807b08457cf0                   23             False   \n",
       "fad0c0a5-8ec6-721e-8180-d902cf1fa86d                   20             False   \n",
       "c1e9d162-7349-ee0f-556d-264aca508b47                   10             False   \n",
       "18a3b227-a9e6-412d-25c9-771966d9cd02                   23             False   \n",
       "\n",
       "                                      f_score         lifecycle  m_score  \\\n",
       "_id                                                                        \n",
       "0ce81a1e-f3c2-02d4-8fd1-49307ad26c1b        8  Loyal (Sleeping)        8   \n",
       "4d88c2e9-fb30-2fda-4b23-807b08457cf0        5  Loyal (Sleeping)        8   \n",
       "fad0c0a5-8ec6-721e-8180-d902cf1fa86d        8  Loyal (Sleeping)        8   \n",
       "c1e9d162-7349-ee0f-556d-264aca508b47        5  Loyal (Sleeping)        8   \n",
       "18a3b227-a9e6-412d-25c9-771966d9cd02        6    Loyal (Active)        8   \n",
       "\n",
       "                                                 name  num_of_orders  r_score  \\\n",
       "_id                                                                             \n",
       "0ce81a1e-f3c2-02d4-8fd1-49307ad26c1b  Michael Goodman             44        5   \n",
       "4d88c2e9-fb30-2fda-4b23-807b08457cf0       Tony Adams             13        7   \n",
       "fad0c0a5-8ec6-721e-8180-d902cf1fa86d       Eric Clark             50        7   \n",
       "c1e9d162-7349-ee0f-556d-264aca508b47    Daniel Thomas             13        5   \n",
       "18a3b227-a9e6-412d-25c9-771966d9cd02    Samuel Miller             23        9   \n",
       "\n",
       "                                      revenue  rfm_score  \\\n",
       "_id                                                        \n",
       "0ce81a1e-f3c2-02d4-8fd1-49307ad26c1b    49657         21   \n",
       "4d88c2e9-fb30-2fda-4b23-807b08457cf0    43882         20   \n",
       "fad0c0a5-8ec6-721e-8180-d902cf1fa86d    33711         23   \n",
       "c1e9d162-7349-ee0f-556d-264aca508b47    42239         18   \n",
       "18a3b227-a9e6-412d-25c9-771966d9cd02    25054         23   \n",
       "\n",
       "                                                    segments  \\\n",
       "_id                                                            \n",
       "0ce81a1e-f3c2-02d4-8fd1-49307ad26c1b  [High Discount Seeker]   \n",
       "4d88c2e9-fb30-2fda-4b23-807b08457cf0       [High Cart Value]   \n",
       "fad0c0a5-8ec6-721e-8180-d902cf1fa86d                   [NCR]   \n",
       "c1e9d162-7349-ee0f-556d-264aca508b47       [High Cart Value]   \n",
       "18a3b227-a9e6-412d-25c9-771966d9cd02                      []   \n",
       "\n",
       "                                      total_discount_revenue  \n",
       "_id                                                           \n",
       "0ce81a1e-f3c2-02d4-8fd1-49307ad26c1b                14400.53  \n",
       "4d88c2e9-fb30-2fda-4b23-807b08457cf0                10092.86  \n",
       "fad0c0a5-8ec6-721e-8180-d902cf1fa86d                 6742.20  \n",
       "c1e9d162-7349-ee0f-556d-264aca508b47                 4223.90  \n",
       "18a3b227-a9e6-412d-25c9-771966d9cd02                 5762.42  "
      ]
     },
     "execution_count": 68,
     "metadata": {},
     "output_type": "execute_result"
    }
   ],
   "source": [
    "df.head()"
   ]
  },
  {
   "cell_type": "code",
   "execution_count": 25,
   "metadata": {
    "scrolled": true
   },
   "outputs": [
    {
     "name": "stdout",
     "output_type": "stream",
     "text": [
      "<class 'pandas.core.frame.DataFrame'>\n",
      "Index: 50 entries, 0ce81a1e-f3c2-02d4-8fd1-49307ad26c1b to cb218c15-d6ab-46da-4de2-3f9b107f921e\n",
      "Data columns (total 15 columns):\n",
      "Avg Order Value             50 non-null float64\n",
      "City                        50 non-null object\n",
      "days_since_last_purchase    50 non-null int64\n",
      "discount_percentage         50 non-null int64\n",
      "email_unsubscribe           50 non-null bool\n",
      "f_score                     50 non-null int64\n",
      "lifecycle                   50 non-null object\n",
      "m_score                     50 non-null int64\n",
      "name                        50 non-null object\n",
      "num_of_orders               50 non-null int64\n",
      "r_score                     50 non-null int64\n",
      "revenue                     50 non-null int64\n",
      "rfm_score                   50 non-null int64\n",
      "segments                    50 non-null object\n",
      "total_discount_revenue      50 non-null float64\n",
      "dtypes: bool(1), float64(2), int64(8), object(4)\n",
      "memory usage: 5.9+ KB\n"
     ]
    }
   ],
   "source": [
    "df.info()"
   ]
  },
  {
   "cell_type": "code",
   "execution_count": 45,
   "metadata": {},
   "outputs": [
    {
     "name": "stdout",
     "output_type": "stream",
     "text": [
      "avg_revenue for all customer is 2840.2725987993995\n"
     ]
    }
   ],
   "source": [
    "#################\n",
    "# AVG \n",
    "################$\n",
    "agg_name = \"avg_revenue\"\n",
    "agg_type = \"avg\"\n",
    "field_name = \"revenue\"\n",
    "\n",
    "query = {\n",
    "     \"size\": 0,\n",
    "     \"aggs\" : {\n",
    "        agg_name : { agg_type : { \"field\" : field_name } }\n",
    "    }\n",
    "}\n",
    "res = es.search(index=INDEX, body=json.dumps(query))\n",
    "print(\"{} for all customer is {}\".format(agg_name, res['aggregations'][agg_name]['value']))"
   ]
  },
  {
   "cell_type": "markdown",
   "metadata": {},
   "source": [
    "#### Fielddata error\n",
    "Fielddata is disabled on text fields by default.\n",
    "```PUT /eda_xsmall/_mapping/City?update_all_types\n",
    "{\n",
    "\"properties\": {\n",
    "\"City\": {\n",
    "\"type\": \"text\",\n",
    "\"fielddata\": true\n",
    "}\n",
    "}\n",
    "}\n",
    "```"
   ]
  },
  {
   "cell_type": "code",
   "execution_count": 44,
   "metadata": {},
   "outputs": [
    {
     "name": "stdout",
     "output_type": "stream",
     "text": [
      "city_count for all customer is 20\n"
     ]
    }
   ],
   "source": [
    "#############################\n",
    "## Cardinality Aggregation \n",
    "#############################\n",
    "## A single-value metrics aggregation that calculates an \n",
    "## approximate count of distinct values. \n",
    "\n",
    "agg_name = \"city_count\"\n",
    "agg_type = \"cardinality\"\n",
    "field_name = \"City\"\n",
    "\n",
    "query = {\n",
    "     \"size\": 0,\n",
    "     \"aggs\" : {\n",
    "        agg_name : {\n",
    "            agg_type : {\n",
    "                \"field\" : field_name\n",
    "            }\n",
    "        }\n",
    "    }\n",
    "}\n",
    "res = es.search(index=INDEX, body=json.dumps(query))\n",
    "print(\"{} for all customer is {}\".format(agg_name, res['aggregations'][agg_name]['value']))"
   ]
  },
  {
   "cell_type": "markdown",
   "metadata": {},
   "source": [
    "### Extended Stats Aggregation\n",
    "A multi-value metrics aggregation that computes stats over numeric values extracted from the aggregated documents. These values can be extracted either from specific numeric fields in the documents, or be generated by a provided script.\n",
    "\n",
    "```\n",
    "{\n",
    "    \"aggs\" : {\n",
    "        agg_name : { \"extended_stats\" : { \"field\" : field_name } }\n",
    "    }\n",
    "}\n",
    "\n",
    "```\n",
    "\n",
    "> **Standard Deviation and Bounds require normality**\n",
    "\n",
    ">The standard deviation and its bounds are displayed by default, but they are not always applicable to all data-sets. Your data must be normally distributed for the metrics to make sense. The statistics behind standard deviations assumes normally distributed data, so if your data is skewed heavily left or right, the value returned will be misleading."
   ]
  },
  {
   "cell_type": "code",
   "execution_count": 43,
   "metadata": {},
   "outputs": [
    {
     "name": "stdout",
     "output_type": "stream",
     "text": [
      "std_deviation_bounds: {'lower': -11967.630876011537, 'upper': 17648.176073610335}\n",
      "min: 0.0\n",
      "sum: 227108197.0\n",
      "std_deviation: 7403.9517374054685\n",
      "max: 99811.0\n",
      "avg: 2840.2725987993995\n",
      "sum_of_squares: 5028336555235.0\n",
      "count: 79960\n",
      "variance: 54818501.32982946\n"
     ]
    }
   ],
   "source": [
    "#############################\n",
    "## Extended Stats Aggregation \n",
    "#############################\n",
    "agg_name = \"stats_for_revenue\"\n",
    "agg_type = \"extended_stats\"\n",
    "field_name = \"revenue\"\n",
    "\n",
    "query = {\n",
    "     \"size\": 0,\n",
    "    \"aggs\" : {\n",
    "        agg_name : {\n",
    "            agg_type : {\n",
    "                \"field\" : field_name\n",
    "            }\n",
    "        }\n",
    "    }\n",
    "}\n",
    "res = es.search(index=INDEX, body=json.dumps(query))\n",
    "for key, value in (res['aggregations'][agg_name]).items():\n",
    "    print(\"{}: {}\".format(key, value))"
   ]
  },
  {
   "cell_type": "markdown",
   "metadata": {},
   "source": [
    "### Percentiles Aggregation & Ranks\n",
    "A multi-value metrics aggregation that calculates one or more percentiles over numeric values extracted from the aggregated documents. "
   ]
  },
  {
   "cell_type": "code",
   "execution_count": 52,
   "metadata": {},
   "outputs": [
    {
     "name": "stdout",
     "output_type": "stream",
     "text": [
      "90.0: 6133.646676456798\n",
      "60.0: 1101.6169794607754\n",
      "20.0: 0.0\n",
      "80.0: 2404.950590653953\n",
      "10.0: 0.0\n",
      "40.0: 682.1919102473319\n",
      "30.0: 332.3090476990202\n",
      "70.0: 1489.452100819937\n",
      "50.0: 903.3986023022348\n"
     ]
    }
   ],
   "source": [
    "#############################\n",
    "## Percentiles Aggregation \n",
    "#############################\n",
    "agg_name = \"revenue_percentiles\"\n",
    "agg_type = \"percentiles\"\n",
    "field_name = \"revenue\"\n",
    "\n",
    "query =   {\n",
    "    \"size\": 0,\n",
    "    \"aggs\" : {\n",
    "        agg_name : {\n",
    "            agg_type : {\n",
    "                \"field\" : field_name,\n",
    "                \"percents\" : [10,20,30,40,50,60,70,80,90] \n",
    "            }\n",
    "        }\n",
    "    }\n",
    "}\n",
    "\n",
    "res = es.search(index=INDEX, body=query)\n",
    "\n",
    "for key, value in res['aggregations'][agg_name]['values'].items():\n",
    "        print(str(key) + \": \" + str(value))\n",
    "        \n",
    "        "
   ]
  },
  {
   "cell_type": "code",
   "execution_count": 58,
   "metadata": {},
   "outputs": [
    {
     "name": "stdout",
     "output_type": "stream",
     "text": [
      "1000.0: 54.9574620552982\n",
      "20000.0: 96.67190164683117\n"
     ]
    }
   ],
   "source": [
    "#############################\n",
    "## Percentiles Rank \n",
    "#############################\n",
    "agg_name = \"Revenue Percentile Rank\"\n",
    "agg_type = \"percentile_ranks\"\n",
    "field_name = \"revenue\"\n",
    "\n",
    "query =   {\n",
    "    \"size\": 0,\n",
    "    \"aggs\" : {\n",
    "        agg_name : {\n",
    "            agg_type : {\n",
    "                \"field\" : field_name,\n",
    "                \"values\" : [1000,20000] \n",
    "            }\n",
    "        }\n",
    "    }\n",
    "}\n",
    "\n",
    "res = es.search(index=INDEX, body=query)\n",
    "\n",
    "for key, value in res['aggregations'][agg_name]['values'].items():\n",
    "        print(str(key) + \": \" + str(value))\n",
    "        "
   ]
  },
  {
   "cell_type": "markdown",
   "metadata": {},
   "source": [
    "## Sum Aggregation\n",
    "Metrics aggregation that sums up numeric values that are extracted from the aggregated documents. These values can be extracted either from specific numeric fields in the documents, or be generated by a provided script.\n",
    "\n"
   ]
  },
  {
   "cell_type": "code",
   "execution_count": 87,
   "metadata": {},
   "outputs": [
    {
     "name": "stdout",
     "output_type": "stream",
     "text": [
      "Stats for Customers from Surat\n",
      "------------------------------\n",
      "avg: 2874.2712418300653\n",
      "min: 0.0\n",
      "sum: 11433851.0\n",
      "count: 3978\n",
      "max: 98725.0\n"
     ]
    }
   ],
   "source": [
    "#############################\n",
    "## SUM AGGREGATION\n",
    "#############################\n",
    "agg_name = \"Avg. Noida_Revenue\"\n",
    "agg_type = \"stats\"\n",
    "field_name = \"revenue\"\n",
    "searchcity =\"Surat\"\n",
    "\n",
    "query = {\n",
    "    \"size\": 0,\n",
    "    \"query\" : {\n",
    "        \"constant_score\" : {\n",
    "            \"filter\" : {\n",
    "                \"match\" : { \"City\" : searchcity }\n",
    "            }\n",
    "        }\n",
    "    },\n",
    "    \"aggs\" : {\n",
    "       agg_name  : { agg_type : { \"field\" : field_name } }\n",
    "    }\n",
    "}\n",
    "res = es.search(index=INDEX, body=query)\n",
    "print(\"Stats for Customers from {}\". format(searchcity))\n",
    "print(\"------------------------------\")\n",
    "for key, value in res['aggregations'][agg_name].items():\n",
    "        print(str(key) + \": \" + str(value))"
   ]
  }
 ],
 "metadata": {
  "celltoolbar": "Slideshow",
  "kernelspec": {
   "display_name": "Python 3",
   "language": "python",
   "name": "python3"
  },
  "language_info": {
   "codemirror_mode": {
    "name": "ipython",
    "version": 3
   },
   "file_extension": ".py",
   "mimetype": "text/x-python",
   "name": "python",
   "nbconvert_exporter": "python",
   "pygments_lexer": "ipython3",
   "version": "3.5.2"
  }
 },
 "nbformat": 4,
 "nbformat_minor": 2
}
