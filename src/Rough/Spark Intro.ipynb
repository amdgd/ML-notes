{
 "cells": [
  {
   "cell_type": "code",
   "execution_count": 8,
   "metadata": {},
   "outputs": [
    {
     "name": "stdout",
     "output_type": "stream",
     "text": [
      "/home/jovyan/work/Rough\r\n"
     ]
    }
   ],
   "source": [
    "!pwd"
   ]
  },
  {
   "cell_type": "code",
   "execution_count": 21,
   "metadata": {},
   "outputs": [],
   "source": [
    "from pyspark.sql import SparkSession\n",
    "spark = SparkSession.builder.appName('Basics').getOrCreate()\n",
    "car_dataset_url ='/home/jovyan/work/car_ad.csv'\n",
    "df = spark.read.csv(car_dataset_url, header=True)"
   ]
  },
  {
   "cell_type": "code",
   "execution_count": 22,
   "metadata": {},
   "outputs": [
    {
     "name": "stdout",
     "output_type": "stream",
     "text": [
      "+-------------+---------+---------+-------+----+-------+------------+----+-------+-----+\n",
      "|          car|    price|     body|mileage|engV|engType|registration|year|  model|drive|\n",
      "+-------------+---------+---------+-------+----+-------+------------+----+-------+-----+\n",
      "|         Ford|    15500|crossover|     68| 2.5|    Gas|         yes|2010|   Kuga| full|\n",
      "|Mercedes-Benz|    20500|    sedan|    173| 1.8|    Gas|         yes|2011|E-Class| rear|\n",
      "|Mercedes-Benz|    35000|    other|    135| 5.5| Petrol|         yes|2008| CL 550| rear|\n",
      "|Mercedes-Benz|    17800|      van|    162| 1.8| Diesel|         yes|2012|  B 180|front|\n",
      "|Mercedes-Benz|    33000|    vagon|     91|  NA|  Other|         yes|2013|E-Class| null|\n",
      "|       Nissan|    16600|crossover|     83|   2| Petrol|         yes|2013|X-Trail| full|\n",
      "|        Honda|     6500|    sedan|    199|   2| Petrol|         yes|2003| Accord|front|\n",
      "|      Renault|    10500|    vagon|    185| 1.5| Diesel|         yes|2011| Megane|front|\n",
      "|Mercedes-Benz|    21500|    sedan|    146| 1.8|    Gas|         yes|2012|E-Class| rear|\n",
      "|Mercedes-Benz|    22700|    sedan|    125| 2.2| Diesel|         yes|2010|E-Class| rear|\n",
      "|       Nissan|20447.154|crossover|      0| 1.2| Petrol|         yes|2016|Qashqai|front|\n",
      "|Mercedes-Benz|    20400|    sedan|    190| 1.8|    Gas|         yes|2011|E-Class| rear|\n",
      "|Mercedes-Benz|    22500|    sedan|    164| 1.8|    Gas|         yes|2012|E-Class| rear|\n",
      "|          BMW|     4700|    sedan|    200|  NA| Petrol|         yes|1996|    316| rear|\n",
      "|Mercedes-Benz|    21500|    sedan|    159| 1.8|    Gas|         yes|2012|E-Class| rear|\n",
      "+-------------+---------+---------+-------+----+-------+------------+----+-------+-----+\n",
      "only showing top 15 rows\n",
      "\n"
     ]
    }
   ],
   "source": [
    "df.show(15)"
   ]
  },
  {
   "cell_type": "code",
   "execution_count": 23,
   "metadata": {},
   "outputs": [
    {
     "name": "stdout",
     "output_type": "stream",
     "text": [
      "root\n",
      " |-- car: string (nullable = true)\n",
      " |-- price: string (nullable = true)\n",
      " |-- body: string (nullable = true)\n",
      " |-- mileage: string (nullable = true)\n",
      " |-- engV: string (nullable = true)\n",
      " |-- engType: string (nullable = true)\n",
      " |-- registration: string (nullable = true)\n",
      " |-- year: string (nullable = true)\n",
      " |-- model: string (nullable = true)\n",
      " |-- drive: string (nullable = true)\n",
      "\n"
     ]
    }
   ],
   "source": [
    "df.printSchema()"
   ]
  },
  {
   "cell_type": "code",
   "execution_count": 24,
   "metadata": {},
   "outputs": [
    {
     "data": {
      "text/plain": [
       "['car',\n",
       " 'price',\n",
       " 'body',\n",
       " 'mileage',\n",
       " 'engV',\n",
       " 'engType',\n",
       " 'registration',\n",
       " 'year',\n",
       " 'model',\n",
       " 'drive']"
      ]
     },
     "execution_count": 24,
     "metadata": {},
     "output_type": "execute_result"
    }
   ],
   "source": [
    "df.columns"
   ]
  },
  {
   "cell_type": "code",
   "execution_count": 25,
   "metadata": {},
   "outputs": [
    {
     "name": "stdout",
     "output_type": "stream",
     "text": [
      "+-------+-----+------------------+---------+-----------------+-----------------+-------+------------+------------------+------------------+-----+\n",
      "|summary|  car|             price|     body|          mileage|             engV|engType|registration|              year|             model|drive|\n",
      "+-------+-----+------------------+---------+-----------------+-----------------+-------+------------+------------------+------------------+-----+\n",
      "|  count| 9576|              9576|     9576|             9576|             9576|   9576|        9576|              9576|              9576| 9065|\n",
      "|   mean| null|15633.317315961785|     null|138.8623642439432|2.646344344782306|   null|        null|2006.6059941520468|2747.7056752873564| null|\n",
      "| stddev| null|24106.523435656214|     null|98.62975395449988|5.927699368554418|   null|        null| 7.067924205743787| 9920.775922036484| null|\n",
      "|    min|Acura|                 0|crossover|                0|              0.1| Diesel|          no|              1953|          1 Series|front|\n",
      "|    max| �UAZ|             99999|      van|              999|               NA| Petrol|         yes|              2016|      ������������| rear|\n",
      "+-------+-----+------------------+---------+-----------------+-----------------+-------+------------+------------------+------------------+-----+\n",
      "\n"
     ]
    }
   ],
   "source": [
    "df.describe().show()"
   ]
  }
 ],
 "metadata": {
  "kernelspec": {
   "display_name": "Python 3",
   "language": "python",
   "name": "python3"
  },
  "language_info": {
   "codemirror_mode": {
    "name": "ipython",
    "version": 3
   },
   "file_extension": ".py",
   "mimetype": "text/x-python",
   "name": "python",
   "nbconvert_exporter": "python",
   "pygments_lexer": "ipython3",
   "version": "3.5.2"
  }
 },
 "nbformat": 4,
 "nbformat_minor": 2
}
