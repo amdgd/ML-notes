{
 "cells": [
  {
   "cell_type": "code",
   "execution_count": 2,
   "metadata": {
    "collapsed": true
   },
   "outputs": [],
   "source": [
    "import ipywidgets as wg\n",
    "from IPython.display import display"
   ]
  },
  {
   "cell_type": "markdown",
   "metadata": {},
   "source": [
    "### Numeric Widgets"
   ]
  },
  {
   "cell_type": "code",
   "execution_count": 4,
   "metadata": {
    "collapsed": false
   },
   "outputs": [],
   "source": [
    "f_s = wg.FloatSlider(value=5, min=0, max=10.0, step=0.001, \n",
    "                    description='FSlider: ', readout_format='.3f')\n",
    "\n",
    "i_s = wg.IntSlider(value=5, min=0, max=10.0, step=0.001, \n",
    "                  description='ISlider: ')\n",
    "\n",
    "i_rs = wg.IntRangeSlider(value=[2, 8], min=0, max=10, step=1, description='IRSlider:')\n",
    "\n",
    "f_rs = wg.FloatRangeSlider(value=[2, 8], min=0, max=10, step=0.01,  \n",
    "                           description='FRSlider:', readout_format='.2f')\n",
    "\n",
    "#----------------------\n",
    "\n",
    "i_p = wg.IntProgress(value=5,min=0,max=10,description='IProg:',\n",
    "                     bar_style='') # 'success', 'info', 'warning', 'danger' or '')\n",
    "                    \n",
    "f_p = wg.FloatProgress(value=7,min=0,max=10,step=0.1,description='FProg:',\n",
    "                       bar_style='') # 'success', 'info', 'warning', 'danger' or '')\n",
    "\n",
    "#---------------------\n",
    "\n",
    "i_t  = wg.IntText(value=5, description='int text: ')\n",
    "\n",
    "f_t  = wg.FloatText(value=5.5, step=0.1, description='float text: ')\n",
    "\n",
    "b_it = wg.BoundedIntText(value=5,min=0,max=10,description='bounded int:')\n",
    "\n",
    "b_ft = wg.BoundedFloatText(value=5,min=0,max=10,step=0.001, description='bounded float:')\n",
    "\n",
    "\n",
    "######################\n",
    "\n",
    "\n",
    "display(f_s, i_s, i_rs, f_rs, \n",
    "        i_p, f_p,\n",
    "        i_t, f_t, b_it, b_ft)\n"
   ]
  },
  {
   "cell_type": "markdown",
   "metadata": {},
   "source": [
    "### Get the values\n",
    "\n",
    "Adjust the above sliders or boxes and then run the cell below. Then adjust, and run. The values are updated without rerunning the above cell."
   ]
  },
  {
   "cell_type": "code",
   "execution_count": 233,
   "metadata": {
    "collapsed": false
   },
   "outputs": [
    {
     "name": "stdout",
     "output_type": "stream",
     "text": [
      "value of the FSlider: 2.442\n",
      "value of the float text: 72.5\n"
     ]
    }
   ],
   "source": [
    "y = f_s.value\n",
    "z = f_t.value\n",
    "\n",
    "print(\"value of the FSlider:\", y)\n",
    "print(\"value of the float text:\", z)"
   ]
  },
  {
   "cell_type": "markdown",
   "metadata": {},
   "source": [
    "### Boolean Widgets"
   ]
  },
  {
   "cell_type": "code",
   "execution_count": 234,
   "metadata": {
    "collapsed": false
   },
   "outputs": [],
   "source": [
    "t_b = wg.ToggleButton(value=False, description='toggle button: ', \n",
    "                      button_style='info') # 'success', 'info', 'warning', 'danger', or ''\n",
    "\n",
    "c_b = wg.Checkbox(value=True, description='check box')\n",
    "\n",
    "v   = wg.Valid(value=False, description='Valid!')  \n",
    "\n",
    "\n",
    "######################\n",
    "\n",
    "\n",
    "display(t_b, c_b, v)"
   ]
  },
  {
   "cell_type": "markdown",
   "metadata": {},
   "source": [
    "### Selection Widgets"
   ]
  },
  {
   "cell_type": "code",
   "execution_count": 235,
   "metadata": {
    "collapsed": false
   },
   "outputs": [],
   "source": [
    "dd1 = wg.Dropdown(options=['1','2','3','4'], value='2', \n",
    "                  description='Dropbox',\n",
    "                  button_style='')\n",
    "\n",
    "dd2 = wg.Dropdown(options={'cat':1,'dog':2,'pig':3}, value=2,\n",
    "                  description='Dropbox',\n",
    "                  button_style='')\n",
    "\n",
    "radio = wg.RadioButtons(options=['car', 'bike', 'run', 'motorcycle', 'longboard'],\n",
    "                        value='run', description='radioButt')\n",
    "\n",
    "sel = wg.Select(options=['atari', 'nintendo', 'sega', 'PS', 'Xbox'], value='atari',\n",
    "                description='Select')\n",
    "\n",
    "sel_sdr = wg.SelectionSlider(options=['pancakes', 'plita', 'crepes', 'waffles'],\n",
    "                             value = 'plita', description='sel_sldr')\n",
    "\n",
    "tog = wg.ToggleButtons(options=['low', 'med', 'high', 'scary'],\n",
    "                       description='ToggleB',\n",
    "                       button_style='', # 'success', 'info', 'warning', 'danger' or ''\n",
    "                       tooltip='Description')\n",
    "\n",
    "sel_m = wg.SelectMultiple(options=['carrots', 'peas', 'brocc', 'spinach'],\n",
    "                          value=['carrots', 'brocc'],\n",
    "                          description='select several', disabled=False)\n",
    "\n",
    "\n",
    "#######################\n",
    "\n",
    "display(dd1, dd2, radio, sel, sel_sdr, tog, sel_m)"
   ]
  },
  {
   "cell_type": "code",
   "execution_count": 238,
   "metadata": {
    "collapsed": false
   },
   "outputs": [
    {
     "name": "stdout",
     "output_type": "stream",
     "text": [
      "motorcycle\n"
     ]
    }
   ],
   "source": [
    "my_radio_selection = radio.value\n",
    "print(my_radio_selection)"
   ]
  },
  {
   "cell_type": "markdown",
   "metadata": {},
   "source": [
    "### String Widgets"
   ]
  },
  {
   "cell_type": "code",
   "execution_count": 214,
   "metadata": {
    "collapsed": false
   },
   "outputs": [],
   "source": [
    "txt = wg.Text(placeholder='Enter something', description='textBox')\n",
    "\n",
    "ta  = wg.Textarea(placeholder='Enter something', description='textArea')\n",
    "\n",
    "lab = wg.Label(value=\"Here is some equation label: $$\\\\frac{n!}{k!(n-k)!} = \\\\binom{n}{k}$$\",\n",
    "               placeholder='Some LaTeX', description='Some LaTeX', disabled=False )\n",
    "\n",
    "html = wg.HTML(value=\"An HTML formatted <b>Label:</b> cool!\",\n",
    "               placeholder='Some HTML',description='Some HTML',\n",
    "               disabled=False )\n",
    "\n",
    "\n",
    "file = open(\"byulogo2.gif\", \"rb\")\n",
    "image = file.read()\n",
    "img = wg.Image(value=image, format='gif', width=200, height=200)\n",
    "\n",
    "\n",
    "butt = wg.Button(description='Click me',\n",
    "                 button_style='') # 'success', 'info', 'warning', 'danger' or ''\n",
    "\n",
    "\n",
    "play = wg.Play(\n",
    "#     interval=10,\n",
    "    value=50,\n",
    "    min=0,\n",
    "    max=100,\n",
    "    step=1,\n",
    "    description=\"Press play\",\n",
    "    disabled=False\n",
    ")\n",
    "slider = wg.IntSlider()\n",
    "wg.jslink((play, 'value'), (slider, 'value'))\n",
    "wg.HBox([play, slider])\n",
    "\n",
    "\n",
    "cp = wg.ColorPicker(concise=False, description='Pick color', value='blue')\n",
    "\n",
    "cont = wg.Controller(index=0)\n",
    "\n",
    "#########################\n",
    "\n",
    "\n",
    "display(txt, ta, lab, html, butt, img, play, cp, cont)"
   ]
  },
  {
   "cell_type": "markdown",
   "metadata": {},
   "source": [
    "### Layout Widgets"
   ]
  },
  {
   "cell_type": "code",
   "execution_count": 225,
   "metadata": {
    "collapsed": false
   },
   "outputs": [],
   "source": [
    "items = [wg.Label(str(i)) for i in range(10)]\n",
    "hbox  = wg.HBox(items)\n",
    "\n",
    "items = [wg.Label(str(i)) for i in range(4)]\n",
    "vbox  = wg.HBox([wg.VBox([items[0], items[1]]), wg.VBox([items[2], items[3]])])\n",
    "\n",
    "\n",
    "#######################\n",
    "\n",
    "display(hbox, vbox)"
   ]
  },
  {
   "cell_type": "code",
   "execution_count": 226,
   "metadata": {
    "collapsed": false
   },
   "outputs": [],
   "source": [
    "accordion = wg.Accordion(children=[wg.IntSlider(), wg.Text()])\n",
    "accordion.set_title(0, 'Slider')\n",
    "accordion.set_title(1, 'Text')\n",
    "accordion"
   ]
  },
  {
   "cell_type": "code",
   "execution_count": 227,
   "metadata": {
    "collapsed": true
   },
   "outputs": [],
   "source": [
    "list = ['P0', 'P1', 'P2', 'P3', 'P4']\n",
    "children = [wg.Text(description=name) for name in list]\n",
    "tab = wg.Tab(children=children)\n",
    "tab"
   ]
  },
  {
   "cell_type": "code",
   "execution_count": null,
   "metadata": {
    "collapsed": true
   },
   "outputs": [],
   "source": []
  }
 ],
 "metadata": {
  "kernelspec": {
   "display_name": "Python 3",
   "language": "python",
   "name": "python3"
  },
  "language_info": {
   "codemirror_mode": {
    "name": "ipython",
    "version": 3
   },
   "file_extension": ".py",
   "mimetype": "text/x-python",
   "name": "python",
   "nbconvert_exporter": "python",
   "pygments_lexer": "ipython3",
   "version": "3.5.2"
  },
  "widgets": {
   "state": {
    "12e67340b8df44b0be1ad358ea6946bb": {
     "views": [
      {
       "cell_index": 2
      }
     ]
    },
    "2b11bf2c1f0046168f54b32ab112c7ce": {
     "views": [
      {
       "cell_index": 2
      }
     ]
    },
    "37b1c68dbf6f4e7693ba01abcee3733d": {
     "views": [
      {
       "cell_index": 2
      }
     ]
    },
    "4befdf0529684577b341073bc4cc1adf": {
     "views": [
      {
       "cell_index": 2
      }
     ]
    },
    "55088f38912a45db867b97cc9c4c1614": {
     "views": [
      {
       "cell_index": 2
      }
     ]
    },
    "552dae0678d543da91c86631de4fe031": {
     "views": [
      {
       "cell_index": 2
      }
     ]
    },
    "5d4c551e25c443cdbb87a96ccda74643": {
     "views": [
      {
       "cell_index": 2
      }
     ]
    },
    "61590f71ae8149fba2b98fa480b8681c": {
     "views": [
      {
       "cell_index": 2
      }
     ]
    },
    "6f7baa86a47e4387a35f3c2602805587": {
     "views": [
      {
       "cell_index": 2
      }
     ]
    },
    "7cccaa54c4414b0db3498019a5097f08": {
     "views": [
      {
       "cell_index": 2
      }
     ]
    },
    "83be3fa67af7413d94d4bb54797ae89c": {
     "views": [
      {
       "cell_index": 2
      }
     ]
    },
    "8d008bb6148d41bf869747659f967460": {
     "views": [
      {
       "cell_index": 2
      }
     ]
    },
    "c687d4d111434adab402ed9d855b5493": {
     "views": [
      {
       "cell_index": 2
      }
     ]
    },
    "d6146642feb54036887632e5c91ed18a": {
     "views": [
      {
       "cell_index": 2
      }
     ]
    },
    "e894bfd51b7249538e11de29f57768c6": {
     "views": [
      {
       "cell_index": 2
      }
     ]
    }
   },
   "version": "1.2.0"
  }
 },
 "nbformat": 4,
 "nbformat_minor": 0
}
