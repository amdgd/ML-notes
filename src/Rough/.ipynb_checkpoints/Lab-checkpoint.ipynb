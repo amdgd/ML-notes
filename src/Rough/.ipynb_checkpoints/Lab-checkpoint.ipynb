{
 "cells": [
  {
   "cell_type": "markdown",
   "metadata": {},
   "source": [
    "# The future of Jupyter: Jupyter Lab\n",
    "\n",
    "## https://github.com/jupyter/jupyter-js-plugins\n",
    "\n",
    "**Jupyter Lab**\n",
    "\n",
    "The future of Jupyter: a full-fledged IDE providing a desktop-like experience of the web.\n",
    "\n",
    " - Text editor\n",
    " - Notebooks\n",
    " - File explorer\n",
    " - RIch Layout\n",
    " - Debugging\n",
    " - Console\n",
    " - Classical REPL\n",
    " - Dashboarding\n",
    " - Documentation browser\n",
    "\n",
    "**People**\n",
    "\n",
    "<table border=\"1\" style=\"width: 100%\">\n",
    "  <tr>\n",
    "    <td><img src='./steve.jpeg' style='height: 170px'/></td>\n",
    "    <td><img src='./chris.jpeg'  style='height: 170px'/></td>\n",
    "    <td></td>\n",
    "    <td><img src='./minrk.jpeg'  style='height: 170px'/></td>\n",
    "    <td><img src='./jason.jpeg'  style='height: 170px'/></td>\n",
    "    <td></td>\n",
    "    <td></td>\n",
    "    <td><img src='./brian.jpeg'  style='height: 150px'/></td>\n",
    "    <td><img src='./fernando.jpeg'  style='height: 150px'/></td>\n",
    "  </tr>\n",
    "  <tr>\n",
    "    <td>Steven</td>\n",
    "    <td>Chris</td> \n",
    "    <td>Dave</td>\n",
    "    <td>Min</td>\n",
    "    <td>Jason</td>\n",
    "    <td>Matthias</td>\n",
    "    <td>Afshin</td>\n",
    "    <td>Brian</td>\n",
    "    <td>Fernando</td>\n",
    "  </tr>\n",
    "</table>"
   ]
  },
  {
   "cell_type": "markdown",
   "metadata": {},
   "source": [
    "![Lab](jupyter-plugins-demo.gif)"
   ]
  },
  {
   "cell_type": "code",
   "execution_count": null,
   "metadata": {
    "collapsed": true
   },
   "outputs": [],
   "source": []
  }
 ],
 "metadata": {
  "kernelspec": {
   "display_name": "Python 2",
   "language": "python",
   "name": "python2"
  },
  "language_info": {
   "codemirror_mode": {
    "name": "ipython",
    "version": 2
   },
   "file_extension": ".py",
   "mimetype": "text/x-python",
   "name": "python",
   "nbconvert_exporter": "python",
   "pygments_lexer": "ipython2",
   "version": "2.7.11"
  },
  "widgets": {
   "state": {},
   "version": "1.1.1"
  }
 },
 "nbformat": 4,
 "nbformat_minor": 1
}
