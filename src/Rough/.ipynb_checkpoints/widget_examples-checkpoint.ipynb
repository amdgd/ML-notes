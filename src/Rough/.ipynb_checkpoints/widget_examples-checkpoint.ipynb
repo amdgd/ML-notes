{
 "cells": [
  {
   "cell_type": "code",
   "execution_count": 2,
   "metadata": {
    "collapsed": true
   },
   "outputs": [],
   "source": [
    "import ipywidgets as wg\n",
    "from IPython.display import display "
   ]
  },
  {
   "cell_type": "code",
   "execution_count": 5,
   "metadata": {
    "collapsed": true
   },
   "outputs": [],
   "source": [
    "name = wg.Text(value='Name')\n",
    "age = wg.IntSlider(description='Age:')\n",
    "display(name,age)"
   ]
  },
  {
   "cell_type": "code",
   "execution_count": 10,
   "metadata": {
    "collapsed": false
   },
   "outputs": [
    {
     "name": "stdout",
     "output_type": "stream",
     "text": [
      "John is 39 years old\n"
     ]
    }
   ],
   "source": [
    "print(name.value + ' is ' + str(age.value) + ' years old')"
   ]
  },
  {
   "cell_type": "code",
   "execution_count": 14,
   "metadata": {
    "collapsed": true
   },
   "outputs": [],
   "source": [
    "a = wg.FloatText()\n",
    "b = wg.FloatSlider()\n",
    "display(a,b)\n",
    "mylink = wg.jslink((a,'value'),(b,'value'))"
   ]
  },
  {
   "cell_type": "code",
   "execution_count": 16,
   "metadata": {
    "collapsed": false
   },
   "outputs": [],
   "source": [
    "import numpy as np\n",
    "%matplotlib inline\n",
    "import matplotlib.pyplot as plt\n",
    "\n",
    "def myPlot(c):\n",
    "    x = np.linspace(-5,5,20)\n",
    "    y = c * x**2\n",
    "    plt.plot(x,y,'r--')\n",
    "    plt.ylabel('y(x)')\n",
    "    plt.xlabel('x')\n",
    "    plt.ylim([0,80])\n",
    "    plt.xlim([-5,5])"
   ]
  },
  {
   "cell_type": "code",
   "execution_count": 19,
   "metadata": {
    "collapsed": false
   },
   "outputs": [
    {
     "data": {
      "image/png": "[encoded data removed]",
      "text/plain": [
       "<matplotlib.figure.Figure at 0x17ee78ea828>"
      ]
     },
     "metadata": {},
     "output_type": "display_data"
    }
   ],
   "source": [
    "c_slide = wg.FloatSlider(value=1.0,min=0,max=3.0,step=0.1)\n",
    "wg.interact(myPlot, c=c_slide)"
   ]
  },
  {
   "cell_type": "code",
   "execution_count": 21,
   "metadata": {
    "collapsed": false
   },
   "outputs": [
    {
     "data": {
      "text/plain": [
       "['max',\n",
       " '_css',\n",
       " 'description',\n",
       " 'disabled',\n",
       " '_range',\n",
       " 'border_style',\n",
       " 'color',\n",
       " '_model_module',\n",
       " 'width',\n",
       " 'font_style',\n",
       " 'continuous_update',\n",
       " 'margin',\n",
       " '_dom_classes',\n",
       " 'font_family',\n",
       " 'readout',\n",
       " 'border_radius',\n",
       " 'padding',\n",
       " 'visible',\n",
       " 'height',\n",
       " 'border_width',\n",
       " 'border_color',\n",
       " 'value',\n",
       " 'font_weight',\n",
       " 'font_size',\n",
       " 'step',\n",
       " 'min',\n",
       " '_model_name',\n",
       " 'orientation',\n",
       " 'msg_throttle',\n",
       " '_view_name',\n",
       " 'version',\n",
       " '_view_module',\n",
       " 'background_color',\n",
       " 'slider_color']"
      ]
     },
     "execution_count": 21,
     "metadata": {},
     "output_type": "execute_result"
    }
   ],
   "source": [
    "c_slide.keys"
   ]
  },
  {
   "cell_type": "code",
   "execution_count": 24,
   "metadata": {
    "collapsed": false
   },
   "outputs": [
    {
     "data": {
      "text/plain": [
       "{'IPython.Accordion': ipywidgets.widgets.widget_selectioncontainer.Accordion,\n",
       " 'IPython.BoundedFloatText': ipywidgets.widgets.widget_float.BoundedFloatText,\n",
       " 'IPython.BoundedIntText': ipywidgets.widgets.widget_int.BoundedIntText,\n",
       " 'IPython.Box': ipywidgets.widgets.widget_box.Box,\n",
       " 'IPython.Button': ipywidgets.widgets.widget_button.Button,\n",
       " 'IPython.Checkbox': ipywidgets.widgets.widget_bool.Checkbox,\n",
       " 'IPython.ColorPicker': ipywidgets.widgets.widget_color.ColorPicker,\n",
       " 'IPython.Controller': ipywidgets.widgets.widget_controller.Controller,\n",
       " 'IPython.ControllerAxis': ipywidgets.widgets.widget_controller.Axis,\n",
       " 'IPython.ControllerButton': ipywidgets.widgets.widget_controller.Button,\n",
       " 'IPython.Dropdown': ipywidgets.widgets.widget_selection.Dropdown,\n",
       " 'IPython.FlexBox': ipywidgets.widgets.widget_box.FlexBox,\n",
       " 'IPython.FloatProgress': ipywidgets.widgets.widget_float.FloatProgress,\n",
       " 'IPython.FloatRangeSlider': ipywidgets.widgets.widget_float.FloatRangeSlider,\n",
       " 'IPython.FloatSlider': ipywidgets.widgets.widget_float.FloatSlider,\n",
       " 'IPython.FloatText': ipywidgets.widgets.widget_float.FloatText,\n",
       " 'IPython.HTML': ipywidgets.widgets.widget_string.HTML,\n",
       " 'IPython.Image': ipywidgets.widgets.widget_image.Image,\n",
       " 'IPython.IntProgress': ipywidgets.widgets.widget_int.IntProgress,\n",
       " 'IPython.IntRangeSlider': ipywidgets.widgets.widget_int.IntRangeSlider,\n",
       " 'IPython.IntSlider': ipywidgets.widgets.widget_int.IntSlider,\n",
       " 'IPython.IntText': ipywidgets.widgets.widget_int.IntText,\n",
       " 'IPython.Latex': ipywidgets.widgets.widget_string.Latex,\n",
       " 'IPython.PlaceProxy': ipywidgets.widgets.widget_box.PlaceProxy,\n",
       " 'IPython.Proxy': ipywidgets.widgets.widget_box.Proxy,\n",
       " 'IPython.RadioButtons': ipywidgets.widgets.widget_selection.RadioButtons,\n",
       " 'IPython.Select': ipywidgets.widgets.widget_selection.Select,\n",
       " 'IPython.SelectMultiple': ipywidgets.widgets.widget_selection.SelectMultiple,\n",
       " 'IPython.Tab': ipywidgets.widgets.widget_selectioncontainer.Tab,\n",
       " 'IPython.Text': ipywidgets.widgets.widget_string.Text,\n",
       " 'IPython.Textarea': ipywidgets.widgets.widget_string.Textarea,\n",
       " 'IPython.ToggleButton': ipywidgets.widgets.widget_bool.ToggleButton,\n",
       " 'IPython.ToggleButtons': ipywidgets.widgets.widget_selection.ToggleButtons,\n",
       " 'IPython.Valid': ipywidgets.widgets.widget_bool.Valid}"
      ]
     },
     "execution_count": 24,
     "metadata": {},
     "output_type": "execute_result"
    }
   ],
   "source": [
    "wg.Widget.widget_types"
   ]
  },
  {
   "cell_type": "code",
   "execution_count": 26,
   "metadata": {
    "collapsed": true
   },
   "outputs": [],
   "source": [
    "import time\n",
    "progress = wg.IntProgress(description='Loading:')\n",
    "progress.orientation='horizontal' # or vertical\n",
    "display(progress)\n",
    "\n",
    "for i in range(100):\n",
    "    progress.value = i\n",
    "    time.sleep(0.1)\n"
   ]
  }
 ],
 "metadata": {
  "anaconda-cloud": {},
  "kernelspec": {
   "display_name": "Python [Root]",
   "language": "python",
   "name": "Python [Root]"
  },
  "language_info": {
   "codemirror_mode": {
    "name": "ipython",
    "version": 3
   },
   "file_extension": ".py",
   "mimetype": "text/x-python",
   "name": "python",
   "nbconvert_exporter": "python",
   "pygments_lexer": "ipython3",
   "version": "3.5.2"
  }
 },
 "nbformat": 4,
 "nbformat_minor": 0
}
