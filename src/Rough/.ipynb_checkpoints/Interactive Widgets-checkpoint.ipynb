{
 "cells": [
  {
   "cell_type": "markdown",
   "metadata": {},
   "source": [
    "# ipywidgets https://github.com/ipython/ipywidgets\n",
    "\n",
    "## Interactive widgets in the Jupyter notebook\n",
    "\n",
    "The notebook comes alive with the interactive widgets:\n",
    "\n",
    "- Part of the Jupyter project\n",
    "- BSD Licensed\n",
    "- ipywidgets 5.0 released yesterday!\n",
    "\n",
    "**Installation:**\n",
    "\n",
    "```bash\n",
    "conda install -c conda-forge ipywidgets\n",
    "```\n",
    "\n",
    "**People**\n",
    "\n",
    "<table border=\"1\" style=\"width:100%\">\n",
    "  <tr>\n",
    "    <td><img src='./jonathan.jpg' style='height: 170px'/></td>\n",
    "    <td><img src='./sylvain.png' style='height: 170px'/></td> \n",
    "    <td><img src='./jason.jpeg' style='height: 170px'/></td>\n",
    "    <td><img src='./minrk.jpeg' style='height: 170px'/></td>\n",
    "  </tr>\n",
    "  <tr>\n",
    "    <td>Jon</td>\n",
    "    <td>Sylvain</td> \n",
    "    <td>Jason</td>\n",
    "    <td>Min</td>\n",
    "  </tr>\n",
    "</table>"
   ]
  },
  {
   "cell_type": "code",
   "execution_count": 2,
   "metadata": {
    "collapsed": false
   },
   "outputs": [],
   "source": [
    "%matplotlib inline\n",
    "from __future__ import print_function\n",
    "from IPython.display import display\n",
    "import matplotlib.pyplot as plt\n",
    "\n",
    "from ipywidgets import *\n",
    "from traitlets import *\n",
    "\n",
    "import numpy as np\n",
    "import pandas as pd\n",
    "import bqplot as bq\n",
    "import datetime as dt"
   ]
  },
  {
   "cell_type": "code",
   "execution_count": 3,
   "metadata": {
    "collapsed": false
   },
   "outputs": [
    {
     "name": "stdout",
     "output_type": "stream",
     "text": [
      "16\n"
     ]
    }
   ],
   "source": [
    "print(4 * 4)"
   ]
  },
  {
   "cell_type": "code",
   "execution_count": 4,
   "metadata": {
    "collapsed": true
   },
   "outputs": [],
   "source": [
    "def f(x):\n",
    "    print(x * x)"
   ]
  },
  {
   "cell_type": "code",
   "execution_count": 5,
   "metadata": {
    "collapsed": false
   },
   "outputs": [
    {
     "name": "stdout",
     "output_type": "stream",
     "text": [
      "36\n"
     ]
    }
   ],
   "source": [
    "f(6)"
   ]
  },
  {
   "cell_type": "markdown",
   "metadata": {},
   "source": [
    "<img src=\"Flow.svg\"></img>"
   ]
  },
  {
   "cell_type": "code",
   "execution_count": 6,
   "metadata": {
    "collapsed": false
   },
   "outputs": [
    {
     "name": "stdout",
     "output_type": "stream",
     "text": [
      "100\n"
     ]
    }
   ],
   "source": [
    "interact(f, x=10);"
   ]
  },
  {
   "cell_type": "code",
   "execution_count": 7,
   "metadata": {
    "collapsed": false
   },
   "outputs": [
    {
     "name": "stdout",
     "output_type": "stream",
     "text": [
      "2500\n"
     ]
    }
   ],
   "source": [
    "interact(f, x=(0, 100));"
   ]
  },
  {
   "cell_type": "code",
   "execution_count": 8,
   "metadata": {
    "collapsed": false
   },
   "outputs": [
    {
     "name": "stdout",
     "output_type": "stream",
     "text": [
      "100\n"
     ]
    }
   ],
   "source": [
    "interact(f, x=IntSlider(min=0, max=500, value=10, step=2));"
   ]
  },
  {
   "cell_type": "code",
   "execution_count": 9,
   "metadata": {
    "collapsed": false
   },
   "outputs": [
    {
     "data": {
      "image/png": "[encoded data removed]",
      "text/plain": [
       "<matplotlib.figure.Figure at 0x10ed97d50>"
      ]
     },
     "metadata": {},
     "output_type": "display_data"
    }
   ],
   "source": [
    "@interact(title=\"Revenue\", power=(0,10), graph=True, color=('red', 'green', 'blue'))\n",
    "def g(title, power,graph,color):\n",
    "    if graph:\n",
    "        plt.figure(figsize=(10,6))\n",
    "        xdata = np.linspace(0,10,100)\n",
    "        ydata = np.power(xdata, power)\n",
    "        plt.plot(xdata,ydata, c=color, linewidth=3)\n",
    "        plt.title(title)\n",
    "        plt.ylim(0,1e6)\n",
    "    else:\n",
    "        clear_output()\n"
   ]
  },
  {
   "cell_type": "markdown",
   "metadata": {},
   "source": [
    "# Interactive Jupyter widgets"
   ]
  },
  {
   "cell_type": "code",
   "execution_count": 10,
   "metadata": {
    "collapsed": false
   },
   "outputs": [],
   "source": [
    "slider = FloatSlider(\n",
    "    value=7.5,\n",
    "    min=5.0,\n",
    "    max=10.0,\n",
    "    step=0.1,\n",
    "    description='Input:',\n",
    ")\n",
    "\n",
    "slider"
   ]
  },
  {
   "cell_type": "code",
   "execution_count": 11,
   "metadata": {
    "collapsed": false
   },
   "outputs": [
    {
     "data": {
      "text/plain": [
       "7.5"
      ]
     },
     "execution_count": 11,
     "metadata": {},
     "output_type": "execute_result"
    }
   ],
   "source": [
    "slider.value"
   ]
  },
  {
   "cell_type": "code",
   "execution_count": 12,
   "metadata": {
    "collapsed": false
   },
   "outputs": [],
   "source": [
    "text = FloatText(description='Value')\n",
    "dlink((slider, 'value'), (text, 'value'))\n",
    "text"
   ]
  },
  {
   "cell_type": "code",
   "execution_count": 13,
   "metadata": {
    "collapsed": true
   },
   "outputs": [],
   "source": [
    "text = FloatText(description='Returns')\n",
    "\n",
    "def foo(value):\n",
    "    return value * value\n",
    "    \n",
    "dlink((slider, 'value'), (text, 'value'), foo)\n",
    "text"
   ]
  },
  {
   "cell_type": "markdown",
   "metadata": {},
   "source": [
    "Displaying another view of ther same input widget"
   ]
  },
  {
   "cell_type": "code",
   "execution_count": 14,
   "metadata": {
    "collapsed": true
   },
   "outputs": [],
   "source": [
    "text"
   ]
  },
  {
   "cell_type": "markdown",
   "metadata": {},
   "source": [
    "Widgets are represented in the back-end by a single object.  Each time a widget is displayed, a new representation of that same object is created in the front-end.  These representations are called views.\n",
    "\n",
    "![Kernel & front-end diagram](WidgetModelView.png)"
   ]
  },
  {
   "cell_type": "code",
   "execution_count": 7,
   "metadata": {
    "collapsed": false
   },
   "outputs": [
    {
     "data": {
      "text/plain": [
       "[ipywidgets.widgets.widget_int.IntRangeSlider,\n",
       " ipywidgets.widgets.widget_selection.RadioButtons,\n",
       " bqplot.figure.Figure,\n",
       " ipywidgets.widgets.widget_controller.Axis,\n",
       " ipywidgets.widgets.widget_float.FloatSlider,\n",
       " ipywidgets.widgets.widget_int.IntSlider,\n",
       " ipywidgets.widgets.widget_image.Image,\n",
       " ipywidgets.widgets.widget_selection.SelectMultiple,\n",
       " ipywidgets.widgets.widget_string.HTML,\n",
       " ipywidgets.widgets.widget_box.Box,\n",
       " ipywidgets.widgets.widget_float.BoundedFloatText,\n",
       " ipywidgets.widgets.widget_selectioncontainer.Accordion,\n",
       " ipywidgets.widgets.widget_button.Button,\n",
       " ipywidgets.widgets.widget_bool.Valid,\n",
       " ipywidgets.widgets.widget_selection.Dropdown,\n",
       " ipywidgets.widgets.widget_selection.SelectionSlider,\n",
       " ipywidgets.widgets.widget_box.Proxy,\n",
       " ipywidgets.widgets.widget_string.Text,\n",
       " ipywidgets.widgets.widget_selection.ToggleButtons,\n",
       " ipywidgets.widgets.widget_color.ColorPicker,\n",
       " ipywidgets.widgets.widget_float.FloatRangeSlider,\n",
       " ipywidgets.widgets.widget_bool.Checkbox,\n",
       " ipywidgets.widgets.widget_string.Label,\n",
       " ipywidgets.widgets.widget_controller.Controller,\n",
       " ipywidgets.widgets.widget_box.PlaceProxy,\n",
       " ipywidgets.widgets.widget_float.FloatText,\n",
       " ipywidgets.widgets.widget_box.FlexBox,\n",
       " ipywidgets.widgets.widget_link.DirectionalLink,\n",
       " ipywidgets.widgets.widget_bool.ToggleButton,\n",
       " ipywidgets.widgets.widget_selection.Select,\n",
       " ipywidgets.widgets.widget_int.IntProgress,\n",
       " ipywidgets.widgets.widget_string.Textarea,\n",
       " ipywidgets.widgets.widget_selectioncontainer.Tab,\n",
       " ipywidgets.widgets.widget_int.IntText,\n",
       " bqplot.toolbar.Toolbar,\n",
       " ipywidgets.widgets.widget_float.FloatProgress,\n",
       " ipywidgets.widgets.widget_int.BoundedIntText,\n",
       " ipywidgets.widgets.widget_link.Link,\n",
       " ipywidgets.widgets.widget_controller.Button]"
      ]
     },
     "execution_count": 7,
     "metadata": {},
     "output_type": "execute_result"
    }
   ],
   "source": [
    "Widget.widget_types.values()"
   ]
  }
 ],
 "metadata": {
  "kernelspec": {
   "display_name": "Python 2",
   "language": "python",
   "name": "python2"
  },
  "language_info": {
   "codemirror_mode": {
    "name": "ipython",
    "version": 2
   },
   "file_extension": ".py",
   "mimetype": "text/x-python",
   "name": "python",
   "nbconvert_exporter": "python",
   "pygments_lexer": "ipython2",
   "version": "2.7.11"
  },
  "widgets": {
   "state": {},
   "version": "1.1.1"
  }
 },
 "nbformat": 4,
 "nbformat_minor": 1
}
