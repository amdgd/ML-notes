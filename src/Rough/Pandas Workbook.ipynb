{
 "cells": [
  {
   "cell_type": "code",
   "execution_count": 4,
   "metadata": {
    "collapsed": true
   },
   "outputs": [],
   "source": [
    "import pandas as pd\n"
   ]
  },
  {
   "cell_type": "code",
   "execution_count": 117,
   "metadata": {},
   "outputs": [
    {
     "data": {
      "text/plain": [
       "dict"
      ]
     },
     "execution_count": 117,
     "metadata": {},
     "output_type": "execute_result"
    }
   ],
   "source": [
    "a = {'country':'india', \n",
    "     'capital':'delhi', \n",
    "     'currency':'INR',\n",
    "     'GDP' : 7860\n",
    "    }\n",
    "type(a)"
   ]
  },
  {
   "cell_type": "code",
   "execution_count": 118,
   "metadata": {
    "collapsed": true
   },
   "outputs": [],
   "source": [
    "b = {'country':'pakistan', 'capital':'islamabad', 'currency': 'PKR',\n",
    "     'GDP' : 3860}\n"
   ]
  },
  {
   "cell_type": "code",
   "execution_count": 119,
   "metadata": {
    "collapsed": true
   },
   "outputs": [],
   "source": [
    "c = {'country':'sri lanka', 'capital':'colombo', 'currency':'lankan rupee',\n",
    "     'GDP' : 456}\n"
   ]
  },
  {
   "cell_type": "code",
   "execution_count": 120,
   "metadata": {},
   "outputs": [
    {
     "data": {
      "text/plain": [
       "[{'GDP': 7860, 'capital': 'delhi', 'country': 'india', 'currency': 'INR'},\n",
       " {'GDP': 3860,\n",
       "  'capital': 'islamabad',\n",
       "  'country': 'pakistan',\n",
       "  'currency': 'PKR'},\n",
       " {'GDP': 456,\n",
       "  'capital': 'colombo',\n",
       "  'country': 'sri lanka',\n",
       "  'currency': 'lankan rupee'}]"
      ]
     },
     "execution_count": 120,
     "metadata": {},
     "output_type": "execute_result"
    }
   ],
   "source": [
    "data =[a,b,c]\n",
    "data"
   ]
  },
  {
   "cell_type": "code",
   "execution_count": 141,
   "metadata": {},
   "outputs": [
    {
     "data": {
      "text/html": [
       "<div>\n",
       "<table border=\"1\" class=\"dataframe\">\n",
       "  <thead>\n",
       "    <tr style=\"text-align: right;\">\n",
       "      <th></th>\n",
       "      <th>country</th>\n",
       "      <th>capital</th>\n",
       "      <th>currency</th>\n",
       "      <th>GDP</th>\n",
       "    </tr>\n",
       "  </thead>\n",
       "  <tbody>\n",
       "    <tr>\n",
       "      <th>0</th>\n",
       "      <td>india</td>\n",
       "      <td>delhi</td>\n",
       "      <td>INR</td>\n",
       "      <td>7860</td>\n",
       "    </tr>\n",
       "    <tr>\n",
       "      <th>1</th>\n",
       "      <td>pakistan</td>\n",
       "      <td>islamabad</td>\n",
       "      <td>PKR</td>\n",
       "      <td>3860</td>\n",
       "    </tr>\n",
       "    <tr>\n",
       "      <th>2</th>\n",
       "      <td>sri lanka</td>\n",
       "      <td>colombo</td>\n",
       "      <td>lankan rupee</td>\n",
       "      <td>456</td>\n",
       "    </tr>\n",
       "  </tbody>\n",
       "</table>\n",
       "</div>"
      ],
      "text/plain": [
       "     country    capital      currency   GDP\n",
       "0      india      delhi           INR  7860\n",
       "1   pakistan  islamabad           PKR  3860\n",
       "2  sri lanka    colombo  lankan rupee   456"
      ]
     },
     "execution_count": 141,
     "metadata": {},
     "output_type": "execute_result"
    }
   ],
   "source": [
    "df = pd.DataFrame(data, columns=['country', 'capital', 'currency', 'GDP'])\n",
    "df"
   ]
  },
  {
   "cell_type": "code",
   "execution_count": 192,
   "metadata": {},
   "outputs": [
    {
     "name": "stdout",
     "output_type": "stream",
     "text": [
      "\n",
      "----\n",
      "currency      INR     PKR  lankan rupee\n",
      "capital                                \n",
      "colombo       NaN     NaN         456.0\n",
      "delhi      7860.0     NaN           NaN\n",
      "islamabad     NaN  3860.0           NaN\n",
      "\n",
      "----\n",
      "     country    capital  variable         value\n",
      "0      india      delhi  currency           INR\n",
      "1   pakistan  islamabad  currency           PKR\n",
      "2  sri lanka    colombo  currency  lankan rupee\n",
      "3      india      delhi       GDP          7860\n",
      "4   pakistan  islamabad       GDP          3860\n",
      "5  sri lanka    colombo       GDP           456\n",
      "\n",
      "----\n",
      "           country                       currency                     GDP  \\\n",
      "capital    colombo  delhi islamabad       colombo delhi islamabad colombo   \n",
      "0             None  india      None          None   INR      None     NaN   \n",
      "1             None   None  pakistan          None  None       PKR     NaN   \n",
      "2        sri lanka   None      None  lankan rupee  None      None   456.0   \n",
      "\n",
      "                           \n",
      "capital   delhi islamabad  \n",
      "0        7860.0       NaN  \n",
      "1           NaN    3860.0  \n",
      "2           NaN       NaN  \n",
      "\n",
      "----\n",
      "             capital      currency   GDP\n",
      "country                                 \n",
      "india          delhi           INR  7860\n",
      "pakistan   islamabad           PKR  3860\n",
      "sri lanka    colombo  lankan rupee   456\n"
     ]
    },
    {
     "data": {
      "text/plain": [
       "Index(['india', 'pakistan', 'sri lanka'], dtype='object', name='country')"
      ]
     },
     "execution_count": 192,
     "metadata": {},
     "output_type": "execute_result"
    }
   ],
   "source": [
    "df_piv = df.pivot(index=\"capital\" , columns=\"currency\", values= 'GDP')\n",
    "print(\"\\n----\")\n",
    "print(df_piv.head())\n",
    "\n",
    "df_melt = pd.melt(df, id_vars=['country','capital'], value_vars=['currency' ,'GDP'])\n",
    "print(\"\\n----\")\n",
    "print(df_melt)\n",
    "\n",
    "df_pivot2 = df.pivot(columns=\"capital\")\n",
    "print(\"\\n----\")\n",
    "print(df_pivot2)\n"
   ]
  },
  {
   "cell_type": "code",
   "execution_count": 207,
   "metadata": {},
   "outputs": [
    {
     "name": "stdout",
     "output_type": "stream",
     "text": [
      "\n",
      "----\n",
      "             capital      currency   GDP\n",
      "country                                 \n",
      "india          delhi           INR  7860\n",
      "pakistan   islamabad           PKR  3860\n",
      "sri lanka    colombo  lankan rupee   456\n"
     ]
    },
    {
     "data": {
      "text/html": [
       "<div>\n",
       "<table border=\"1\" class=\"dataframe\">\n",
       "  <thead>\n",
       "    <tr style=\"text-align: right;\">\n",
       "      <th></th>\n",
       "      <th>capital</th>\n",
       "      <th>currency</th>\n",
       "      <th>GDP</th>\n",
       "    </tr>\n",
       "    <tr>\n",
       "      <th>country</th>\n",
       "      <th></th>\n",
       "      <th></th>\n",
       "      <th></th>\n",
       "    </tr>\n",
       "  </thead>\n",
       "  <tbody>\n",
       "    <tr>\n",
       "      <th>india</th>\n",
       "      <td>delhi</td>\n",
       "      <td>INR</td>\n",
       "      <td>7860</td>\n",
       "    </tr>\n",
       "    <tr>\n",
       "      <th>pakistan</th>\n",
       "      <td>islamabad</td>\n",
       "      <td>PKR</td>\n",
       "      <td>3860</td>\n",
       "    </tr>\n",
       "    <tr>\n",
       "      <th>sri lanka</th>\n",
       "      <td>colombo</td>\n",
       "      <td>lankan rupee</td>\n",
       "      <td>456</td>\n",
       "    </tr>\n",
       "  </tbody>\n",
       "</table>\n",
       "</div>"
      ],
      "text/plain": [
       "             capital      currency   GDP\n",
       "country                                 \n",
       "india          delhi           INR  7860\n",
       "pakistan   islamabad           PKR  3860\n",
       "sri lanka    colombo  lankan rupee   456"
      ]
     },
     "execution_count": 207,
     "metadata": {},
     "output_type": "execute_result"
    }
   ],
   "source": [
    "\n",
    "df_index = df.set_index('country')\n",
    "print(\"\\n----\")\n",
    "print(df_index)\n",
    "df_index.index.names\n",
    "df_index.head()"
   ]
  },
  {
   "cell_type": "code",
   "execution_count": 210,
   "metadata": {},
   "outputs": [
    {
     "name": "stdout",
     "output_type": "stream",
     "text": [
      "\n",
      "----\n",
      "                         currency   GDP\n",
      "country   capital                      \n",
      "india     delhi               INR  7860\n",
      "pakistan  islamabad           PKR  3860\n",
      "sri lanka colombo    lankan rupee   456\n"
     ]
    },
    {
     "data": {
      "text/html": [
       "<div>\n",
       "<table border=\"1\" class=\"dataframe\">\n",
       "  <thead>\n",
       "    <tr style=\"text-align: right;\">\n",
       "      <th></th>\n",
       "      <th></th>\n",
       "      <th>currency</th>\n",
       "      <th>GDP</th>\n",
       "    </tr>\n",
       "    <tr>\n",
       "      <th>country</th>\n",
       "      <th>capital</th>\n",
       "      <th></th>\n",
       "      <th></th>\n",
       "    </tr>\n",
       "  </thead>\n",
       "  <tbody>\n",
       "    <tr>\n",
       "      <th>india</th>\n",
       "      <th>delhi</th>\n",
       "      <td>INR</td>\n",
       "      <td>7860</td>\n",
       "    </tr>\n",
       "    <tr>\n",
       "      <th>pakistan</th>\n",
       "      <th>islamabad</th>\n",
       "      <td>PKR</td>\n",
       "      <td>3860</td>\n",
       "    </tr>\n",
       "    <tr>\n",
       "      <th>sri lanka</th>\n",
       "      <th>colombo</th>\n",
       "      <td>lankan rupee</td>\n",
       "      <td>456</td>\n",
       "    </tr>\n",
       "  </tbody>\n",
       "</table>\n",
       "</div>"
      ],
      "text/plain": [
       "                         currency   GDP\n",
       "country   capital                      \n",
       "india     delhi               INR  7860\n",
       "pakistan  islamabad           PKR  3860\n",
       "sri lanka colombo    lankan rupee   456"
      ]
     },
     "execution_count": 210,
     "metadata": {},
     "output_type": "execute_result"
    }
   ],
   "source": [
    "df_index1 = df.set_index(['country', 'capital'])\n",
    "print(\"\\n----\")\n",
    "print(df_index1)\n",
    "df_index1.index.names\n",
    "df_index1.head()"
   ]
  },
  {
   "cell_type": "code",
   "execution_count": 211,
   "metadata": {},
   "outputs": [
    {
     "name": "stdout",
     "output_type": "stream",
     "text": [
      "\n",
      "----\n"
     ]
    },
    {
     "data": {
      "text/html": [
       "<div>\n",
       "<table border=\"1\" class=\"dataframe\">\n",
       "  <thead>\n",
       "    <tr>\n",
       "      <th></th>\n",
       "      <th colspan=\"3\" halign=\"left\">currency</th>\n",
       "      <th colspan=\"3\" halign=\"left\">GDP</th>\n",
       "    </tr>\n",
       "    <tr>\n",
       "      <th>capital</th>\n",
       "      <th>colombo</th>\n",
       "      <th>delhi</th>\n",
       "      <th>islamabad</th>\n",
       "      <th>colombo</th>\n",
       "      <th>delhi</th>\n",
       "      <th>islamabad</th>\n",
       "    </tr>\n",
       "    <tr>\n",
       "      <th>country</th>\n",
       "      <th></th>\n",
       "      <th></th>\n",
       "      <th></th>\n",
       "      <th></th>\n",
       "      <th></th>\n",
       "      <th></th>\n",
       "    </tr>\n",
       "  </thead>\n",
       "  <tbody>\n",
       "    <tr>\n",
       "      <th>india</th>\n",
       "      <td>None</td>\n",
       "      <td>INR</td>\n",
       "      <td>None</td>\n",
       "      <td>NaN</td>\n",
       "      <td>7860.0</td>\n",
       "      <td>NaN</td>\n",
       "    </tr>\n",
       "    <tr>\n",
       "      <th>pakistan</th>\n",
       "      <td>None</td>\n",
       "      <td>None</td>\n",
       "      <td>PKR</td>\n",
       "      <td>NaN</td>\n",
       "      <td>NaN</td>\n",
       "      <td>3860.0</td>\n",
       "    </tr>\n",
       "    <tr>\n",
       "      <th>sri lanka</th>\n",
       "      <td>lankan rupee</td>\n",
       "      <td>None</td>\n",
       "      <td>None</td>\n",
       "      <td>456.0</td>\n",
       "      <td>NaN</td>\n",
       "      <td>NaN</td>\n",
       "    </tr>\n",
       "  </tbody>\n",
       "</table>\n",
       "</div>"
      ],
      "text/plain": [
       "               currency                     GDP                  \n",
       "capital         colombo delhi islamabad colombo   delhi islamabad\n",
       "country                                                          \n",
       "india              None   INR      None     NaN  7860.0       NaN\n",
       "pakistan           None  None       PKR     NaN     NaN    3860.0\n",
       "sri lanka  lankan rupee  None      None   456.0     NaN       NaN"
      ]
     },
     "execution_count": 211,
     "metadata": {},
     "output_type": "execute_result"
    }
   ],
   "source": [
    "df_us = df_index1.unstack('capital')\n",
    "print(\"\\n----\")\n",
    "df_us.head()\n",
    "\n",
    "df.set_index()\n",
    "#df_us.index"
   ]
  },
  {
   "cell_type": "code",
   "execution_count": 230,
   "metadata": {},
   "outputs": [
    {
     "name": "stdout",
     "output_type": "stream",
     "text": [
      "\n",
      "----\n"
     ]
    },
    {
     "data": {
      "text/html": [
       "<div>\n",
       "<table border=\"1\" class=\"dataframe\">\n",
       "  <thead>\n",
       "    <tr>\n",
       "      <th></th>\n",
       "      <th colspan=\"3\" halign=\"left\">currency</th>\n",
       "      <th colspan=\"3\" halign=\"left\">GDP</th>\n",
       "    </tr>\n",
       "    <tr>\n",
       "      <th>country</th>\n",
       "      <th>india</th>\n",
       "      <th>pakistan</th>\n",
       "      <th>sri lanka</th>\n",
       "      <th>india</th>\n",
       "      <th>pakistan</th>\n",
       "      <th>sri lanka</th>\n",
       "    </tr>\n",
       "    <tr>\n",
       "      <th>capital</th>\n",
       "      <th></th>\n",
       "      <th></th>\n",
       "      <th></th>\n",
       "      <th></th>\n",
       "      <th></th>\n",
       "      <th></th>\n",
       "    </tr>\n",
       "  </thead>\n",
       "  <tbody>\n",
       "    <tr>\n",
       "      <th>colombo</th>\n",
       "      <td>None</td>\n",
       "      <td>None</td>\n",
       "      <td>lankan rupee</td>\n",
       "      <td>NaN</td>\n",
       "      <td>NaN</td>\n",
       "      <td>456.0</td>\n",
       "    </tr>\n",
       "    <tr>\n",
       "      <th>delhi</th>\n",
       "      <td>INR</td>\n",
       "      <td>None</td>\n",
       "      <td>None</td>\n",
       "      <td>7860.0</td>\n",
       "      <td>NaN</td>\n",
       "      <td>NaN</td>\n",
       "    </tr>\n",
       "    <tr>\n",
       "      <th>islamabad</th>\n",
       "      <td>None</td>\n",
       "      <td>PKR</td>\n",
       "      <td>None</td>\n",
       "      <td>NaN</td>\n",
       "      <td>3860.0</td>\n",
       "      <td>NaN</td>\n",
       "    </tr>\n",
       "  </tbody>\n",
       "</table>\n",
       "</div>"
      ],
      "text/plain": [
       "          currency                            GDP                   \n",
       "country      india pakistan     sri lanka   india pakistan sri lanka\n",
       "capital                                                             \n",
       "colombo       None     None  lankan rupee     NaN      NaN     456.0\n",
       "delhi          INR     None          None  7860.0      NaN       NaN\n",
       "islamabad     None      PKR          None     NaN   3860.0       NaN"
      ]
     },
     "execution_count": 230,
     "metadata": {},
     "output_type": "execute_result"
    }
   ],
   "source": [
    "df_us2 = df_index1.unstack(level=0)\n",
    "print(\"\\n----\")\n",
    "df_us2.head()\n",
    "\n",
    "#df_us.index"
   ]
  },
  {
   "cell_type": "code",
   "execution_count": 227,
   "metadata": {},
   "outputs": [
    {
     "name": "stdout",
     "output_type": "stream",
     "text": [
      "\n",
      "----\n"
     ]
    },
    {
     "data": {
      "text/html": [
       "<div>\n",
       "<table border=\"1\" class=\"dataframe\">\n",
       "  <thead>\n",
       "    <tr style=\"text-align: right;\">\n",
       "      <th></th>\n",
       "      <th>country</th>\n",
       "      <th>india</th>\n",
       "      <th>pakistan</th>\n",
       "      <th>sri lanka</th>\n",
       "    </tr>\n",
       "    <tr>\n",
       "      <th>capital</th>\n",
       "      <th></th>\n",
       "      <th></th>\n",
       "      <th></th>\n",
       "      <th></th>\n",
       "    </tr>\n",
       "  </thead>\n",
       "  <tbody>\n",
       "    <tr>\n",
       "      <th rowspan=\"2\" valign=\"top\">colombo</th>\n",
       "      <th>currency</th>\n",
       "      <td>None</td>\n",
       "      <td>None</td>\n",
       "      <td>lankan rupee</td>\n",
       "    </tr>\n",
       "    <tr>\n",
       "      <th>GDP</th>\n",
       "      <td>NaN</td>\n",
       "      <td>NaN</td>\n",
       "      <td>456</td>\n",
       "    </tr>\n",
       "    <tr>\n",
       "      <th rowspan=\"2\" valign=\"top\">delhi</th>\n",
       "      <th>currency</th>\n",
       "      <td>INR</td>\n",
       "      <td>None</td>\n",
       "      <td>None</td>\n",
       "    </tr>\n",
       "    <tr>\n",
       "      <th>GDP</th>\n",
       "      <td>7860</td>\n",
       "      <td>NaN</td>\n",
       "      <td>NaN</td>\n",
       "    </tr>\n",
       "    <tr>\n",
       "      <th>islamabad</th>\n",
       "      <th>currency</th>\n",
       "      <td>None</td>\n",
       "      <td>PKR</td>\n",
       "      <td>None</td>\n",
       "    </tr>\n",
       "  </tbody>\n",
       "</table>\n",
       "</div>"
      ],
      "text/plain": [
       "country            india pakistan     sri lanka\n",
       "capital                                        \n",
       "colombo   currency  None     None  lankan rupee\n",
       "          GDP        NaN      NaN           456\n",
       "delhi     currency   INR     None          None\n",
       "          GDP       7860      NaN           NaN\n",
       "islamabad currency  None      PKR          None"
      ]
     },
     "execution_count": 227,
     "metadata": {},
     "output_type": "execute_result"
    }
   ],
   "source": [
    "df_st= df_us2.stack(level=0)\n",
    "print(\"\\n----\")\n",
    "df_st.head()\n",
    "\n",
    "#df_us.index"
   ]
  },
  {
   "cell_type": "code",
   "execution_count": 233,
   "metadata": {},
   "outputs": [
    {
     "name": "stdout",
     "output_type": "stream",
     "text": [
      "\n",
      "----\n"
     ]
    },
    {
     "data": {
      "text/html": [
       "<div>\n",
       "<table border=\"1\" class=\"dataframe\">\n",
       "  <thead>\n",
       "    <tr style=\"text-align: right;\">\n",
       "      <th></th>\n",
       "      <th>country</th>\n",
       "      <th>india</th>\n",
       "      <th>pakistan</th>\n",
       "      <th>sri lanka</th>\n",
       "    </tr>\n",
       "    <tr>\n",
       "      <th></th>\n",
       "      <th>capital</th>\n",
       "      <th></th>\n",
       "      <th></th>\n",
       "      <th></th>\n",
       "    </tr>\n",
       "  </thead>\n",
       "  <tbody>\n",
       "    <tr>\n",
       "      <th>currency</th>\n",
       "      <th>colombo</th>\n",
       "      <td>None</td>\n",
       "      <td>None</td>\n",
       "      <td>lankan rupee</td>\n",
       "    </tr>\n",
       "    <tr>\n",
       "      <th>GDP</th>\n",
       "      <th>colombo</th>\n",
       "      <td>NaN</td>\n",
       "      <td>NaN</td>\n",
       "      <td>456</td>\n",
       "    </tr>\n",
       "    <tr>\n",
       "      <th>currency</th>\n",
       "      <th>delhi</th>\n",
       "      <td>INR</td>\n",
       "      <td>None</td>\n",
       "      <td>None</td>\n",
       "    </tr>\n",
       "    <tr>\n",
       "      <th>GDP</th>\n",
       "      <th>delhi</th>\n",
       "      <td>7860</td>\n",
       "      <td>NaN</td>\n",
       "      <td>NaN</td>\n",
       "    </tr>\n",
       "    <tr>\n",
       "      <th>currency</th>\n",
       "      <th>islamabad</th>\n",
       "      <td>None</td>\n",
       "      <td>PKR</td>\n",
       "      <td>None</td>\n",
       "    </tr>\n",
       "  </tbody>\n",
       "</table>\n",
       "</div>"
      ],
      "text/plain": [
       "country            india pakistan     sri lanka\n",
       "         capital                               \n",
       "currency colombo    None     None  lankan rupee\n",
       "GDP      colombo     NaN      NaN           456\n",
       "currency delhi       INR     None          None\n",
       "GDP      delhi      7860      NaN           NaN\n",
       "currency islamabad  None      PKR          None"
      ]
     },
     "execution_count": 233,
     "metadata": {},
     "output_type": "execute_result"
    }
   ],
   "source": [
    "df_us3 = df_st.swaplevel(0,1)\n",
    "print(\"\\n----\")\n",
    "df_us3.head()\n",
    "\n",
    "#df_us.index"
   ]
  },
  {
   "cell_type": "code",
   "execution_count": 236,
   "metadata": {},
   "outputs": [
    {
     "data": {
      "text/html": [
       "<div>\n",
       "<table border=\"1\" class=\"dataframe\">\n",
       "  <thead>\n",
       "    <tr style=\"text-align: right;\">\n",
       "      <th></th>\n",
       "      <th>country</th>\n",
       "      <th>india</th>\n",
       "      <th>pakistan</th>\n",
       "      <th>sri lanka</th>\n",
       "    </tr>\n",
       "    <tr>\n",
       "      <th></th>\n",
       "      <th>capital</th>\n",
       "      <th></th>\n",
       "      <th></th>\n",
       "      <th></th>\n",
       "    </tr>\n",
       "  </thead>\n",
       "  <tbody>\n",
       "    <tr>\n",
       "      <th>currency</th>\n",
       "      <th>colombo</th>\n",
       "      <td>None</td>\n",
       "      <td>None</td>\n",
       "      <td>lankan rupee</td>\n",
       "    </tr>\n",
       "    <tr>\n",
       "      <th>GDP</th>\n",
       "      <th>colombo</th>\n",
       "      <td>NaN</td>\n",
       "      <td>NaN</td>\n",
       "      <td>456</td>\n",
       "    </tr>\n",
       "    <tr>\n",
       "      <th>currency</th>\n",
       "      <th>delhi</th>\n",
       "      <td>INR</td>\n",
       "      <td>None</td>\n",
       "      <td>None</td>\n",
       "    </tr>\n",
       "    <tr>\n",
       "      <th>GDP</th>\n",
       "      <th>delhi</th>\n",
       "      <td>7860</td>\n",
       "      <td>NaN</td>\n",
       "      <td>NaN</td>\n",
       "    </tr>\n",
       "    <tr>\n",
       "      <th>currency</th>\n",
       "      <th>islamabad</th>\n",
       "      <td>None</td>\n",
       "      <td>PKR</td>\n",
       "      <td>None</td>\n",
       "    </tr>\n",
       "    <tr>\n",
       "      <th>GDP</th>\n",
       "      <th>islamabad</th>\n",
       "      <td>NaN</td>\n",
       "      <td>3860</td>\n",
       "      <td>NaN</td>\n",
       "    </tr>\n",
       "  </tbody>\n",
       "</table>\n",
       "</div>"
      ],
      "text/plain": [
       "country            india pakistan     sri lanka\n",
       "         capital                               \n",
       "currency colombo    None     None  lankan rupee\n",
       "GDP      colombo     NaN      NaN           456\n",
       "currency delhi       INR     None          None\n",
       "GDP      delhi      7860      NaN           NaN\n",
       "currency islamabad  None      PKR          None\n",
       "GDP      islamabad   NaN     3860           NaN"
      ]
     },
     "execution_count": 236,
     "metadata": {},
     "output_type": "execute_result"
    }
   ],
   "source": [
    "df_us3.sort_index()\n",
    "df_us3.head(9)"
   ]
  },
  {
   "cell_type": "code",
   "execution_count": 234,
   "metadata": {},
   "outputs": [
    {
     "name": "stdout",
     "output_type": "stream",
     "text": [
      "\n",
      "----\n"
     ]
    },
    {
     "data": {
      "text/html": [
       "<div>\n",
       "<table border=\"1\" class=\"dataframe\">\n",
       "  <thead>\n",
       "    <tr style=\"text-align: right;\">\n",
       "      <th></th>\n",
       "      <th>country</th>\n",
       "      <th>india</th>\n",
       "      <th>pakistan</th>\n",
       "      <th>sri lanka</th>\n",
       "    </tr>\n",
       "    <tr>\n",
       "      <th>capital</th>\n",
       "      <th></th>\n",
       "      <th></th>\n",
       "      <th></th>\n",
       "      <th></th>\n",
       "    </tr>\n",
       "  </thead>\n",
       "  <tbody>\n",
       "    <tr>\n",
       "      <th rowspan=\"2\" valign=\"top\">colombo</th>\n",
       "      <th>currency</th>\n",
       "      <td>None</td>\n",
       "      <td>None</td>\n",
       "      <td>lankan rupee</td>\n",
       "    </tr>\n",
       "    <tr>\n",
       "      <th>GDP</th>\n",
       "      <td>NaN</td>\n",
       "      <td>NaN</td>\n",
       "      <td>456</td>\n",
       "    </tr>\n",
       "    <tr>\n",
       "      <th rowspan=\"2\" valign=\"top\">delhi</th>\n",
       "      <th>currency</th>\n",
       "      <td>INR</td>\n",
       "      <td>None</td>\n",
       "      <td>None</td>\n",
       "    </tr>\n",
       "    <tr>\n",
       "      <th>GDP</th>\n",
       "      <td>7860</td>\n",
       "      <td>NaN</td>\n",
       "      <td>NaN</td>\n",
       "    </tr>\n",
       "    <tr>\n",
       "      <th>islamabad</th>\n",
       "      <th>currency</th>\n",
       "      <td>None</td>\n",
       "      <td>PKR</td>\n",
       "      <td>None</td>\n",
       "    </tr>\n",
       "  </tbody>\n",
       "</table>\n",
       "</div>"
      ],
      "text/plain": [
       "country            india pakistan     sri lanka\n",
       "capital                                        \n",
       "colombo   currency  None     None  lankan rupee\n",
       "          GDP        NaN      NaN           456\n",
       "delhi     currency   INR     None          None\n",
       "          GDP       7860      NaN           NaN\n",
       "islamabad currency  None      PKR          None"
      ]
     },
     "execution_count": 234,
     "metadata": {},
     "output_type": "execute_result"
    }
   ],
   "source": [
    "df_us4 = df_us3.swaplevel(0,1)\n",
    "print(\"\\n----\")\n",
    "df_us4.head()\n",
    "\n",
    "#df_us.index"
   ]
  },
  {
   "cell_type": "code",
   "execution_count": 237,
   "metadata": {},
   "outputs": [
    {
     "data": {
      "text/html": [
       "<div>\n",
       "<table border=\"1\" class=\"dataframe\">\n",
       "  <thead>\n",
       "    <tr style=\"text-align: right;\">\n",
       "      <th></th>\n",
       "      <th>country</th>\n",
       "      <th>india</th>\n",
       "      <th>pakistan</th>\n",
       "      <th>sri lanka</th>\n",
       "    </tr>\n",
       "    <tr>\n",
       "      <th>capital</th>\n",
       "      <th></th>\n",
       "      <th></th>\n",
       "      <th></th>\n",
       "      <th></th>\n",
       "    </tr>\n",
       "  </thead>\n",
       "  <tbody>\n",
       "    <tr>\n",
       "      <th rowspan=\"2\" valign=\"top\">colombo</th>\n",
       "      <th>currency</th>\n",
       "      <td>None</td>\n",
       "      <td>None</td>\n",
       "      <td>lankan rupee</td>\n",
       "    </tr>\n",
       "    <tr>\n",
       "      <th>GDP</th>\n",
       "      <td>NaN</td>\n",
       "      <td>NaN</td>\n",
       "      <td>456</td>\n",
       "    </tr>\n",
       "    <tr>\n",
       "      <th rowspan=\"2\" valign=\"top\">delhi</th>\n",
       "      <th>currency</th>\n",
       "      <td>INR</td>\n",
       "      <td>None</td>\n",
       "      <td>None</td>\n",
       "    </tr>\n",
       "    <tr>\n",
       "      <th>GDP</th>\n",
       "      <td>7860</td>\n",
       "      <td>NaN</td>\n",
       "      <td>NaN</td>\n",
       "    </tr>\n",
       "    <tr>\n",
       "      <th rowspan=\"2\" valign=\"top\">islamabad</th>\n",
       "      <th>currency</th>\n",
       "      <td>None</td>\n",
       "      <td>PKR</td>\n",
       "      <td>None</td>\n",
       "    </tr>\n",
       "    <tr>\n",
       "      <th>GDP</th>\n",
       "      <td>NaN</td>\n",
       "      <td>3860</td>\n",
       "      <td>NaN</td>\n",
       "    </tr>\n",
       "  </tbody>\n",
       "</table>\n",
       "</div>"
      ],
      "text/plain": [
       "country            india pakistan     sri lanka\n",
       "capital                                        \n",
       "colombo   currency  None     None  lankan rupee\n",
       "          GDP        NaN      NaN           456\n",
       "delhi     currency   INR     None          None\n",
       "          GDP       7860      NaN           NaN\n",
       "islamabad currency  None      PKR          None\n",
       "          GDP        NaN     3860           NaN"
      ]
     },
     "execution_count": 237,
     "metadata": {},
     "output_type": "execute_result"
    }
   ],
   "source": [
    "df_us4.sort_index()\n",
    "df_us4.head(9)"
   ]
  },
  {
   "cell_type": "code",
   "execution_count": 50,
   "metadata": {},
   "outputs": [
    {
     "data": {
      "text/html": [
       "<div>\n",
       "<table border=\"1\" class=\"dataframe\">\n",
       "  <thead>\n",
       "    <tr style=\"text-align: right;\">\n",
       "      <th></th>\n",
       "      <th>country</th>\n",
       "      <th>capital</th>\n",
       "    </tr>\n",
       "  </thead>\n",
       "  <tbody>\n",
       "    <tr>\n",
       "      <th>0</th>\n",
       "      <td>india</td>\n",
       "      <td>NaN</td>\n",
       "    </tr>\n",
       "    <tr>\n",
       "      <th>1</th>\n",
       "      <td>pakistan</td>\n",
       "      <td>NaN</td>\n",
       "    </tr>\n",
       "    <tr>\n",
       "      <th>2</th>\n",
       "      <td>nepal</td>\n",
       "      <td>NaN</td>\n",
       "    </tr>\n",
       "    <tr>\n",
       "      <th>3</th>\n",
       "      <td>sri lanka</td>\n",
       "      <td>NaN</td>\n",
       "    </tr>\n",
       "    <tr>\n",
       "      <th>4</th>\n",
       "      <td>NaN</td>\n",
       "      <td>(delhi, islamabad, kathmandu, colombo)</td>\n",
       "    </tr>\n",
       "  </tbody>\n",
       "</table>\n",
       "</div>"
      ],
      "text/plain": [
       "     country                                 capital\n",
       "0      india                                     NaN\n",
       "1   pakistan                                     NaN\n",
       "2      nepal                                     NaN\n",
       "3  sri lanka                                     NaN\n",
       "4        NaN  (delhi, islamabad, kathmandu, colombo)"
      ]
     },
     "execution_count": 50,
     "metadata": {},
     "output_type": "execute_result"
    }
   ],
   "source": [
    "df"
   ]
  },
  {
   "cell_type": "code",
   "execution_count": 5,
   "metadata": {
    "collapsed": true
   },
   "outputs": [],
   "source": [
    "drinks = pd.read_csv('http://bit.ly/drinksbycountry')"
   ]
  },
  {
   "cell_type": "code",
   "execution_count": 7,
   "metadata": {},
   "outputs": [
    {
     "data": {
      "text/html": [
       "<div>\n",
       "<table border=\"1\" class=\"dataframe\">\n",
       "  <thead>\n",
       "    <tr style=\"text-align: right;\">\n",
       "      <th></th>\n",
       "      <th>country</th>\n",
       "      <th>beer_servings</th>\n",
       "      <th>spirit_servings</th>\n",
       "      <th>wine_servings</th>\n",
       "      <th>total_litres_of_pure_alcohol</th>\n",
       "      <th>continent</th>\n",
       "    </tr>\n",
       "  </thead>\n",
       "  <tbody>\n",
       "    <tr>\n",
       "      <th>0</th>\n",
       "      <td>Afghanistan</td>\n",
       "      <td>0</td>\n",
       "      <td>0</td>\n",
       "      <td>0</td>\n",
       "      <td>0.0</td>\n",
       "      <td>Asia</td>\n",
       "    </tr>\n",
       "    <tr>\n",
       "      <th>1</th>\n",
       "      <td>Albania</td>\n",
       "      <td>89</td>\n",
       "      <td>132</td>\n",
       "      <td>54</td>\n",
       "      <td>4.9</td>\n",
       "      <td>Europe</td>\n",
       "    </tr>\n",
       "    <tr>\n",
       "      <th>2</th>\n",
       "      <td>Algeria</td>\n",
       "      <td>25</td>\n",
       "      <td>0</td>\n",
       "      <td>14</td>\n",
       "      <td>0.7</td>\n",
       "      <td>Africa</td>\n",
       "    </tr>\n",
       "    <tr>\n",
       "      <th>3</th>\n",
       "      <td>Andorra</td>\n",
       "      <td>245</td>\n",
       "      <td>138</td>\n",
       "      <td>312</td>\n",
       "      <td>12.4</td>\n",
       "      <td>Europe</td>\n",
       "    </tr>\n",
       "    <tr>\n",
       "      <th>4</th>\n",
       "      <td>Angola</td>\n",
       "      <td>217</td>\n",
       "      <td>57</td>\n",
       "      <td>45</td>\n",
       "      <td>5.9</td>\n",
       "      <td>Africa</td>\n",
       "    </tr>\n",
       "  </tbody>\n",
       "</table>\n",
       "</div>"
      ],
      "text/plain": [
       "       country  beer_servings  spirit_servings  wine_servings  \\\n",
       "0  Afghanistan              0                0              0   \n",
       "1      Albania             89              132             54   \n",
       "2      Algeria             25                0             14   \n",
       "3      Andorra            245              138            312   \n",
       "4       Angola            217               57             45   \n",
       "\n",
       "   total_litres_of_pure_alcohol continent  \n",
       "0                           0.0      Asia  \n",
       "1                           4.9    Europe  \n",
       "2                           0.7    Africa  \n",
       "3                          12.4    Europe  \n",
       "4                           5.9    Africa  "
      ]
     },
     "execution_count": 7,
     "metadata": {},
     "output_type": "execute_result"
    }
   ],
   "source": [
    "drinks.head()\n"
   ]
  },
  {
   "cell_type": "code",
   "execution_count": 10,
   "metadata": {},
   "outputs": [
    {
     "data": {
      "text/plain": [
       "106.16062176165804"
      ]
     },
     "execution_count": 10,
     "metadata": {},
     "output_type": "execute_result"
    }
   ],
   "source": [
    "drinks.beer_servings.mean()"
   ]
  },
  {
   "cell_type": "code",
   "execution_count": 13,
   "metadata": {},
   "outputs": [
    {
     "name": "stdout",
     "output_type": "stream",
     "text": [
      "continent\n",
      "Africa            61.471698\n",
      "Asia              37.045455\n",
      "Europe           193.777778\n",
      "North America    145.434783\n",
      "Oceania           89.687500\n",
      "South America    175.083333\n",
      "Name: beer_servings, dtype: float64\n"
     ]
    }
   ],
   "source": [
    "print(drinks.groupby('continent').beer_servings.mean())"
   ]
  },
  {
   "cell_type": "code",
   "execution_count": 30,
   "metadata": {},
   "outputs": [
    {
     "data": {
      "text/html": [
       "<div>\n",
       "<table border=\"1\" class=\"dataframe\">\n",
       "  <thead>\n",
       "    <tr>\n",
       "      <th></th>\n",
       "      <th>country</th>\n",
       "      <th>beer_servings</th>\n",
       "      <th>spirit_servings</th>\n",
       "      <th>wine_servings</th>\n",
       "      <th>total_litres_of_pure_alcohol</th>\n",
       "    </tr>\n",
       "    <tr>\n",
       "      <th></th>\n",
       "      <th>count</th>\n",
       "      <th>count</th>\n",
       "      <th>count</th>\n",
       "      <th>count</th>\n",
       "      <th>count</th>\n",
       "    </tr>\n",
       "    <tr>\n",
       "      <th>continent</th>\n",
       "      <th></th>\n",
       "      <th></th>\n",
       "      <th></th>\n",
       "      <th></th>\n",
       "      <th></th>\n",
       "    </tr>\n",
       "  </thead>\n",
       "  <tbody>\n",
       "    <tr>\n",
       "      <th>Africa</th>\n",
       "      <td>53</td>\n",
       "      <td>53</td>\n",
       "      <td>53</td>\n",
       "      <td>53</td>\n",
       "      <td>53</td>\n",
       "    </tr>\n",
       "    <tr>\n",
       "      <th>Asia</th>\n",
       "      <td>44</td>\n",
       "      <td>44</td>\n",
       "      <td>44</td>\n",
       "      <td>44</td>\n",
       "      <td>44</td>\n",
       "    </tr>\n",
       "    <tr>\n",
       "      <th>Europe</th>\n",
       "      <td>45</td>\n",
       "      <td>45</td>\n",
       "      <td>45</td>\n",
       "      <td>45</td>\n",
       "      <td>45</td>\n",
       "    </tr>\n",
       "    <tr>\n",
       "      <th>North America</th>\n",
       "      <td>23</td>\n",
       "      <td>23</td>\n",
       "      <td>23</td>\n",
       "      <td>23</td>\n",
       "      <td>23</td>\n",
       "    </tr>\n",
       "    <tr>\n",
       "      <th>Oceania</th>\n",
       "      <td>16</td>\n",
       "      <td>16</td>\n",
       "      <td>16</td>\n",
       "      <td>16</td>\n",
       "      <td>16</td>\n",
       "    </tr>\n",
       "    <tr>\n",
       "      <th>South America</th>\n",
       "      <td>12</td>\n",
       "      <td>12</td>\n",
       "      <td>12</td>\n",
       "      <td>12</td>\n",
       "      <td>12</td>\n",
       "    </tr>\n",
       "  </tbody>\n",
       "</table>\n",
       "</div>"
      ],
      "text/plain": [
       "              country beer_servings spirit_servings wine_servings  \\\n",
       "                count         count           count         count   \n",
       "continent                                                           \n",
       "Africa             53            53              53            53   \n",
       "Asia               44            44              44            44   \n",
       "Europe             45            45              45            45   \n",
       "North America      23            23              23            23   \n",
       "Oceania            16            16              16            16   \n",
       "South America      12            12              12            12   \n",
       "\n",
       "              total_litres_of_pure_alcohol  \n",
       "                                     count  \n",
       "continent                                   \n",
       "Africa                                  53  \n",
       "Asia                                    44  \n",
       "Europe                                  45  \n",
       "North America                           23  \n",
       "Oceania                                 16  \n",
       "South America                           12  "
      ]
     },
     "execution_count": 30,
     "metadata": {},
     "output_type": "execute_result"
    }
   ],
   "source": [
    "drinks.groupby('continent').agg(['count'])"
   ]
  },
  {
   "cell_type": "code",
   "execution_count": 239,
   "metadata": {},
   "outputs": [
    {
     "name": "stdout",
     "output_type": "stream",
     "text": [
      "/home/jovyan/work/Rough\n",
      "Interactive Widgets.ipynb  Python User Input and Interaction.ipynb\n",
      "Lab.ipynb\t\t   PyThreejs.ipynb\n",
      "LeafletDraw.ipynb\t   Snippets.ipynb\n",
      "ML CLass\t\t   widget_examples.ipynb\n",
      "Pandas Workbook.ipynb\t   widgets.ipynb\n"
     ]
    }
   ],
   "source": [
    "%matplotlib inline\n",
    "!pwd\n",
    "!ls\n"
   ]
  },
  {
   "cell_type": "code",
   "execution_count": 33,
   "metadata": {},
   "outputs": [
    {
     "data": {
      "text/plain": [
       "<matplotlib.axes._subplots.AxesSubplot at 0x7ff8b6f09668>"
      ]
     },
     "execution_count": 33,
     "metadata": {},
     "output_type": "execute_result"
    },
    {
     "data": {
      "image/png": "[encoded data removed]",
      "text/plain": [
       "<matplotlib.figure.Figure at 0x7ff8b6ee7278>"
      ]
     },
     "metadata": {},
     "output_type": "display_data"
    }
   ],
   "source": [
    " drinks.groupby('continent').mean().plot(kind='bar')"
   ]
  }
 ],
 "metadata": {
  "kernelspec": {
   "display_name": "Python 3",
   "language": "python",
   "name": "python3"
  },
  "language_info": {
   "codemirror_mode": {
    "name": "ipython",
    "version": 3
   },
   "file_extension": ".py",
   "mimetype": "text/x-python",
   "name": "python",
   "nbconvert_exporter": "python",
   "pygments_lexer": "ipython3",
   "version": "3.5.2"
  }
 },
 "nbformat": 4,
 "nbformat_minor": 1
}
