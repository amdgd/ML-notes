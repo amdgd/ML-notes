{
 "cells": [
  {
   "cell_type": "code",
   "execution_count": 1,
   "metadata": {
    "collapsed": true
   },
   "outputs": [],
   "source": [
    "import ipywidgets as wg\n",
    "from IPython.display import display"
   ]
  },
  {
   "cell_type": "markdown",
   "metadata": {},
   "source": [
    "### Numeric Widgets"
   ]
  },
  {
   "cell_type": "code",
   "execution_count": 2,
   "metadata": {},
   "outputs": [
    {
     "data": {
      "application/vnd.jupyter.widget-view+json": {
       "model_id": "4e599ca8f5a943c28ed906a04d490c3f"
      }
     },
     "metadata": {},
     "output_type": "display_data"
    },
    {
     "data": {
      "application/vnd.jupyter.widget-view+json": {
       "model_id": "c5f6cca5071048b98351f72c7fda0058"
      }
     },
     "metadata": {},
     "output_type": "display_data"
    },
    {
     "data": {
      "application/vnd.jupyter.widget-view+json": {
       "model_id": "f108970503854d4cb26baa2e72ce74a6"
      }
     },
     "metadata": {},
     "output_type": "display_data"
    },
    {
     "data": {
      "application/vnd.jupyter.widget-view+json": {
       "model_id": "67d9068fcd1a4716b8f3f8719ed8d337"
      }
     },
     "metadata": {},
     "output_type": "display_data"
    },
    {
     "data": {
      "application/vnd.jupyter.widget-view+json": {
       "model_id": "2e54834b443d4e1c887cfd6425ff47f0"
      }
     },
     "metadata": {},
     "output_type": "display_data"
    },
    {
     "data": {
      "application/vnd.jupyter.widget-view+json": {
       "model_id": "e87754c9fcd44ad0ba616002d0a9288e"
      }
     },
     "metadata": {},
     "output_type": "display_data"
    },
    {
     "data": {
      "application/vnd.jupyter.widget-view+json": {
       "model_id": "289e15475fa94175a021132162f8544d"
      }
     },
     "metadata": {},
     "output_type": "display_data"
    },
    {
     "data": {
      "application/vnd.jupyter.widget-view+json": {
       "model_id": "1e7cfaafa0c747279178bc44660508a3"
      }
     },
     "metadata": {},
     "output_type": "display_data"
    },
    {
     "data": {
      "application/vnd.jupyter.widget-view+json": {
       "model_id": "c9dab5e18e9146949ab4a1f8dce6831f"
      }
     },
     "metadata": {},
     "output_type": "display_data"
    },
    {
     "data": {
      "application/vnd.jupyter.widget-view+json": {
       "model_id": "667ed6ee1ccc4efbb1d2739cc77f71ff"
      }
     },
     "metadata": {},
     "output_type": "display_data"
    }
   ],
   "source": [
    "f_s = wg.FloatSlider(value=5, min=0, max=10.0, step=0.001, \n",
    "                    description='FSlider: ', readout_format='.3f')\n",
    "\n",
    "i_s = wg.IntSlider(value=5, min=0, max=10.0, step=0.001, \n",
    "                  description='ISlider: ')\n",
    "\n",
    "i_rs = wg.IntRangeSlider(value=[2, 8], min=0, max=10, step=1, description='IRSlider:')\n",
    "\n",
    "f_rs = wg.FloatRangeSlider(value=[2, 8], min=0, max=10, step=0.01,  \n",
    "                           description='FRSlider:', readout_format='.2f')\n",
    "\n",
    "#----------------------\n",
    "\n",
    "i_p = wg.IntProgress(value=5,min=0,max=10,description='IProg:',\n",
    "                     bar_style='') # 'success', 'info', 'warning', 'danger' or '')\n",
    "                    \n",
    "f_p = wg.FloatProgress(value=7,min=0,max=10,step=0.1,description='FProg:',\n",
    "                       bar_style='') # 'success', 'info', 'warning', 'danger' or '')\n",
    "\n",
    "#---------------------\n",
    "\n",
    "i_t  = wg.IntText(value=5, description='int text: ')\n",
    "\n",
    "f_t  = wg.FloatText(value=5.5, step=0.1, description='float text: ')\n",
    "\n",
    "b_it = wg.BoundedIntText(value=5,min=0,max=10,description='bounded int:')\n",
    "\n",
    "b_ft = wg.BoundedFloatText(value=5,min=0,max=10,step=0.001, description='bounded float:')\n",
    "\n",
    "\n",
    "######################\n",
    "\n",
    "\n",
    "display(f_s, i_s, i_rs, f_rs, \n",
    "        i_p, f_p,\n",
    "        i_t, f_t, b_it, b_ft)\n"
   ]
  },
  {
   "cell_type": "markdown",
   "metadata": {},
   "source": [
    "### Get the values\n",
    "\n",
    "Adjust the above sliders or boxes and then run the cell below. Then adjust, and run. The values are updated without rerunning the above cell."
   ]
  },
  {
   "cell_type": "code",
   "execution_count": 4,
   "metadata": {},
   "outputs": [
    {
     "name": "stdout",
     "output_type": "stream",
     "text": [
      "value of the FSlider: 3.107\n",
      "value of the float text: 5.55\n"
     ]
    }
   ],
   "source": [
    "y = f_s.value\n",
    "z = f_t.value\n",
    "\n",
    "print(\"value of the FSlider:\", y)\n",
    "print(\"value of the float text:\", z)"
   ]
  },
  {
   "cell_type": "markdown",
   "metadata": {},
   "source": [
    "### Boolean Widgets"
   ]
  },
  {
   "cell_type": "code",
   "execution_count": 5,
   "metadata": {},
   "outputs": [
    {
     "data": {
      "application/vnd.jupyter.widget-view+json": {
       "model_id": "5b5375b11d29487295fa569271f59c08"
      }
     },
     "metadata": {},
     "output_type": "display_data"
    },
    {
     "data": {
      "application/vnd.jupyter.widget-view+json": {
       "model_id": "dee48e46fec54a8faf64a13998f85fc1"
      }
     },
     "metadata": {},
     "output_type": "display_data"
    },
    {
     "data": {
      "application/vnd.jupyter.widget-view+json": {
       "model_id": "7fd5a0b729b44b6aba3825bd56f49606"
      }
     },
     "metadata": {},
     "output_type": "display_data"
    }
   ],
   "source": [
    "t_b = wg.ToggleButton(value=False, description='toggle button: ', \n",
    "                      button_style='info') # 'success', 'info', 'warning', 'danger', or ''\n",
    "\n",
    "c_b = wg.Checkbox(value=True, description='check box')\n",
    "\n",
    "v   = wg.Valid(value=False, description='Valid!')  \n",
    "\n",
    "\n",
    "######################\n",
    "\n",
    "\n",
    "display(t_b, c_b, v)"
   ]
  },
  {
   "cell_type": "markdown",
   "metadata": {},
   "source": [
    "### Selection Widgets"
   ]
  },
  {
   "cell_type": "code",
   "execution_count": 6,
   "metadata": {},
   "outputs": [
    {
     "data": {
      "application/vnd.jupyter.widget-view+json": {
       "model_id": "de8fd91b94344d01990b2f6086be7c06"
      }
     },
     "metadata": {},
     "output_type": "display_data"
    },
    {
     "data": {
      "application/vnd.jupyter.widget-view+json": {
       "model_id": "033f77ef79fc4be8acef917c07249928"
      }
     },
     "metadata": {},
     "output_type": "display_data"
    },
    {
     "data": {
      "application/vnd.jupyter.widget-view+json": {
       "model_id": "1d2c6b3f01fb494d8bc555dd9dc066d5"
      }
     },
     "metadata": {},
     "output_type": "display_data"
    },
    {
     "data": {
      "application/vnd.jupyter.widget-view+json": {
       "model_id": "0632efff29b941abb03b7454445cff6c"
      }
     },
     "metadata": {},
     "output_type": "display_data"
    },
    {
     "data": {
      "application/vnd.jupyter.widget-view+json": {
       "model_id": "472111489a5840f399fb1700ee817f10"
      }
     },
     "metadata": {},
     "output_type": "display_data"
    },
    {
     "data": {
      "application/vnd.jupyter.widget-view+json": {
       "model_id": "510d7aa58e73473bac1a181290c29180"
      }
     },
     "metadata": {},
     "output_type": "display_data"
    },
    {
     "data": {
      "application/vnd.jupyter.widget-view+json": {
       "model_id": "6c3b8929a76f4ce0be86074e4e22fd1a"
      }
     },
     "metadata": {},
     "output_type": "display_data"
    }
   ],
   "source": [
    "dd1 = wg.Dropdown(options=['1','2','3','4'], value='2', \n",
    "                  description='Dropbox',\n",
    "                  button_style='')\n",
    "\n",
    "dd2 = wg.Dropdown(options={'cat':1,'dog':2,'pig':3}, value=2,\n",
    "                  description='Dropbox',\n",
    "                  button_style='')\n",
    "\n",
    "radio = wg.RadioButtons(options=['car', 'bike', 'run', 'motorcycle', 'longboard'],\n",
    "                        value='run', description='radioButt')\n",
    "\n",
    "sel = wg.Select(options=['atari', 'nintendo', 'sega', 'PS', 'Xbox'], value='atari',\n",
    "                description='Select')\n",
    "\n",
    "sel_sdr = wg.SelectionSlider(options=['pancakes', 'plita', 'crepes', 'waffles'],\n",
    "                             value = 'plita', description='sel_sldr')\n",
    "\n",
    "tog = wg.ToggleButtons(options=['low', 'med', 'high', 'scary'],\n",
    "                       description='ToggleB',\n",
    "                       button_style='', # 'success', 'info', 'warning', 'danger' or ''\n",
    "                       tooltip='Description')\n",
    "\n",
    "sel_m = wg.SelectMultiple(options=['carrots', 'peas', 'brocc', 'spinach'],\n",
    "                          value=['carrots', 'brocc'],\n",
    "                          description='select several', disabled=False)\n",
    "\n",
    "\n",
    "#######################\n",
    "\n",
    "display(dd1, dd2, radio, sel, sel_sdr, tog, sel_m)"
   ]
  },
  {
   "cell_type": "code",
   "execution_count": 11,
   "metadata": {},
   "outputs": [
    {
     "name": "stdout",
     "output_type": "stream",
     "text": [
      "motorcycle\n"
     ]
    }
   ],
   "source": [
    "my_radio_selection = radio.value\n",
    "print(my_radio_selection)"
   ]
  },
  {
   "cell_type": "markdown",
   "metadata": {},
   "source": [
    "### String Widgets"
   ]
  },
  {
   "cell_type": "code",
   "execution_count": 16,
   "metadata": {},
   "outputs": [
    {
     "ename": "FileNotFoundError",
     "evalue": "[Errno 2] No such file or directory: 'http://8020.photos.jpgmag.com/1751300_212680_21231b8b81_m.jpg'",
     "output_type": "error",
     "traceback": [
      "\u001b[0;31m---------------------------------------------------------------------------\u001b[0m",
      "\u001b[0;31mFileNotFoundError\u001b[0m                         Traceback (most recent call last)",
      "\u001b[0;32m<ipython-input-16-469d0e961f58>\u001b[0m in \u001b[0;36m<module>\u001b[0;34m()\u001b[0m\n\u001b[1;32m     11\u001b[0m \u001b[0;34m\u001b[0m\u001b[0m\n\u001b[1;32m     12\u001b[0m \u001b[0;34m\u001b[0m\u001b[0m\n\u001b[0;32m---> 13\u001b[0;31m \u001b[0mfile\u001b[0m \u001b[0;34m=\u001b[0m \u001b[0mopen\u001b[0m\u001b[0;34m(\u001b[0m\u001b[0;34m\"http://8020.photos.jpgmag.com/1751300_212680_21231b8b81_m.jpg\"\u001b[0m\u001b[0;34m,\u001b[0m \u001b[0;34m\"rb\"\u001b[0m\u001b[0;34m)\u001b[0m\u001b[0;34m\u001b[0m\u001b[0m\n\u001b[0m\u001b[1;32m     14\u001b[0m \u001b[0mimage\u001b[0m \u001b[0;34m=\u001b[0m \u001b[0mfile\u001b[0m\u001b[0;34m.\u001b[0m\u001b[0mread\u001b[0m\u001b[0;34m(\u001b[0m\u001b[0;34m)\u001b[0m\u001b[0;34m\u001b[0m\u001b[0m\n\u001b[1;32m     15\u001b[0m \u001b[0mimg\u001b[0m \u001b[0;34m=\u001b[0m \u001b[0mwg\u001b[0m\u001b[0;34m.\u001b[0m\u001b[0mImage\u001b[0m\u001b[0;34m(\u001b[0m\u001b[0mvalue\u001b[0m\u001b[0;34m=\u001b[0m\u001b[0mimage\u001b[0m\u001b[0;34m,\u001b[0m \u001b[0mformat\u001b[0m\u001b[0;34m=\u001b[0m\u001b[0;34m'gif'\u001b[0m\u001b[0;34m,\u001b[0m \u001b[0mwidth\u001b[0m\u001b[0;34m=\u001b[0m\u001b[0;36m200\u001b[0m\u001b[0;34m,\u001b[0m \u001b[0mheight\u001b[0m\u001b[0;34m=\u001b[0m\u001b[0;36m200\u001b[0m\u001b[0;34m)\u001b[0m\u001b[0;34m\u001b[0m\u001b[0m\n",
      "\u001b[0;31mFileNotFoundError\u001b[0m: [Errno 2] No such file or directory: 'http://8020.photos.jpgmag.com/1751300_212680_21231b8b81_m.jpg'"
     ]
    }
   ],
   "source": [
    "txt = wg.Text(placeholder='Enter something', description='textBox')\n",
    "\n",
    "ta  = wg.Textarea(placeholder='Enter something', description='textArea')\n",
    "\n",
    "lab = wg.Label(value=\"Here is some equation label: $$\\\\frac{n!}{k!(n-k)!} = \\\\binom{n}{k}$$\",\n",
    "               placeholder='Some LaTeX', description='Some LaTeX', disabled=False )\n",
    "\n",
    "html = wg.HTML(value=\"An HTML formatted <b>Label:</b> cool!\",\n",
    "               placeholder='Some HTML',description='Some HTML',\n",
    "               disabled=False )\n",
    "\n",
    "\n",
    "file = open(\"http://8020.photos.jpgmag.com/1751300_212680_21231b8b81_m.jpg\", \"rb\")\n",
    "image = file.read()\n",
    "img = wg.Image(value=image, format='gif', width=200, height=200)\n",
    "\n",
    "\n",
    "butt = wg.Button(description='Click me',\n",
    "                 button_style='') # 'success', 'info', 'warning', 'danger' or ''\n",
    "\n",
    "\n",
    "play = wg.Play(\n",
    "#     interval=10,\n",
    "    value=50,\n",
    "    min=0,\n",
    "    max=100,\n",
    "    step=1,\n",
    "    description=\"Press play\",\n",
    "    disabled=False\n",
    ")\n",
    "slider = wg.IntSlider()\n",
    "wg.jslink((play, 'value'), (slider, 'value'))\n",
    "wg.HBox([play, slider])\n",
    "\n",
    "\n",
    "cp = wg.ColorPicker(concise=False, description='Pick color', value='blue')\n",
    "\n",
    "cont = wg.Controller(index=0)\n",
    "\n",
    "#########################\n",
    "\n",
    "\n",
    "display(txt, ta, lab, html, butt, img, play, cp, cont)"
   ]
  },
  {
   "cell_type": "markdown",
   "metadata": {},
   "source": [
    "### Layout Widgets"
   ]
  },
  {
   "cell_type": "code",
   "execution_count": 17,
   "metadata": {},
   "outputs": [
    {
     "data": {
      "application/vnd.jupyter.widget-view+json": {
       "model_id": "07b92df232e745cea8c508725afdda58"
      }
     },
     "metadata": {},
     "output_type": "display_data"
    },
    {
     "data": {
      "application/vnd.jupyter.widget-view+json": {
       "model_id": "c50cb50a4d04473897871ff918b77d43"
      }
     },
     "metadata": {},
     "output_type": "display_data"
    }
   ],
   "source": [
    "items = [wg.Label(str(i)) for i in range(10)]\n",
    "hbox  = wg.HBox(items)\n",
    "\n",
    "items = [wg.Label(str(i)) for i in range(4)]\n",
    "vbox  = wg.HBox([wg.VBox([items[0], items[1]]), wg.VBox([items[2], items[3]])])\n",
    "\n",
    "\n",
    "#######################\n",
    "\n",
    "display(hbox, vbox)"
   ]
  },
  {
   "cell_type": "code",
   "execution_count": 18,
   "metadata": {},
   "outputs": [
    {
     "data": {
      "application/vnd.jupyter.widget-view+json": {
       "model_id": "6501224814194b379706947af8efab6c"
      }
     },
     "metadata": {},
     "output_type": "display_data"
    }
   ],
   "source": [
    "accordion = wg.Accordion(children=[wg.IntSlider(), wg.Text()])\n",
    "accordion.set_title(0, 'Slider')\n",
    "accordion.set_title(1, 'Text')\n",
    "accordion"
   ]
  },
  {
   "cell_type": "code",
   "execution_count": 19,
   "metadata": {},
   "outputs": [
    {
     "data": {
      "application/vnd.jupyter.widget-view+json": {
       "model_id": "6691236e512044a8b95bcf7679771cb1"
      }
     },
     "metadata": {},
     "output_type": "display_data"
    }
   ],
   "source": [
    "list = ['P0', 'P1', 'P2', 'P3', 'P4']\n",
    "children = [wg.Text(description=name) for name in list]\n",
    "tab = wg.Tab(children=children)\n",
    "tab"
   ]
  },
  {
   "cell_type": "code",
   "execution_count": null,
   "metadata": {
    "collapsed": true
   },
   "outputs": [],
   "source": []
  }
 ],
 "metadata": {
  "kernelspec": {
   "display_name": "Python 3",
   "language": "python",
   "name": "python3"
  },
  "language_info": {
   "codemirror_mode": {
    "name": "ipython",
    "version": 3
   },
   "file_extension": ".py",
   "mimetype": "text/x-python",
   "name": "python",
   "nbconvert_exporter": "python",
   "pygments_lexer": "ipython3",
   "version": "3.5.2"
  },
  "widgets": {
   "state": {
    "12e67340b8df44b0be1ad358ea6946bb": {
     "views": [
      {
       "cell_index": 2
      }
     ]
    },
    "2b11bf2c1f0046168f54b32ab112c7ce": {
     "views": [
      {
       "cell_index": 2
      }
     ]
    },
    "37b1c68dbf6f4e7693ba01abcee3733d": {
     "views": [
      {
       "cell_index": 2
      }
     ]
    },
    "4befdf0529684577b341073bc4cc1adf": {
     "views": [
      {
       "cell_index": 2
      }
     ]
    },
    "55088f38912a45db867b97cc9c4c1614": {
     "views": [
      {
       "cell_index": 2
      }
     ]
    },
    "552dae0678d543da91c86631de4fe031": {
     "views": [
      {
       "cell_index": 2
      }
     ]
    },
    "5d4c551e25c443cdbb87a96ccda74643": {
     "views": [
      {
       "cell_index": 2
      }
     ]
    },
    "61590f71ae8149fba2b98fa480b8681c": {
     "views": [
      {
       "cell_index": 2
      }
     ]
    },
    "6f7baa86a47e4387a35f3c2602805587": {
     "views": [
      {
       "cell_index": 2
      }
     ]
    },
    "7cccaa54c4414b0db3498019a5097f08": {
     "views": [
      {
       "cell_index": 2
      }
     ]
    },
    "83be3fa67af7413d94d4bb54797ae89c": {
     "views": [
      {
       "cell_index": 2
      }
     ]
    },
    "8d008bb6148d41bf869747659f967460": {
     "views": [
      {
       "cell_index": 2
      }
     ]
    },
    "c687d4d111434adab402ed9d855b5493": {
     "views": [
      {
       "cell_index": 2
      }
     ]
    },
    "d6146642feb54036887632e5c91ed18a": {
     "views": [
      {
       "cell_index": 2
      }
     ]
    },
    "e894bfd51b7249538e11de29f57768c6": {
     "views": [
      {
       "cell_index": 2
      }
     ]
    }
   },
   "version": "1.2.0"
  }
 },
 "nbformat": 4,
 "nbformat_minor": 1
}
