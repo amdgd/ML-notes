{
 "cells": [
  {
   "cell_type": "code",
   "execution_count": 138,
   "metadata": {
    "collapsed": true
   },
   "outputs": [],
   "source": [
    "import seaborn as sns\n",
    "import numpy as np\n",
    "from matplotlib import pyplot as plt\n",
    "from scipy import stats\n",
    "import requests\n",
    "from faker import Faker\n",
    "import ujson as json\n",
    "import pandas as pd\n",
    "import requests\n",
    "from numpy import random \n",
    "from elasticsearch import Elasticsearch\n",
    "from elasticsearch import helpers\n",
    "from elasticsearch_dsl import Search, DocType, Date, Integer, Keyword, Text\n",
    "from datetime import datetime\n",
    "from elasticsearch_dsl.connections import connections\n",
    "import requests\n",
    "from random import randint\n",
    "from pandas.io.json import json_normalize\n",
    "\n",
    "ES_HOST = 'http://ec2-34-205-15-150.compute-1.amazonaws.com:9200'\n",
    "INDEX = \"eda1\"\n",
    "DOC_TYPE=\"user\"\n",
    "es = Elasticsearch(ES_HOST)"
   ]
  },
  {
   "cell_type": "markdown",
   "metadata": {},
   "source": [
    "# Exploratory data analysis (EDA) \n",
    "It is an approach to analyzing data sets to summarize their main characteristics, often with visual methods.\n",
    "\n",
    "##### Key Concepts\n",
    "\n",
    "- Displaying data \n",
    "- Displaying distributions \n",
    "- Displaying info about the variables"
   ]
  },
  {
   "cell_type": "markdown",
   "metadata": {},
   "source": [
    "##### There are 4 focal point. These are:\n",
    "\n",
    "- measures of central tendency, i.e. the mean, the media and mode,\n",
    "- measures of spread, i.e. variability, variants and standard deviation,\n",
    "- the shape of the distribution, and\n",
    "- the existence of outliers.\n",
    "\n",
    "##### Types of data\n",
    "- discrete (Number of orders customers have done)\n",
    "- continuous (Total Revenue of Customers)\n",
    "- categorical-nominal (RFM Score, Customer Status)\n",
    "- Categorical-ordinal  (City)\n",
    "- binary (Email Unsubscribed - Yes/No)\n",
    "\n",
    "\n"
   ]
  },
  {
   "cell_type": "markdown",
   "metadata": {},
   "source": [
    "#####  Important Question to ask?\n",
    "- What type of variation occurs within my variables?\n",
    "- What type of covariation occurs between my variables?\n",
    "- Which are response(dependednt) and predictor(independent) variables? \n",
    "- What are some obvious mistakes in data (recording errors etc)?\n",
    "- What are some visible patterns in the data?\n",
    "- Is there any violations of statistical assumptions?\n",
    "- Can I generate some hypotheses?\n",
    "\n"
   ]
  },
  {
   "cell_type": "markdown",
   "metadata": {},
   "source": [
    "##### Types of Variables and suggested EDA techinques\n",
    "\n",
    "| Quantitative Variables                                                                             | Categorical  Variables                  | Quantitative &  Categorical                                                                                           |\n",
    "|----------------------------------------------------------------------------------------------------|-----------------------------------------|-----------------------------------------------------------------------------------------------------------------------|\n",
    "| - Interval variables - Ratio variables                                                             | - Ordinal Variables - Nominal Variables |                                                                                                                       |\n",
    "| 1. Univariate(one variable) - Histograms  - Boxplots, - Stem & Leaf Plots - Quantile Normal Plots  | 1 variable:  Pie charts, Bar graphs     |                                                                                                                       |\n",
    "| 2. Bivariate (two variables) - Scatterplots                                                        | 2 or more: Facetted PieCharts           | Bivariate  Line Graph, Bar Graph                                                                                      |\n",
    "| 3 Three Variables -  Bubble Chart                                                                  |                                         | 2. One Categorical & 2 Quantitative  - Facetted Scatter Two Categorical & 1 Quantitative - Facetted Line or Barcharts |"
   ]
  },
  {
   "cell_type": "markdown",
   "metadata": {},
   "source": [
    "#  Discrete Uniform distribution\n",
    "A random variable X has a discrete uniform distribution if each of the n values in its range: x1,x2,x3....xn has equal probability\n",
    "\n",
    "Below 4 graphs shows a single dice rolls, and we can see as number of rolls increases, the frequencies tends to be same. \n",
    "So we can say a uniform distribution in which all values have the same frequency.\n",
    "\n"
   ]
  },
  {
   "cell_type": "code",
   "execution_count": 77,
   "metadata": {},
   "outputs": [
    {
     "data": {
      "image/png": "[encoded data removed]",
      "text/plain": [
       "<matplotlib.figure.Figure at 0x7f5dc14ae198>"
      ]
     },
     "metadata": {},
     "output_type": "display_data"
    }
   ],
   "source": [
    "f, axes = plt.subplots(2,2, figsize=(12,6), sharex=True)\n",
    "f1 = sns.distplot(np.random.randint(1, 7, 100 ), bins=6, kde=False, ax = axes[0,0])\n",
    "f2 = sns.distplot(np.random.randint(1, 7, 1000 ),bins=6, kde=False, color='red',ax = axes[0,1])\n",
    "f3 = sns.distplot(np.random.randint(1, 7, 10000 ),bins=6, kde=False, color='green', ax = axes[1,0])\n",
    "f4 = sns.distplot(np.random.randint(1, 7, 1000000 ),bins=6, kde=False, color='orange', ax = axes[1,1])"
   ]
  },
  {
   "cell_type": "markdown",
   "metadata": {},
   "source": [
    "### Probability mass function (PMF)\n",
    "a representation of a distribution as a function that maps from values to probabilities.\n",
    "\n",
    "$f(x_i) = \\dfrac{1}{n}$\n",
    "\n",
    "for Discrete Uniform function\n",
    "\n",
    "- PMF uses discrete random variables.\n",
    "- PDF uses continuous random variables."
   ]
  },
  {
   "cell_type": "code",
   "execution_count": 102,
   "metadata": {
    "scrolled": false
   },
   "outputs": [
    {
     "data": {
      "image/png": "[encoded data removed]",
      "text/plain": [
       "<matplotlib.figure.Figure at 0x7f5dca5d30f0>"
      ]
     },
     "metadata": {},
     "output_type": "display_data"
    }
   ],
   "source": [
    "roll_options = [1,2,3,4,5,6]\n",
    "#since index starts at 0\n",
    "high_value = 7 \n",
    "low_value = 1\n",
    "\n",
    "plt.bar(roll_options,stats.randint.pmf(roll_options,low_value,high_value))\n",
    "plt.title('Dice Roll - Discrete Uniform Distribution')\n",
    "plt.show()\n"
   ]
  },
  {
   "cell_type": "markdown",
   "metadata": {},
   "source": [
    "# Continuous Uniform Distribution\n",
    "\n",
    "A continuous distribution is appropriate when the variable can take on (at least in theory) an infinite number of values. You can weigh 150.2311 kgs or 150.1012 kgs. \n",
    "- Continuous distributions cannot be written so neatly as the uniform discrete distribution,\n",
    "- As a result, a continuous probability distribution cannot be expressed in tabular form.\n",
    "- Instead, an equation or formula is used to describe a continuous probability distribution.\n",
    "\n",
    "A continous random variable X with a probability density function is a continous uniform random variable when:\n",
    "$f(x)=1(b−a)$ <br> $a<=x<=b$"
   ]
  },
  {
   "cell_type": "markdown",
   "metadata": {},
   "source": [
    "Let's say a session that ends in a purchase is on avergae 25 mins long. After taking some time measurements from experiments we gather that all the purchase sessiosns are **uniformly distributed** between 19 and 37 minutes.\n",
    "What is the probability density function of a purchase session, or f(x)?"
   ]
  },
  {
   "cell_type": "code",
   "execution_count": 126,
   "metadata": {},
   "outputs": [
    {
     "name": "stdout",
     "output_type": "stream",
     "text": [
      "The probability density function results in 0.0556\n"
     ]
    }
   ],
   "source": [
    "b= 37\n",
    "a = 19\n",
    "fx = 1.0/(b-a)\n",
    "\n",
    "#show \n",
    "print('The probability density function results in {:.4f}'.format(fx))"
   ]
  },
  {
   "cell_type": "code",
   "execution_count": 129,
   "metadata": {},
   "outputs": [
    {
     "name": "stdout",
     "output_type": "stream",
     "text": [
      " The probability that the session will last at least 25 minutes is 11.1 %\n"
     ]
    }
   ],
   "source": [
    "#So let's ask the question, what's the probability that the session length will last \n",
    "# at least 25 minutes?\n",
    "\n",
    "#f(27)\n",
    "fx_1 = 27.0/(b-a)\n",
    "#f(25)\n",
    "fx_2 = 25.0/(b-a)\n",
    "\n",
    "#Our answer is then\n",
    "ans = fx_1-fx_2\n",
    "\n",
    "#print\n",
    "print (' The probability that the session will last at least 25 minutes is {:.1f} %'.format(100*ans))"
   ]
  },
  {
   "cell_type": "code",
   "execution_count": null,
   "metadata": {
    "collapsed": true
   },
   "outputs": [],
   "source": []
  },
  {
   "cell_type": "code",
   "execution_count": null,
   "metadata": {
    "collapsed": true
   },
   "outputs": [],
   "source": []
  },
  {
   "cell_type": "code",
   "execution_count": null,
   "metadata": {
    "collapsed": true
   },
   "outputs": [],
   "source": []
  },
  {
   "cell_type": "code",
   "execution_count": null,
   "metadata": {
    "collapsed": true
   },
   "outputs": [],
   "source": []
  },
  {
   "cell_type": "code",
   "execution_count": null,
   "metadata": {
    "collapsed": true
   },
   "outputs": [],
   "source": []
  },
  {
   "cell_type": "code",
   "execution_count": null,
   "metadata": {
    "collapsed": true
   },
   "outputs": [],
   "source": []
  },
  {
   "cell_type": "code",
   "execution_count": null,
   "metadata": {
    "collapsed": true
   },
   "outputs": [],
   "source": []
  },
  {
   "cell_type": "code",
   "execution_count": null,
   "metadata": {
    "collapsed": true
   },
   "outputs": [],
   "source": []
  },
  {
   "cell_type": "markdown",
   "metadata": {},
   "source": [
    "## Histograms\n",
    "- Learn how to summarize quantitative data graphically using a histogram.\n",
    "- Learn how to construct histograms for discrete data.\n",
    "- Learn how to construct histograms for continuous data.\n",
    "- Learn the distinction between frequency histograms, relative frequency histograms, and density histograms."
   ]
  }
 ],
 "metadata": {
  "kernelspec": {
   "display_name": "Python 3",
   "language": "python",
   "name": "python3"
  },
  "language_info": {
   "codemirror_mode": {
    "name": "ipython",
    "version": 3
   },
   "file_extension": ".py",
   "mimetype": "text/x-python",
   "name": "python",
   "nbconvert_exporter": "python",
   "pygments_lexer": "ipython3",
   "version": "3.5.2"
  }
 },
 "nbformat": 4,
 "nbformat_minor": 1
}
