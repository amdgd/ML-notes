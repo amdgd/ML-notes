{
 "cells": [
  {
   "cell_type": "code",
   "execution_count": 4,
   "metadata": {
    "collapsed": false
   },
   "outputs": [
    {
     "data": {
      "text/html": [
       "<style> table {margin-left: 0 !important;}</style>"
      ],
      "text/plain": [
       "<IPython.core.display.HTML object>"
      ]
     },
     "metadata": {},
     "output_type": "display_data"
    }
   ],
   "source": [
    "%%html\n",
    "<style> table {margin-left: 0 !important;}</style>"
   ]
  },
  {
   "cell_type": "markdown",
   "metadata": {},
   "source": [
    "# Exploratory data analysis (EDA) \n",
    "It is an approach to analyzing data sets to summarize their main characteristics, often with visual methods.\n",
    "\n",
    "##### Key Concepts\n",
    "\n",
    "- Displaying data \n",
    "- Displaying distributions \n",
    "- Displaying info about the variables\n",
    "\n",
    "##### There are 4 focal point. These are:\n",
    "\n",
    "- measures of central tendency, i.e. the mean, the media and mode,\n",
    "- measures of spread, i.e. variability, variants and standard deviation,\n",
    "- the shape of the distribution, and\n",
    "- the existence of outliers.\n",
    "\n",
    "\n",
    "#####  Important Question to ask?\n",
    "- What type of variation occurs within my variables?\n",
    "- What type of covariation occurs between my variables?\n",
    "- Which are response(dependednt) and predictor(independent) variables? \n",
    "- What are some obvious mistakes in data (recording errors etc)?\n",
    "- What are some visible patterns in the data?\n",
    "- Is there any violations of statistical assumptions?\n",
    "- Can I generate some hypotheses?\n",
    "\n",
    "##### Types of Variables and suggested EDA techinques\n",
    "\n",
    "| Quantitative Variables                                                                             | Categorical  Variables                  | Quantitative &  Categorical                                                                                           |\n",
    "|----------------------------------------------------------------------------------------------------|-----------------------------------------|-----------------------------------------------------------------------------------------------------------------------|\n",
    "| - Interval variables - Ratio variables                                                             | - Ordinal Variables - Nominal Variables |                                                                                                                       |\n",
    "| 1. Univariate(one variable) - Histograms  - Boxplots, - Stem & Leaf Plots - Quantile Normal Plots  | 1 variable:  Pie charts, Bar graphs     |                                                                                                                       |\n",
    "| 2. Bivariate (two variables) - Scatterplots                                                        | 2 or more: Facetted PieCharts           | Bivariate  Line Graph, Bar Graph                                                                                      |\n",
    "| 3 Three Variables -  Bubble Chart                                                                  |                                         | 2. One Categorical & 2 Quantitative  - Facetted Scatter Two Categorical & 1 Quantitative - Facetted Line or Barcharts |"
   ]
  }
 ],
 "metadata": {
  "kernelspec": {
   "display_name": "Python 3",
   "language": "python",
   "name": "python3"
  },
  "language_info": {
   "codemirror_mode": {
    "name": "ipython",
    "version": 3
   },
   "file_extension": ".py",
   "mimetype": "text/x-python",
   "name": "python",
   "nbconvert_exporter": "python",
   "pygments_lexer": "ipython3",
   "version": "3.5.2"
  }
 },
 "nbformat": 4,
 "nbformat_minor": 0
}
