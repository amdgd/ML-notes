{
 "cells": [
  {
   "cell_type": "markdown",
   "metadata": {
    "nbpresent": {
     "id": "7d7cdd2d-8411-4144-af3c-551163d27644"
    }
   },
   "source": [
    "# Seaborn\n",
    "Matplotlib is not designed for use with Pandas dataframes. In order to visualize data from a Pandas dataframe, you must extract each series and often concatenate these series’ together into the right format.\n",
    "\n",
    "Seaborn provides an API on top of matplotlib which uses sane plot & color defaults, uses simple functions for common statistical plot types, and which integrates with the functionality provided by Pandas dataframes\n",
    "\n",
    "<img src=\"https://d39sghb3udgxv0.cloudfront.net/300812017/05/1494508552.jpg\">"
   ]
  },
  {
   "cell_type": "markdown",
   "metadata": {},
   "source": [
    "## Import packages"
   ]
  },
  {
   "cell_type": "code",
   "execution_count": 2,
   "metadata": {
    "collapsed": false
   },
   "outputs": [],
   "source": [
    "# Matplotlib for additional customization\n",
    "from matplotlib import pyplot as plt\n",
    "\n",
    "# Importing Pandas\n",
    "import pandas as pd\n",
    "import random\n",
    "\n",
    "# Seaborn for plotting and styling\n",
    "#!conda install seaborn\n",
    "import seaborn as sns\n",
    "\n"
   ]
  },
  {
   "cell_type": "markdown",
   "metadata": {},
   "source": [
    "## Color Palettes and Style"
   ]
  },
  {
   "cell_type": "code",
   "execution_count": 3,
   "metadata": {
    "collapsed": false
   },
   "outputs": [],
   "source": [
    "# Default settings\n",
    "# sns.set()\n",
    "sns.set(style=\"darkgrid\")"
   ]
  },
  {
   "cell_type": "markdown",
   "metadata": {
    "collapsed": true
   },
   "source": [
    "## Import Sample Data\n",
    "**Car Sale Advertisements**\n",
    "Data collected from private car sale advertisements in Ukraine\n",
    "\n",
    "This dataset contains data for more than 9.5K cars sale in Ukraine. Most of them are used cars so it opens the possibility to analyze features related to car operation. At the end of the day I look at this data as a subset from all Ukrainian car fleet.\n",
    "\n",
    "**Content**\n",
    "\n",
    "Dataset contains 9576 rows and 10 variables with essential meanings:\n",
    "\n",
    "- car: manufacturer brand\n",
    "- price: seller’s price in advertisement (in USD)\n",
    "- body: car body type\n",
    "- mileage: as mentioned in advertisement (‘000 Km)\n",
    "- engV: rounded engine volume (‘000 cubic cm)\n",
    "- engType: type of fuel (“Other” in this case should be treated as NA)\n",
    "- registration: whether car registered in Ukraine or not\n",
    "- year: year of production\n",
    "- model: specific model name\n",
    "- drive: drive type\n",
    "- Data has gaps, so be careful and check for NA’s. I tried to check and drop repeated offers, but theoretically duplications are possible."
   ]
  },
  {
   "cell_type": "code",
   "execution_count": null,
   "metadata": {
    "collapsed": false,
    "scrolled": false
   },
   "outputs": [],
   "source": [
    "car_dataset_url ='https://raw.githubusercontent.com/ankitind/sample_datasets/master/car_ad.csv'\n",
    "car_ads = pd.read_csv(car_dataset_url)"
   ]
  },
  {
   "cell_type": "markdown",
   "metadata": {},
   "source": [
    "## Playing with the data\n",
    "Once the data is imported explore the data\n",
    "Use panda functions like\n",
    "\n",
    "- df.head()\n",
    "- df.shape()\n",
    "- df.describe()\n",
    "- df.index()\n",
    "- df.columns\n",
    "- df.info()\n",
    "- df.count()"
   ]
  },
  {
   "cell_type": "code",
   "execution_count": null,
   "metadata": {
    "collapsed": true
   },
   "outputs": [],
   "source": [
    "car_ads.head()"
   ]
  },
  {
   "cell_type": "code",
   "execution_count": null,
   "metadata": {
    "collapsed": false
   },
   "outputs": [],
   "source": [
    "#Get number of rows and columns \n",
    "car_ads.shape"
   ]
  },
  {
   "cell_type": "code",
   "execution_count": null,
   "metadata": {
    "collapsed": true
   },
   "outputs": [],
   "source": [
    "#Describe Index\n",
    "car_ads.index"
   ]
  },
  {
   "cell_type": "code",
   "execution_count": null,
   "metadata": {
    "collapsed": false
   },
   "outputs": [],
   "source": [
    "#Describe Columns\n",
    "car_ads.columns"
   ]
  },
  {
   "cell_type": "code",
   "execution_count": null,
   "metadata": {
    "collapsed": true
   },
   "outputs": [],
   "source": [
    "#Info on DataFrame\n",
    "car_ads.info()"
   ]
  },
  {
   "cell_type": "code",
   "execution_count": null,
   "metadata": {
    "collapsed": false
   },
   "outputs": [],
   "source": [
    "#Number of non-NA values\n",
    "car_ads.count()"
   ]
  },
  {
   "cell_type": "code",
   "execution_count": null,
   "metadata": {
    "collapsed": false
   },
   "outputs": [],
   "source": [
    "car_ads.describe(include = 'all')"
   ]
  },
  {
   "cell_type": "code",
   "execution_count": null,
   "metadata": {
    "collapsed": true
   },
   "outputs": [],
   "source": [
    "#Drop missing observations\n",
    "car_ads_no_missing = car_ads.dropna()"
   ]
  },
  {
   "cell_type": "code",
   "execution_count": null,
   "metadata": {
    "collapsed": true
   },
   "outputs": [],
   "source": [
    "car_ads_no_missing.describe(include = 'all')"
   ]
  },
  {
   "cell_type": "code",
   "execution_count": null,
   "metadata": {
    "collapsed": true
   },
   "outputs": [],
   "source": [
    "car_ads_no_missing.info()"
   ]
  },
  {
   "cell_type": "markdown",
   "metadata": {},
   "source": [
    "## 1. Distribution\n",
    "\n",
    "It is commonly used at the initial stage of data exploration i.e. when we get started with understanding the variable. Variables are of two types: Continuous and Categorical. For continuous variable, we look at the centre, spread, outlier. For categorical variable we look at frequency table. Visualization types used to represent these are:-\n",
    "When dealing with a set of data, often the first thing you’ll want to do is get a sense for how the variables are distributed.\n",
    "\n",
    "Examining df.describe() , car_ads_no_missing.describe(), we find \n",
    "Columns (car, body, engType, registration, model, drive) are categorical variables and\n",
    "Columns (price, mileage, engV, year) are continuous variables\n"
   ]
  },
  {
   "cell_type": "markdown",
   "metadata": {},
   "source": [
    "### a. Histogram\n",
    "It is used for showing the distribution of continuous variables. \n",
    "One of the catch with histogram is ‘number of bins’. Let’s understand it in detail using example below:"
   ]
  },
  {
   "cell_type": "code",
   "execution_count": 4,
   "metadata": {
    "collapsed": false
   },
   "outputs": [
    {
     "ename": "NameError",
     "evalue": "name 'car_ads_no_missing' is not defined",
     "output_type": "error",
     "traceback": [
      "\u001b[0;31m---------------------------------------------------------------------------\u001b[0m",
      "\u001b[0;31mNameError\u001b[0m                                 Traceback (most recent call last)",
      "\u001b[0;32m<ipython-input-4-59851fdfa394>\u001b[0m in \u001b[0;36m<module>\u001b[0;34m()\u001b[0m\n\u001b[1;32m     14\u001b[0m \u001b[0;31m#print(pd.core.common.is_categorical_dtype(car_ads_no_missing.model))\u001b[0m\u001b[0;34m\u001b[0m\u001b[0;34m\u001b[0m\u001b[0m\n\u001b[1;32m     15\u001b[0m \u001b[0;31m#car_ads_no_missing\u001b[0m\u001b[0;34m\u001b[0m\u001b[0;34m\u001b[0m\u001b[0m\n\u001b[0;32m---> 16\u001b[0;31m \u001b[0mdf\u001b[0m \u001b[0;34m=\u001b[0m \u001b[0mcar_ads_no_missing\u001b[0m\u001b[0;34m\u001b[0m\u001b[0m\n\u001b[0m\u001b[1;32m     17\u001b[0m \u001b[0;31m#df.info\u001b[0m\u001b[0;34m\u001b[0m\u001b[0;34m\u001b[0m\u001b[0m\n\u001b[1;32m     18\u001b[0m \u001b[0;31m#df['body'] = df['body'].astype('category')\u001b[0m\u001b[0;34m\u001b[0m\u001b[0;34m\u001b[0m\u001b[0m\n",
      "\u001b[0;31mNameError\u001b[0m: name 'car_ads_no_missing' is not defined"
     ]
    }
   ],
   "source": [
    "#def is_categorical(array_like):\n",
    "#    return str(array_like.dtype) == 'category'\n",
    "\n",
    "#print(isinstance(car_ads_no_missing.body, pd.core.common.CategoricalDtype))\n",
    "#print(isinstance(car_ads_no_missing.body, pd.core.common.CategoricalDtype))\n",
    "#print(isinstance(car_ads_no_missing.price, pd.core.common.CategoricalDtype))\n",
    "#print(car_ads_no_missing.price.dtype)\n",
    "#print(car_ads_no_missing.body.dtype)\n",
    "# print(is_categorical(car_ads_no_missing.car))\n",
    "# print(car_ads_no_missing.select_dtypes(include=['category']).dtypes)\n",
    "#car_ads_no_missing.df.datatypes\n",
    "#print(is_categorical(car_ads_no_missing.body))\n",
    "#str(car_ads_no_missing.body.dtype)\n",
    "#print(pd.core.common.is_categorical_dtype(car_ads_no_missing.model))\n",
    "#car_ads_no_missing\n",
    "df = car_ads_no_missing\n",
    "#df.info\n",
    "#df['body'] = df['body'].astype('category') \n",
    "#print(pd.core.common.is_categorical_dtype(car_ads_no_missing.model))\n",
    "\n",
    "\n",
    "char_cols = df.dtypes.pipe(lambda x: x[x == 'object']).index\n",
    "label_mapping = {}\n",
    "\n",
    "for c in char_cols:\n",
    "    df[c], label_mapping[c] = pd.factorize(df[c])\n",
    "    \n",
    "df.info()"
   ]
  },
  {
   "cell_type": "markdown",
   "metadata": {},
   "source": [
    "## Linear Model Plot in Seaborn\n",
    "sns.lmplot('x', 'y', data=df, fit_reg=False)\n"
   ]
  },
  {
   "cell_type": "code",
   "execution_count": null,
   "metadata": {
    "collapsed": false
   },
   "outputs": [],
   "source": [
    "sns.lmplot(x='year', y='price', data = car_ads_no_missing, fit_reg=False)\n",
    "plt.show()\n"
   ]
  },
  {
   "cell_type": "code",
   "execution_count": null,
   "metadata": {
    "collapsed": false,
    "scrolled": true
   },
   "outputs": [],
   "source": [
    "#With Different plots using col=\"Name\" or rows=\"Name\"\n",
    "sns.lmplot(x='year', y='price', data = car_ads_no_missing, col='body', fit_reg=False)\n",
    "plt.show()"
   ]
  },
  {
   "cell_type": "code",
   "execution_count": null,
   "metadata": {
    "collapsed": false,
    "scrolled": true
   },
   "outputs": [],
   "source": [
    "#With Different plots using hue=\"columnName\"\n",
    "sns.lmplot(x='year', y='price', data = car_ads_no_missing, hue='body', fit_reg=False)\n",
    "plt.show()"
   ]
  },
  {
   "cell_type": "code",
   "execution_count": null,
   "metadata": {
    "collapsed": false,
    "scrolled": true
   },
   "outputs": [],
   "source": [
    "sns.residplot(x='mileage', y='price', data = car_ads_no_missing)\n",
    "plt.show()"
   ]
  },
  {
   "cell_type": "code",
   "execution_count": null,
   "metadata": {
    "collapsed": false
   },
   "outputs": [],
   "source": [
    "#With Different plots using hue=\"columnName\"\n",
    "sns.regplot(x='year', y='price', data = car_ads_no_missing, color='red')\n",
    "\n",
    "sns.regplot(x='year', y='price', data = car_ads_no_missing, order = 2,  color='green')\n",
    "plt.show()"
   ]
  }
 ],
 "metadata": {
  "anaconda-cloud": {
   "attach-environment": true,
   "summary": "Seaborn ",
   "thumbnail": "data:image/png;base64,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",
   "url": "https://anaconda.org/ankitind/seaborn"
  },
  "kernelspec": {
   "display_name": "Python 3",
   "language": "python",
   "name": "python3"
  },
  "language_info": {
   "codemirror_mode": {
    "name": "ipython",
    "version": 3
   },
   "file_extension": ".py",
   "mimetype": "text/x-python",
   "name": "python",
   "nbconvert_exporter": "python",
   "pygments_lexer": "ipython3",
   "version": "3.5.2"
  }
 },
 "nbformat": 4,
 "nbformat_minor": 1
}
