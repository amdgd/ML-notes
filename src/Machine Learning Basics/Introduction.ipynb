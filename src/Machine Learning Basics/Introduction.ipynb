{
 "cells": [
  {
   "cell_type": "markdown",
   "metadata": {},
   "source": [
    "# Intro\n",
    "\n",
    "## Supervised \n",
    "Learn to predict target values from labelled data\n",
    "- Classification (if target values are discrete)\n",
    "- Regerssion (if target values are continuous)\n",
    "\n",
    "## Unsupervised\n",
    "Find structure in unlabeleld data\n",
    "- Find groups of similar instances in data (clustering)\n",
    "- Find unusual patterns (outlier detection)\n"
   ]
  },
  {
   "cell_type": "markdown",
   "metadata": {},
   "source": [
    "## Basic Machine Learning Workflow\n",
    "1. Representation \n",
    "    - Choose a feature representation\n",
    "    - Type of classifier to use\n",
    "2. Evaluation\n",
    "    - How do you know if your classifier is any good\n",
    "3. Optimization\n",
    "    - Tuning parameters for best results"
   ]
  }
 ],
 "metadata": {
  "kernelspec": {
   "display_name": "Python 3",
   "language": "python",
   "name": "python3"
  },
  "language_info": {
   "codemirror_mode": {
    "name": "ipython",
    "version": 3
   },
   "file_extension": ".py",
   "mimetype": "text/x-python",
   "name": "python",
   "nbconvert_exporter": "python",
   "pygments_lexer": "ipython3",
   "version": "3.5.2"
  }
 },
 "nbformat": 4,
 "nbformat_minor": 2
}
